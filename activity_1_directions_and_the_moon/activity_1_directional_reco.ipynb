{
  "cells": [
    {
      "cell_type": "markdown",
      "metadata": {
        "id": "8GP2difxO6hw"
      },
      "source": [
        "## Introduction:"
      ]
    },
    {
      "cell_type": "markdown",
      "metadata": {
        "id": "YzNc9kfuO6hz"
      },
      "source": [
        "The IceCube Neutrino Observatory is composed of many light detectors, called \"DOMs\" (digital optical modules), buried two kilometers deep below the surface of the South Pole. These light detectors are arranged in a roughly three dimensional grid: there are many \"strings\" hanging vertically downwards in the ice, and on each string there are many DOMs:\n",
        "\n",
        "![](https://github.com/Harvard-Neutrino/IceCube_MasterClass_at_Harvard2025/blob/main/resources/images/I3det_v2_edited.jpeg?raw=1)\n",
        "\n",
        "When a high energy charged particle passes through the ice, it produces what is called Cherenkov light, which can then be detected by the many DOMs. The **locations** of the DOMs that see light, the **times** at which they saw light, and the **amount** of light they see all communicate information about this charged particle."
      ]
    },
    {
      "cell_type": "markdown",
      "metadata": {
        "id": "KAXItE0lO6h0"
      },
      "source": [
        "As experimentalists, what we want to do is work backwards: if what we have is this information about the light seen by the detector, what can we figure out about the original particle?\n",
        "\n",
        "In particular, if we want to do astrophysics like a telescope, what we really need to be able to do is to figure out the direction in which the original neutrino came from."
      ]
    },
    {
      "cell_type": "markdown",
      "metadata": {
        "id": "aFIIFuQsO6h0"
      },
      "source": [
        "# Part One: From what direction did the neutrino come?"
      ]
    },
    {
      "cell_type": "markdown",
      "metadata": {
        "id": "x59mZ0R_O6h0"
      },
      "source": [
        "## 1: Visualizing events:"
      ]
    },
    {
      "cell_type": "markdown",
      "metadata": {
        "id": "RK-Ddh_DO6h0"
      },
      "source": [
        "For this activity, we've prepared a simulation of many events within the IceCube detector. Execute the cell below by clicking the triangle or hitting `shift return` to download the simulation from google drive. Google CoLab will ask you if you trust the notebook: hit `Run Anyway`."
      ]
    },
    {
      "cell_type": "code",
      "execution_count": 1,
      "metadata": {
        "id": "FWWIyvxTO6h0",
        "outputId": "8edb1a56-8c0f-4218-e926-bdffcda99a3c",
        "colab": {
          "base_uri": "https://localhost:8080/"
        }
      },
      "outputs": [
        {
          "output_type": "stream",
          "name": "stdout",
          "text": [
            "Downloading...\n",
            "From (original): https://drive.google.com/uc?id=1nqffw6xHLdX2oO8d-5xjExYZryo7rp3x\n",
            "From (redirected): https://drive.google.com/uc?id=1nqffw6xHLdX2oO8d-5xjExYZryo7rp3x&confirm=t&uuid=ad0b1b04-338e-4183-a0d8-a528e59d992c\n",
            "To: /content/tracks.parquet\n",
            "100% 160M/160M [00:01<00:00, 86.3MB/s]\n",
            "Downloading...\n",
            "From: https://drive.google.com/uc?id=1yo3jD0a9xB2FfIXJJuMRc71IMe6nztvq\n",
            "To: /content/cascades.parquet\n",
            "100% 2.54M/2.54M [00:00<00:00, 33.7MB/s]\n",
            "Cloning into 'IceCube_MasterClass_at_Harvard2025'...\n",
            "remote: Enumerating objects: 717, done.\u001b[K\n",
            "remote: Counting objects: 100% (717/717), done.\u001b[K\n",
            "remote: Compressing objects: 100% (286/286), done.\u001b[K\n",
            "remote: Total 717 (delta 446), reused 677 (delta 420), pack-reused 0 (from 0)\u001b[K\n",
            "Receiving objects: 100% (717/717), 7.14 MiB | 30.86 MiB/s, done.\n",
            "Resolving deltas: 100% (446/446), done.\n"
          ]
        }
      ],
      "source": [
        "# needed for figures to appear in colab\n",
        "from google.colab import output\n",
        "output.enable_custom_widget_manager()\n",
        "\n",
        "!rm -rf sample_data\n",
        "!mkdir sim_moonshadow\n",
        "\n",
        "# download tracks.parquet\n",
        "!gdown 1nqffw6xHLdX2oO8d-5xjExYZryo7rp3x\n",
        "!mv tracks.parquet sim_moonshadow/tracks.parquet\n",
        "\n",
        "# download cascades.parquet\n",
        "!gdown 1yo3jD0a9xB2FfIXJJuMRc71IMe6nztvq\n",
        "!mv cascades.parquet sim_moonshadow/cascades.parquet\n",
        "\n",
        "# download pre-prepared analysis code\n",
        "!rm -rf IceCube_MasterClass_at_Harvard2025\n",
        "!git clone \"https://github.com/Harvard-Neutrino/IceCube_MasterClass_at_Harvard2025.git\";\n",
        "\n",
        "import sys\n",
        "sys.path.insert(0, \"./IceCube_MasterClass_at_Harvard2025/\")"
      ]
    },
    {
      "cell_type": "code",
      "execution_count": 2,
      "metadata": {
        "id": "-SM-Ld8RO6h1",
        "outputId": "fdc21f2a-525c-47d1-8ebb-c908cbcb15dd",
        "colab": {
          "base_uri": "https://localhost:8080/"
        }
      },
      "outputs": [
        {
          "output_type": "execute_result",
          "data": {
            "text/plain": [
              "EventSelection containing 82079 events "
            ]
          },
          "metadata": {},
          "execution_count": 2
        }
      ],
      "source": [
        "from src.event_reader import load_sim_events\n",
        "\n",
        "tracks = load_sim_events(\"sim_moonshadow/tracks.parquet\")\n",
        "tracks"
      ]
    },
    {
      "cell_type": "markdown",
      "metadata": {
        "id": "697iSiH7O6h1"
      },
      "source": [
        "Let's look at an 'event' in the detector. An event is just a bunch of 'hits', ie. instances in which light hit different sensors, which are grouped together because they all occured within the same time window."
      ]
    },
    {
      "cell_type": "code",
      "execution_count": 3,
      "metadata": {
        "id": "Tqy26lwHO6h1",
        "outputId": "3433afff-7277-40ce-facc-09ebd08da10d",
        "colab": {
          "base_uri": "https://localhost:8080/"
        }
      },
      "outputs": [
        {
          "output_type": "stream",
          "name": "stdout",
          "text": [
            "IceCube Event with 91 hits: \n",
            "\n"
          ]
        },
        {
          "output_type": "execute_result",
          "data": {
            "text/plain": [
              "              t       dom\n",
              "0    445.791412  (30, 15)\n",
              "1   1396.173950  (30, 16)\n",
              "2    427.035492  (30, 15)\n",
              "3    651.227417  (30, 12)\n",
              "4    665.815918  (30, 12)\n",
              "..          ...       ...\n",
              "86  3446.496826  (34, 35)\n",
              "87  4036.598877  (43, 32)\n",
              "88  3520.721924  (34, 32)\n",
              "89  3563.517578  (33, 33)\n",
              "90  4539.899902  (41, 43)\n",
              "\n",
              "[91 rows x 2 columns]"
            ]
          },
          "metadata": {},
          "execution_count": 3
        }
      ],
      "source": [
        "evt_num = 24\n",
        "evt = tracks[evt_num]\n",
        "evt"
      ]
    },
    {
      "cell_type": "markdown",
      "metadata": {
        "id": "prENzgZxO6h1"
      },
      "source": [
        "A list of hits is not that informative. We can *visualize* an event within the detector by plotting it.  "
      ]
    },
    {
      "cell_type": "code",
      "execution_count": 5,
      "metadata": {
        "id": "HQKnJ1hAO6h1",
        "outputId": "89e250a5-ddff-4384-b5cb-fbbb35d10617",
        "colab": {
          "base_uri": "https://localhost:8080/",
          "height": 542
        }
      },
      "outputs": [
        {
          "output_type": "display_data",
          "data": {
            "text/html": [
              "<html>\n",
              "<head><meta charset=\"utf-8\" /></head>\n",
              "<body>\n",
              "    <div>            <script src=\"https://cdnjs.cloudflare.com/ajax/libs/mathjax/2.7.5/MathJax.js?config=TeX-AMS-MML_SVG\"></script><script type=\"text/javascript\">if (window.MathJax && window.MathJax.Hub && window.MathJax.Hub.Config) {window.MathJax.Hub.Config({SVG: {font: \"STIX-Web\"}});}</script>                <script type=\"text/javascript\">window.PlotlyConfig = {MathJaxConfig: 'local'};</script>\n",
              "        <script charset=\"utf-8\" src=\"https://cdn.plot.ly/plotly-2.35.2.min.js\"></script>                <div id=\"049f9e72-c525-4235-b15c-1d0f30dbea8f\" class=\"plotly-graph-div\" style=\"height:525px; width:100%;\"></div>            <script type=\"text/javascript\">                                    window.PLOTLYENV=window.PLOTLYENV || {};                                    if (document.getElementById(\"049f9e72-c525-4235-b15c-1d0f30dbea8f\")) {                    Plotly.newPlot(                        \"049f9e72-c525-4235-b15c-1d0f30dbea8f\",                        [{\"hoverinfo\":\"skip\",\"line\":{\"color\":\"lightgrey\",\"width\":1},\"mode\":\"lines\",\"showlegend\":false,\"x\":[-256.14,-256.14],\"y\":[-521.08,-521.08],\"z\":[-1441.93,-2453.06],\"type\":\"scatter3d\",\"uid\":\"cac78a5f-68ca-4f91-bdd9-6d7912f19bab\"},{\"hoverinfo\":\"skip\",\"line\":{\"color\":\"lightgrey\",\"width\":1},\"mode\":\"lines\",\"showlegend\":false,\"x\":[-132.8,-132.8],\"y\":[-501.45,-501.45],\"z\":[-1441.93,-2453.06],\"type\":\"scatter3d\",\"uid\":\"ed09fb7d-5056-49fb-b3e4-1f93629f14ec\"},{\"hoverinfo\":\"skip\",\"line\":{\"color\":\"lightgrey\",\"width\":1},\"mode\":\"lines\",\"showlegend\":false,\"x\":[-9.13,-9.13],\"y\":[-481.74,-481.74],\"z\":[-1441.93,-2453.06],\"type\":\"scatter3d\",\"uid\":\"dc779e11-43ad-4d2c-a50d-5a3523128ac0\"},{\"hoverinfo\":\"skip\",\"line\":{\"color\":\"lightgrey\",\"width\":1},\"mode\":\"lines\",\"showlegend\":false,\"x\":[114.39,114.39],\"y\":[-461.99,-461.99],\"z\":[-1441.93,-2453.06],\"type\":\"scatter3d\",\"uid\":\"92a55d42-f2f2-473d-a3da-8ddc89531592\"},{\"hoverinfo\":\"skip\",\"line\":{\"color\":\"lightgrey\",\"width\":1},\"mode\":\"lines\",\"showlegend\":false,\"x\":[237.78,237.78],\"y\":[-442.42,-442.42],\"z\":[-1441.93,-2453.06],\"type\":\"scatter3d\",\"uid\":\"0ec2f429-8415-4b8d-a1d2-5871b2acecef\"},{\"hoverinfo\":\"skip\",\"line\":{\"color\":\"lightgrey\",\"width\":1},\"mode\":\"lines\",\"showlegend\":false,\"x\":[361.0,361.0],\"y\":[-422.83,-422.83],\"z\":[-1441.93,-2453.06],\"type\":\"scatter3d\",\"uid\":\"f7d28348-e458-4e4e-8fb3-e1f05b5e58fb\"},{\"hoverinfo\":\"skip\",\"line\":{\"color\":\"lightgrey\",\"width\":1},\"mode\":\"lines\",\"showlegend\":false,\"x\":[-334.8,-334.8],\"y\":[-424.5,-424.5],\"z\":[-1441.93,-2453.06],\"type\":\"scatter3d\",\"uid\":\"f2141f65-af06-4864-ac64-37ea31e4c31f\"},{\"hoverinfo\":\"skip\",\"line\":{\"color\":\"lightgrey\",\"width\":1},\"mode\":\"lines\",\"showlegend\":false,\"x\":[-211.35,-211.35],\"y\":[-404.48,-404.48],\"z\":[-1441.93,-2453.06],\"type\":\"scatter3d\",\"uid\":\"ca1812f9-1a12-43e5-9de0-ae80d323a5b5\"},{\"hoverinfo\":\"skip\",\"line\":{\"color\":\"lightgrey\",\"width\":1},\"mode\":\"lines\",\"showlegend\":false,\"x\":[-88.05,-88.05],\"y\":[-384.3,-384.3],\"z\":[-1441.93,-2453.06],\"type\":\"scatter3d\",\"uid\":\"f88294b4-1b9c-4558-aacc-825346240f7d\"},{\"hoverinfo\":\"skip\",\"line\":{\"color\":\"lightgrey\",\"width\":1},\"mode\":\"lines\",\"showlegend\":false,\"x\":[35.54,35.54],\"y\":[-364.83,-364.83],\"z\":[-1441.93,-2453.06],\"type\":\"scatter3d\",\"uid\":\"67729484-aea6-42b5-bfe2-8b10548312b0\"},{\"hoverinfo\":\"skip\",\"line\":{\"color\":\"lightgrey\",\"width\":1},\"mode\":\"lines\",\"showlegend\":false,\"x\":[158.94,158.94],\"y\":[-345.23,-345.23],\"z\":[-1441.93,-2453.06],\"type\":\"scatter3d\",\"uid\":\"968948a6-d99c-4923-86e5-2773fe813d90\"},{\"hoverinfo\":\"skip\",\"line\":{\"color\":\"lightgrey\",\"width\":1},\"mode\":\"lines\",\"showlegend\":false,\"x\":[282.18,282.18],\"y\":[-325.74,-325.74],\"z\":[-1441.93,-2453.06],\"type\":\"scatter3d\",\"uid\":\"b2cf50f1-bb2b-4620-b244-5966279616e1\"},{\"hoverinfo\":\"skip\",\"line\":{\"color\":\"lightgrey\",\"width\":1},\"mode\":\"lines\",\"showlegend\":false,\"x\":[405.83,405.83],\"y\":[-306.38,-306.38],\"z\":[-1441.93,-2453.06],\"type\":\"scatter3d\",\"uid\":\"360826e2-df06-4d02-8926-737a830270a7\"},{\"hoverinfo\":\"skip\",\"line\":{\"color\":\"lightgrey\",\"width\":1},\"mode\":\"lines\",\"showlegend\":false,\"x\":[-413.46,-413.46],\"y\":[-327.27,-327.27],\"z\":[-1441.93,-2453.06],\"type\":\"scatter3d\",\"uid\":\"ad26ff7e-4c27-4e04-bd9d-71148e6d7be0\"},{\"hoverinfo\":\"skip\",\"line\":{\"color\":\"lightgrey\",\"width\":1},\"mode\":\"lines\",\"showlegend\":false,\"x\":[-290.66,-290.66],\"y\":[-307.38,-307.38],\"z\":[-1441.93,-2453.06],\"type\":\"scatter3d\",\"uid\":\"329209d2-4ff1-4961-9ee3-7ca3d9a0d4b8\"},{\"hoverinfo\":\"skip\",\"line\":{\"color\":\"lightgrey\",\"width\":1},\"mode\":\"lines\",\"showlegend\":false,\"x\":[-166.4,-166.4],\"y\":[-287.79,-287.79],\"z\":[-1441.93,-2453.06],\"type\":\"scatter3d\",\"uid\":\"c0ff91e4-98c4-4a84-8231-cba3b1815a05\"},{\"hoverinfo\":\"skip\",\"line\":{\"color\":\"lightgrey\",\"width\":1},\"mode\":\"lines\",\"showlegend\":false,\"x\":[-43.27,-43.27],\"y\":[-267.52,-267.52],\"z\":[-1441.93,-2453.06],\"type\":\"scatter3d\",\"uid\":\"1b4da6fa-bebf-4f34-bf05-5d17ff27c646\"},{\"hoverinfo\":\"skip\",\"line\":{\"color\":\"lightgrey\",\"width\":1},\"mode\":\"lines\",\"showlegend\":false,\"x\":[79.41,79.41],\"y\":[-248.24,-248.24],\"z\":[-1441.93,-2453.06],\"type\":\"scatter3d\",\"uid\":\"1a3db265-79ed-4487-bac2-6d5b6fc2291e\"},{\"hoverinfo\":\"skip\",\"line\":{\"color\":\"lightgrey\",\"width\":1},\"mode\":\"lines\",\"showlegend\":false,\"x\":[210.47,210.47],\"y\":[-209.77,-209.77],\"z\":[-1441.93,-2453.06],\"type\":\"scatter3d\",\"uid\":\"21aed43e-dc3d-4ef6-8d70-32e2a2b4b089\"},{\"hoverinfo\":\"skip\",\"line\":{\"color\":\"lightgrey\",\"width\":1},\"mode\":\"lines\",\"showlegend\":false,\"x\":[326.85,326.85],\"y\":[-209.07,-209.07],\"z\":[-1441.93,-2453.06],\"type\":\"scatter3d\",\"uid\":\"dcee3fd3-d5da-44da-b121-252cd5460f9c\"},{\"hoverinfo\":\"skip\",\"line\":{\"color\":\"lightgrey\",\"width\":1},\"mode\":\"lines\",\"showlegend\":false,\"x\":[443.55,443.55],\"y\":[-194.16,-194.16],\"z\":[-1441.93,-2453.06],\"type\":\"scatter3d\",\"uid\":\"f8d58459-80cb-4261-bbf9-9ceba94f2a82\"},{\"hoverinfo\":\"skip\",\"line\":{\"color\":\"lightgrey\",\"width\":1},\"mode\":\"lines\",\"showlegend\":false,\"x\":[-492.43,-492.43],\"y\":[-230.16,-230.16],\"z\":[-1441.93,-2453.06],\"type\":\"scatter3d\",\"uid\":\"2089f6db-6897-4484-b75a-9aa56b878874\"},{\"hoverinfo\":\"skip\",\"line\":{\"color\":\"lightgrey\",\"width\":1},\"mode\":\"lines\",\"showlegend\":false,\"x\":[-368.93,-368.93],\"y\":[-210.23,-210.23],\"z\":[-1441.93,-2453.06],\"type\":\"scatter3d\",\"uid\":\"3cc801e3-ec2a-4c12-a79a-463fb0317623\"},{\"hoverinfo\":\"skip\",\"line\":{\"color\":\"lightgrey\",\"width\":1},\"mode\":\"lines\",\"showlegend\":false,\"x\":[-245.65,-245.65],\"y\":[-190.49,-190.49],\"z\":[-1441.93,-2453.06],\"type\":\"scatter3d\",\"uid\":\"4bee3bee-f243-4429-84ee-5e86e38071b4\"},{\"hoverinfo\":\"skip\",\"line\":{\"color\":\"lightgrey\",\"width\":1},\"mode\":\"lines\",\"showlegend\":false,\"x\":[-121.77,-121.77],\"y\":[-171.03,-171.03],\"z\":[-1441.93,-2453.06],\"type\":\"scatter3d\",\"uid\":\"b4467323-dba2-4991-b29e-9a27a0a153d7\"},{\"hoverinfo\":\"skip\",\"line\":{\"color\":\"lightgrey\",\"width\":1},\"mode\":\"lines\",\"showlegend\":false,\"x\":[1.71,1.71],\"y\":[-150.63,-150.63],\"z\":[-1441.93,-2453.06],\"type\":\"scatter3d\",\"uid\":\"56a329f1-626c-4a2c-b38b-251062bfa258\"},{\"hoverinfo\":\"skip\",\"line\":{\"color\":\"lightgrey\",\"width\":1},\"mode\":\"lines\",\"showlegend\":false,\"x\":[124.97,124.97],\"y\":[-131.25,-131.25],\"z\":[-1441.93,-2453.06],\"type\":\"scatter3d\",\"uid\":\"aa5095e6-5031-47e9-b9fd-846cbb56c780\"},{\"hoverinfo\":\"skip\",\"line\":{\"color\":\"lightgrey\",\"width\":1},\"mode\":\"lines\",\"showlegend\":false,\"x\":[248.15,248.15],\"y\":[-111.87,-111.87],\"z\":[-1441.93,-2453.06],\"type\":\"scatter3d\",\"uid\":\"cd89d6bd-4142-4225-b2a8-7cff79bacc90\"},{\"hoverinfo\":\"skip\",\"line\":{\"color\":\"lightgrey\",\"width\":1},\"mode\":\"lines\",\"showlegend\":false,\"x\":[371.56,371.56],\"y\":[-92.18,-92.18],\"z\":[-1441.93,-2453.06],\"type\":\"scatter3d\",\"uid\":\"504f27e3-db36-40f2-9330-776292a08c74\"},{\"hoverinfo\":\"skip\",\"line\":{\"color\":\"lightgrey\",\"width\":1},\"mode\":\"lines\",\"showlegend\":false,\"x\":[500.43,500.43],\"y\":[-58.45,-58.45],\"z\":[-1441.93,-2453.06],\"type\":\"scatter3d\",\"uid\":\"bd51a73e-220c-4525-acd1-ed301f495c1a\"},{\"hoverinfo\":\"skip\",\"line\":{\"color\":\"lightgrey\",\"width\":1},\"mode\":\"lines\",\"showlegend\":false,\"x\":[-570.9,-570.9],\"y\":[-125.14,-125.14],\"z\":[-1441.93,-2453.06],\"type\":\"scatter3d\",\"uid\":\"e3ddcb5c-e741-4353-9345-82ad26978090\"},{\"hoverinfo\":\"skip\",\"line\":{\"color\":\"lightgrey\",\"width\":1},\"mode\":\"lines\",\"showlegend\":false,\"x\":[-447.74,-447.74],\"y\":[-113.13,-113.13],\"z\":[-1441.93,-2453.06],\"type\":\"scatter3d\",\"uid\":\"a1289eca-d456-4390-ba70-6fc73a6f8421\"},{\"hoverinfo\":\"skip\",\"line\":{\"color\":\"lightgrey\",\"width\":1},\"mode\":\"lines\",\"showlegend\":false,\"x\":[-324.39,-324.39],\"y\":[-93.43,-93.43],\"z\":[-1441.93,-2453.06],\"type\":\"scatter3d\",\"uid\":\"eec2dc30-b9e1-4fee-b089-331982118f6a\"},{\"hoverinfo\":\"skip\",\"line\":{\"color\":\"lightgrey\",\"width\":1},\"mode\":\"lines\",\"showlegend\":false,\"x\":[-200.55,-200.55],\"y\":[-74.03,-74.03],\"z\":[-1441.93,-2453.06],\"type\":\"scatter3d\",\"uid\":\"69dc7be4-b272-487b-afed-9b5b22038b13\"},{\"hoverinfo\":\"skip\",\"line\":{\"color\":\"lightgrey\",\"width\":1},\"mode\":\"lines\",\"showlegend\":false,\"x\":[-77.8,-77.8],\"y\":[-54.33,-54.33],\"z\":[-1441.93,-2453.06],\"type\":\"scatter3d\",\"uid\":\"c626adb8-4270-440a-af64-4bf803ddd71c\"},{\"hoverinfo\":\"skip\",\"line\":{\"color\":\"lightgrey\",\"width\":1},\"mode\":\"lines\",\"showlegend\":false,\"x\":[46.29,46.29],\"y\":[-34.88,-34.88],\"z\":[-1441.93,-2453.06],\"type\":\"scatter3d\",\"uid\":\"a8a4907d-245a-46ba-b812-3b603f960802\"},{\"hoverinfo\":\"skip\",\"line\":{\"color\":\"lightgrey\",\"width\":1},\"mode\":\"lines\",\"showlegend\":false,\"x\":[194.34,194.34],\"y\":[-30.92,-30.92],\"z\":[-1441.93,-2453.06],\"type\":\"scatter3d\",\"uid\":\"9c6cade1-ea15-48d2-a219-8f5c1455de0c\"},{\"hoverinfo\":\"skip\",\"line\":{\"color\":\"lightgrey\",\"width\":1},\"mode\":\"lines\",\"showlegend\":false,\"x\":[292.9,292.9],\"y\":[5.2,5.2],\"z\":[-1441.93,-2453.06],\"type\":\"scatter3d\",\"uid\":\"37618912-6972-452f-943c-7b7511756955\"},{\"hoverinfo\":\"skip\",\"line\":{\"color\":\"lightgrey\",\"width\":1},\"mode\":\"lines\",\"showlegend\":false,\"x\":[411.81,411.81],\"y\":[13.0,13.0],\"z\":[-1441.93,-2453.06],\"type\":\"scatter3d\",\"uid\":\"fa46036e-97b4-44e1-ac6e-5e64df36d781\"},{\"hoverinfo\":\"skip\",\"line\":{\"color\":\"lightgrey\",\"width\":1},\"mode\":\"lines\",\"showlegend\":false,\"x\":[544.07,544.07],\"y\":[55.89,55.89],\"z\":[-1441.93,-2453.06],\"type\":\"scatter3d\",\"uid\":\"ae5ca0fd-fc8b-4fc4-8bbd-13fca592f288\"},{\"hoverinfo\":\"skip\",\"line\":{\"color\":\"lightgrey\",\"width\":1},\"mode\":\"lines\",\"showlegend\":false,\"x\":[-526.63,-526.63],\"y\":[-15.6,-15.6],\"z\":[-1441.93,-2453.06],\"type\":\"scatter3d\",\"uid\":\"2445dca8-14a9-47aa-95d1-7b8328ed3438\"},{\"hoverinfo\":\"skip\",\"line\":{\"color\":\"lightgrey\",\"width\":1},\"mode\":\"lines\",\"showlegend\":false,\"x\":[-403.14,-403.14],\"y\":[3.49,3.49],\"z\":[-1441.93,-2453.06],\"type\":\"scatter3d\",\"uid\":\"d08f3a3c-643b-47a3-b089-b51946a72636\"},{\"hoverinfo\":\"skip\",\"line\":{\"color\":\"lightgrey\",\"width\":1},\"mode\":\"lines\",\"showlegend\":false,\"x\":[-279.53,-279.53],\"y\":[23.17,23.17],\"z\":[-1441.93,-2453.06],\"type\":\"scatter3d\",\"uid\":\"66f5d105-dd7a-4fee-8be9-f29fa2b7c8e0\"},{\"hoverinfo\":\"skip\",\"line\":{\"color\":\"lightgrey\",\"width\":1},\"mode\":\"lines\",\"showlegend\":false,\"x\":[-156.23,-156.23],\"y\":[43.37,43.37],\"z\":[-1441.93,-2453.06],\"type\":\"scatter3d\",\"uid\":\"6e87c97c-995f-4d84-94aa-965f280fa724\"},{\"hoverinfo\":\"skip\",\"line\":{\"color\":\"lightgrey\",\"width\":1},\"mode\":\"lines\",\"showlegend\":false,\"x\":[-32.96,-32.96],\"y\":[62.44,62.44],\"z\":[-1441.93,-2453.06],\"type\":\"scatter3d\",\"uid\":\"59352480-da10-467d-a03c-f4cb555129b7\"},{\"hoverinfo\":\"skip\",\"line\":{\"color\":\"lightgrey\",\"width\":1},\"mode\":\"lines\",\"showlegend\":false,\"x\":[90.49,90.49],\"y\":[82.35,82.35],\"z\":[-1441.93,-2453.06],\"type\":\"scatter3d\",\"uid\":\"0e31dcda-3aaf-438e-827a-e27dc5f4b36c\"},{\"hoverinfo\":\"skip\",\"line\":{\"color\":\"lightgrey\",\"width\":1},\"mode\":\"lines\",\"showlegend\":false,\"x\":[195.03,195.03],\"y\":[125.59,125.59],\"z\":[-1441.93,-2453.06],\"type\":\"scatter3d\",\"uid\":\"f837b68e-d7c3-4c99-b9be-7d7dab4af8d1\"},{\"hoverinfo\":\"skip\",\"line\":{\"color\":\"lightgrey\",\"width\":1},\"mode\":\"lines\",\"showlegend\":false,\"x\":[330.03,330.03],\"y\":[127.2,127.2],\"z\":[-1441.93,-2453.06],\"type\":\"scatter3d\",\"uid\":\"d65af272-a9af-429e-9c24-a320b1f7c66b\"},{\"hoverinfo\":\"skip\",\"line\":{\"color\":\"lightgrey\",\"width\":1},\"mode\":\"lines\",\"showlegend\":false,\"x\":[472.05,472.05],\"y\":[127.9,127.9],\"z\":[-1441.93,-2453.06],\"type\":\"scatter3d\",\"uid\":\"1778a133-ecd3-4454-9844-5f16406c3410\"},{\"hoverinfo\":\"skip\",\"line\":{\"color\":\"lightgrey\",\"width\":1},\"mode\":\"lines\",\"showlegend\":false,\"x\":[576.37,576.37],\"y\":[170.92,170.92],\"z\":[-1441.93,-2453.06],\"type\":\"scatter3d\",\"uid\":\"be22cbd8-c0ff-4a1f-a9a4-00109ce7ef91\"},{\"hoverinfo\":\"skip\",\"line\":{\"color\":\"lightgrey\",\"width\":1},\"mode\":\"lines\",\"showlegend\":false,\"x\":[-481.6,-481.6],\"y\":[101.39,101.39],\"z\":[-1441.93,-2453.06],\"type\":\"scatter3d\",\"uid\":\"22927b2e-936a-4f99-96ed-c4e10817b7e1\"},{\"hoverinfo\":\"skip\",\"line\":{\"color\":\"lightgrey\",\"width\":1},\"mode\":\"lines\",\"showlegend\":false,\"x\":[-358.44,-358.44],\"y\":[120.56,120.56],\"z\":[-1441.93,-2453.06],\"type\":\"scatter3d\",\"uid\":\"fcfea2a1-c299-43e8-84d9-b7beb81678d3\"},{\"hoverinfo\":\"skip\",\"line\":{\"color\":\"lightgrey\",\"width\":1},\"mode\":\"lines\",\"showlegend\":false,\"x\":[-234.95,-234.95],\"y\":[140.44,140.44],\"z\":[-1441.93,-2453.06],\"type\":\"scatter3d\",\"uid\":\"fd88a555-a61f-431f-9114-f08a657aa312\"},{\"hoverinfo\":\"skip\",\"line\":{\"color\":\"lightgrey\",\"width\":1},\"mode\":\"lines\",\"showlegend\":false,\"x\":[-111.51,-111.51],\"y\":[159.98,159.98],\"z\":[-1441.93,-2453.06],\"type\":\"scatter3d\",\"uid\":\"148811e6-a4f5-40e6-b299-726883f6f7dc\"},{\"hoverinfo\":\"skip\",\"line\":{\"color\":\"lightgrey\",\"width\":1},\"mode\":\"lines\",\"showlegend\":false,\"x\":[11.87,11.87],\"y\":[179.19,179.19],\"z\":[-1441.93,-2453.06],\"type\":\"scatter3d\",\"uid\":\"9c44f56c-c1b7-436a-8dfe-41491941bcc1\"},{\"hoverinfo\":\"skip\",\"line\":{\"color\":\"lightgrey\",\"width\":1},\"mode\":\"lines\",\"showlegend\":false,\"x\":[132.03,132.03],\"y\":[202.98,202.98],\"z\":[-1441.93,-2453.06],\"type\":\"scatter3d\",\"uid\":\"7501a756-0182-461a-845c-08a115417411\"},{\"hoverinfo\":\"skip\",\"line\":{\"color\":\"lightgrey\",\"width\":1},\"mode\":\"lines\",\"showlegend\":false,\"x\":[257.31,257.31],\"y\":[211.66,211.66],\"z\":[-1441.93,-2453.06],\"type\":\"scatter3d\",\"uid\":\"9ee52028-00c9-4265-9912-2ca72923202c\"},{\"hoverinfo\":\"skip\",\"line\":{\"color\":\"lightgrey\",\"width\":1},\"mode\":\"lines\",\"showlegend\":false,\"x\":[382.35,382.35],\"y\":[238.9,238.9],\"z\":[-1441.93,-2453.06],\"type\":\"scatter3d\",\"uid\":\"65b27289-62aa-4df2-a866-67e1fab1bbb7\"},{\"hoverinfo\":\"skip\",\"line\":{\"color\":\"lightgrey\",\"width\":1},\"mode\":\"lines\",\"showlegend\":false,\"x\":[505.27,505.27],\"y\":[257.88,257.88],\"z\":[-1441.93,-2453.06],\"type\":\"scatter3d\",\"uid\":\"01dfd7d4-24fa-4344-8952-5a82c1a6ed83\"},{\"hoverinfo\":\"skip\",\"line\":{\"color\":\"lightgrey\",\"width\":1},\"mode\":\"lines\",\"showlegend\":false,\"x\":[-437.04,-437.04],\"y\":[217.8,217.8],\"z\":[-1441.93,-2453.06],\"type\":\"scatter3d\",\"uid\":\"d961a165-10d2-428a-a2fb-c905c9b5af20\"},{\"hoverinfo\":\"skip\",\"line\":{\"color\":\"lightgrey\",\"width\":1},\"mode\":\"lines\",\"showlegend\":false,\"x\":[-313.6,-313.6],\"y\":[237.44,237.44],\"z\":[-1441.93,-2453.06],\"type\":\"scatter3d\",\"uid\":\"876afaed-d674-48d5-b485-1a7b93da6b39\"},{\"hoverinfo\":\"skip\",\"line\":{\"color\":\"lightgrey\",\"width\":1},\"mode\":\"lines\",\"showlegend\":false,\"x\":[-189.98,-189.98],\"y\":[257.42,257.42],\"z\":[-1441.93,-2453.06],\"type\":\"scatter3d\",\"uid\":\"6834e073-96ed-45a4-a04d-a8adc02609b0\"},{\"hoverinfo\":\"skip\",\"line\":{\"color\":\"lightgrey\",\"width\":1},\"mode\":\"lines\",\"showlegend\":false,\"x\":[-66.7,-66.7],\"y\":[276.92,276.92],\"z\":[-1441.93,-2453.06],\"type\":\"scatter3d\",\"uid\":\"fbcd7eb7-7ab1-46e0-9f89-524d3969a77b\"},{\"hoverinfo\":\"skip\",\"line\":{\"color\":\"lightgrey\",\"width\":1},\"mode\":\"lines\",\"showlegend\":false,\"x\":[54.26,54.26],\"y\":[292.97,292.97],\"z\":[-1441.93,-2453.06],\"type\":\"scatter3d\",\"uid\":\"e6df01d5-28e2-4991-b959-f8135744d3ae\"},{\"hoverinfo\":\"skip\",\"line\":{\"color\":\"lightgrey\",\"width\":1},\"mode\":\"lines\",\"showlegend\":false,\"x\":[174.47,174.47],\"y\":[315.54,315.54],\"z\":[-1441.93,-2453.06],\"type\":\"scatter3d\",\"uid\":\"b9253ee7-035b-47ab-b97b-4d7c04523f77\"},{\"hoverinfo\":\"skip\",\"line\":{\"color\":\"lightgrey\",\"width\":1},\"mode\":\"lines\",\"showlegend\":false,\"x\":[303.41,303.41],\"y\":[335.64,335.64],\"z\":[-1441.93,-2453.06],\"type\":\"scatter3d\",\"uid\":\"0ee827cf-2619-41e2-b13f-faf49007bec6\"},{\"hoverinfo\":\"skip\",\"line\":{\"color\":\"lightgrey\",\"width\":1},\"mode\":\"lines\",\"showlegend\":false,\"x\":[429.76,429.76],\"y\":[351.02,351.02],\"z\":[-1441.93,-2453.06],\"type\":\"scatter3d\",\"uid\":\"8d092898-a844-44b4-b7bd-ae25cef52dc8\"},{\"hoverinfo\":\"skip\",\"line\":{\"color\":\"lightgrey\",\"width\":1},\"mode\":\"lines\",\"showlegend\":false,\"x\":[-392.38,-392.38],\"y\":[334.24,334.24],\"z\":[-1441.93,-2453.06],\"type\":\"scatter3d\",\"uid\":\"0d438caa-94f6-410e-a5fd-ea8b4c6828ec\"},{\"hoverinfo\":\"skip\",\"line\":{\"color\":\"lightgrey\",\"width\":1},\"mode\":\"lines\",\"showlegend\":false,\"x\":[-268.9,-268.9],\"y\":[354.24,354.24],\"z\":[-1441.93,-2453.06],\"type\":\"scatter3d\",\"uid\":\"b59fd442-402c-494a-babf-324c3b13674d\"},{\"hoverinfo\":\"skip\",\"line\":{\"color\":\"lightgrey\",\"width\":1},\"mode\":\"lines\",\"showlegend\":false,\"x\":[-145.45,-145.45],\"y\":[374.24,374.24],\"z\":[-1441.93,-2453.06],\"type\":\"scatter3d\",\"uid\":\"f0c84c3b-bc33-40cb-b135-c7e3f99002e2\"},{\"hoverinfo\":\"skip\",\"line\":{\"color\":\"lightgrey\",\"width\":1},\"mode\":\"lines\",\"showlegend\":false,\"x\":[-21.97,-21.97],\"y\":[393.24,393.24],\"z\":[-1441.93,-2453.06],\"type\":\"scatter3d\",\"uid\":\"a06294a3-fe62-4530-aa47-3724be6495bc\"},{\"hoverinfo\":\"skip\",\"line\":{\"color\":\"lightgrey\",\"width\":1},\"mode\":\"lines\",\"showlegend\":false,\"x\":[101.04,101.04],\"y\":[412.79,412.79],\"z\":[-1441.93,-2453.06],\"type\":\"scatter3d\",\"uid\":\"d271adb3-f52a-49ec-87ab-b71b64b44c1d\"},{\"hoverinfo\":\"skip\",\"line\":{\"color\":\"lightgrey\",\"width\":1},\"mode\":\"lines\",\"showlegend\":false,\"x\":[224.58,224.58],\"y\":[432.35,432.35],\"z\":[-1441.93,-2453.06],\"type\":\"scatter3d\",\"uid\":\"d2bd8b9c-5f36-4309-95b7-c27e85cff6e3\"},{\"hoverinfo\":\"skip\",\"line\":{\"color\":\"lightgrey\",\"width\":1},\"mode\":\"lines\",\"showlegend\":false,\"x\":[338.44,338.44],\"y\":[463.72,463.72],\"z\":[-1441.93,-2453.06],\"type\":\"scatter3d\",\"uid\":\"b54f7d31-5698-4046-84e1-8e22c8550a93\"},{\"hoverinfo\":\"skip\",\"line\":{\"color\":\"lightgrey\",\"width\":1},\"mode\":\"lines\",\"showlegend\":false,\"x\":[-347.88,-347.88],\"y\":[451.52,451.52],\"z\":[-1441.93,-2453.06],\"type\":\"scatter3d\",\"uid\":\"00f6c03b-cb72-4ec6-a314-d378e374185f\"},{\"hoverinfo\":\"skip\",\"line\":{\"color\":\"lightgrey\",\"width\":1},\"mode\":\"lines\",\"showlegend\":false,\"x\":[-224.09,-224.09],\"y\":[470.86,470.86],\"z\":[-1441.93,-2453.06],\"type\":\"scatter3d\",\"uid\":\"649ec27f-8d70-467b-9bae-b2e928a85982\"},{\"hoverinfo\":\"skip\",\"line\":{\"color\":\"lightgrey\",\"width\":1},\"mode\":\"lines\",\"showlegend\":false,\"x\":[-101.06,-101.06],\"y\":[490.22,490.22],\"z\":[-1441.93,-2453.06],\"type\":\"scatter3d\",\"uid\":\"c79d53d6-27c6-408c-bf46-7501386e9949\"},{\"hoverinfo\":\"skip\",\"line\":{\"color\":\"lightgrey\",\"width\":1},\"mode\":\"lines\",\"showlegend\":false,\"x\":[22.11,22.11],\"y\":[509.5,509.5],\"z\":[-1441.93,-2453.06],\"type\":\"scatter3d\",\"uid\":\"888ae7ab-cf4c-4175-9eef-85d14341cdc2\"},{\"hoverinfo\":\"skip\",\"line\":{\"color\":\"lightgrey\",\"width\":1},\"mode\":\"lines\",\"showlegend\":false,\"x\":[31.25,31.25],\"y\":[-72.93,-72.93],\"z\":[-1441.93,-2453.06],\"type\":\"scatter3d\",\"uid\":\"4b8f310a-1c1a-4ade-b205-66b7dbdf0ab6\"},{\"hoverinfo\":\"skip\",\"line\":{\"color\":\"lightgrey\",\"width\":1},\"mode\":\"lines\",\"showlegend\":false,\"x\":[72.37,72.37],\"y\":[-66.6,-66.6],\"z\":[-1441.93,-2453.06],\"type\":\"scatter3d\",\"uid\":\"20cdb1e2-6f38-497f-bbc9-024f084ac8a5\"},{\"hoverinfo\":\"skip\",\"line\":{\"color\":\"lightgrey\",\"width\":1},\"mode\":\"lines\",\"showlegend\":false,\"x\":[41.6,41.6],\"y\":[35.49,35.49],\"z\":[-1441.93,-2453.06],\"type\":\"scatter3d\",\"uid\":\"c0164ecc-286c-4945-95a8-f07dde5eb7e4\"},{\"hoverinfo\":\"skip\",\"line\":{\"color\":\"lightgrey\",\"width\":1},\"mode\":\"lines\",\"showlegend\":false,\"x\":[106.94,106.94],\"y\":[27.09,27.09],\"z\":[-1441.93,-2453.06],\"type\":\"scatter3d\",\"uid\":\"8adb9a84-c9c7-4b57-9434-5b09821e9023\"},{\"hoverinfo\":\"skip\",\"line\":{\"color\":\"lightgrey\",\"width\":1},\"mode\":\"lines\",\"showlegend\":false,\"x\":[113.19,113.19],\"y\":[-60.47,-60.47],\"z\":[-1441.93,-2453.06],\"type\":\"scatter3d\",\"uid\":\"da76ff74-2022-4cdc-ad85-ac41cc147d1c\"},{\"hoverinfo\":\"skip\",\"line\":{\"color\":\"lightgrey\",\"width\":1},\"mode\":\"lines\",\"showlegend\":false,\"x\":[57.2,57.2],\"y\":[-105.52,-105.52],\"z\":[-1441.93,-2453.06],\"type\":\"scatter3d\",\"uid\":\"66645756-dcc8-44ef-8905-9660d0458ab0\"},{\"hoverinfo\":\"skip\",\"line\":{\"color\":\"lightgrey\",\"width\":1},\"mode\":\"lines\",\"showlegend\":false,\"x\":[-9.68,-9.68],\"y\":[-79.5,-79.5],\"z\":[-1441.93,-2453.06],\"type\":\"scatter3d\",\"uid\":\"c9b2a43b-d016-4c77-af26-7cdc96e8c49f\"},{\"hoverinfo\":\"skip\",\"line\":{\"color\":\"lightgrey\",\"width\":1},\"mode\":\"lines\",\"showlegend\":false,\"x\":[-10.97,-10.97],\"y\":[6.72,6.72],\"z\":[-1441.93,-2453.06],\"type\":\"scatter3d\",\"uid\":\"574fd3df-69cd-4117-87a9-53b99cf148c8\"},{\"hoverinfo\":\"skip\",\"line\":{\"color\":\"grey\",\"width\":1},\"mode\":\"lines\",\"showlegend\":false,\"x\":[-347.88,-570.9,-256.14,361.0,576.37,338.44,101.04,22.11,-347.88],\"y\":[451.52,-125.14,-521.08,-422.83,170.92,463.72,412.79,509.5,451.52],\"z\":[-2453.06,-2453.06,-2453.06,-2453.06,-2453.06,-2453.06,-2453.06,-2453.06,-2453.06,-2453.06,-2453.06,-2453.06,-2453.06,-2453.06,-2453.06,-2453.06,-2453.06,-2453.06,-2453.06,-2453.06,-2453.06,-2453.06,-2453.06,-2453.06,-2453.06,-2453.06,-2453.06,-2453.06,-2453.06,-2453.06,-2453.06,-2453.06,-2453.06,-2453.06,-2453.06,-2453.06,-2453.06,-2453.06,-2453.06,-2453.06,-2453.06,-2453.06,-2453.06,-2453.06,-2453.06,-2453.06,-2453.06,-2453.06,-2453.06,-2453.06,-2453.06,-2453.06,-2453.06,-2453.06,-2453.06,-2453.06,-2453.06,-2453.06,-2453.06,-2453.06,-2453.06,-2453.06,-2453.06,-2453.06,-2453.06,-2453.06,-2453.06,-2453.06,-2453.06,-2453.06,-2453.06,-2453.06,-2453.06,-2453.06,-2453.06,-2453.06,-2453.06,-2453.06,-2453.06,-2453.06,-2453.06,-2453.06,-2453.06,-2453.06,-2453.06,-2453.06],\"type\":\"scatter3d\",\"uid\":\"60b391e5-5473-4172-84ef-1686eefe1a64\"},{\"hoverinfo\":\"skip\",\"line\":{\"color\":\"grey\",\"width\":1},\"mode\":\"lines\",\"showlegend\":false,\"x\":[-347.88,-570.9,-256.14,361.0,576.37,338.44,101.04,22.11,-347.88],\"y\":[451.52,-125.14,-521.08,-422.83,170.92,463.72,412.79,509.5,451.52],\"z\":[-1441.93,-1441.93,-1441.93,-1441.93,-1441.93,-1441.93,-1441.93,-1441.93,-1441.93,-1441.93,-1441.93,-1441.93,-1441.93,-1441.93,-1441.93,-1441.93,-1441.93,-1441.93,-1441.93,-1441.93,-1441.93,-1441.93,-1441.93,-1441.93,-1441.93,-1441.93,-1441.93,-1441.93,-1441.93,-1441.93,-1441.93,-1441.93,-1441.93,-1441.93,-1441.93,-1441.93,-1441.93,-1441.93,-1441.93,-1441.93,-1441.93,-1441.93,-1441.93,-1441.93,-1441.93,-1441.93,-1441.93,-1441.93,-1441.93,-1441.93,-1441.93,-1441.93,-1441.93,-1441.93,-1441.93,-1441.93,-1441.93,-1441.93,-1441.93,-1441.93,-1441.93,-1441.93,-1441.93,-1441.93,-1441.93,-1441.93,-1441.93,-1441.93,-1441.93,-1441.93,-1441.93,-1441.93,-1441.93,-1441.93,-1441.93,-1441.93,-1441.93,-1441.93,-1441.93,-1441.93,-1441.93,-1441.93,-1441.93,-1441.93,-1441.93,-1441.93],\"type\":\"scatter3d\",\"uid\":\"1c4ffb4c-958f-452c-acd3-331488bbf1fa\"},{\"customdata\":[4539.899902,3563.517578,4036.598877,3446.496826,3012.672852,2932.354492,3253.431396,3554.935791,2757.04834,2555.645752,2466.915771,2396.556885,2980.839844,6278.332031,2322.358887,2430.620361,2428.827637,2522.25415,2348.917969,2560.024658,1960.547729,2309.817383,1797.987061,1769.792603,1917.097046,1880.280884,1580.367798,1516.188843,1666.831299,1277.713501,1240.003296,1286.357788,1033.954712,812.980164,1259.831543,587.821106,808.811829,424.043365,635.756653,546.29187,651.227417,1088.476929],\"hoverinfo\":[\"x\",\"y\",\"z\",\"text\"],\"hovertemplate\":\"x: %{x} m, y: %{y} m, z: %{z} m, t: %{customdata} ns\",\"hovertext\":[\"-2160.28 ns\",\"-1992.60 ns\",\"-1973.11 ns\",\"-2003.35 ns\",\"-1969.31 ns\",\"-1952.29 ns\",\"-1867.18 ns\",\"-1850.16 ns\",\"-1973.01 ns\",\"-1938.97 ns\",\"-1921.95 ns\",\"-1904.93 ns\",\"-1853.86 ns\",\"-1928.84 ns\",\"-1799.83 ns\",\"-1923.68 ns\",\"-1906.66 ns\",\"-1872.61 ns\",\"-1812.11 ns\",\"-1830.56 ns\",\"-1820.55 ns\",\"-1810.54 ns\",\"-1841.84 ns\",\"-1831.83 ns\",\"-1791.78 ns\",\"-1852.47 ns\",\"-1818.43 ns\",\"-1784.39 ns\",\"-1780.06 ns\",\"-1763.04 ns\",\"-1729.00 ns\",\"-1694.96 ns\",\"-1718.67 ns\",\"-1701.65 ns\",\"-1684.63 ns\",\"-1718.55 ns\",\"-1701.53 ns\",\"-1684.51 ns\",\"-1667.49 ns\",\"-1650.46 ns\",\"-1633.44 ns\",\"-1700.60 ns\"],\"marker\":{\"color\":[4539.899902,3563.517578,4036.598877,3446.496826,3012.672852,2932.354492,3253.431396,3554.935791,2757.04834,2555.645752,2466.915771,2396.556885,2980.839844,6278.332031,2322.358887,2430.620361,2428.827637,2522.25415,2348.917969,2560.024658,1960.547729,2309.817383,1797.987061,1769.792603,1917.097046,1880.280884,1580.367798,1516.188843,1666.831299,1277.713501,1240.003296,1286.357788,1033.954712,812.980164,1259.831543,587.821106,808.811829,424.043365,635.756653,546.29187,651.227417,1088.476929],\"colorscale\":[[0.0,\"rgb(255,0,0)\"],[0.125,\"rgb(255,111,0)\"],[0.25,\"rgb(255,234,0)\"],[0.375,\"rgb(151,255,0)\"],[0.5,\"rgb(44,255,150)\"],[0.625,\"rgb(0,152,255)\"],[0.75,\"rgb(0,25,255)\"],[0.875,\"rgb(0,0,200)\"],[1.0,\"rgb(150,0,90)\"]],\"size\":4},\"mode\":\"markers\",\"name\":\"current_evt\",\"showlegend\":false,\"x\":[-526.63,-324.39,-279.53,-200.55,-200.55,-200.55,-200.55,-200.55,-77.8,-77.8,-77.8,-77.8,-77.8,-32.96,31.25,46.29,46.29,46.29,57.2,72.37,72.37,72.37,113.19,113.19,113.19,194.34,194.34,194.34,292.9,292.9,292.9,292.9,411.81,411.81,411.81,500.43,500.43,500.43,500.43,500.43,500.43,544.07],\"y\":[-15.6,-93.43,23.17,-74.03,-74.03,-74.03,-74.03,-74.03,-54.33,-54.33,-54.33,-54.33,-54.33,62.44,-72.93,-34.88,-34.88,-34.88,-105.52,-66.6,-66.6,-66.6,-60.47,-60.47,-60.47,-30.92,-30.92,-30.92,5.2,5.2,5.2,5.2,13.0,13.0,13.0,-58.45,-58.45,-58.45,-58.45,-58.45,-58.45,55.89],\"z\":[-2160.28,-1992.6,-1973.11,-2003.35,-1969.31,-1952.29,-1867.18,-1850.16,-1973.01,-1938.97,-1921.95,-1904.93,-1853.86,-1928.84,-1799.83,-1923.68,-1906.66,-1872.61,-1812.11,-1830.56,-1820.55,-1810.54,-1841.84,-1831.83,-1791.78,-1852.47,-1818.43,-1784.39,-1780.06,-1763.04,-1729.0,-1694.96,-1718.67,-1701.65,-1684.63,-1718.55,-1701.53,-1684.51,-1667.49,-1650.46,-1633.44,-1700.6],\"type\":\"scatter3d\",\"uid\":\"328ac112-1a3e-4660-8469-89dbfb1e7896\"}],                        {\"margin\":{\"b\":40,\"l\":20,\"r\":20,\"t\":40},\"scene\":{\"camera\":{\"center\":{\"x\":0,\"y\":0,\"z\":0},\"eye\":{\"x\":0.9848077530122082,\"y\":1.7057370639048863,\"z\":0.34729635533386066},\"up\":{\"x\":0,\"y\":0,\"z\":1}},\"xaxis\":{\"backgroundcolor\":\"whitesmoke\",\"showgrid\":false,\"showspikes\":false,\"showticklabels\":false,\"title\":{\"text\":\"\"}},\"yaxis\":{\"backgroundcolor\":\"whitesmoke\",\"showgrid\":false,\"showspikes\":false,\"showticklabels\":false,\"title\":{\"text\":\"\"}},\"zaxis\":{\"backgroundcolor\":\"whitesmoke\",\"showgrid\":false,\"showspikes\":false,\"showticklabels\":false,\"title\":{\"text\":\"\"}}},\"template\":{\"data\":{\"barpolar\":[{\"marker\":{\"line\":{\"color\":\"#E5ECF6\",\"width\":0.5},\"pattern\":{\"fillmode\":\"overlay\",\"size\":10,\"solidity\":0.2}},\"type\":\"barpolar\"}],\"bar\":[{\"error_x\":{\"color\":\"#2a3f5f\"},\"error_y\":{\"color\":\"#2a3f5f\"},\"marker\":{\"line\":{\"color\":\"#E5ECF6\",\"width\":0.5},\"pattern\":{\"fillmode\":\"overlay\",\"size\":10,\"solidity\":0.2}},\"type\":\"bar\"}],\"carpet\":[{\"aaxis\":{\"endlinecolor\":\"#2a3f5f\",\"gridcolor\":\"white\",\"linecolor\":\"white\",\"minorgridcolor\":\"white\",\"startlinecolor\":\"#2a3f5f\"},\"baxis\":{\"endlinecolor\":\"#2a3f5f\",\"gridcolor\":\"white\",\"linecolor\":\"white\",\"minorgridcolor\":\"white\",\"startlinecolor\":\"#2a3f5f\"},\"type\":\"carpet\"}],\"choropleth\":[{\"colorbar\":{\"outlinewidth\":0,\"ticks\":\"\"},\"type\":\"choropleth\"}],\"contourcarpet\":[{\"colorbar\":{\"outlinewidth\":0,\"ticks\":\"\"},\"type\":\"contourcarpet\"}],\"contour\":[{\"colorbar\":{\"outlinewidth\":0,\"ticks\":\"\"},\"colorscale\":[[0.0,\"#0d0887\"],[0.1111111111111111,\"#46039f\"],[0.2222222222222222,\"#7201a8\"],[0.3333333333333333,\"#9c179e\"],[0.4444444444444444,\"#bd3786\"],[0.5555555555555556,\"#d8576b\"],[0.6666666666666666,\"#ed7953\"],[0.7777777777777778,\"#fb9f3a\"],[0.8888888888888888,\"#fdca26\"],[1.0,\"#f0f921\"]],\"type\":\"contour\"}],\"heatmapgl\":[{\"colorbar\":{\"outlinewidth\":0,\"ticks\":\"\"},\"colorscale\":[[0.0,\"#0d0887\"],[0.1111111111111111,\"#46039f\"],[0.2222222222222222,\"#7201a8\"],[0.3333333333333333,\"#9c179e\"],[0.4444444444444444,\"#bd3786\"],[0.5555555555555556,\"#d8576b\"],[0.6666666666666666,\"#ed7953\"],[0.7777777777777778,\"#fb9f3a\"],[0.8888888888888888,\"#fdca26\"],[1.0,\"#f0f921\"]],\"type\":\"heatmapgl\"}],\"heatmap\":[{\"colorbar\":{\"outlinewidth\":0,\"ticks\":\"\"},\"colorscale\":[[0.0,\"#0d0887\"],[0.1111111111111111,\"#46039f\"],[0.2222222222222222,\"#7201a8\"],[0.3333333333333333,\"#9c179e\"],[0.4444444444444444,\"#bd3786\"],[0.5555555555555556,\"#d8576b\"],[0.6666666666666666,\"#ed7953\"],[0.7777777777777778,\"#fb9f3a\"],[0.8888888888888888,\"#fdca26\"],[1.0,\"#f0f921\"]],\"type\":\"heatmap\"}],\"histogram2dcontour\":[{\"colorbar\":{\"outlinewidth\":0,\"ticks\":\"\"},\"colorscale\":[[0.0,\"#0d0887\"],[0.1111111111111111,\"#46039f\"],[0.2222222222222222,\"#7201a8\"],[0.3333333333333333,\"#9c179e\"],[0.4444444444444444,\"#bd3786\"],[0.5555555555555556,\"#d8576b\"],[0.6666666666666666,\"#ed7953\"],[0.7777777777777778,\"#fb9f3a\"],[0.8888888888888888,\"#fdca26\"],[1.0,\"#f0f921\"]],\"type\":\"histogram2dcontour\"}],\"histogram2d\":[{\"colorbar\":{\"outlinewidth\":0,\"ticks\":\"\"},\"colorscale\":[[0.0,\"#0d0887\"],[0.1111111111111111,\"#46039f\"],[0.2222222222222222,\"#7201a8\"],[0.3333333333333333,\"#9c179e\"],[0.4444444444444444,\"#bd3786\"],[0.5555555555555556,\"#d8576b\"],[0.6666666666666666,\"#ed7953\"],[0.7777777777777778,\"#fb9f3a\"],[0.8888888888888888,\"#fdca26\"],[1.0,\"#f0f921\"]],\"type\":\"histogram2d\"}],\"histogram\":[{\"marker\":{\"pattern\":{\"fillmode\":\"overlay\",\"size\":10,\"solidity\":0.2}},\"type\":\"histogram\"}],\"mesh3d\":[{\"colorbar\":{\"outlinewidth\":0,\"ticks\":\"\"},\"type\":\"mesh3d\"}],\"parcoords\":[{\"line\":{\"colorbar\":{\"outlinewidth\":0,\"ticks\":\"\"}},\"type\":\"parcoords\"}],\"pie\":[{\"automargin\":true,\"type\":\"pie\"}],\"scatter3d\":[{\"line\":{\"colorbar\":{\"outlinewidth\":0,\"ticks\":\"\"}},\"marker\":{\"colorbar\":{\"outlinewidth\":0,\"ticks\":\"\"}},\"type\":\"scatter3d\"}],\"scattercarpet\":[{\"marker\":{\"colorbar\":{\"outlinewidth\":0,\"ticks\":\"\"}},\"type\":\"scattercarpet\"}],\"scattergeo\":[{\"marker\":{\"colorbar\":{\"outlinewidth\":0,\"ticks\":\"\"}},\"type\":\"scattergeo\"}],\"scattergl\":[{\"marker\":{\"colorbar\":{\"outlinewidth\":0,\"ticks\":\"\"}},\"type\":\"scattergl\"}],\"scattermapbox\":[{\"marker\":{\"colorbar\":{\"outlinewidth\":0,\"ticks\":\"\"}},\"type\":\"scattermapbox\"}],\"scatterpolargl\":[{\"marker\":{\"colorbar\":{\"outlinewidth\":0,\"ticks\":\"\"}},\"type\":\"scatterpolargl\"}],\"scatterpolar\":[{\"marker\":{\"colorbar\":{\"outlinewidth\":0,\"ticks\":\"\"}},\"type\":\"scatterpolar\"}],\"scatter\":[{\"fillpattern\":{\"fillmode\":\"overlay\",\"size\":10,\"solidity\":0.2},\"type\":\"scatter\"}],\"scatterternary\":[{\"marker\":{\"colorbar\":{\"outlinewidth\":0,\"ticks\":\"\"}},\"type\":\"scatterternary\"}],\"surface\":[{\"colorbar\":{\"outlinewidth\":0,\"ticks\":\"\"},\"colorscale\":[[0.0,\"#0d0887\"],[0.1111111111111111,\"#46039f\"],[0.2222222222222222,\"#7201a8\"],[0.3333333333333333,\"#9c179e\"],[0.4444444444444444,\"#bd3786\"],[0.5555555555555556,\"#d8576b\"],[0.6666666666666666,\"#ed7953\"],[0.7777777777777778,\"#fb9f3a\"],[0.8888888888888888,\"#fdca26\"],[1.0,\"#f0f921\"]],\"type\":\"surface\"}],\"table\":[{\"cells\":{\"fill\":{\"color\":\"#EBF0F8\"},\"line\":{\"color\":\"white\"}},\"header\":{\"fill\":{\"color\":\"#C8D4E3\"},\"line\":{\"color\":\"white\"}},\"type\":\"table\"}]},\"layout\":{\"annotationdefaults\":{\"arrowcolor\":\"#2a3f5f\",\"arrowhead\":0,\"arrowwidth\":1},\"autotypenumbers\":\"strict\",\"coloraxis\":{\"colorbar\":{\"outlinewidth\":0,\"ticks\":\"\"}},\"colorscale\":{\"diverging\":[[0,\"#8e0152\"],[0.1,\"#c51b7d\"],[0.2,\"#de77ae\"],[0.3,\"#f1b6da\"],[0.4,\"#fde0ef\"],[0.5,\"#f7f7f7\"],[0.6,\"#e6f5d0\"],[0.7,\"#b8e186\"],[0.8,\"#7fbc41\"],[0.9,\"#4d9221\"],[1,\"#276419\"]],\"sequential\":[[0.0,\"#0d0887\"],[0.1111111111111111,\"#46039f\"],[0.2222222222222222,\"#7201a8\"],[0.3333333333333333,\"#9c179e\"],[0.4444444444444444,\"#bd3786\"],[0.5555555555555556,\"#d8576b\"],[0.6666666666666666,\"#ed7953\"],[0.7777777777777778,\"#fb9f3a\"],[0.8888888888888888,\"#fdca26\"],[1.0,\"#f0f921\"]],\"sequentialminus\":[[0.0,\"#0d0887\"],[0.1111111111111111,\"#46039f\"],[0.2222222222222222,\"#7201a8\"],[0.3333333333333333,\"#9c179e\"],[0.4444444444444444,\"#bd3786\"],[0.5555555555555556,\"#d8576b\"],[0.6666666666666666,\"#ed7953\"],[0.7777777777777778,\"#fb9f3a\"],[0.8888888888888888,\"#fdca26\"],[1.0,\"#f0f921\"]]},\"colorway\":[\"#636efa\",\"#EF553B\",\"#00cc96\",\"#ab63fa\",\"#FFA15A\",\"#19d3f3\",\"#FF6692\",\"#B6E880\",\"#FF97FF\",\"#FECB52\"],\"font\":{\"color\":\"#2a3f5f\"},\"geo\":{\"bgcolor\":\"white\",\"lakecolor\":\"white\",\"landcolor\":\"#E5ECF6\",\"showlakes\":true,\"showland\":true,\"subunitcolor\":\"white\"},\"hoverlabel\":{\"align\":\"left\"},\"hovermode\":\"closest\",\"mapbox\":{\"style\":\"light\"},\"paper_bgcolor\":\"white\",\"plot_bgcolor\":\"#E5ECF6\",\"polar\":{\"angularaxis\":{\"gridcolor\":\"white\",\"linecolor\":\"white\",\"ticks\":\"\"},\"bgcolor\":\"#E5ECF6\",\"radialaxis\":{\"gridcolor\":\"white\",\"linecolor\":\"white\",\"ticks\":\"\"}},\"scene\":{\"xaxis\":{\"backgroundcolor\":\"#E5ECF6\",\"gridcolor\":\"white\",\"gridwidth\":2,\"linecolor\":\"white\",\"showbackground\":true,\"ticks\":\"\",\"zerolinecolor\":\"white\"},\"yaxis\":{\"backgroundcolor\":\"#E5ECF6\",\"gridcolor\":\"white\",\"gridwidth\":2,\"linecolor\":\"white\",\"showbackground\":true,\"ticks\":\"\",\"zerolinecolor\":\"white\"},\"zaxis\":{\"backgroundcolor\":\"#E5ECF6\",\"gridcolor\":\"white\",\"gridwidth\":2,\"linecolor\":\"white\",\"showbackground\":true,\"ticks\":\"\",\"zerolinecolor\":\"white\"}},\"shapedefaults\":{\"line\":{\"color\":\"#2a3f5f\"}},\"ternary\":{\"aaxis\":{\"gridcolor\":\"white\",\"linecolor\":\"white\",\"ticks\":\"\"},\"baxis\":{\"gridcolor\":\"white\",\"linecolor\":\"white\",\"ticks\":\"\"},\"bgcolor\":\"#E5ECF6\",\"caxis\":{\"gridcolor\":\"white\",\"linecolor\":\"white\",\"ticks\":\"\"}},\"title\":{\"x\":0.05},\"xaxis\":{\"automargin\":true,\"gridcolor\":\"white\",\"linecolor\":\"white\",\"ticks\":\"\",\"title\":{\"standoff\":15},\"zerolinecolor\":\"white\",\"zerolinewidth\":2},\"yaxis\":{\"automargin\":true,\"gridcolor\":\"white\",\"linecolor\":\"white\",\"ticks\":\"\",\"title\":{\"standoff\":15},\"zerolinecolor\":\"white\",\"zerolinewidth\":2}}}},                        {\"responsive\": true}                    ).then(function(){\n",
              "                            \n",
              "var gd = document.getElementById('049f9e72-c525-4235-b15c-1d0f30dbea8f');\n",
              "var x = new MutationObserver(function (mutations, observer) {{\n",
              "        var display = window.getComputedStyle(gd).display;\n",
              "        if (!display || display === 'none') {{\n",
              "            console.log([gd, 'removed!']);\n",
              "            Plotly.purge(gd);\n",
              "            observer.disconnect();\n",
              "        }}\n",
              "}});\n",
              "\n",
              "// Listen for the removal of the full notebook cells\n",
              "var notebookContainer = gd.closest('#notebook-container');\n",
              "if (notebookContainer) {{\n",
              "    x.observe(notebookContainer, {childList: true});\n",
              "}}\n",
              "\n",
              "// Listen for the clearing of the current output cell\n",
              "var outputEl = gd.closest('.output');\n",
              "if (outputEl) {{\n",
              "    x.observe(outputEl, {childList: true});\n",
              "}}\n",
              "\n",
              "                        })                };                            </script>        </div>\n",
              "</body>\n",
              "</html>"
            ]
          },
          "metadata": {}
        }
      ],
      "source": [
        "from src.plot_event import *\n",
        "\n",
        "fig = display_evt( evt )\n",
        "fig.show()"
      ]
    },
    {
      "cell_type": "markdown",
      "metadata": {
        "id": "9lrdE-HvO6h1"
      },
      "source": [
        "In the event displays we've just looked at, redder hits occur earlier and greener hits occur after. Given this information, can you figure out in what direction the neutrino was going?"
      ]
    },
    {
      "cell_type": "markdown",
      "metadata": {
        "id": "tTFcyBTRO6h2"
      },
      "source": [
        "## 2: Neutrino directions:"
      ]
    },
    {
      "cell_type": "markdown",
      "metadata": {
        "id": "bdEf4bH8O6h2"
      },
      "source": [
        "Neutrinos travel towards our detector from every direction in the sky. We describe directions in the sky in terms of two angles, the *zenith* and the *azimuth*.\n",
        "\n",
        "The *zenith* describes the angle with respect to up, and takes values betwen 0 and 180. `zenith = 0` when the neutrino is traveling upwards, and `zenith = 180` when the neutrino is traveling down into the earth.  \n",
        "\n",
        "*Azimuth* then describes the rotation of the travel direction around the up direction. We usually choose a reference point to be `azimuth = 0`. In IceCube, we use the Greenwich Meridian.\n",
        "\n",
        "If you've seen them before, these are just like the angles in spherical coordinates, θ, ϕ!\n",
        "\n",
        "![](https://github.com/Harvard-Neutrino/IceCube_MasterClass_at_Harvard2025/blob/main/resources/images/zen_azi.png?raw=1)"
      ]
    },
    {
      "cell_type": "markdown",
      "metadata": {
        "id": "gn62hXBTO6h2"
      },
      "source": [
        "We've written a game below to see how well you can do. Execute the cell below (`shift return`) to start the game.\n",
        "\n",
        "You should see a similar event display, along with a big arrow, which represents your guess for the direction of the neutrino. Adjust this arrow using the zenith and azimuth angle sliders provided. Once you are happy with your guess, hit the submit button below the event display. The event display will be refreshed to show the actual true path of the neutrino, and how many degrees you were off the actual path will be printed below. Try to be as close as possible to the actual path, and minimize the degrees you were off by!\n",
        "\n",
        "After submitting a guess, you can return to the game by clicking the Return button. You can then try to guess again on the same event, or try your hand at a different one by opening the event_id dropdown menu and selecting a different one."
      ]
    },
    {
      "cell_type": "code",
      "execution_count": 6,
      "metadata": {
        "id": "Ubwgz52FO6h2",
        "outputId": "f0b8ee66-08c4-4689-9422-a7248e1740f4",
        "colab": {
          "base_uri": "https://localhost:8080/",
          "height": 670,
          "referenced_widgets": [
            "f460ba4ce81443e3b4174e96b5828f9c",
            "4bf3188064974373a6e2598c215d93d0",
            "bed4a25581514fa4bc5aaa4087f5beb3",
            "4b4ea8d509884511af87258349cdbde6",
            "a2cccb588b114b958e9b554b72365e97",
            "0508c15032bd47ab9addbec4b7760913",
            "c9a18ff52c864da399f0f618da3572b7",
            "d5b9725f7dec4d2f9b480890f7692fce",
            "13c54d0b27044a1997fa3d219bf7584e",
            "b62ddfbcda3645d693a2e1de2425bc88",
            "4f68b14704944cfd9bf2d1b7cce92519",
            "fc59d975802f4cad8ddaada9426147d3",
            "bae7fed79dae4b50ae525e428e7efc32",
            "7d3a880f4827431aa451aa4321a0acd7",
            "afcbe23bb08b4ddfb328607162a67ad2",
            "914de63e3def44b3b938c50d8a7dd4cf"
          ]
        }
      },
      "outputs": [
        {
          "output_type": "display_data",
          "data": {
            "text/plain": [
              "interactive(children=(Dropdown(description='event_id', options=('1', '2', '3', '4', '5', '6', '7', '8', '9', '…"
            ],
            "application/vnd.jupyter.widget-view+json": {
              "version_major": 2,
              "version_minor": 0,
              "model_id": "f460ba4ce81443e3b4174e96b5828f9c"
            }
          },
          "metadata": {
            "application/vnd.jupyter.widget-view+json": {
              "colab": {
                "custom_widget_manager": {
                  "url": "https://ssl.gstatic.com/colaboratory-static/widgets/colab-cdn-widget-manager/2b70e893a8ba7c0f/manager.min.js"
                }
              }
            }
          }
        },
        {
          "output_type": "display_data",
          "data": {
            "text/plain": [
              "Button(description='Submit', style=ButtonStyle())"
            ],
            "application/vnd.jupyter.widget-view+json": {
              "version_major": 2,
              "version_minor": 0,
              "model_id": "914de63e3def44b3b938c50d8a7dd4cf"
            }
          },
          "metadata": {
            "application/vnd.jupyter.widget-view+json": {
              "colab": {
                "custom_widget_manager": {
                  "url": "https://ssl.gstatic.com/colaboratory-static/widgets/colab-cdn-widget-manager/2b70e893a8ba7c0f/manager.min.js"
                }
              }
            }
          }
        }
      ],
      "source": [
        "from src.reco_game import reco_game\n",
        "reco_game( tracks )"
      ]
    },
    {
      "cell_type": "markdown",
      "metadata": {
        "id": "klbiPZY_O6h2"
      },
      "source": [
        "## 3: Can we use computers to do a better job at figuring out the direction?"
      ]
    },
    {
      "cell_type": "markdown",
      "metadata": {
        "id": "xCm5UdN-O6h2"
      },
      "source": [
        "When we try to figure out the direction in the game above, what we're actually doing is trying to get the direction arrow to go as close to through the middle of all the hits as possible.\n",
        "\n",
        "We can quantify this sense of \"how good\" with some math! Imagine drawing straight lines from each hit to the arrow, like in the image below:\n",
        "\n",
        "![](https://github.com/Harvard-Neutrino/IceCube_MasterClass_at_Harvard2025/blob/main/resources/images/linefit.png?raw=1)\n",
        "\n",
        "the more of these lines are shorter, the better our guess of the direction. We can calculate the length of each line using the Pythagorean theorem and some vector math:\n",
        "\n",
        "![](https://github.com/Harvard-Neutrino/IceCube_MasterClass_at_Harvard2025/blob/main/resources/images/linefit_math.png?raw=1)\n",
        "\n",
        "We can also write a *function* in python to do this calculation for us! Just like in math, this *function* takes in some inputs (the direction vector and the hit) and produces one output (the perpendicular distance).\n",
        "\n",
        "(One detail we haven't mentioned is that in order to specify the direction arrow, we've also had to specify a `pivot_point`. This is just like defining a line by `y = mx + b` -- you need both a slope (the direction) and an intersection point (the pivot). See `calc_center_of_gravity` below for how we calculate the pivot! Can you understand how it works?)"
      ]
    },
    {
      "cell_type": "code",
      "execution_count": 7,
      "metadata": {
        "id": "BL3qGPtgO6h2"
      },
      "outputs": [],
      "source": [
        "\"\"\"\n",
        "This function uses the equation above to calculate the perpendicular distance between a single point and a pivot.\n",
        "\"\"\"\n",
        "def calc_perpendicular_distance( hit_pt, dir_vec, pivot_pt ):\n",
        "    dist_vec = hit_pt - pivot_pt\n",
        "    return np.sqrt( np.dot( dist_vec, dist_vec ) -  np.dot( dist_vec, dir_vec )**2 )\n",
        "\n",
        "\n",
        "\"\"\"\n",
        "This function calculates a pivot point given a set of hits.\n",
        "\"\"\"\n",
        "def calc_center_of_gravity( hits ):\n",
        "    return hits.mean(axis=0)"
      ]
    },
    {
      "cell_type": "markdown",
      "metadata": {
        "id": "v9mKnxOkO6h2"
      },
      "source": [
        "Bad guesses should result in more lines being longer, ie. in a larger *mean* ( or average ) perpendicular distance. We can also calculate this with a function!"
      ]
    },
    {
      "cell_type": "code",
      "execution_count": 8,
      "metadata": {
        "id": "42pLtzjMO6h3"
      },
      "outputs": [],
      "source": [
        "from src.direction_utils import *\n",
        "\n",
        "\"\"\"\n",
        "Given a set of hits and a pair of guess angles, calculate the mean of all the perpendicular distances!\n",
        "\"\"\"\n",
        "def calc_mean_perpendicular_distance( dir_angles, hit_pts, pivot_pt ):\n",
        "\n",
        "    dir_vec = get_direction_vector_from_angles( dir_angles[0], dir_angles[1] )\n",
        "    return np.mean([ calc_perpendicular_distance(hit, dir_vec, pivot_pt) for hit in hit_pts ])"
      ]
    },
    {
      "cell_type": "markdown",
      "metadata": {
        "id": "RL3iv4f-O6h3"
      },
      "source": [
        "Let's check that bad guesses really result in a larger mean perpendicular distance. Adjust the values of the zenith `zen` and azimuth `azi` angles below and see how the mean distance changes. We'll also plot the direction vector again for a visual check on the 'goodness' of the guess.\n",
        "\n",
        "Does the mean distance calculation help you refine your guess more easily?"
      ]
    },
    {
      "cell_type": "code",
      "execution_count": 9,
      "metadata": {
        "id": "3XT-2poKO6h3",
        "outputId": "17c4e45c-3442-4e15-e55c-8f2675518170",
        "colab": {
          "base_uri": "https://localhost:8080/",
          "height": 659,
          "referenced_widgets": [
            "edf9d7335c5d414b9c20c15d76eeef66",
            "d732b26953104f64b003792fb7026b18",
            "df8f1a90a2674d2f8182e84718d3320a",
            "4992580e6e144becb2356e2ab520cdb2",
            "02c29b6eeb8344b187625dc421fa2901",
            "2d9f8f540f09479f9844e8fc174554d8",
            "8a41a8e2b7f84ec5bc3a36720c7a5f9d",
            "316d9b93b421479fa48fe896aa96ea31",
            "c195fc76ac424fe2834ceeb2be1c949f",
            "4d9ba153ec00490b98cb4be883fc4f8a",
            "6dc30b5ae6844f1a848fc2bf7be620be",
            "96b7c94a4fa242e0a975e059ee132697",
            "d5bd6ecb6d224b138d774a842e8fbb83",
            "efa4ee9644ed49c5b014bd33c3384aa1",
            "970382a1936c4ff8bcf3b0effb392e8f",
            "2bc0c89a22464284b02335cb38a66761",
            "a4286477a556461aa7c43f54e15b5dc0",
            "0fe15c18c8854fea969c920e16b72d82",
            "9dc18661bbc842aabc21c25a618ea885",
            "b4f0551edec2426d8f5cd3f652dc558b",
            "8f988b62464c4836b00f4d477c404b1f",
            "43773c257857482194274df0e3601701",
            "9070f21fb364444a8e2b629d3ad5e589",
            "15f1d914887245739b498f96a6edf179",
            "4fccb6b45bce41988155724f40574ceb",
            "de3cfc1b65a54bc58b750f92d4b7e417",
            "c16d10e28d08493cad6e07e9f69a2b80",
            "30f1698a2c1349e59daa155716df3798",
            "3d26fb9eb0b248fca31fd1119ccd6980"
          ]
        }
      },
      "outputs": [
        {
          "output_type": "display_data",
          "data": {
            "text/html": [
              "<html>\n",
              "<head><meta charset=\"utf-8\" /></head>\n",
              "<body>\n",
              "    <div>            <script src=\"https://cdnjs.cloudflare.com/ajax/libs/mathjax/2.7.5/MathJax.js?config=TeX-AMS-MML_SVG\"></script><script type=\"text/javascript\">if (window.MathJax && window.MathJax.Hub && window.MathJax.Hub.Config) {window.MathJax.Hub.Config({SVG: {font: \"STIX-Web\"}});}</script>                <script type=\"text/javascript\">window.PlotlyConfig = {MathJaxConfig: 'local'};</script>\n",
              "        <script charset=\"utf-8\" src=\"https://cdn.plot.ly/plotly-2.35.2.min.js\"></script>                <div id=\"082dd1b8-dbc4-4be8-9d37-6a9185763c76\" class=\"plotly-graph-div\" style=\"height:525px; width:100%;\"></div>            <script type=\"text/javascript\">                                    window.PLOTLYENV=window.PLOTLYENV || {};                                    if (document.getElementById(\"082dd1b8-dbc4-4be8-9d37-6a9185763c76\")) {                    Plotly.newPlot(                        \"082dd1b8-dbc4-4be8-9d37-6a9185763c76\",                        [{\"hoverinfo\":\"skip\",\"line\":{\"color\":\"lightgrey\",\"width\":1},\"mode\":\"lines\",\"showlegend\":false,\"x\":[-256.14,-256.14],\"y\":[-521.08,-521.08],\"z\":[-1441.93,-2453.06],\"type\":\"scatter3d\",\"uid\":\"c743b26a-8253-4eea-b84b-32b13875acad\"},{\"hoverinfo\":\"skip\",\"line\":{\"color\":\"lightgrey\",\"width\":1},\"mode\":\"lines\",\"showlegend\":false,\"x\":[-132.8,-132.8],\"y\":[-501.45,-501.45],\"z\":[-1441.93,-2453.06],\"type\":\"scatter3d\",\"uid\":\"2f8c164e-d881-4da6-acf1-c1b14e4d3b88\"},{\"hoverinfo\":\"skip\",\"line\":{\"color\":\"lightgrey\",\"width\":1},\"mode\":\"lines\",\"showlegend\":false,\"x\":[-9.13,-9.13],\"y\":[-481.74,-481.74],\"z\":[-1441.93,-2453.06],\"type\":\"scatter3d\",\"uid\":\"758d35bb-58f5-40f7-a777-42f5b6bae158\"},{\"hoverinfo\":\"skip\",\"line\":{\"color\":\"lightgrey\",\"width\":1},\"mode\":\"lines\",\"showlegend\":false,\"x\":[114.39,114.39],\"y\":[-461.99,-461.99],\"z\":[-1441.93,-2453.06],\"type\":\"scatter3d\",\"uid\":\"079c5b6f-3f69-4151-aad2-bb7f769dcc3a\"},{\"hoverinfo\":\"skip\",\"line\":{\"color\":\"lightgrey\",\"width\":1},\"mode\":\"lines\",\"showlegend\":false,\"x\":[237.78,237.78],\"y\":[-442.42,-442.42],\"z\":[-1441.93,-2453.06],\"type\":\"scatter3d\",\"uid\":\"00a2c27e-8f15-456d-8e1e-0c46aaf6e367\"},{\"hoverinfo\":\"skip\",\"line\":{\"color\":\"lightgrey\",\"width\":1},\"mode\":\"lines\",\"showlegend\":false,\"x\":[361.0,361.0],\"y\":[-422.83,-422.83],\"z\":[-1441.93,-2453.06],\"type\":\"scatter3d\",\"uid\":\"f5a79fe8-ab09-4f8f-8321-e0bd0d4a6e3e\"},{\"hoverinfo\":\"skip\",\"line\":{\"color\":\"lightgrey\",\"width\":1},\"mode\":\"lines\",\"showlegend\":false,\"x\":[-334.8,-334.8],\"y\":[-424.5,-424.5],\"z\":[-1441.93,-2453.06],\"type\":\"scatter3d\",\"uid\":\"4801a067-0477-45ed-896c-a364bd84ea17\"},{\"hoverinfo\":\"skip\",\"line\":{\"color\":\"lightgrey\",\"width\":1},\"mode\":\"lines\",\"showlegend\":false,\"x\":[-211.35,-211.35],\"y\":[-404.48,-404.48],\"z\":[-1441.93,-2453.06],\"type\":\"scatter3d\",\"uid\":\"8e9a8a46-85ab-43ac-9cbd-8715bcff988d\"},{\"hoverinfo\":\"skip\",\"line\":{\"color\":\"lightgrey\",\"width\":1},\"mode\":\"lines\",\"showlegend\":false,\"x\":[-88.05,-88.05],\"y\":[-384.3,-384.3],\"z\":[-1441.93,-2453.06],\"type\":\"scatter3d\",\"uid\":\"81b5f391-2fba-43f3-a8d7-70b9b7d99382\"},{\"hoverinfo\":\"skip\",\"line\":{\"color\":\"lightgrey\",\"width\":1},\"mode\":\"lines\",\"showlegend\":false,\"x\":[35.54,35.54],\"y\":[-364.83,-364.83],\"z\":[-1441.93,-2453.06],\"type\":\"scatter3d\",\"uid\":\"c4156090-962d-4948-98b5-91213e492fad\"},{\"hoverinfo\":\"skip\",\"line\":{\"color\":\"lightgrey\",\"width\":1},\"mode\":\"lines\",\"showlegend\":false,\"x\":[158.94,158.94],\"y\":[-345.23,-345.23],\"z\":[-1441.93,-2453.06],\"type\":\"scatter3d\",\"uid\":\"02a3662b-b44e-41a3-9f5d-889b09db088d\"},{\"hoverinfo\":\"skip\",\"line\":{\"color\":\"lightgrey\",\"width\":1},\"mode\":\"lines\",\"showlegend\":false,\"x\":[282.18,282.18],\"y\":[-325.74,-325.74],\"z\":[-1441.93,-2453.06],\"type\":\"scatter3d\",\"uid\":\"7f10243a-8c7a-46c4-ac01-01f342c3eabb\"},{\"hoverinfo\":\"skip\",\"line\":{\"color\":\"lightgrey\",\"width\":1},\"mode\":\"lines\",\"showlegend\":false,\"x\":[405.83,405.83],\"y\":[-306.38,-306.38],\"z\":[-1441.93,-2453.06],\"type\":\"scatter3d\",\"uid\":\"e454c511-6252-4307-a6d6-935c4e7786e1\"},{\"hoverinfo\":\"skip\",\"line\":{\"color\":\"lightgrey\",\"width\":1},\"mode\":\"lines\",\"showlegend\":false,\"x\":[-413.46,-413.46],\"y\":[-327.27,-327.27],\"z\":[-1441.93,-2453.06],\"type\":\"scatter3d\",\"uid\":\"36209767-2156-42f4-9e75-b41b8677cfcc\"},{\"hoverinfo\":\"skip\",\"line\":{\"color\":\"lightgrey\",\"width\":1},\"mode\":\"lines\",\"showlegend\":false,\"x\":[-290.66,-290.66],\"y\":[-307.38,-307.38],\"z\":[-1441.93,-2453.06],\"type\":\"scatter3d\",\"uid\":\"93ac5315-7141-4034-be9b-84fac38ed784\"},{\"hoverinfo\":\"skip\",\"line\":{\"color\":\"lightgrey\",\"width\":1},\"mode\":\"lines\",\"showlegend\":false,\"x\":[-166.4,-166.4],\"y\":[-287.79,-287.79],\"z\":[-1441.93,-2453.06],\"type\":\"scatter3d\",\"uid\":\"53ccfd02-ad36-4b6b-a5d5-d5711ae1f821\"},{\"hoverinfo\":\"skip\",\"line\":{\"color\":\"lightgrey\",\"width\":1},\"mode\":\"lines\",\"showlegend\":false,\"x\":[-43.27,-43.27],\"y\":[-267.52,-267.52],\"z\":[-1441.93,-2453.06],\"type\":\"scatter3d\",\"uid\":\"ef6a8253-7437-4749-bb08-c1510375e189\"},{\"hoverinfo\":\"skip\",\"line\":{\"color\":\"lightgrey\",\"width\":1},\"mode\":\"lines\",\"showlegend\":false,\"x\":[79.41,79.41],\"y\":[-248.24,-248.24],\"z\":[-1441.93,-2453.06],\"type\":\"scatter3d\",\"uid\":\"04fd439f-ce8c-4701-b687-5286891dd924\"},{\"hoverinfo\":\"skip\",\"line\":{\"color\":\"lightgrey\",\"width\":1},\"mode\":\"lines\",\"showlegend\":false,\"x\":[210.47,210.47],\"y\":[-209.77,-209.77],\"z\":[-1441.93,-2453.06],\"type\":\"scatter3d\",\"uid\":\"7d0310f2-0b49-4a93-b5c3-43a1125a6d84\"},{\"hoverinfo\":\"skip\",\"line\":{\"color\":\"lightgrey\",\"width\":1},\"mode\":\"lines\",\"showlegend\":false,\"x\":[326.85,326.85],\"y\":[-209.07,-209.07],\"z\":[-1441.93,-2453.06],\"type\":\"scatter3d\",\"uid\":\"6bfe6654-f753-4458-8987-af9d07d35f4d\"},{\"hoverinfo\":\"skip\",\"line\":{\"color\":\"lightgrey\",\"width\":1},\"mode\":\"lines\",\"showlegend\":false,\"x\":[443.55,443.55],\"y\":[-194.16,-194.16],\"z\":[-1441.93,-2453.06],\"type\":\"scatter3d\",\"uid\":\"e963f470-bca2-47b2-8f94-98595ffcd1d5\"},{\"hoverinfo\":\"skip\",\"line\":{\"color\":\"lightgrey\",\"width\":1},\"mode\":\"lines\",\"showlegend\":false,\"x\":[-492.43,-492.43],\"y\":[-230.16,-230.16],\"z\":[-1441.93,-2453.06],\"type\":\"scatter3d\",\"uid\":\"f06c8dce-b027-4ab6-aaac-675b58c13950\"},{\"hoverinfo\":\"skip\",\"line\":{\"color\":\"lightgrey\",\"width\":1},\"mode\":\"lines\",\"showlegend\":false,\"x\":[-368.93,-368.93],\"y\":[-210.23,-210.23],\"z\":[-1441.93,-2453.06],\"type\":\"scatter3d\",\"uid\":\"b94459d0-f92c-430d-aa16-dfb261886da1\"},{\"hoverinfo\":\"skip\",\"line\":{\"color\":\"lightgrey\",\"width\":1},\"mode\":\"lines\",\"showlegend\":false,\"x\":[-245.65,-245.65],\"y\":[-190.49,-190.49],\"z\":[-1441.93,-2453.06],\"type\":\"scatter3d\",\"uid\":\"03ffca98-1772-4544-98d6-bc0eb14de5e5\"},{\"hoverinfo\":\"skip\",\"line\":{\"color\":\"lightgrey\",\"width\":1},\"mode\":\"lines\",\"showlegend\":false,\"x\":[-121.77,-121.77],\"y\":[-171.03,-171.03],\"z\":[-1441.93,-2453.06],\"type\":\"scatter3d\",\"uid\":\"aad2306b-ccf3-467a-9708-da2fc74bd081\"},{\"hoverinfo\":\"skip\",\"line\":{\"color\":\"lightgrey\",\"width\":1},\"mode\":\"lines\",\"showlegend\":false,\"x\":[1.71,1.71],\"y\":[-150.63,-150.63],\"z\":[-1441.93,-2453.06],\"type\":\"scatter3d\",\"uid\":\"df4b6646-e893-49be-aa42-98e1b795a8d1\"},{\"hoverinfo\":\"skip\",\"line\":{\"color\":\"lightgrey\",\"width\":1},\"mode\":\"lines\",\"showlegend\":false,\"x\":[124.97,124.97],\"y\":[-131.25,-131.25],\"z\":[-1441.93,-2453.06],\"type\":\"scatter3d\",\"uid\":\"ba362a17-8eae-407f-b1f1-9d2438947bd2\"},{\"hoverinfo\":\"skip\",\"line\":{\"color\":\"lightgrey\",\"width\":1},\"mode\":\"lines\",\"showlegend\":false,\"x\":[248.15,248.15],\"y\":[-111.87,-111.87],\"z\":[-1441.93,-2453.06],\"type\":\"scatter3d\",\"uid\":\"7dd73de6-f6de-4108-bf04-dadf4c595481\"},{\"hoverinfo\":\"skip\",\"line\":{\"color\":\"lightgrey\",\"width\":1},\"mode\":\"lines\",\"showlegend\":false,\"x\":[371.56,371.56],\"y\":[-92.18,-92.18],\"z\":[-1441.93,-2453.06],\"type\":\"scatter3d\",\"uid\":\"72341fb6-6c8c-47f3-aa96-f52dcf0e9382\"},{\"hoverinfo\":\"skip\",\"line\":{\"color\":\"lightgrey\",\"width\":1},\"mode\":\"lines\",\"showlegend\":false,\"x\":[500.43,500.43],\"y\":[-58.45,-58.45],\"z\":[-1441.93,-2453.06],\"type\":\"scatter3d\",\"uid\":\"39cf759d-fd15-4cbf-be0c-57983c6fac79\"},{\"hoverinfo\":\"skip\",\"line\":{\"color\":\"lightgrey\",\"width\":1},\"mode\":\"lines\",\"showlegend\":false,\"x\":[-570.9,-570.9],\"y\":[-125.14,-125.14],\"z\":[-1441.93,-2453.06],\"type\":\"scatter3d\",\"uid\":\"ef021328-32b4-49b7-826b-eefbbf8c2db8\"},{\"hoverinfo\":\"skip\",\"line\":{\"color\":\"lightgrey\",\"width\":1},\"mode\":\"lines\",\"showlegend\":false,\"x\":[-447.74,-447.74],\"y\":[-113.13,-113.13],\"z\":[-1441.93,-2453.06],\"type\":\"scatter3d\",\"uid\":\"c2cfa873-b142-473f-8f7e-60a88159bbf5\"},{\"hoverinfo\":\"skip\",\"line\":{\"color\":\"lightgrey\",\"width\":1},\"mode\":\"lines\",\"showlegend\":false,\"x\":[-324.39,-324.39],\"y\":[-93.43,-93.43],\"z\":[-1441.93,-2453.06],\"type\":\"scatter3d\",\"uid\":\"31841250-aa2c-4c2a-9b5d-c10d6dd9cf0e\"},{\"hoverinfo\":\"skip\",\"line\":{\"color\":\"lightgrey\",\"width\":1},\"mode\":\"lines\",\"showlegend\":false,\"x\":[-200.55,-200.55],\"y\":[-74.03,-74.03],\"z\":[-1441.93,-2453.06],\"type\":\"scatter3d\",\"uid\":\"4e464fa5-d1fc-48d5-9533-7a912c201d69\"},{\"hoverinfo\":\"skip\",\"line\":{\"color\":\"lightgrey\",\"width\":1},\"mode\":\"lines\",\"showlegend\":false,\"x\":[-77.8,-77.8],\"y\":[-54.33,-54.33],\"z\":[-1441.93,-2453.06],\"type\":\"scatter3d\",\"uid\":\"7748df1d-4a40-49bb-a9aa-2c15d9f5d715\"},{\"hoverinfo\":\"skip\",\"line\":{\"color\":\"lightgrey\",\"width\":1},\"mode\":\"lines\",\"showlegend\":false,\"x\":[46.29,46.29],\"y\":[-34.88,-34.88],\"z\":[-1441.93,-2453.06],\"type\":\"scatter3d\",\"uid\":\"d85df0a6-de28-4591-9a96-ef0a88665046\"},{\"hoverinfo\":\"skip\",\"line\":{\"color\":\"lightgrey\",\"width\":1},\"mode\":\"lines\",\"showlegend\":false,\"x\":[194.34,194.34],\"y\":[-30.92,-30.92],\"z\":[-1441.93,-2453.06],\"type\":\"scatter3d\",\"uid\":\"4d0454b8-9bbe-4f2f-a335-70e9addc9776\"},{\"hoverinfo\":\"skip\",\"line\":{\"color\":\"lightgrey\",\"width\":1},\"mode\":\"lines\",\"showlegend\":false,\"x\":[292.9,292.9],\"y\":[5.2,5.2],\"z\":[-1441.93,-2453.06],\"type\":\"scatter3d\",\"uid\":\"764d616a-6a1d-491a-9ec9-5dbd4469af20\"},{\"hoverinfo\":\"skip\",\"line\":{\"color\":\"lightgrey\",\"width\":1},\"mode\":\"lines\",\"showlegend\":false,\"x\":[411.81,411.81],\"y\":[13.0,13.0],\"z\":[-1441.93,-2453.06],\"type\":\"scatter3d\",\"uid\":\"3e924773-67ef-4093-b374-d7f53fbec6fe\"},{\"hoverinfo\":\"skip\",\"line\":{\"color\":\"lightgrey\",\"width\":1},\"mode\":\"lines\",\"showlegend\":false,\"x\":[544.07,544.07],\"y\":[55.89,55.89],\"z\":[-1441.93,-2453.06],\"type\":\"scatter3d\",\"uid\":\"6612e6e0-b28a-4206-b52a-b65caa721653\"},{\"hoverinfo\":\"skip\",\"line\":{\"color\":\"lightgrey\",\"width\":1},\"mode\":\"lines\",\"showlegend\":false,\"x\":[-526.63,-526.63],\"y\":[-15.6,-15.6],\"z\":[-1441.93,-2453.06],\"type\":\"scatter3d\",\"uid\":\"36116115-5f22-4f04-9913-d6abb66249f2\"},{\"hoverinfo\":\"skip\",\"line\":{\"color\":\"lightgrey\",\"width\":1},\"mode\":\"lines\",\"showlegend\":false,\"x\":[-403.14,-403.14],\"y\":[3.49,3.49],\"z\":[-1441.93,-2453.06],\"type\":\"scatter3d\",\"uid\":\"34e0619d-e44c-4900-ba9b-a91714720180\"},{\"hoverinfo\":\"skip\",\"line\":{\"color\":\"lightgrey\",\"width\":1},\"mode\":\"lines\",\"showlegend\":false,\"x\":[-279.53,-279.53],\"y\":[23.17,23.17],\"z\":[-1441.93,-2453.06],\"type\":\"scatter3d\",\"uid\":\"3b7e35b6-d916-4650-8e38-5227804500da\"},{\"hoverinfo\":\"skip\",\"line\":{\"color\":\"lightgrey\",\"width\":1},\"mode\":\"lines\",\"showlegend\":false,\"x\":[-156.23,-156.23],\"y\":[43.37,43.37],\"z\":[-1441.93,-2453.06],\"type\":\"scatter3d\",\"uid\":\"a162ed4f-e3cc-4618-ab5d-04c6604dc7ee\"},{\"hoverinfo\":\"skip\",\"line\":{\"color\":\"lightgrey\",\"width\":1},\"mode\":\"lines\",\"showlegend\":false,\"x\":[-32.96,-32.96],\"y\":[62.44,62.44],\"z\":[-1441.93,-2453.06],\"type\":\"scatter3d\",\"uid\":\"56943a30-1ce8-412d-9de1-12a54a5cb0ad\"},{\"hoverinfo\":\"skip\",\"line\":{\"color\":\"lightgrey\",\"width\":1},\"mode\":\"lines\",\"showlegend\":false,\"x\":[90.49,90.49],\"y\":[82.35,82.35],\"z\":[-1441.93,-2453.06],\"type\":\"scatter3d\",\"uid\":\"d5fb74aa-c111-4c40-b6c0-c6ac9cfda3bf\"},{\"hoverinfo\":\"skip\",\"line\":{\"color\":\"lightgrey\",\"width\":1},\"mode\":\"lines\",\"showlegend\":false,\"x\":[195.03,195.03],\"y\":[125.59,125.59],\"z\":[-1441.93,-2453.06],\"type\":\"scatter3d\",\"uid\":\"6e59c737-2da9-405d-a808-2a15f362276a\"},{\"hoverinfo\":\"skip\",\"line\":{\"color\":\"lightgrey\",\"width\":1},\"mode\":\"lines\",\"showlegend\":false,\"x\":[330.03,330.03],\"y\":[127.2,127.2],\"z\":[-1441.93,-2453.06],\"type\":\"scatter3d\",\"uid\":\"cfc7d276-14e8-490f-8a13-abfdc701f645\"},{\"hoverinfo\":\"skip\",\"line\":{\"color\":\"lightgrey\",\"width\":1},\"mode\":\"lines\",\"showlegend\":false,\"x\":[472.05,472.05],\"y\":[127.9,127.9],\"z\":[-1441.93,-2453.06],\"type\":\"scatter3d\",\"uid\":\"1b9afea5-909e-4183-9546-2a3d045e72ff\"},{\"hoverinfo\":\"skip\",\"line\":{\"color\":\"lightgrey\",\"width\":1},\"mode\":\"lines\",\"showlegend\":false,\"x\":[576.37,576.37],\"y\":[170.92,170.92],\"z\":[-1441.93,-2453.06],\"type\":\"scatter3d\",\"uid\":\"df7126d6-8907-4b2e-b8d0-ec3424c23380\"},{\"hoverinfo\":\"skip\",\"line\":{\"color\":\"lightgrey\",\"width\":1},\"mode\":\"lines\",\"showlegend\":false,\"x\":[-481.6,-481.6],\"y\":[101.39,101.39],\"z\":[-1441.93,-2453.06],\"type\":\"scatter3d\",\"uid\":\"c89870ce-e12e-4a7e-b85e-f325f75c4deb\"},{\"hoverinfo\":\"skip\",\"line\":{\"color\":\"lightgrey\",\"width\":1},\"mode\":\"lines\",\"showlegend\":false,\"x\":[-358.44,-358.44],\"y\":[120.56,120.56],\"z\":[-1441.93,-2453.06],\"type\":\"scatter3d\",\"uid\":\"6be4a4a2-d534-4ccf-ba00-9166cdebcf4a\"},{\"hoverinfo\":\"skip\",\"line\":{\"color\":\"lightgrey\",\"width\":1},\"mode\":\"lines\",\"showlegend\":false,\"x\":[-234.95,-234.95],\"y\":[140.44,140.44],\"z\":[-1441.93,-2453.06],\"type\":\"scatter3d\",\"uid\":\"b75eaaad-e9e0-49a0-8289-a1b7029ea15f\"},{\"hoverinfo\":\"skip\",\"line\":{\"color\":\"lightgrey\",\"width\":1},\"mode\":\"lines\",\"showlegend\":false,\"x\":[-111.51,-111.51],\"y\":[159.98,159.98],\"z\":[-1441.93,-2453.06],\"type\":\"scatter3d\",\"uid\":\"f52aa7e1-d846-4c21-b371-79319e711285\"},{\"hoverinfo\":\"skip\",\"line\":{\"color\":\"lightgrey\",\"width\":1},\"mode\":\"lines\",\"showlegend\":false,\"x\":[11.87,11.87],\"y\":[179.19,179.19],\"z\":[-1441.93,-2453.06],\"type\":\"scatter3d\",\"uid\":\"fc4ad0c2-061f-46ff-a091-4ea5b7cdade1\"},{\"hoverinfo\":\"skip\",\"line\":{\"color\":\"lightgrey\",\"width\":1},\"mode\":\"lines\",\"showlegend\":false,\"x\":[132.03,132.03],\"y\":[202.98,202.98],\"z\":[-1441.93,-2453.06],\"type\":\"scatter3d\",\"uid\":\"6d6949cb-66ea-4a90-9e98-767fdc20f3d6\"},{\"hoverinfo\":\"skip\",\"line\":{\"color\":\"lightgrey\",\"width\":1},\"mode\":\"lines\",\"showlegend\":false,\"x\":[257.31,257.31],\"y\":[211.66,211.66],\"z\":[-1441.93,-2453.06],\"type\":\"scatter3d\",\"uid\":\"526eedee-f6e6-495e-a502-c9e92aaa89cd\"},{\"hoverinfo\":\"skip\",\"line\":{\"color\":\"lightgrey\",\"width\":1},\"mode\":\"lines\",\"showlegend\":false,\"x\":[382.35,382.35],\"y\":[238.9,238.9],\"z\":[-1441.93,-2453.06],\"type\":\"scatter3d\",\"uid\":\"66ea8b98-3751-4945-b2ed-8a1eaad32067\"},{\"hoverinfo\":\"skip\",\"line\":{\"color\":\"lightgrey\",\"width\":1},\"mode\":\"lines\",\"showlegend\":false,\"x\":[505.27,505.27],\"y\":[257.88,257.88],\"z\":[-1441.93,-2453.06],\"type\":\"scatter3d\",\"uid\":\"53fc27e1-6d5f-4e6a-98f6-29e367f27ea7\"},{\"hoverinfo\":\"skip\",\"line\":{\"color\":\"lightgrey\",\"width\":1},\"mode\":\"lines\",\"showlegend\":false,\"x\":[-437.04,-437.04],\"y\":[217.8,217.8],\"z\":[-1441.93,-2453.06],\"type\":\"scatter3d\",\"uid\":\"a81c4e1b-be5c-4a00-9caf-cfdae4e8c6c5\"},{\"hoverinfo\":\"skip\",\"line\":{\"color\":\"lightgrey\",\"width\":1},\"mode\":\"lines\",\"showlegend\":false,\"x\":[-313.6,-313.6],\"y\":[237.44,237.44],\"z\":[-1441.93,-2453.06],\"type\":\"scatter3d\",\"uid\":\"a160f3e3-d93e-4be8-ae2f-5e43cdffb53a\"},{\"hoverinfo\":\"skip\",\"line\":{\"color\":\"lightgrey\",\"width\":1},\"mode\":\"lines\",\"showlegend\":false,\"x\":[-189.98,-189.98],\"y\":[257.42,257.42],\"z\":[-1441.93,-2453.06],\"type\":\"scatter3d\",\"uid\":\"dcaa8d08-a9c7-4813-bc17-17b52b430890\"},{\"hoverinfo\":\"skip\",\"line\":{\"color\":\"lightgrey\",\"width\":1},\"mode\":\"lines\",\"showlegend\":false,\"x\":[-66.7,-66.7],\"y\":[276.92,276.92],\"z\":[-1441.93,-2453.06],\"type\":\"scatter3d\",\"uid\":\"e0bc0cd3-0254-4cd5-9493-b0ae2a1a13fa\"},{\"hoverinfo\":\"skip\",\"line\":{\"color\":\"lightgrey\",\"width\":1},\"mode\":\"lines\",\"showlegend\":false,\"x\":[54.26,54.26],\"y\":[292.97,292.97],\"z\":[-1441.93,-2453.06],\"type\":\"scatter3d\",\"uid\":\"6d4aeb5b-6b68-4d5e-b6d9-8bc7c1267f45\"},{\"hoverinfo\":\"skip\",\"line\":{\"color\":\"lightgrey\",\"width\":1},\"mode\":\"lines\",\"showlegend\":false,\"x\":[174.47,174.47],\"y\":[315.54,315.54],\"z\":[-1441.93,-2453.06],\"type\":\"scatter3d\",\"uid\":\"8778acff-66d8-4f66-abfd-44c517699f89\"},{\"hoverinfo\":\"skip\",\"line\":{\"color\":\"lightgrey\",\"width\":1},\"mode\":\"lines\",\"showlegend\":false,\"x\":[303.41,303.41],\"y\":[335.64,335.64],\"z\":[-1441.93,-2453.06],\"type\":\"scatter3d\",\"uid\":\"5012cfe0-a35f-407c-986a-8d4cab55af7e\"},{\"hoverinfo\":\"skip\",\"line\":{\"color\":\"lightgrey\",\"width\":1},\"mode\":\"lines\",\"showlegend\":false,\"x\":[429.76,429.76],\"y\":[351.02,351.02],\"z\":[-1441.93,-2453.06],\"type\":\"scatter3d\",\"uid\":\"03c7f85f-f0ac-42ec-82aa-de6e13b01781\"},{\"hoverinfo\":\"skip\",\"line\":{\"color\":\"lightgrey\",\"width\":1},\"mode\":\"lines\",\"showlegend\":false,\"x\":[-392.38,-392.38],\"y\":[334.24,334.24],\"z\":[-1441.93,-2453.06],\"type\":\"scatter3d\",\"uid\":\"a8fd3775-dde5-46a2-99b8-e3288cf9d158\"},{\"hoverinfo\":\"skip\",\"line\":{\"color\":\"lightgrey\",\"width\":1},\"mode\":\"lines\",\"showlegend\":false,\"x\":[-268.9,-268.9],\"y\":[354.24,354.24],\"z\":[-1441.93,-2453.06],\"type\":\"scatter3d\",\"uid\":\"1dd36541-d107-4437-b6fa-f4ed2370793d\"},{\"hoverinfo\":\"skip\",\"line\":{\"color\":\"lightgrey\",\"width\":1},\"mode\":\"lines\",\"showlegend\":false,\"x\":[-145.45,-145.45],\"y\":[374.24,374.24],\"z\":[-1441.93,-2453.06],\"type\":\"scatter3d\",\"uid\":\"2b1ffce6-9323-4524-a791-44d191c67e94\"},{\"hoverinfo\":\"skip\",\"line\":{\"color\":\"lightgrey\",\"width\":1},\"mode\":\"lines\",\"showlegend\":false,\"x\":[-21.97,-21.97],\"y\":[393.24,393.24],\"z\":[-1441.93,-2453.06],\"type\":\"scatter3d\",\"uid\":\"b1e1fca3-8142-476a-81f6-39334d61079c\"},{\"hoverinfo\":\"skip\",\"line\":{\"color\":\"lightgrey\",\"width\":1},\"mode\":\"lines\",\"showlegend\":false,\"x\":[101.04,101.04],\"y\":[412.79,412.79],\"z\":[-1441.93,-2453.06],\"type\":\"scatter3d\",\"uid\":\"5427cb4f-77f5-4355-a388-95df53b6a663\"},{\"hoverinfo\":\"skip\",\"line\":{\"color\":\"lightgrey\",\"width\":1},\"mode\":\"lines\",\"showlegend\":false,\"x\":[224.58,224.58],\"y\":[432.35,432.35],\"z\":[-1441.93,-2453.06],\"type\":\"scatter3d\",\"uid\":\"ca6bcbdc-6ae7-477d-a927-8ece89292b17\"},{\"hoverinfo\":\"skip\",\"line\":{\"color\":\"lightgrey\",\"width\":1},\"mode\":\"lines\",\"showlegend\":false,\"x\":[338.44,338.44],\"y\":[463.72,463.72],\"z\":[-1441.93,-2453.06],\"type\":\"scatter3d\",\"uid\":\"134fa813-3b89-4351-b98a-919a02c4d6f9\"},{\"hoverinfo\":\"skip\",\"line\":{\"color\":\"lightgrey\",\"width\":1},\"mode\":\"lines\",\"showlegend\":false,\"x\":[-347.88,-347.88],\"y\":[451.52,451.52],\"z\":[-1441.93,-2453.06],\"type\":\"scatter3d\",\"uid\":\"cb71712f-b8eb-48f3-90a3-cd12e89b7c06\"},{\"hoverinfo\":\"skip\",\"line\":{\"color\":\"lightgrey\",\"width\":1},\"mode\":\"lines\",\"showlegend\":false,\"x\":[-224.09,-224.09],\"y\":[470.86,470.86],\"z\":[-1441.93,-2453.06],\"type\":\"scatter3d\",\"uid\":\"ede3eeec-0682-4add-99b0-d94c04627786\"},{\"hoverinfo\":\"skip\",\"line\":{\"color\":\"lightgrey\",\"width\":1},\"mode\":\"lines\",\"showlegend\":false,\"x\":[-101.06,-101.06],\"y\":[490.22,490.22],\"z\":[-1441.93,-2453.06],\"type\":\"scatter3d\",\"uid\":\"a3579923-4779-4ab2-939e-8b5544e6e1f6\"},{\"hoverinfo\":\"skip\",\"line\":{\"color\":\"lightgrey\",\"width\":1},\"mode\":\"lines\",\"showlegend\":false,\"x\":[22.11,22.11],\"y\":[509.5,509.5],\"z\":[-1441.93,-2453.06],\"type\":\"scatter3d\",\"uid\":\"a09a1947-fe36-4e76-882b-30004e206c1f\"},{\"hoverinfo\":\"skip\",\"line\":{\"color\":\"lightgrey\",\"width\":1},\"mode\":\"lines\",\"showlegend\":false,\"x\":[31.25,31.25],\"y\":[-72.93,-72.93],\"z\":[-1441.93,-2453.06],\"type\":\"scatter3d\",\"uid\":\"4304acb6-6611-4c99-8de3-fdbc33da5675\"},{\"hoverinfo\":\"skip\",\"line\":{\"color\":\"lightgrey\",\"width\":1},\"mode\":\"lines\",\"showlegend\":false,\"x\":[72.37,72.37],\"y\":[-66.6,-66.6],\"z\":[-1441.93,-2453.06],\"type\":\"scatter3d\",\"uid\":\"30b0ded9-3948-4819-997e-0f7cbf528e6f\"},{\"hoverinfo\":\"skip\",\"line\":{\"color\":\"lightgrey\",\"width\":1},\"mode\":\"lines\",\"showlegend\":false,\"x\":[41.6,41.6],\"y\":[35.49,35.49],\"z\":[-1441.93,-2453.06],\"type\":\"scatter3d\",\"uid\":\"cba543f9-aaa5-47a4-9c43-0a7f769e7b28\"},{\"hoverinfo\":\"skip\",\"line\":{\"color\":\"lightgrey\",\"width\":1},\"mode\":\"lines\",\"showlegend\":false,\"x\":[106.94,106.94],\"y\":[27.09,27.09],\"z\":[-1441.93,-2453.06],\"type\":\"scatter3d\",\"uid\":\"ae52a6fb-3e6b-404e-a117-b45c6396d28f\"},{\"hoverinfo\":\"skip\",\"line\":{\"color\":\"lightgrey\",\"width\":1},\"mode\":\"lines\",\"showlegend\":false,\"x\":[113.19,113.19],\"y\":[-60.47,-60.47],\"z\":[-1441.93,-2453.06],\"type\":\"scatter3d\",\"uid\":\"b95afb69-599a-420b-bc43-2bf48bf81000\"},{\"hoverinfo\":\"skip\",\"line\":{\"color\":\"lightgrey\",\"width\":1},\"mode\":\"lines\",\"showlegend\":false,\"x\":[57.2,57.2],\"y\":[-105.52,-105.52],\"z\":[-1441.93,-2453.06],\"type\":\"scatter3d\",\"uid\":\"3f8d3ce1-f543-4dd3-a84c-31e5ce31c9b9\"},{\"hoverinfo\":\"skip\",\"line\":{\"color\":\"lightgrey\",\"width\":1},\"mode\":\"lines\",\"showlegend\":false,\"x\":[-9.68,-9.68],\"y\":[-79.5,-79.5],\"z\":[-1441.93,-2453.06],\"type\":\"scatter3d\",\"uid\":\"2a3a8428-fa73-4c5a-b1c0-64bb052ce757\"},{\"hoverinfo\":\"skip\",\"line\":{\"color\":\"lightgrey\",\"width\":1},\"mode\":\"lines\",\"showlegend\":false,\"x\":[-10.97,-10.97],\"y\":[6.72,6.72],\"z\":[-1441.93,-2453.06],\"type\":\"scatter3d\",\"uid\":\"394809ac-09c9-4d73-bf67-70fcda08a80e\"},{\"hoverinfo\":\"skip\",\"line\":{\"color\":\"grey\",\"width\":1},\"mode\":\"lines\",\"showlegend\":false,\"x\":[-347.88,-570.9,-256.14,361.0,576.37,338.44,101.04,22.11,-347.88],\"y\":[451.52,-125.14,-521.08,-422.83,170.92,463.72,412.79,509.5,451.52],\"z\":[-2453.06,-2453.06,-2453.06,-2453.06,-2453.06,-2453.06,-2453.06,-2453.06,-2453.06,-2453.06,-2453.06,-2453.06,-2453.06,-2453.06,-2453.06,-2453.06,-2453.06,-2453.06,-2453.06,-2453.06,-2453.06,-2453.06,-2453.06,-2453.06,-2453.06,-2453.06,-2453.06,-2453.06,-2453.06,-2453.06,-2453.06,-2453.06,-2453.06,-2453.06,-2453.06,-2453.06,-2453.06,-2453.06,-2453.06,-2453.06,-2453.06,-2453.06,-2453.06,-2453.06,-2453.06,-2453.06,-2453.06,-2453.06,-2453.06,-2453.06,-2453.06,-2453.06,-2453.06,-2453.06,-2453.06,-2453.06,-2453.06,-2453.06,-2453.06,-2453.06,-2453.06,-2453.06,-2453.06,-2453.06,-2453.06,-2453.06,-2453.06,-2453.06,-2453.06,-2453.06,-2453.06,-2453.06,-2453.06,-2453.06,-2453.06,-2453.06,-2453.06,-2453.06,-2453.06,-2453.06,-2453.06,-2453.06,-2453.06,-2453.06,-2453.06,-2453.06],\"type\":\"scatter3d\",\"uid\":\"ad42de97-5b88-4ff8-94f2-bea84fc5ab01\"},{\"hoverinfo\":\"skip\",\"line\":{\"color\":\"grey\",\"width\":1},\"mode\":\"lines\",\"showlegend\":false,\"x\":[-347.88,-570.9,-256.14,361.0,576.37,338.44,101.04,22.11,-347.88],\"y\":[451.52,-125.14,-521.08,-422.83,170.92,463.72,412.79,509.5,451.52],\"z\":[-1441.93,-1441.93,-1441.93,-1441.93,-1441.93,-1441.93,-1441.93,-1441.93,-1441.93,-1441.93,-1441.93,-1441.93,-1441.93,-1441.93,-1441.93,-1441.93,-1441.93,-1441.93,-1441.93,-1441.93,-1441.93,-1441.93,-1441.93,-1441.93,-1441.93,-1441.93,-1441.93,-1441.93,-1441.93,-1441.93,-1441.93,-1441.93,-1441.93,-1441.93,-1441.93,-1441.93,-1441.93,-1441.93,-1441.93,-1441.93,-1441.93,-1441.93,-1441.93,-1441.93,-1441.93,-1441.93,-1441.93,-1441.93,-1441.93,-1441.93,-1441.93,-1441.93,-1441.93,-1441.93,-1441.93,-1441.93,-1441.93,-1441.93,-1441.93,-1441.93,-1441.93,-1441.93,-1441.93,-1441.93,-1441.93,-1441.93,-1441.93,-1441.93,-1441.93,-1441.93,-1441.93,-1441.93,-1441.93,-1441.93,-1441.93,-1441.93,-1441.93,-1441.93,-1441.93,-1441.93,-1441.93,-1441.93,-1441.93,-1441.93,-1441.93,-1441.93],\"type\":\"scatter3d\",\"uid\":\"e7b56107-3543-4638-8aa4-1cc45eaba4dc\"},{\"customdata\":[4539.899902,3563.517578,4036.598877,3446.496826,3012.672852,2932.354492,3253.431396,3554.935791,2757.04834,2555.645752,2466.915771,2396.556885,2980.839844,6278.332031,2322.358887,2430.620361,2428.827637,2522.25415,2348.917969,2560.024658,1960.547729,2309.817383,1797.987061,1769.792603,1917.097046,1880.280884,1580.367798,1516.188843,1666.831299,1277.713501,1240.003296,1286.357788,1033.954712,812.980164,1259.831543,587.821106,808.811829,424.043365,635.756653,546.29187,651.227417,1088.476929],\"hoverinfo\":[\"x\",\"y\",\"z\",\"text\"],\"hovertemplate\":\"x: %{x} m, y: %{y} m, z: %{z} m, t: %{customdata} ns\",\"hovertext\":[\"-2160.28 ns\",\"-1992.60 ns\",\"-1973.11 ns\",\"-2003.35 ns\",\"-1969.31 ns\",\"-1952.29 ns\",\"-1867.18 ns\",\"-1850.16 ns\",\"-1973.01 ns\",\"-1938.97 ns\",\"-1921.95 ns\",\"-1904.93 ns\",\"-1853.86 ns\",\"-1928.84 ns\",\"-1799.83 ns\",\"-1923.68 ns\",\"-1906.66 ns\",\"-1872.61 ns\",\"-1812.11 ns\",\"-1830.56 ns\",\"-1820.55 ns\",\"-1810.54 ns\",\"-1841.84 ns\",\"-1831.83 ns\",\"-1791.78 ns\",\"-1852.47 ns\",\"-1818.43 ns\",\"-1784.39 ns\",\"-1780.06 ns\",\"-1763.04 ns\",\"-1729.00 ns\",\"-1694.96 ns\",\"-1718.67 ns\",\"-1701.65 ns\",\"-1684.63 ns\",\"-1718.55 ns\",\"-1701.53 ns\",\"-1684.51 ns\",\"-1667.49 ns\",\"-1650.46 ns\",\"-1633.44 ns\",\"-1700.60 ns\"],\"marker\":{\"color\":[4539.899902,3563.517578,4036.598877,3446.496826,3012.672852,2932.354492,3253.431396,3554.935791,2757.04834,2555.645752,2466.915771,2396.556885,2980.839844,6278.332031,2322.358887,2430.620361,2428.827637,2522.25415,2348.917969,2560.024658,1960.547729,2309.817383,1797.987061,1769.792603,1917.097046,1880.280884,1580.367798,1516.188843,1666.831299,1277.713501,1240.003296,1286.357788,1033.954712,812.980164,1259.831543,587.821106,808.811829,424.043365,635.756653,546.29187,651.227417,1088.476929],\"colorscale\":[[0.0,\"rgb(255,0,0)\"],[0.125,\"rgb(255,111,0)\"],[0.25,\"rgb(255,234,0)\"],[0.375,\"rgb(151,255,0)\"],[0.5,\"rgb(44,255,150)\"],[0.625,\"rgb(0,152,255)\"],[0.75,\"rgb(0,25,255)\"],[0.875,\"rgb(0,0,200)\"],[1.0,\"rgb(150,0,90)\"]],\"size\":4},\"mode\":\"markers\",\"name\":\"current_evt\",\"showlegend\":false,\"x\":[-526.63,-324.39,-279.53,-200.55,-200.55,-200.55,-200.55,-200.55,-77.8,-77.8,-77.8,-77.8,-77.8,-32.96,31.25,46.29,46.29,46.29,57.2,72.37,72.37,72.37,113.19,113.19,113.19,194.34,194.34,194.34,292.9,292.9,292.9,292.9,411.81,411.81,411.81,500.43,500.43,500.43,500.43,500.43,500.43,544.07],\"y\":[-15.6,-93.43,23.17,-74.03,-74.03,-74.03,-74.03,-74.03,-54.33,-54.33,-54.33,-54.33,-54.33,62.44,-72.93,-34.88,-34.88,-34.88,-105.52,-66.6,-66.6,-66.6,-60.47,-60.47,-60.47,-30.92,-30.92,-30.92,5.2,5.2,5.2,5.2,13.0,13.0,13.0,-58.45,-58.45,-58.45,-58.45,-58.45,-58.45,55.89],\"z\":[-2160.28,-1992.6,-1973.11,-2003.35,-1969.31,-1952.29,-1867.18,-1850.16,-1973.01,-1938.97,-1921.95,-1904.93,-1853.86,-1928.84,-1799.83,-1923.68,-1906.66,-1872.61,-1812.11,-1830.56,-1820.55,-1810.54,-1841.84,-1831.83,-1791.78,-1852.47,-1818.43,-1784.39,-1780.06,-1763.04,-1729.0,-1694.96,-1718.67,-1701.65,-1684.63,-1718.55,-1701.53,-1684.51,-1667.49,-1650.46,-1633.44,-1700.6],\"type\":\"scatter3d\",\"uid\":\"300108e4-cb46-4b01-bf87-f95177049897\"},{\"line\":{\"color\":\"black\",\"width\":6},\"mode\":\"lines\",\"name\":\"arrow_line\",\"showlegend\":false,\"x\":[-391.5452038107184,476.66937963489426],\"y\":[-48.04703296703296,-48.04703296703296],\"z\":[-1612.5927963942536,-2108.7817091002526],\"type\":\"scatter3d\",\"uid\":\"f2f9911a-b786-402d-8000-cf1b2f56ab09\"},{\"anchor\":\"center\",\"colorscale\":[[0,\"black\"],[1,\"black\"]],\"name\":\"arrow_head\",\"showscale\":false,\"sizemode\":\"absolute\",\"sizeref\":100,\"u\":[17.36429166891225],\"v\":[0.0],\"w\":[-9.923778254119977],\"x\":[476.66937963489426],\"y\":[-48.04703296703296],\"z\":[-2108.7817091002526],\"type\":\"cone\",\"uid\":\"b9bd4d75-d128-482f-8a1b-9c5f7da8f190\"},{\"line\":{\"color\":\"red\",\"width\":6},\"mode\":\"lines\",\"name\":\"arrow_line\",\"showlegend\":false,\"x\":[507.47216529424014,-422.3479894700643],\"y\":[-33.89275427190659,-62.201311662159334],\"z\":[-1677.2253320575853,-2044.1491734369208],\"type\":\"scatter3d\",\"uid\":\"451d87f7-9826-4c06-9721-2e41bbf0ba79\"},{\"anchor\":\"center\",\"colorscale\":[[0,\"red\"],[1,\"red\"]],\"name\":\"arrow_head\",\"showscale\":false,\"sizemode\":\"absolute\",\"sizeref\":100,\"u\":[-18.59640309528609],\"v\":[-0.566171147805055],\"w\":[-7.338476827586709],\"x\":[-422.3479894700643],\"y\":[-62.201311662159334],\"z\":[-2044.1491734369208],\"type\":\"cone\",\"uid\":\"93017d5b-21eb-4e21-ab19-a96ff6e960ae\"}],                        {\"margin\":{\"b\":40,\"l\":20,\"r\":20,\"t\":40},\"scene\":{\"camera\":{\"center\":{\"x\":0,\"y\":0,\"z\":0},\"eye\":{\"x\":0.9848077530122082,\"y\":1.7057370639048863,\"z\":0.34729635533386066},\"up\":{\"x\":0,\"y\":0,\"z\":1}},\"xaxis\":{\"backgroundcolor\":\"whitesmoke\",\"showgrid\":false,\"showspikes\":false,\"showticklabels\":false,\"title\":{\"text\":\"\"}},\"yaxis\":{\"backgroundcolor\":\"whitesmoke\",\"showgrid\":false,\"showspikes\":false,\"showticklabels\":false,\"title\":{\"text\":\"\"}},\"zaxis\":{\"backgroundcolor\":\"whitesmoke\",\"showgrid\":false,\"showspikes\":false,\"showticklabels\":false,\"title\":{\"text\":\"\"}}},\"template\":{\"data\":{\"barpolar\":[{\"marker\":{\"line\":{\"color\":\"#E5ECF6\",\"width\":0.5},\"pattern\":{\"fillmode\":\"overlay\",\"size\":10,\"solidity\":0.2}},\"type\":\"barpolar\"}],\"bar\":[{\"error_x\":{\"color\":\"#2a3f5f\"},\"error_y\":{\"color\":\"#2a3f5f\"},\"marker\":{\"line\":{\"color\":\"#E5ECF6\",\"width\":0.5},\"pattern\":{\"fillmode\":\"overlay\",\"size\":10,\"solidity\":0.2}},\"type\":\"bar\"}],\"carpet\":[{\"aaxis\":{\"endlinecolor\":\"#2a3f5f\",\"gridcolor\":\"white\",\"linecolor\":\"white\",\"minorgridcolor\":\"white\",\"startlinecolor\":\"#2a3f5f\"},\"baxis\":{\"endlinecolor\":\"#2a3f5f\",\"gridcolor\":\"white\",\"linecolor\":\"white\",\"minorgridcolor\":\"white\",\"startlinecolor\":\"#2a3f5f\"},\"type\":\"carpet\"}],\"choropleth\":[{\"colorbar\":{\"outlinewidth\":0,\"ticks\":\"\"},\"type\":\"choropleth\"}],\"contourcarpet\":[{\"colorbar\":{\"outlinewidth\":0,\"ticks\":\"\"},\"type\":\"contourcarpet\"}],\"contour\":[{\"colorbar\":{\"outlinewidth\":0,\"ticks\":\"\"},\"colorscale\":[[0.0,\"#0d0887\"],[0.1111111111111111,\"#46039f\"],[0.2222222222222222,\"#7201a8\"],[0.3333333333333333,\"#9c179e\"],[0.4444444444444444,\"#bd3786\"],[0.5555555555555556,\"#d8576b\"],[0.6666666666666666,\"#ed7953\"],[0.7777777777777778,\"#fb9f3a\"],[0.8888888888888888,\"#fdca26\"],[1.0,\"#f0f921\"]],\"type\":\"contour\"}],\"heatmapgl\":[{\"colorbar\":{\"outlinewidth\":0,\"ticks\":\"\"},\"colorscale\":[[0.0,\"#0d0887\"],[0.1111111111111111,\"#46039f\"],[0.2222222222222222,\"#7201a8\"],[0.3333333333333333,\"#9c179e\"],[0.4444444444444444,\"#bd3786\"],[0.5555555555555556,\"#d8576b\"],[0.6666666666666666,\"#ed7953\"],[0.7777777777777778,\"#fb9f3a\"],[0.8888888888888888,\"#fdca26\"],[1.0,\"#f0f921\"]],\"type\":\"heatmapgl\"}],\"heatmap\":[{\"colorbar\":{\"outlinewidth\":0,\"ticks\":\"\"},\"colorscale\":[[0.0,\"#0d0887\"],[0.1111111111111111,\"#46039f\"],[0.2222222222222222,\"#7201a8\"],[0.3333333333333333,\"#9c179e\"],[0.4444444444444444,\"#bd3786\"],[0.5555555555555556,\"#d8576b\"],[0.6666666666666666,\"#ed7953\"],[0.7777777777777778,\"#fb9f3a\"],[0.8888888888888888,\"#fdca26\"],[1.0,\"#f0f921\"]],\"type\":\"heatmap\"}],\"histogram2dcontour\":[{\"colorbar\":{\"outlinewidth\":0,\"ticks\":\"\"},\"colorscale\":[[0.0,\"#0d0887\"],[0.1111111111111111,\"#46039f\"],[0.2222222222222222,\"#7201a8\"],[0.3333333333333333,\"#9c179e\"],[0.4444444444444444,\"#bd3786\"],[0.5555555555555556,\"#d8576b\"],[0.6666666666666666,\"#ed7953\"],[0.7777777777777778,\"#fb9f3a\"],[0.8888888888888888,\"#fdca26\"],[1.0,\"#f0f921\"]],\"type\":\"histogram2dcontour\"}],\"histogram2d\":[{\"colorbar\":{\"outlinewidth\":0,\"ticks\":\"\"},\"colorscale\":[[0.0,\"#0d0887\"],[0.1111111111111111,\"#46039f\"],[0.2222222222222222,\"#7201a8\"],[0.3333333333333333,\"#9c179e\"],[0.4444444444444444,\"#bd3786\"],[0.5555555555555556,\"#d8576b\"],[0.6666666666666666,\"#ed7953\"],[0.7777777777777778,\"#fb9f3a\"],[0.8888888888888888,\"#fdca26\"],[1.0,\"#f0f921\"]],\"type\":\"histogram2d\"}],\"histogram\":[{\"marker\":{\"pattern\":{\"fillmode\":\"overlay\",\"size\":10,\"solidity\":0.2}},\"type\":\"histogram\"}],\"mesh3d\":[{\"colorbar\":{\"outlinewidth\":0,\"ticks\":\"\"},\"type\":\"mesh3d\"}],\"parcoords\":[{\"line\":{\"colorbar\":{\"outlinewidth\":0,\"ticks\":\"\"}},\"type\":\"parcoords\"}],\"pie\":[{\"automargin\":true,\"type\":\"pie\"}],\"scatter3d\":[{\"line\":{\"colorbar\":{\"outlinewidth\":0,\"ticks\":\"\"}},\"marker\":{\"colorbar\":{\"outlinewidth\":0,\"ticks\":\"\"}},\"type\":\"scatter3d\"}],\"scattercarpet\":[{\"marker\":{\"colorbar\":{\"outlinewidth\":0,\"ticks\":\"\"}},\"type\":\"scattercarpet\"}],\"scattergeo\":[{\"marker\":{\"colorbar\":{\"outlinewidth\":0,\"ticks\":\"\"}},\"type\":\"scattergeo\"}],\"scattergl\":[{\"marker\":{\"colorbar\":{\"outlinewidth\":0,\"ticks\":\"\"}},\"type\":\"scattergl\"}],\"scattermapbox\":[{\"marker\":{\"colorbar\":{\"outlinewidth\":0,\"ticks\":\"\"}},\"type\":\"scattermapbox\"}],\"scatterpolargl\":[{\"marker\":{\"colorbar\":{\"outlinewidth\":0,\"ticks\":\"\"}},\"type\":\"scatterpolargl\"}],\"scatterpolar\":[{\"marker\":{\"colorbar\":{\"outlinewidth\":0,\"ticks\":\"\"}},\"type\":\"scatterpolar\"}],\"scatter\":[{\"fillpattern\":{\"fillmode\":\"overlay\",\"size\":10,\"solidity\":0.2},\"type\":\"scatter\"}],\"scatterternary\":[{\"marker\":{\"colorbar\":{\"outlinewidth\":0,\"ticks\":\"\"}},\"type\":\"scatterternary\"}],\"surface\":[{\"colorbar\":{\"outlinewidth\":0,\"ticks\":\"\"},\"colorscale\":[[0.0,\"#0d0887\"],[0.1111111111111111,\"#46039f\"],[0.2222222222222222,\"#7201a8\"],[0.3333333333333333,\"#9c179e\"],[0.4444444444444444,\"#bd3786\"],[0.5555555555555556,\"#d8576b\"],[0.6666666666666666,\"#ed7953\"],[0.7777777777777778,\"#fb9f3a\"],[0.8888888888888888,\"#fdca26\"],[1.0,\"#f0f921\"]],\"type\":\"surface\"}],\"table\":[{\"cells\":{\"fill\":{\"color\":\"#EBF0F8\"},\"line\":{\"color\":\"white\"}},\"header\":{\"fill\":{\"color\":\"#C8D4E3\"},\"line\":{\"color\":\"white\"}},\"type\":\"table\"}]},\"layout\":{\"annotationdefaults\":{\"arrowcolor\":\"#2a3f5f\",\"arrowhead\":0,\"arrowwidth\":1},\"autotypenumbers\":\"strict\",\"coloraxis\":{\"colorbar\":{\"outlinewidth\":0,\"ticks\":\"\"}},\"colorscale\":{\"diverging\":[[0,\"#8e0152\"],[0.1,\"#c51b7d\"],[0.2,\"#de77ae\"],[0.3,\"#f1b6da\"],[0.4,\"#fde0ef\"],[0.5,\"#f7f7f7\"],[0.6,\"#e6f5d0\"],[0.7,\"#b8e186\"],[0.8,\"#7fbc41\"],[0.9,\"#4d9221\"],[1,\"#276419\"]],\"sequential\":[[0.0,\"#0d0887\"],[0.1111111111111111,\"#46039f\"],[0.2222222222222222,\"#7201a8\"],[0.3333333333333333,\"#9c179e\"],[0.4444444444444444,\"#bd3786\"],[0.5555555555555556,\"#d8576b\"],[0.6666666666666666,\"#ed7953\"],[0.7777777777777778,\"#fb9f3a\"],[0.8888888888888888,\"#fdca26\"],[1.0,\"#f0f921\"]],\"sequentialminus\":[[0.0,\"#0d0887\"],[0.1111111111111111,\"#46039f\"],[0.2222222222222222,\"#7201a8\"],[0.3333333333333333,\"#9c179e\"],[0.4444444444444444,\"#bd3786\"],[0.5555555555555556,\"#d8576b\"],[0.6666666666666666,\"#ed7953\"],[0.7777777777777778,\"#fb9f3a\"],[0.8888888888888888,\"#fdca26\"],[1.0,\"#f0f921\"]]},\"colorway\":[\"#636efa\",\"#EF553B\",\"#00cc96\",\"#ab63fa\",\"#FFA15A\",\"#19d3f3\",\"#FF6692\",\"#B6E880\",\"#FF97FF\",\"#FECB52\"],\"font\":{\"color\":\"#2a3f5f\"},\"geo\":{\"bgcolor\":\"white\",\"lakecolor\":\"white\",\"landcolor\":\"#E5ECF6\",\"showlakes\":true,\"showland\":true,\"subunitcolor\":\"white\"},\"hoverlabel\":{\"align\":\"left\"},\"hovermode\":\"closest\",\"mapbox\":{\"style\":\"light\"},\"paper_bgcolor\":\"white\",\"plot_bgcolor\":\"#E5ECF6\",\"polar\":{\"angularaxis\":{\"gridcolor\":\"white\",\"linecolor\":\"white\",\"ticks\":\"\"},\"bgcolor\":\"#E5ECF6\",\"radialaxis\":{\"gridcolor\":\"white\",\"linecolor\":\"white\",\"ticks\":\"\"}},\"scene\":{\"xaxis\":{\"backgroundcolor\":\"#E5ECF6\",\"gridcolor\":\"white\",\"gridwidth\":2,\"linecolor\":\"white\",\"showbackground\":true,\"ticks\":\"\",\"zerolinecolor\":\"white\"},\"yaxis\":{\"backgroundcolor\":\"#E5ECF6\",\"gridcolor\":\"white\",\"gridwidth\":2,\"linecolor\":\"white\",\"showbackground\":true,\"ticks\":\"\",\"zerolinecolor\":\"white\"},\"zaxis\":{\"backgroundcolor\":\"#E5ECF6\",\"gridcolor\":\"white\",\"gridwidth\":2,\"linecolor\":\"white\",\"showbackground\":true,\"ticks\":\"\",\"zerolinecolor\":\"white\"}},\"shapedefaults\":{\"line\":{\"color\":\"#2a3f5f\"}},\"ternary\":{\"aaxis\":{\"gridcolor\":\"white\",\"linecolor\":\"white\",\"ticks\":\"\"},\"baxis\":{\"gridcolor\":\"white\",\"linecolor\":\"white\",\"ticks\":\"\"},\"bgcolor\":\"#E5ECF6\",\"caxis\":{\"gridcolor\":\"white\",\"linecolor\":\"white\",\"ticks\":\"\"}},\"title\":{\"x\":0.05},\"xaxis\":{\"automargin\":true,\"gridcolor\":\"white\",\"linecolor\":\"white\",\"ticks\":\"\",\"title\":{\"standoff\":15},\"zerolinecolor\":\"white\",\"zerolinewidth\":2},\"yaxis\":{\"automargin\":true,\"gridcolor\":\"white\",\"linecolor\":\"white\",\"ticks\":\"\",\"title\":{\"standoff\":15},\"zerolinecolor\":\"white\",\"zerolinewidth\":2}}}},                        {\"responsive\": true}                    ).then(function(){\n",
              "                            \n",
              "var gd = document.getElementById('082dd1b8-dbc4-4be8-9d37-6a9185763c76');\n",
              "var x = new MutationObserver(function (mutations, observer) {{\n",
              "        var display = window.getComputedStyle(gd).display;\n",
              "        if (!display || display === 'none') {{\n",
              "            console.log([gd, 'removed!']);\n",
              "            Plotly.purge(gd);\n",
              "            observer.disconnect();\n",
              "        }}\n",
              "}});\n",
              "\n",
              "// Listen for the removal of the full notebook cells\n",
              "var notebookContainer = gd.closest('#notebook-container');\n",
              "if (notebookContainer) {{\n",
              "    x.observe(notebookContainer, {childList: true});\n",
              "}}\n",
              "\n",
              "// Listen for the clearing of the current output cell\n",
              "var outputEl = gd.closest('.output');\n",
              "if (outputEl) {{\n",
              "    x.observe(outputEl, {childList: true});\n",
              "}}\n",
              "\n",
              "                        })                };                            </script>        </div>\n",
              "</body>\n",
              "</html>"
            ]
          },
          "metadata": {}
        },
        {
          "output_type": "stream",
          "name": "stdout",
          "text": [
            "\n",
            "\n",
            "Your estimate was 178.26° off the true direction.\n",
            "\n",
            "\n"
          ]
        },
        {
          "output_type": "display_data",
          "data": {
            "text/plain": [
              "Button(description='Return', style=ButtonStyle())"
            ],
            "application/vnd.jupyter.widget-view+json": {
              "version_major": 2,
              "version_minor": 0,
              "model_id": "c16d10e28d08493cad6e07e9f69a2b80"
            }
          },
          "metadata": {
            "application/vnd.jupyter.widget-view+json": {
              "colab": {
                "custom_widget_manager": {
                  "url": "https://ssl.gstatic.com/colaboratory-static/widgets/colab-cdn-widget-manager/2b70e893a8ba7c0f/manager.min.js"
                }
              }
            }
          }
        }
      ],
      "source": [
        "from src.reco_game import reco_game\n",
        "reco_game( tracks, calc_dist=True )"
      ]
    },
    {
      "cell_type": "markdown",
      "metadata": {
        "id": "75y_RR8pO6h3"
      },
      "source": [
        "Just like you *minimized* the mean perpendicular distance by adjusting the zenith and azimuth values, a computer can minimize it using a minimization algorithm. Such algorithms define a procedure by which the computer repeatedly guesses some parameter (zenith and azimuth) values, evaluates the goodness of the guess (computes the mean distance), and then makes a new guess, over and over until some stopping condition (a condition that indicates that we think we've found the minimum).\n",
        "\n",
        "The python `scipy` library, for scientific programming, offers many different minimization algorithms in its `scipy.optimize` module. Let's try using one!"
      ]
    },
    {
      "cell_type": "code",
      "execution_count": 10,
      "metadata": {
        "id": "t_PT-hguO6h3"
      },
      "outputs": [],
      "source": [
        "from scipy.optimize import minimize"
      ]
    },
    {
      "cell_type": "markdown",
      "metadata": {
        "id": "ih02d8QDO6h3"
      },
      "source": [
        "\n",
        "The `minimize` function takes in two inputs:\n",
        "- the first input is a function f whose input is a list of the parameters you want to minimize\n",
        "- the second input is your initial guess for those parameters."
      ]
    },
    {
      "cell_type": "code",
      "execution_count": 11,
      "metadata": {
        "id": "9dnPWJD_O6h3"
      },
      "outputs": [],
      "source": [
        "def function_to_minimize( dir_angles ):\n",
        "    return calc_mean_perpendicular_distance(\n",
        "        dir_angles,\n",
        "        evt.hits_xyz,\n",
        "        calc_center_of_gravity(evt.hits_xyz)\n",
        "    )\n",
        "\n",
        "def make_initial_guess_for_angles( evt ):\n",
        "\n",
        "    # initial_guess_azi = np.deg2rad( -10 )\n",
        "    # initial_guess_zen = np.deg2rad( 180 )\n",
        "    # return np.array( [initial_guess_azi, initial_guess_zen] )\n",
        "\n",
        "    j0, j1 = np.argmin( evt.hits_t ), np.argmax( evt.hits_t )\n",
        "    if j0 == j1:\n",
        "        initial_guess_azi = np.deg2rad( -10 )\n",
        "        initial_guess_zen = np.deg2rad( 180 )\n",
        "        return np.array( [initial_guess_azi, initial_guess_zen] )\n",
        "\n",
        "    initial_guess = get_direction_angles_from_vector(\n",
        "        normalize( evt.hits_xyz[j1, :] - evt.hits_xyz[j0, :] )\n",
        "    )\n",
        "    return initial_guess"
      ]
    },
    {
      "cell_type": "markdown",
      "metadata": {
        "id": "Z3xKWZOjO6h3"
      },
      "source": [
        "Let's run the minimization and see how well it works!"
      ]
    },
    {
      "cell_type": "code",
      "execution_count": 14,
      "metadata": {
        "id": "ECz_DzG1O6h3",
        "outputId": "4cc22fb6-ad5d-49c4-eeb1-b7af42d86435",
        "colab": {
          "base_uri": "https://localhost:8080/",
          "height": 644
        }
      },
      "outputs": [
        {
          "output_type": "stream",
          "name": "stdout",
          "text": [
            "The angles with the smallest perpendicular distance are:\n",
            "azi = 182.79 degrees\n",
            "zen = 110.65 degrees\n",
            "For these angles, the mean perpendicular distance is: \n",
            "\n",
            "\t 28.06 meters\n"
          ]
        },
        {
          "output_type": "display_data",
          "data": {
            "text/html": [
              "<html>\n",
              "<head><meta charset=\"utf-8\" /></head>\n",
              "<body>\n",
              "    <div>            <script src=\"https://cdnjs.cloudflare.com/ajax/libs/mathjax/2.7.5/MathJax.js?config=TeX-AMS-MML_SVG\"></script><script type=\"text/javascript\">if (window.MathJax && window.MathJax.Hub && window.MathJax.Hub.Config) {window.MathJax.Hub.Config({SVG: {font: \"STIX-Web\"}});}</script>                <script type=\"text/javascript\">window.PlotlyConfig = {MathJaxConfig: 'local'};</script>\n",
              "        <script charset=\"utf-8\" src=\"https://cdn.plot.ly/plotly-2.35.2.min.js\"></script>                <div id=\"334fe341-152f-46f4-ae22-e47419e9d014\" class=\"plotly-graph-div\" style=\"height:525px; width:100%;\"></div>            <script type=\"text/javascript\">                                    window.PLOTLYENV=window.PLOTLYENV || {};                                    if (document.getElementById(\"334fe341-152f-46f4-ae22-e47419e9d014\")) {                    Plotly.newPlot(                        \"334fe341-152f-46f4-ae22-e47419e9d014\",                        [{\"hoverinfo\":\"skip\",\"line\":{\"color\":\"lightgrey\",\"width\":1},\"mode\":\"lines\",\"showlegend\":false,\"x\":[-256.14,-256.14],\"y\":[-521.08,-521.08],\"z\":[-1441.93,-2453.06],\"type\":\"scatter3d\",\"uid\":\"ea1be376-88ed-47fc-8586-d6632796ae5c\"},{\"hoverinfo\":\"skip\",\"line\":{\"color\":\"lightgrey\",\"width\":1},\"mode\":\"lines\",\"showlegend\":false,\"x\":[-132.8,-132.8],\"y\":[-501.45,-501.45],\"z\":[-1441.93,-2453.06],\"type\":\"scatter3d\",\"uid\":\"ee41baf1-5491-4360-94c9-a1baa3a1f42d\"},{\"hoverinfo\":\"skip\",\"line\":{\"color\":\"lightgrey\",\"width\":1},\"mode\":\"lines\",\"showlegend\":false,\"x\":[-9.13,-9.13],\"y\":[-481.74,-481.74],\"z\":[-1441.93,-2453.06],\"type\":\"scatter3d\",\"uid\":\"763828a3-edf3-48b0-85a1-34e2e3adce5b\"},{\"hoverinfo\":\"skip\",\"line\":{\"color\":\"lightgrey\",\"width\":1},\"mode\":\"lines\",\"showlegend\":false,\"x\":[114.39,114.39],\"y\":[-461.99,-461.99],\"z\":[-1441.93,-2453.06],\"type\":\"scatter3d\",\"uid\":\"5684a689-6e90-4e01-90fb-9db1de281f1b\"},{\"hoverinfo\":\"skip\",\"line\":{\"color\":\"lightgrey\",\"width\":1},\"mode\":\"lines\",\"showlegend\":false,\"x\":[237.78,237.78],\"y\":[-442.42,-442.42],\"z\":[-1441.93,-2453.06],\"type\":\"scatter3d\",\"uid\":\"6539aff0-8a65-4956-8c95-dfdd3c632073\"},{\"hoverinfo\":\"skip\",\"line\":{\"color\":\"lightgrey\",\"width\":1},\"mode\":\"lines\",\"showlegend\":false,\"x\":[361.0,361.0],\"y\":[-422.83,-422.83],\"z\":[-1441.93,-2453.06],\"type\":\"scatter3d\",\"uid\":\"72f69a2d-ce0b-42ff-8841-15fed9e412c3\"},{\"hoverinfo\":\"skip\",\"line\":{\"color\":\"lightgrey\",\"width\":1},\"mode\":\"lines\",\"showlegend\":false,\"x\":[-334.8,-334.8],\"y\":[-424.5,-424.5],\"z\":[-1441.93,-2453.06],\"type\":\"scatter3d\",\"uid\":\"3f30be99-33ef-4923-ba2f-5bfeec71170c\"},{\"hoverinfo\":\"skip\",\"line\":{\"color\":\"lightgrey\",\"width\":1},\"mode\":\"lines\",\"showlegend\":false,\"x\":[-211.35,-211.35],\"y\":[-404.48,-404.48],\"z\":[-1441.93,-2453.06],\"type\":\"scatter3d\",\"uid\":\"f3a6043e-b15b-4c0e-b560-733ee18ca551\"},{\"hoverinfo\":\"skip\",\"line\":{\"color\":\"lightgrey\",\"width\":1},\"mode\":\"lines\",\"showlegend\":false,\"x\":[-88.05,-88.05],\"y\":[-384.3,-384.3],\"z\":[-1441.93,-2453.06],\"type\":\"scatter3d\",\"uid\":\"98ace26f-53a3-4758-8045-71cfc4ec34f2\"},{\"hoverinfo\":\"skip\",\"line\":{\"color\":\"lightgrey\",\"width\":1},\"mode\":\"lines\",\"showlegend\":false,\"x\":[35.54,35.54],\"y\":[-364.83,-364.83],\"z\":[-1441.93,-2453.06],\"type\":\"scatter3d\",\"uid\":\"1f1a1e05-aed5-49fd-971c-ebad0b61b904\"},{\"hoverinfo\":\"skip\",\"line\":{\"color\":\"lightgrey\",\"width\":1},\"mode\":\"lines\",\"showlegend\":false,\"x\":[158.94,158.94],\"y\":[-345.23,-345.23],\"z\":[-1441.93,-2453.06],\"type\":\"scatter3d\",\"uid\":\"b3fb7f3e-56d2-4d98-b359-9833d29dc90d\"},{\"hoverinfo\":\"skip\",\"line\":{\"color\":\"lightgrey\",\"width\":1},\"mode\":\"lines\",\"showlegend\":false,\"x\":[282.18,282.18],\"y\":[-325.74,-325.74],\"z\":[-1441.93,-2453.06],\"type\":\"scatter3d\",\"uid\":\"de7b28c3-c086-4711-ba35-c89ff1bbccac\"},{\"hoverinfo\":\"skip\",\"line\":{\"color\":\"lightgrey\",\"width\":1},\"mode\":\"lines\",\"showlegend\":false,\"x\":[405.83,405.83],\"y\":[-306.38,-306.38],\"z\":[-1441.93,-2453.06],\"type\":\"scatter3d\",\"uid\":\"63709396-b239-4a09-8106-7ec83b8ffd76\"},{\"hoverinfo\":\"skip\",\"line\":{\"color\":\"lightgrey\",\"width\":1},\"mode\":\"lines\",\"showlegend\":false,\"x\":[-413.46,-413.46],\"y\":[-327.27,-327.27],\"z\":[-1441.93,-2453.06],\"type\":\"scatter3d\",\"uid\":\"5907929a-2424-4387-9d3d-f2ad577d2591\"},{\"hoverinfo\":\"skip\",\"line\":{\"color\":\"lightgrey\",\"width\":1},\"mode\":\"lines\",\"showlegend\":false,\"x\":[-290.66,-290.66],\"y\":[-307.38,-307.38],\"z\":[-1441.93,-2453.06],\"type\":\"scatter3d\",\"uid\":\"1da792d1-5e38-48a8-ab92-0b46d30f033f\"},{\"hoverinfo\":\"skip\",\"line\":{\"color\":\"lightgrey\",\"width\":1},\"mode\":\"lines\",\"showlegend\":false,\"x\":[-166.4,-166.4],\"y\":[-287.79,-287.79],\"z\":[-1441.93,-2453.06],\"type\":\"scatter3d\",\"uid\":\"9a69f99f-9e82-4e97-b823-672b2c39c810\"},{\"hoverinfo\":\"skip\",\"line\":{\"color\":\"lightgrey\",\"width\":1},\"mode\":\"lines\",\"showlegend\":false,\"x\":[-43.27,-43.27],\"y\":[-267.52,-267.52],\"z\":[-1441.93,-2453.06],\"type\":\"scatter3d\",\"uid\":\"446faed4-2f08-45c1-bc9b-cd2f17a97d08\"},{\"hoverinfo\":\"skip\",\"line\":{\"color\":\"lightgrey\",\"width\":1},\"mode\":\"lines\",\"showlegend\":false,\"x\":[79.41,79.41],\"y\":[-248.24,-248.24],\"z\":[-1441.93,-2453.06],\"type\":\"scatter3d\",\"uid\":\"43e3c642-c5bb-43fd-b364-14b2c8eb330d\"},{\"hoverinfo\":\"skip\",\"line\":{\"color\":\"lightgrey\",\"width\":1},\"mode\":\"lines\",\"showlegend\":false,\"x\":[210.47,210.47],\"y\":[-209.77,-209.77],\"z\":[-1441.93,-2453.06],\"type\":\"scatter3d\",\"uid\":\"4adb5f28-bae5-49f8-a397-2b8aff93ddf4\"},{\"hoverinfo\":\"skip\",\"line\":{\"color\":\"lightgrey\",\"width\":1},\"mode\":\"lines\",\"showlegend\":false,\"x\":[326.85,326.85],\"y\":[-209.07,-209.07],\"z\":[-1441.93,-2453.06],\"type\":\"scatter3d\",\"uid\":\"ec27d59b-081b-467f-949d-fc8d5525a1d8\"},{\"hoverinfo\":\"skip\",\"line\":{\"color\":\"lightgrey\",\"width\":1},\"mode\":\"lines\",\"showlegend\":false,\"x\":[443.55,443.55],\"y\":[-194.16,-194.16],\"z\":[-1441.93,-2453.06],\"type\":\"scatter3d\",\"uid\":\"be2dc519-f157-464e-9b10-0d2903752f21\"},{\"hoverinfo\":\"skip\",\"line\":{\"color\":\"lightgrey\",\"width\":1},\"mode\":\"lines\",\"showlegend\":false,\"x\":[-492.43,-492.43],\"y\":[-230.16,-230.16],\"z\":[-1441.93,-2453.06],\"type\":\"scatter3d\",\"uid\":\"884c2b28-810e-4f85-a503-0b7aa73b2539\"},{\"hoverinfo\":\"skip\",\"line\":{\"color\":\"lightgrey\",\"width\":1},\"mode\":\"lines\",\"showlegend\":false,\"x\":[-368.93,-368.93],\"y\":[-210.23,-210.23],\"z\":[-1441.93,-2453.06],\"type\":\"scatter3d\",\"uid\":\"6776cc02-9ed1-4631-a718-732fc2b41355\"},{\"hoverinfo\":\"skip\",\"line\":{\"color\":\"lightgrey\",\"width\":1},\"mode\":\"lines\",\"showlegend\":false,\"x\":[-245.65,-245.65],\"y\":[-190.49,-190.49],\"z\":[-1441.93,-2453.06],\"type\":\"scatter3d\",\"uid\":\"5e249a44-22df-43e5-9c35-fbac17221830\"},{\"hoverinfo\":\"skip\",\"line\":{\"color\":\"lightgrey\",\"width\":1},\"mode\":\"lines\",\"showlegend\":false,\"x\":[-121.77,-121.77],\"y\":[-171.03,-171.03],\"z\":[-1441.93,-2453.06],\"type\":\"scatter3d\",\"uid\":\"c92faa64-7980-4664-9b0f-02ef2886eade\"},{\"hoverinfo\":\"skip\",\"line\":{\"color\":\"lightgrey\",\"width\":1},\"mode\":\"lines\",\"showlegend\":false,\"x\":[1.71,1.71],\"y\":[-150.63,-150.63],\"z\":[-1441.93,-2453.06],\"type\":\"scatter3d\",\"uid\":\"e890bf60-3f95-47c7-8339-a9d8225131ba\"},{\"hoverinfo\":\"skip\",\"line\":{\"color\":\"lightgrey\",\"width\":1},\"mode\":\"lines\",\"showlegend\":false,\"x\":[124.97,124.97],\"y\":[-131.25,-131.25],\"z\":[-1441.93,-2453.06],\"type\":\"scatter3d\",\"uid\":\"2bbd0a0c-df29-4d91-aad9-6d10c3b35508\"},{\"hoverinfo\":\"skip\",\"line\":{\"color\":\"lightgrey\",\"width\":1},\"mode\":\"lines\",\"showlegend\":false,\"x\":[248.15,248.15],\"y\":[-111.87,-111.87],\"z\":[-1441.93,-2453.06],\"type\":\"scatter3d\",\"uid\":\"9b1e8185-8db7-4c7f-a6ec-58fb10b82e99\"},{\"hoverinfo\":\"skip\",\"line\":{\"color\":\"lightgrey\",\"width\":1},\"mode\":\"lines\",\"showlegend\":false,\"x\":[371.56,371.56],\"y\":[-92.18,-92.18],\"z\":[-1441.93,-2453.06],\"type\":\"scatter3d\",\"uid\":\"c9385313-fa77-488f-9981-4873a5744d1f\"},{\"hoverinfo\":\"skip\",\"line\":{\"color\":\"lightgrey\",\"width\":1},\"mode\":\"lines\",\"showlegend\":false,\"x\":[500.43,500.43],\"y\":[-58.45,-58.45],\"z\":[-1441.93,-2453.06],\"type\":\"scatter3d\",\"uid\":\"ee806a85-a7ed-495e-80ab-38e9a2dcfe7e\"},{\"hoverinfo\":\"skip\",\"line\":{\"color\":\"lightgrey\",\"width\":1},\"mode\":\"lines\",\"showlegend\":false,\"x\":[-570.9,-570.9],\"y\":[-125.14,-125.14],\"z\":[-1441.93,-2453.06],\"type\":\"scatter3d\",\"uid\":\"f9e86f19-24e8-4aea-9945-f02cde91ca86\"},{\"hoverinfo\":\"skip\",\"line\":{\"color\":\"lightgrey\",\"width\":1},\"mode\":\"lines\",\"showlegend\":false,\"x\":[-447.74,-447.74],\"y\":[-113.13,-113.13],\"z\":[-1441.93,-2453.06],\"type\":\"scatter3d\",\"uid\":\"cfaa4d29-2938-460d-8429-3a398da42d5a\"},{\"hoverinfo\":\"skip\",\"line\":{\"color\":\"lightgrey\",\"width\":1},\"mode\":\"lines\",\"showlegend\":false,\"x\":[-324.39,-324.39],\"y\":[-93.43,-93.43],\"z\":[-1441.93,-2453.06],\"type\":\"scatter3d\",\"uid\":\"4dce363e-7532-486d-bce4-363b12ceb581\"},{\"hoverinfo\":\"skip\",\"line\":{\"color\":\"lightgrey\",\"width\":1},\"mode\":\"lines\",\"showlegend\":false,\"x\":[-200.55,-200.55],\"y\":[-74.03,-74.03],\"z\":[-1441.93,-2453.06],\"type\":\"scatter3d\",\"uid\":\"b7bd48f5-a259-4cc2-b79b-adc8461866ff\"},{\"hoverinfo\":\"skip\",\"line\":{\"color\":\"lightgrey\",\"width\":1},\"mode\":\"lines\",\"showlegend\":false,\"x\":[-77.8,-77.8],\"y\":[-54.33,-54.33],\"z\":[-1441.93,-2453.06],\"type\":\"scatter3d\",\"uid\":\"677b05b1-5f2b-4e9d-a12a-ef02651c57a4\"},{\"hoverinfo\":\"skip\",\"line\":{\"color\":\"lightgrey\",\"width\":1},\"mode\":\"lines\",\"showlegend\":false,\"x\":[46.29,46.29],\"y\":[-34.88,-34.88],\"z\":[-1441.93,-2453.06],\"type\":\"scatter3d\",\"uid\":\"967c2afc-105c-45e2-a34a-a4d8f2b29417\"},{\"hoverinfo\":\"skip\",\"line\":{\"color\":\"lightgrey\",\"width\":1},\"mode\":\"lines\",\"showlegend\":false,\"x\":[194.34,194.34],\"y\":[-30.92,-30.92],\"z\":[-1441.93,-2453.06],\"type\":\"scatter3d\",\"uid\":\"72fa16ca-5974-43f3-a2da-20805ae64f43\"},{\"hoverinfo\":\"skip\",\"line\":{\"color\":\"lightgrey\",\"width\":1},\"mode\":\"lines\",\"showlegend\":false,\"x\":[292.9,292.9],\"y\":[5.2,5.2],\"z\":[-1441.93,-2453.06],\"type\":\"scatter3d\",\"uid\":\"cbd95fa2-c3dd-48a1-be1e-b24d0e04508a\"},{\"hoverinfo\":\"skip\",\"line\":{\"color\":\"lightgrey\",\"width\":1},\"mode\":\"lines\",\"showlegend\":false,\"x\":[411.81,411.81],\"y\":[13.0,13.0],\"z\":[-1441.93,-2453.06],\"type\":\"scatter3d\",\"uid\":\"734d1bcd-bcf4-44ff-95ee-246f96165870\"},{\"hoverinfo\":\"skip\",\"line\":{\"color\":\"lightgrey\",\"width\":1},\"mode\":\"lines\",\"showlegend\":false,\"x\":[544.07,544.07],\"y\":[55.89,55.89],\"z\":[-1441.93,-2453.06],\"type\":\"scatter3d\",\"uid\":\"4f0b1c37-9dc5-4ab2-9fcd-53ebb8d7772c\"},{\"hoverinfo\":\"skip\",\"line\":{\"color\":\"lightgrey\",\"width\":1},\"mode\":\"lines\",\"showlegend\":false,\"x\":[-526.63,-526.63],\"y\":[-15.6,-15.6],\"z\":[-1441.93,-2453.06],\"type\":\"scatter3d\",\"uid\":\"8f73e088-932f-4acf-8a45-818197482d0c\"},{\"hoverinfo\":\"skip\",\"line\":{\"color\":\"lightgrey\",\"width\":1},\"mode\":\"lines\",\"showlegend\":false,\"x\":[-403.14,-403.14],\"y\":[3.49,3.49],\"z\":[-1441.93,-2453.06],\"type\":\"scatter3d\",\"uid\":\"3dbdab8a-70aa-410a-b0af-43bafc26f5b3\"},{\"hoverinfo\":\"skip\",\"line\":{\"color\":\"lightgrey\",\"width\":1},\"mode\":\"lines\",\"showlegend\":false,\"x\":[-279.53,-279.53],\"y\":[23.17,23.17],\"z\":[-1441.93,-2453.06],\"type\":\"scatter3d\",\"uid\":\"96d77ffb-56a1-4365-821f-3835e0792497\"},{\"hoverinfo\":\"skip\",\"line\":{\"color\":\"lightgrey\",\"width\":1},\"mode\":\"lines\",\"showlegend\":false,\"x\":[-156.23,-156.23],\"y\":[43.37,43.37],\"z\":[-1441.93,-2453.06],\"type\":\"scatter3d\",\"uid\":\"60423ed0-2b63-4f3a-91cd-7216d211e82e\"},{\"hoverinfo\":\"skip\",\"line\":{\"color\":\"lightgrey\",\"width\":1},\"mode\":\"lines\",\"showlegend\":false,\"x\":[-32.96,-32.96],\"y\":[62.44,62.44],\"z\":[-1441.93,-2453.06],\"type\":\"scatter3d\",\"uid\":\"7558e6c9-60dd-4066-8df9-c6fd70efae52\"},{\"hoverinfo\":\"skip\",\"line\":{\"color\":\"lightgrey\",\"width\":1},\"mode\":\"lines\",\"showlegend\":false,\"x\":[90.49,90.49],\"y\":[82.35,82.35],\"z\":[-1441.93,-2453.06],\"type\":\"scatter3d\",\"uid\":\"3876f200-84a1-4674-93a6-a91a4d9b9cd6\"},{\"hoverinfo\":\"skip\",\"line\":{\"color\":\"lightgrey\",\"width\":1},\"mode\":\"lines\",\"showlegend\":false,\"x\":[195.03,195.03],\"y\":[125.59,125.59],\"z\":[-1441.93,-2453.06],\"type\":\"scatter3d\",\"uid\":\"f0bb85b0-3ed4-4399-a346-380e60d3e7e6\"},{\"hoverinfo\":\"skip\",\"line\":{\"color\":\"lightgrey\",\"width\":1},\"mode\":\"lines\",\"showlegend\":false,\"x\":[330.03,330.03],\"y\":[127.2,127.2],\"z\":[-1441.93,-2453.06],\"type\":\"scatter3d\",\"uid\":\"fba63e9f-67b0-4fd7-9335-d2bc43fe7262\"},{\"hoverinfo\":\"skip\",\"line\":{\"color\":\"lightgrey\",\"width\":1},\"mode\":\"lines\",\"showlegend\":false,\"x\":[472.05,472.05],\"y\":[127.9,127.9],\"z\":[-1441.93,-2453.06],\"type\":\"scatter3d\",\"uid\":\"f7e615d2-f898-42f3-be19-271344622016\"},{\"hoverinfo\":\"skip\",\"line\":{\"color\":\"lightgrey\",\"width\":1},\"mode\":\"lines\",\"showlegend\":false,\"x\":[576.37,576.37],\"y\":[170.92,170.92],\"z\":[-1441.93,-2453.06],\"type\":\"scatter3d\",\"uid\":\"a9482ee7-2e7d-4348-b771-fbb7cf60359b\"},{\"hoverinfo\":\"skip\",\"line\":{\"color\":\"lightgrey\",\"width\":1},\"mode\":\"lines\",\"showlegend\":false,\"x\":[-481.6,-481.6],\"y\":[101.39,101.39],\"z\":[-1441.93,-2453.06],\"type\":\"scatter3d\",\"uid\":\"94e507cd-1c80-43cd-91c9-d4a3da03e46a\"},{\"hoverinfo\":\"skip\",\"line\":{\"color\":\"lightgrey\",\"width\":1},\"mode\":\"lines\",\"showlegend\":false,\"x\":[-358.44,-358.44],\"y\":[120.56,120.56],\"z\":[-1441.93,-2453.06],\"type\":\"scatter3d\",\"uid\":\"1e63d14e-77a1-4f24-9d31-d61bb8b5d156\"},{\"hoverinfo\":\"skip\",\"line\":{\"color\":\"lightgrey\",\"width\":1},\"mode\":\"lines\",\"showlegend\":false,\"x\":[-234.95,-234.95],\"y\":[140.44,140.44],\"z\":[-1441.93,-2453.06],\"type\":\"scatter3d\",\"uid\":\"2e100122-77af-41f1-91ae-30772b87cb00\"},{\"hoverinfo\":\"skip\",\"line\":{\"color\":\"lightgrey\",\"width\":1},\"mode\":\"lines\",\"showlegend\":false,\"x\":[-111.51,-111.51],\"y\":[159.98,159.98],\"z\":[-1441.93,-2453.06],\"type\":\"scatter3d\",\"uid\":\"9baa0fee-d107-466a-a09c-58cb06f48610\"},{\"hoverinfo\":\"skip\",\"line\":{\"color\":\"lightgrey\",\"width\":1},\"mode\":\"lines\",\"showlegend\":false,\"x\":[11.87,11.87],\"y\":[179.19,179.19],\"z\":[-1441.93,-2453.06],\"type\":\"scatter3d\",\"uid\":\"213c3477-acaa-4856-b120-0ad3cfe9dc50\"},{\"hoverinfo\":\"skip\",\"line\":{\"color\":\"lightgrey\",\"width\":1},\"mode\":\"lines\",\"showlegend\":false,\"x\":[132.03,132.03],\"y\":[202.98,202.98],\"z\":[-1441.93,-2453.06],\"type\":\"scatter3d\",\"uid\":\"28a7c1e8-d345-4fcd-8769-3707a4a254c3\"},{\"hoverinfo\":\"skip\",\"line\":{\"color\":\"lightgrey\",\"width\":1},\"mode\":\"lines\",\"showlegend\":false,\"x\":[257.31,257.31],\"y\":[211.66,211.66],\"z\":[-1441.93,-2453.06],\"type\":\"scatter3d\",\"uid\":\"f7b3e6d7-d347-4bda-b325-b6ec79c74dfd\"},{\"hoverinfo\":\"skip\",\"line\":{\"color\":\"lightgrey\",\"width\":1},\"mode\":\"lines\",\"showlegend\":false,\"x\":[382.35,382.35],\"y\":[238.9,238.9],\"z\":[-1441.93,-2453.06],\"type\":\"scatter3d\",\"uid\":\"8039ca3b-a3da-43a4-ac3a-116264ecdab0\"},{\"hoverinfo\":\"skip\",\"line\":{\"color\":\"lightgrey\",\"width\":1},\"mode\":\"lines\",\"showlegend\":false,\"x\":[505.27,505.27],\"y\":[257.88,257.88],\"z\":[-1441.93,-2453.06],\"type\":\"scatter3d\",\"uid\":\"cb60df22-b1da-47e5-897d-045eca221124\"},{\"hoverinfo\":\"skip\",\"line\":{\"color\":\"lightgrey\",\"width\":1},\"mode\":\"lines\",\"showlegend\":false,\"x\":[-437.04,-437.04],\"y\":[217.8,217.8],\"z\":[-1441.93,-2453.06],\"type\":\"scatter3d\",\"uid\":\"73467bf6-ecf7-40fe-8021-98f40769aebb\"},{\"hoverinfo\":\"skip\",\"line\":{\"color\":\"lightgrey\",\"width\":1},\"mode\":\"lines\",\"showlegend\":false,\"x\":[-313.6,-313.6],\"y\":[237.44,237.44],\"z\":[-1441.93,-2453.06],\"type\":\"scatter3d\",\"uid\":\"ac64be1d-f38e-4a19-98d7-737ed193df07\"},{\"hoverinfo\":\"skip\",\"line\":{\"color\":\"lightgrey\",\"width\":1},\"mode\":\"lines\",\"showlegend\":false,\"x\":[-189.98,-189.98],\"y\":[257.42,257.42],\"z\":[-1441.93,-2453.06],\"type\":\"scatter3d\",\"uid\":\"d69efa38-5dc2-492e-ae9b-fc93f193ce73\"},{\"hoverinfo\":\"skip\",\"line\":{\"color\":\"lightgrey\",\"width\":1},\"mode\":\"lines\",\"showlegend\":false,\"x\":[-66.7,-66.7],\"y\":[276.92,276.92],\"z\":[-1441.93,-2453.06],\"type\":\"scatter3d\",\"uid\":\"9e63c1ff-f174-4617-a328-e890696ab73d\"},{\"hoverinfo\":\"skip\",\"line\":{\"color\":\"lightgrey\",\"width\":1},\"mode\":\"lines\",\"showlegend\":false,\"x\":[54.26,54.26],\"y\":[292.97,292.97],\"z\":[-1441.93,-2453.06],\"type\":\"scatter3d\",\"uid\":\"224766a5-6b30-4aba-a821-ddea55884056\"},{\"hoverinfo\":\"skip\",\"line\":{\"color\":\"lightgrey\",\"width\":1},\"mode\":\"lines\",\"showlegend\":false,\"x\":[174.47,174.47],\"y\":[315.54,315.54],\"z\":[-1441.93,-2453.06],\"type\":\"scatter3d\",\"uid\":\"5514a71a-0ffa-4f5e-8960-7158f5c9b695\"},{\"hoverinfo\":\"skip\",\"line\":{\"color\":\"lightgrey\",\"width\":1},\"mode\":\"lines\",\"showlegend\":false,\"x\":[303.41,303.41],\"y\":[335.64,335.64],\"z\":[-1441.93,-2453.06],\"type\":\"scatter3d\",\"uid\":\"716e84fc-0160-497a-b384-0e5d0bb2c9fb\"},{\"hoverinfo\":\"skip\",\"line\":{\"color\":\"lightgrey\",\"width\":1},\"mode\":\"lines\",\"showlegend\":false,\"x\":[429.76,429.76],\"y\":[351.02,351.02],\"z\":[-1441.93,-2453.06],\"type\":\"scatter3d\",\"uid\":\"0c33cebd-21b5-4345-b966-3965b3df4237\"},{\"hoverinfo\":\"skip\",\"line\":{\"color\":\"lightgrey\",\"width\":1},\"mode\":\"lines\",\"showlegend\":false,\"x\":[-392.38,-392.38],\"y\":[334.24,334.24],\"z\":[-1441.93,-2453.06],\"type\":\"scatter3d\",\"uid\":\"d0e328bf-be97-42cd-9912-ee34672691d2\"},{\"hoverinfo\":\"skip\",\"line\":{\"color\":\"lightgrey\",\"width\":1},\"mode\":\"lines\",\"showlegend\":false,\"x\":[-268.9,-268.9],\"y\":[354.24,354.24],\"z\":[-1441.93,-2453.06],\"type\":\"scatter3d\",\"uid\":\"c348b1f2-56ef-4459-892c-13d72d191f7b\"},{\"hoverinfo\":\"skip\",\"line\":{\"color\":\"lightgrey\",\"width\":1},\"mode\":\"lines\",\"showlegend\":false,\"x\":[-145.45,-145.45],\"y\":[374.24,374.24],\"z\":[-1441.93,-2453.06],\"type\":\"scatter3d\",\"uid\":\"33e5798b-f0ff-4bbe-99c8-7c69f660a523\"},{\"hoverinfo\":\"skip\",\"line\":{\"color\":\"lightgrey\",\"width\":1},\"mode\":\"lines\",\"showlegend\":false,\"x\":[-21.97,-21.97],\"y\":[393.24,393.24],\"z\":[-1441.93,-2453.06],\"type\":\"scatter3d\",\"uid\":\"4d61e772-2cb4-4388-8211-02408c55e8a5\"},{\"hoverinfo\":\"skip\",\"line\":{\"color\":\"lightgrey\",\"width\":1},\"mode\":\"lines\",\"showlegend\":false,\"x\":[101.04,101.04],\"y\":[412.79,412.79],\"z\":[-1441.93,-2453.06],\"type\":\"scatter3d\",\"uid\":\"324edd5d-4176-4262-87e5-744b9d27c12d\"},{\"hoverinfo\":\"skip\",\"line\":{\"color\":\"lightgrey\",\"width\":1},\"mode\":\"lines\",\"showlegend\":false,\"x\":[224.58,224.58],\"y\":[432.35,432.35],\"z\":[-1441.93,-2453.06],\"type\":\"scatter3d\",\"uid\":\"58ffe9ab-f051-4a14-90b9-f01bc87fd045\"},{\"hoverinfo\":\"skip\",\"line\":{\"color\":\"lightgrey\",\"width\":1},\"mode\":\"lines\",\"showlegend\":false,\"x\":[338.44,338.44],\"y\":[463.72,463.72],\"z\":[-1441.93,-2453.06],\"type\":\"scatter3d\",\"uid\":\"f028e249-510a-486d-bcc8-168fb346ee9c\"},{\"hoverinfo\":\"skip\",\"line\":{\"color\":\"lightgrey\",\"width\":1},\"mode\":\"lines\",\"showlegend\":false,\"x\":[-347.88,-347.88],\"y\":[451.52,451.52],\"z\":[-1441.93,-2453.06],\"type\":\"scatter3d\",\"uid\":\"2a7982a2-48eb-465d-b8f6-16ee10144ab9\"},{\"hoverinfo\":\"skip\",\"line\":{\"color\":\"lightgrey\",\"width\":1},\"mode\":\"lines\",\"showlegend\":false,\"x\":[-224.09,-224.09],\"y\":[470.86,470.86],\"z\":[-1441.93,-2453.06],\"type\":\"scatter3d\",\"uid\":\"908cedb5-5f6d-4e04-92f5-c3605d334cdc\"},{\"hoverinfo\":\"skip\",\"line\":{\"color\":\"lightgrey\",\"width\":1},\"mode\":\"lines\",\"showlegend\":false,\"x\":[-101.06,-101.06],\"y\":[490.22,490.22],\"z\":[-1441.93,-2453.06],\"type\":\"scatter3d\",\"uid\":\"9c54a2af-53d8-4749-a9d4-6fb01cbd13a6\"},{\"hoverinfo\":\"skip\",\"line\":{\"color\":\"lightgrey\",\"width\":1},\"mode\":\"lines\",\"showlegend\":false,\"x\":[22.11,22.11],\"y\":[509.5,509.5],\"z\":[-1441.93,-2453.06],\"type\":\"scatter3d\",\"uid\":\"deaf1aa1-038f-4d78-b693-540901cf3eb1\"},{\"hoverinfo\":\"skip\",\"line\":{\"color\":\"lightgrey\",\"width\":1},\"mode\":\"lines\",\"showlegend\":false,\"x\":[31.25,31.25],\"y\":[-72.93,-72.93],\"z\":[-1441.93,-2453.06],\"type\":\"scatter3d\",\"uid\":\"d26a191b-c650-42f9-bbf0-1e0362e0ea5b\"},{\"hoverinfo\":\"skip\",\"line\":{\"color\":\"lightgrey\",\"width\":1},\"mode\":\"lines\",\"showlegend\":false,\"x\":[72.37,72.37],\"y\":[-66.6,-66.6],\"z\":[-1441.93,-2453.06],\"type\":\"scatter3d\",\"uid\":\"2d462e2b-24b0-40c8-bb6e-805a970beb4c\"},{\"hoverinfo\":\"skip\",\"line\":{\"color\":\"lightgrey\",\"width\":1},\"mode\":\"lines\",\"showlegend\":false,\"x\":[41.6,41.6],\"y\":[35.49,35.49],\"z\":[-1441.93,-2453.06],\"type\":\"scatter3d\",\"uid\":\"4966aae5-79ce-4e75-9cc6-54a0a5923874\"},{\"hoverinfo\":\"skip\",\"line\":{\"color\":\"lightgrey\",\"width\":1},\"mode\":\"lines\",\"showlegend\":false,\"x\":[106.94,106.94],\"y\":[27.09,27.09],\"z\":[-1441.93,-2453.06],\"type\":\"scatter3d\",\"uid\":\"7ccf2487-c77c-479f-ba16-b19687156d03\"},{\"hoverinfo\":\"skip\",\"line\":{\"color\":\"lightgrey\",\"width\":1},\"mode\":\"lines\",\"showlegend\":false,\"x\":[113.19,113.19],\"y\":[-60.47,-60.47],\"z\":[-1441.93,-2453.06],\"type\":\"scatter3d\",\"uid\":\"0efc5900-7b7a-4a39-82dc-753ed3622d39\"},{\"hoverinfo\":\"skip\",\"line\":{\"color\":\"lightgrey\",\"width\":1},\"mode\":\"lines\",\"showlegend\":false,\"x\":[57.2,57.2],\"y\":[-105.52,-105.52],\"z\":[-1441.93,-2453.06],\"type\":\"scatter3d\",\"uid\":\"11f885ac-6459-4e84-8680-1bd5b5c6de62\"},{\"hoverinfo\":\"skip\",\"line\":{\"color\":\"lightgrey\",\"width\":1},\"mode\":\"lines\",\"showlegend\":false,\"x\":[-9.68,-9.68],\"y\":[-79.5,-79.5],\"z\":[-1441.93,-2453.06],\"type\":\"scatter3d\",\"uid\":\"045e1c67-e13c-4d75-bce7-03a29a13e8af\"},{\"hoverinfo\":\"skip\",\"line\":{\"color\":\"lightgrey\",\"width\":1},\"mode\":\"lines\",\"showlegend\":false,\"x\":[-10.97,-10.97],\"y\":[6.72,6.72],\"z\":[-1441.93,-2453.06],\"type\":\"scatter3d\",\"uid\":\"abf94720-be19-40a4-8fe8-068d093f20f7\"},{\"hoverinfo\":\"skip\",\"line\":{\"color\":\"grey\",\"width\":1},\"mode\":\"lines\",\"showlegend\":false,\"x\":[-347.88,-570.9,-256.14,361.0,576.37,338.44,101.04,22.11,-347.88],\"y\":[451.52,-125.14,-521.08,-422.83,170.92,463.72,412.79,509.5,451.52],\"z\":[-2453.06,-2453.06,-2453.06,-2453.06,-2453.06,-2453.06,-2453.06,-2453.06,-2453.06,-2453.06,-2453.06,-2453.06,-2453.06,-2453.06,-2453.06,-2453.06,-2453.06,-2453.06,-2453.06,-2453.06,-2453.06,-2453.06,-2453.06,-2453.06,-2453.06,-2453.06,-2453.06,-2453.06,-2453.06,-2453.06,-2453.06,-2453.06,-2453.06,-2453.06,-2453.06,-2453.06,-2453.06,-2453.06,-2453.06,-2453.06,-2453.06,-2453.06,-2453.06,-2453.06,-2453.06,-2453.06,-2453.06,-2453.06,-2453.06,-2453.06,-2453.06,-2453.06,-2453.06,-2453.06,-2453.06,-2453.06,-2453.06,-2453.06,-2453.06,-2453.06,-2453.06,-2453.06,-2453.06,-2453.06,-2453.06,-2453.06,-2453.06,-2453.06,-2453.06,-2453.06,-2453.06,-2453.06,-2453.06,-2453.06,-2453.06,-2453.06,-2453.06,-2453.06,-2453.06,-2453.06,-2453.06,-2453.06,-2453.06,-2453.06,-2453.06,-2453.06],\"type\":\"scatter3d\",\"uid\":\"b62ad82d-6ebd-4597-926e-18c32fc600b9\"},{\"hoverinfo\":\"skip\",\"line\":{\"color\":\"grey\",\"width\":1},\"mode\":\"lines\",\"showlegend\":false,\"x\":[-347.88,-570.9,-256.14,361.0,576.37,338.44,101.04,22.11,-347.88],\"y\":[451.52,-125.14,-521.08,-422.83,170.92,463.72,412.79,509.5,451.52],\"z\":[-1441.93,-1441.93,-1441.93,-1441.93,-1441.93,-1441.93,-1441.93,-1441.93,-1441.93,-1441.93,-1441.93,-1441.93,-1441.93,-1441.93,-1441.93,-1441.93,-1441.93,-1441.93,-1441.93,-1441.93,-1441.93,-1441.93,-1441.93,-1441.93,-1441.93,-1441.93,-1441.93,-1441.93,-1441.93,-1441.93,-1441.93,-1441.93,-1441.93,-1441.93,-1441.93,-1441.93,-1441.93,-1441.93,-1441.93,-1441.93,-1441.93,-1441.93,-1441.93,-1441.93,-1441.93,-1441.93,-1441.93,-1441.93,-1441.93,-1441.93,-1441.93,-1441.93,-1441.93,-1441.93,-1441.93,-1441.93,-1441.93,-1441.93,-1441.93,-1441.93,-1441.93,-1441.93,-1441.93,-1441.93,-1441.93,-1441.93,-1441.93,-1441.93,-1441.93,-1441.93,-1441.93,-1441.93,-1441.93,-1441.93,-1441.93,-1441.93,-1441.93,-1441.93,-1441.93,-1441.93,-1441.93,-1441.93,-1441.93,-1441.93,-1441.93,-1441.93],\"type\":\"scatter3d\",\"uid\":\"9240a0b1-2580-4413-a87c-4598227f5257\"},{\"customdata\":[4539.899902,3563.517578,4036.598877,3446.496826,3012.672852,2932.354492,3253.431396,3554.935791,2757.04834,2555.645752,2466.915771,2396.556885,2980.839844,6278.332031,2322.358887,2430.620361,2428.827637,2522.25415,2348.917969,2560.024658,1960.547729,2309.817383,1797.987061,1769.792603,1917.097046,1880.280884,1580.367798,1516.188843,1666.831299,1277.713501,1240.003296,1286.357788,1033.954712,812.980164,1259.831543,587.821106,808.811829,424.043365,635.756653,546.29187,651.227417,1088.476929],\"hoverinfo\":[\"x\",\"y\",\"z\",\"text\"],\"hovertemplate\":\"x: %{x} m, y: %{y} m, z: %{z} m, t: %{customdata} ns\",\"hovertext\":[\"-2160.28 ns\",\"-1992.60 ns\",\"-1973.11 ns\",\"-2003.35 ns\",\"-1969.31 ns\",\"-1952.29 ns\",\"-1867.18 ns\",\"-1850.16 ns\",\"-1973.01 ns\",\"-1938.97 ns\",\"-1921.95 ns\",\"-1904.93 ns\",\"-1853.86 ns\",\"-1928.84 ns\",\"-1799.83 ns\",\"-1923.68 ns\",\"-1906.66 ns\",\"-1872.61 ns\",\"-1812.11 ns\",\"-1830.56 ns\",\"-1820.55 ns\",\"-1810.54 ns\",\"-1841.84 ns\",\"-1831.83 ns\",\"-1791.78 ns\",\"-1852.47 ns\",\"-1818.43 ns\",\"-1784.39 ns\",\"-1780.06 ns\",\"-1763.04 ns\",\"-1729.00 ns\",\"-1694.96 ns\",\"-1718.67 ns\",\"-1701.65 ns\",\"-1684.63 ns\",\"-1718.55 ns\",\"-1701.53 ns\",\"-1684.51 ns\",\"-1667.49 ns\",\"-1650.46 ns\",\"-1633.44 ns\",\"-1700.60 ns\"],\"marker\":{\"color\":[4539.899902,3563.517578,4036.598877,3446.496826,3012.672852,2932.354492,3253.431396,3554.935791,2757.04834,2555.645752,2466.915771,2396.556885,2980.839844,6278.332031,2322.358887,2430.620361,2428.827637,2522.25415,2348.917969,2560.024658,1960.547729,2309.817383,1797.987061,1769.792603,1917.097046,1880.280884,1580.367798,1516.188843,1666.831299,1277.713501,1240.003296,1286.357788,1033.954712,812.980164,1259.831543,587.821106,808.811829,424.043365,635.756653,546.29187,651.227417,1088.476929],\"colorscale\":[[0.0,\"rgb(255,0,0)\"],[0.125,\"rgb(255,111,0)\"],[0.25,\"rgb(255,234,0)\"],[0.375,\"rgb(151,255,0)\"],[0.5,\"rgb(44,255,150)\"],[0.625,\"rgb(0,152,255)\"],[0.75,\"rgb(0,25,255)\"],[0.875,\"rgb(0,0,200)\"],[1.0,\"rgb(150,0,90)\"]],\"size\":4},\"mode\":\"markers\",\"name\":\"current_evt\",\"showlegend\":false,\"x\":[-526.63,-324.39,-279.53,-200.55,-200.55,-200.55,-200.55,-200.55,-77.8,-77.8,-77.8,-77.8,-77.8,-32.96,31.25,46.29,46.29,46.29,57.2,72.37,72.37,72.37,113.19,113.19,113.19,194.34,194.34,194.34,292.9,292.9,292.9,292.9,411.81,411.81,411.81,500.43,500.43,500.43,500.43,500.43,500.43,544.07],\"y\":[-15.6,-93.43,23.17,-74.03,-74.03,-74.03,-74.03,-74.03,-54.33,-54.33,-54.33,-54.33,-54.33,62.44,-72.93,-34.88,-34.88,-34.88,-105.52,-66.6,-66.6,-66.6,-60.47,-60.47,-60.47,-30.92,-30.92,-30.92,5.2,5.2,5.2,5.2,13.0,13.0,13.0,-58.45,-58.45,-58.45,-58.45,-58.45,-58.45,55.89],\"z\":[-2160.28,-1992.6,-1973.11,-2003.35,-1969.31,-1952.29,-1867.18,-1850.16,-1973.01,-1938.97,-1921.95,-1904.93,-1853.86,-1928.84,-1799.83,-1923.68,-1906.66,-1872.61,-1812.11,-1830.56,-1820.55,-1810.54,-1841.84,-1831.83,-1791.78,-1852.47,-1818.43,-1784.39,-1780.06,-1763.04,-1729.0,-1694.96,-1718.67,-1701.65,-1684.63,-1718.55,-1701.53,-1684.51,-1667.49,-1650.46,-1633.44,-1700.6],\"type\":\"scatter3d\",\"uid\":\"4c7c2532-19c4-44d8-85e9-f427f966abba\"},{\"line\":{\"color\":\"hotpink\",\"width\":6},\"mode\":\"lines\",\"name\":\"arrow_line\",\"showlegend\":false,\"x\":[509.8767964510212,-424.7526206268454],\"y\":[-25.23310239709126,-70.86096353697467],\"z\":[-1684.3452901997027,-2037.0292152948034],\"type\":\"scatter3d\",\"uid\":\"be204f49-ecdf-47b5-a650-e8f6c8795284\"},{\"anchor\":\"center\",\"colorscale\":[[0,\"hotpink\"],[1,\"hotpink\"]],\"name\":\"arrow_head\",\"showscale\":false,\"sizemode\":\"absolute\",\"sizeref\":100,\"u\":[-18.692588341557332],\"v\":[-0.9125572227976682],\"w\":[-7.053678501902016],\"x\":[-424.7526206268454],\"y\":[-70.86096353697467],\"z\":[-2037.0292152948034],\"type\":\"cone\",\"uid\":\"ada8d422-62c5-46e1-89bf-edd05bc38a5a\"}],                        {\"margin\":{\"b\":40,\"l\":20,\"r\":20,\"t\":40},\"scene\":{\"camera\":{\"center\":{\"x\":0,\"y\":0,\"z\":0},\"eye\":{\"x\":0.9848077530122082,\"y\":1.7057370639048863,\"z\":0.34729635533386066},\"up\":{\"x\":0,\"y\":0,\"z\":1}},\"xaxis\":{\"backgroundcolor\":\"whitesmoke\",\"showgrid\":false,\"showspikes\":false,\"showticklabels\":false,\"title\":{\"text\":\"\"}},\"yaxis\":{\"backgroundcolor\":\"whitesmoke\",\"showgrid\":false,\"showspikes\":false,\"showticklabels\":false,\"title\":{\"text\":\"\"}},\"zaxis\":{\"backgroundcolor\":\"whitesmoke\",\"showgrid\":false,\"showspikes\":false,\"showticklabels\":false,\"title\":{\"text\":\"\"}}},\"template\":{\"data\":{\"barpolar\":[{\"marker\":{\"line\":{\"color\":\"#E5ECF6\",\"width\":0.5},\"pattern\":{\"fillmode\":\"overlay\",\"size\":10,\"solidity\":0.2}},\"type\":\"barpolar\"}],\"bar\":[{\"error_x\":{\"color\":\"#2a3f5f\"},\"error_y\":{\"color\":\"#2a3f5f\"},\"marker\":{\"line\":{\"color\":\"#E5ECF6\",\"width\":0.5},\"pattern\":{\"fillmode\":\"overlay\",\"size\":10,\"solidity\":0.2}},\"type\":\"bar\"}],\"carpet\":[{\"aaxis\":{\"endlinecolor\":\"#2a3f5f\",\"gridcolor\":\"white\",\"linecolor\":\"white\",\"minorgridcolor\":\"white\",\"startlinecolor\":\"#2a3f5f\"},\"baxis\":{\"endlinecolor\":\"#2a3f5f\",\"gridcolor\":\"white\",\"linecolor\":\"white\",\"minorgridcolor\":\"white\",\"startlinecolor\":\"#2a3f5f\"},\"type\":\"carpet\"}],\"choropleth\":[{\"colorbar\":{\"outlinewidth\":0,\"ticks\":\"\"},\"type\":\"choropleth\"}],\"contourcarpet\":[{\"colorbar\":{\"outlinewidth\":0,\"ticks\":\"\"},\"type\":\"contourcarpet\"}],\"contour\":[{\"colorbar\":{\"outlinewidth\":0,\"ticks\":\"\"},\"colorscale\":[[0.0,\"#0d0887\"],[0.1111111111111111,\"#46039f\"],[0.2222222222222222,\"#7201a8\"],[0.3333333333333333,\"#9c179e\"],[0.4444444444444444,\"#bd3786\"],[0.5555555555555556,\"#d8576b\"],[0.6666666666666666,\"#ed7953\"],[0.7777777777777778,\"#fb9f3a\"],[0.8888888888888888,\"#fdca26\"],[1.0,\"#f0f921\"]],\"type\":\"contour\"}],\"heatmapgl\":[{\"colorbar\":{\"outlinewidth\":0,\"ticks\":\"\"},\"colorscale\":[[0.0,\"#0d0887\"],[0.1111111111111111,\"#46039f\"],[0.2222222222222222,\"#7201a8\"],[0.3333333333333333,\"#9c179e\"],[0.4444444444444444,\"#bd3786\"],[0.5555555555555556,\"#d8576b\"],[0.6666666666666666,\"#ed7953\"],[0.7777777777777778,\"#fb9f3a\"],[0.8888888888888888,\"#fdca26\"],[1.0,\"#f0f921\"]],\"type\":\"heatmapgl\"}],\"heatmap\":[{\"colorbar\":{\"outlinewidth\":0,\"ticks\":\"\"},\"colorscale\":[[0.0,\"#0d0887\"],[0.1111111111111111,\"#46039f\"],[0.2222222222222222,\"#7201a8\"],[0.3333333333333333,\"#9c179e\"],[0.4444444444444444,\"#bd3786\"],[0.5555555555555556,\"#d8576b\"],[0.6666666666666666,\"#ed7953\"],[0.7777777777777778,\"#fb9f3a\"],[0.8888888888888888,\"#fdca26\"],[1.0,\"#f0f921\"]],\"type\":\"heatmap\"}],\"histogram2dcontour\":[{\"colorbar\":{\"outlinewidth\":0,\"ticks\":\"\"},\"colorscale\":[[0.0,\"#0d0887\"],[0.1111111111111111,\"#46039f\"],[0.2222222222222222,\"#7201a8\"],[0.3333333333333333,\"#9c179e\"],[0.4444444444444444,\"#bd3786\"],[0.5555555555555556,\"#d8576b\"],[0.6666666666666666,\"#ed7953\"],[0.7777777777777778,\"#fb9f3a\"],[0.8888888888888888,\"#fdca26\"],[1.0,\"#f0f921\"]],\"type\":\"histogram2dcontour\"}],\"histogram2d\":[{\"colorbar\":{\"outlinewidth\":0,\"ticks\":\"\"},\"colorscale\":[[0.0,\"#0d0887\"],[0.1111111111111111,\"#46039f\"],[0.2222222222222222,\"#7201a8\"],[0.3333333333333333,\"#9c179e\"],[0.4444444444444444,\"#bd3786\"],[0.5555555555555556,\"#d8576b\"],[0.6666666666666666,\"#ed7953\"],[0.7777777777777778,\"#fb9f3a\"],[0.8888888888888888,\"#fdca26\"],[1.0,\"#f0f921\"]],\"type\":\"histogram2d\"}],\"histogram\":[{\"marker\":{\"pattern\":{\"fillmode\":\"overlay\",\"size\":10,\"solidity\":0.2}},\"type\":\"histogram\"}],\"mesh3d\":[{\"colorbar\":{\"outlinewidth\":0,\"ticks\":\"\"},\"type\":\"mesh3d\"}],\"parcoords\":[{\"line\":{\"colorbar\":{\"outlinewidth\":0,\"ticks\":\"\"}},\"type\":\"parcoords\"}],\"pie\":[{\"automargin\":true,\"type\":\"pie\"}],\"scatter3d\":[{\"line\":{\"colorbar\":{\"outlinewidth\":0,\"ticks\":\"\"}},\"marker\":{\"colorbar\":{\"outlinewidth\":0,\"ticks\":\"\"}},\"type\":\"scatter3d\"}],\"scattercarpet\":[{\"marker\":{\"colorbar\":{\"outlinewidth\":0,\"ticks\":\"\"}},\"type\":\"scattercarpet\"}],\"scattergeo\":[{\"marker\":{\"colorbar\":{\"outlinewidth\":0,\"ticks\":\"\"}},\"type\":\"scattergeo\"}],\"scattergl\":[{\"marker\":{\"colorbar\":{\"outlinewidth\":0,\"ticks\":\"\"}},\"type\":\"scattergl\"}],\"scattermapbox\":[{\"marker\":{\"colorbar\":{\"outlinewidth\":0,\"ticks\":\"\"}},\"type\":\"scattermapbox\"}],\"scatterpolargl\":[{\"marker\":{\"colorbar\":{\"outlinewidth\":0,\"ticks\":\"\"}},\"type\":\"scatterpolargl\"}],\"scatterpolar\":[{\"marker\":{\"colorbar\":{\"outlinewidth\":0,\"ticks\":\"\"}},\"type\":\"scatterpolar\"}],\"scatter\":[{\"fillpattern\":{\"fillmode\":\"overlay\",\"size\":10,\"solidity\":0.2},\"type\":\"scatter\"}],\"scatterternary\":[{\"marker\":{\"colorbar\":{\"outlinewidth\":0,\"ticks\":\"\"}},\"type\":\"scatterternary\"}],\"surface\":[{\"colorbar\":{\"outlinewidth\":0,\"ticks\":\"\"},\"colorscale\":[[0.0,\"#0d0887\"],[0.1111111111111111,\"#46039f\"],[0.2222222222222222,\"#7201a8\"],[0.3333333333333333,\"#9c179e\"],[0.4444444444444444,\"#bd3786\"],[0.5555555555555556,\"#d8576b\"],[0.6666666666666666,\"#ed7953\"],[0.7777777777777778,\"#fb9f3a\"],[0.8888888888888888,\"#fdca26\"],[1.0,\"#f0f921\"]],\"type\":\"surface\"}],\"table\":[{\"cells\":{\"fill\":{\"color\":\"#EBF0F8\"},\"line\":{\"color\":\"white\"}},\"header\":{\"fill\":{\"color\":\"#C8D4E3\"},\"line\":{\"color\":\"white\"}},\"type\":\"table\"}]},\"layout\":{\"annotationdefaults\":{\"arrowcolor\":\"#2a3f5f\",\"arrowhead\":0,\"arrowwidth\":1},\"autotypenumbers\":\"strict\",\"coloraxis\":{\"colorbar\":{\"outlinewidth\":0,\"ticks\":\"\"}},\"colorscale\":{\"diverging\":[[0,\"#8e0152\"],[0.1,\"#c51b7d\"],[0.2,\"#de77ae\"],[0.3,\"#f1b6da\"],[0.4,\"#fde0ef\"],[0.5,\"#f7f7f7\"],[0.6,\"#e6f5d0\"],[0.7,\"#b8e186\"],[0.8,\"#7fbc41\"],[0.9,\"#4d9221\"],[1,\"#276419\"]],\"sequential\":[[0.0,\"#0d0887\"],[0.1111111111111111,\"#46039f\"],[0.2222222222222222,\"#7201a8\"],[0.3333333333333333,\"#9c179e\"],[0.4444444444444444,\"#bd3786\"],[0.5555555555555556,\"#d8576b\"],[0.6666666666666666,\"#ed7953\"],[0.7777777777777778,\"#fb9f3a\"],[0.8888888888888888,\"#fdca26\"],[1.0,\"#f0f921\"]],\"sequentialminus\":[[0.0,\"#0d0887\"],[0.1111111111111111,\"#46039f\"],[0.2222222222222222,\"#7201a8\"],[0.3333333333333333,\"#9c179e\"],[0.4444444444444444,\"#bd3786\"],[0.5555555555555556,\"#d8576b\"],[0.6666666666666666,\"#ed7953\"],[0.7777777777777778,\"#fb9f3a\"],[0.8888888888888888,\"#fdca26\"],[1.0,\"#f0f921\"]]},\"colorway\":[\"#636efa\",\"#EF553B\",\"#00cc96\",\"#ab63fa\",\"#FFA15A\",\"#19d3f3\",\"#FF6692\",\"#B6E880\",\"#FF97FF\",\"#FECB52\"],\"font\":{\"color\":\"#2a3f5f\"},\"geo\":{\"bgcolor\":\"white\",\"lakecolor\":\"white\",\"landcolor\":\"#E5ECF6\",\"showlakes\":true,\"showland\":true,\"subunitcolor\":\"white\"},\"hoverlabel\":{\"align\":\"left\"},\"hovermode\":\"closest\",\"mapbox\":{\"style\":\"light\"},\"paper_bgcolor\":\"white\",\"plot_bgcolor\":\"#E5ECF6\",\"polar\":{\"angularaxis\":{\"gridcolor\":\"white\",\"linecolor\":\"white\",\"ticks\":\"\"},\"bgcolor\":\"#E5ECF6\",\"radialaxis\":{\"gridcolor\":\"white\",\"linecolor\":\"white\",\"ticks\":\"\"}},\"scene\":{\"xaxis\":{\"backgroundcolor\":\"#E5ECF6\",\"gridcolor\":\"white\",\"gridwidth\":2,\"linecolor\":\"white\",\"showbackground\":true,\"ticks\":\"\",\"zerolinecolor\":\"white\"},\"yaxis\":{\"backgroundcolor\":\"#E5ECF6\",\"gridcolor\":\"white\",\"gridwidth\":2,\"linecolor\":\"white\",\"showbackground\":true,\"ticks\":\"\",\"zerolinecolor\":\"white\"},\"zaxis\":{\"backgroundcolor\":\"#E5ECF6\",\"gridcolor\":\"white\",\"gridwidth\":2,\"linecolor\":\"white\",\"showbackground\":true,\"ticks\":\"\",\"zerolinecolor\":\"white\"}},\"shapedefaults\":{\"line\":{\"color\":\"#2a3f5f\"}},\"ternary\":{\"aaxis\":{\"gridcolor\":\"white\",\"linecolor\":\"white\",\"ticks\":\"\"},\"baxis\":{\"gridcolor\":\"white\",\"linecolor\":\"white\",\"ticks\":\"\"},\"bgcolor\":\"#E5ECF6\",\"caxis\":{\"gridcolor\":\"white\",\"linecolor\":\"white\",\"ticks\":\"\"}},\"title\":{\"x\":0.05},\"xaxis\":{\"automargin\":true,\"gridcolor\":\"white\",\"linecolor\":\"white\",\"ticks\":\"\",\"title\":{\"standoff\":15},\"zerolinecolor\":\"white\",\"zerolinewidth\":2},\"yaxis\":{\"automargin\":true,\"gridcolor\":\"white\",\"linecolor\":\"white\",\"ticks\":\"\",\"title\":{\"standoff\":15},\"zerolinecolor\":\"white\",\"zerolinewidth\":2}}}},                        {\"responsive\": true}                    ).then(function(){\n",
              "                            \n",
              "var gd = document.getElementById('334fe341-152f-46f4-ae22-e47419e9d014');\n",
              "var x = new MutationObserver(function (mutations, observer) {{\n",
              "        var display = window.getComputedStyle(gd).display;\n",
              "        if (!display || display === 'none') {{\n",
              "            console.log([gd, 'removed!']);\n",
              "            Plotly.purge(gd);\n",
              "            observer.disconnect();\n",
              "        }}\n",
              "}});\n",
              "\n",
              "// Listen for the removal of the full notebook cells\n",
              "var notebookContainer = gd.closest('#notebook-container');\n",
              "if (notebookContainer) {{\n",
              "    x.observe(notebookContainer, {childList: true});\n",
              "}}\n",
              "\n",
              "// Listen for the clearing of the current output cell\n",
              "var outputEl = gd.closest('.output');\n",
              "if (outputEl) {{\n",
              "    x.observe(outputEl, {childList: true});\n",
              "}}\n",
              "\n",
              "                        })                };                            </script>        </div>\n",
              "</body>\n",
              "</html>"
            ]
          },
          "metadata": {}
        }
      ],
      "source": [
        "# change this if you want to try running it for different events:\n",
        "evt_num = 24\n",
        "evt = tracks[evt_num]\n",
        "\n",
        "# let's run the minimization!\n",
        "minimization_output = minimize(\n",
        "    function_to_minimize,\n",
        "    make_initial_guess_for_angles( evt ),\n",
        ")\n",
        "\n",
        "best_guess_azi, best_guess_zen = minimization_output.x\n",
        "smallest_distance = minimization_output.fun\n",
        "\n",
        "# let's print the output:\n",
        "print( \"The angles with the smallest perpendicular distance are:\" )\n",
        "print( f\"azi = {np.rad2deg(best_guess_azi):.2f} degrees\")\n",
        "print( f\"zen = {np.rad2deg(best_guess_zen):.2f} degrees\")\n",
        "print( \"For these angles, the mean perpendicular distance is: \\n\")\n",
        "print( f\"\\t {smallest_distance:.2f} meters\")\n",
        "\n",
        "# and let's plot the direction angle!\n",
        "dir_vec = get_direction_vector_from_angles( best_guess_azi, best_guess_zen )\n",
        "pivot_pt = calc_center_of_gravity(evt.hits_xyz)\n",
        "\n",
        "fig = display_evt( evt )\n",
        "fig.add_traces( plot_direction( dir_vec, pivot_pt, color=\"hotpink\" ) )\n",
        "fig.show()"
      ]
    },
    {
      "cell_type": "markdown",
      "metadata": {
        "id": "NgxKDtlIO6h3"
      },
      "source": [
        "<!-- Take a look at the plotted arrow. Is it going in the right direction?  -->\n",
        "\n",
        "Let's also check the performance of our computer against the true answer.\n",
        "\n",
        "(We can do this for these events because they are all simulated, so we know their true properties. If we were doing this with a real event from data collected by IceCube, we would not have any way of knowing this real right answer. This is why simulation is so important -- it gives us a way of checking how good we are at guessing the true quantities. )"
      ]
    },
    {
      "cell_type": "code",
      "source": [
        "import math\n",
        "\n",
        "def angle_deg(u, v):\n",
        "    # dot product\n",
        "    d = u[0]*v[0] + u[1]*v[1] + u[2]*v[2]\n",
        "    # magnitudes\n",
        "    nu = math.hypot(u[0], u[1], u[2])\n",
        "    nv = math.hypot(v[0], v[1], v[2])\n",
        "    # cosine of angle, clamped\n",
        "    cos_t = max(min(d/(nu*nv), 1.0), -1.0)\n",
        "    return math.degrees(math.acos(cos_t))"
      ],
      "metadata": {
        "id": "vR4Z_Oe0SRA7"
      },
      "execution_count": 21,
      "outputs": []
    },
    {
      "cell_type": "code",
      "execution_count": 23,
      "metadata": {
        "id": "rfC-0P91O6h4",
        "outputId": "7068a79c-7355-4236-8118-8c0d4b614098",
        "colab": {
          "base_uri": "https://localhost:8080/",
          "height": 559
        }
      },
      "outputs": [
        {
          "output_type": "stream",
          "name": "stdout",
          "text": [
            "The estimate by minimizing the perpendicular distance was 1.31° off the true direction.\n"
          ]
        },
        {
          "output_type": "display_data",
          "data": {
            "text/html": [
              "<html>\n",
              "<head><meta charset=\"utf-8\" /></head>\n",
              "<body>\n",
              "    <div>            <script src=\"https://cdnjs.cloudflare.com/ajax/libs/mathjax/2.7.5/MathJax.js?config=TeX-AMS-MML_SVG\"></script><script type=\"text/javascript\">if (window.MathJax && window.MathJax.Hub && window.MathJax.Hub.Config) {window.MathJax.Hub.Config({SVG: {font: \"STIX-Web\"}});}</script>                <script type=\"text/javascript\">window.PlotlyConfig = {MathJaxConfig: 'local'};</script>\n",
              "        <script charset=\"utf-8\" src=\"https://cdn.plot.ly/plotly-2.35.2.min.js\"></script>                <div id=\"e43419e9-e796-42cb-a6e4-7f966cabbb4d\" class=\"plotly-graph-div\" style=\"height:525px; width:100%;\"></div>            <script type=\"text/javascript\">                                    window.PLOTLYENV=window.PLOTLYENV || {};                                    if (document.getElementById(\"e43419e9-e796-42cb-a6e4-7f966cabbb4d\")) {                    Plotly.newPlot(                        \"e43419e9-e796-42cb-a6e4-7f966cabbb4d\",                        [{\"hoverinfo\":\"skip\",\"line\":{\"color\":\"lightgrey\",\"width\":1},\"mode\":\"lines\",\"showlegend\":false,\"x\":[-256.14,-256.14],\"y\":[-521.08,-521.08],\"z\":[-1441.93,-2453.06],\"type\":\"scatter3d\",\"uid\":\"ea1be376-88ed-47fc-8586-d6632796ae5c\"},{\"hoverinfo\":\"skip\",\"line\":{\"color\":\"lightgrey\",\"width\":1},\"mode\":\"lines\",\"showlegend\":false,\"x\":[-132.8,-132.8],\"y\":[-501.45,-501.45],\"z\":[-1441.93,-2453.06],\"type\":\"scatter3d\",\"uid\":\"ee41baf1-5491-4360-94c9-a1baa3a1f42d\"},{\"hoverinfo\":\"skip\",\"line\":{\"color\":\"lightgrey\",\"width\":1},\"mode\":\"lines\",\"showlegend\":false,\"x\":[-9.13,-9.13],\"y\":[-481.74,-481.74],\"z\":[-1441.93,-2453.06],\"type\":\"scatter3d\",\"uid\":\"763828a3-edf3-48b0-85a1-34e2e3adce5b\"},{\"hoverinfo\":\"skip\",\"line\":{\"color\":\"lightgrey\",\"width\":1},\"mode\":\"lines\",\"showlegend\":false,\"x\":[114.39,114.39],\"y\":[-461.99,-461.99],\"z\":[-1441.93,-2453.06],\"type\":\"scatter3d\",\"uid\":\"5684a689-6e90-4e01-90fb-9db1de281f1b\"},{\"hoverinfo\":\"skip\",\"line\":{\"color\":\"lightgrey\",\"width\":1},\"mode\":\"lines\",\"showlegend\":false,\"x\":[237.78,237.78],\"y\":[-442.42,-442.42],\"z\":[-1441.93,-2453.06],\"type\":\"scatter3d\",\"uid\":\"6539aff0-8a65-4956-8c95-dfdd3c632073\"},{\"hoverinfo\":\"skip\",\"line\":{\"color\":\"lightgrey\",\"width\":1},\"mode\":\"lines\",\"showlegend\":false,\"x\":[361.0,361.0],\"y\":[-422.83,-422.83],\"z\":[-1441.93,-2453.06],\"type\":\"scatter3d\",\"uid\":\"72f69a2d-ce0b-42ff-8841-15fed9e412c3\"},{\"hoverinfo\":\"skip\",\"line\":{\"color\":\"lightgrey\",\"width\":1},\"mode\":\"lines\",\"showlegend\":false,\"x\":[-334.8,-334.8],\"y\":[-424.5,-424.5],\"z\":[-1441.93,-2453.06],\"type\":\"scatter3d\",\"uid\":\"3f30be99-33ef-4923-ba2f-5bfeec71170c\"},{\"hoverinfo\":\"skip\",\"line\":{\"color\":\"lightgrey\",\"width\":1},\"mode\":\"lines\",\"showlegend\":false,\"x\":[-211.35,-211.35],\"y\":[-404.48,-404.48],\"z\":[-1441.93,-2453.06],\"type\":\"scatter3d\",\"uid\":\"f3a6043e-b15b-4c0e-b560-733ee18ca551\"},{\"hoverinfo\":\"skip\",\"line\":{\"color\":\"lightgrey\",\"width\":1},\"mode\":\"lines\",\"showlegend\":false,\"x\":[-88.05,-88.05],\"y\":[-384.3,-384.3],\"z\":[-1441.93,-2453.06],\"type\":\"scatter3d\",\"uid\":\"98ace26f-53a3-4758-8045-71cfc4ec34f2\"},{\"hoverinfo\":\"skip\",\"line\":{\"color\":\"lightgrey\",\"width\":1},\"mode\":\"lines\",\"showlegend\":false,\"x\":[35.54,35.54],\"y\":[-364.83,-364.83],\"z\":[-1441.93,-2453.06],\"type\":\"scatter3d\",\"uid\":\"1f1a1e05-aed5-49fd-971c-ebad0b61b904\"},{\"hoverinfo\":\"skip\",\"line\":{\"color\":\"lightgrey\",\"width\":1},\"mode\":\"lines\",\"showlegend\":false,\"x\":[158.94,158.94],\"y\":[-345.23,-345.23],\"z\":[-1441.93,-2453.06],\"type\":\"scatter3d\",\"uid\":\"b3fb7f3e-56d2-4d98-b359-9833d29dc90d\"},{\"hoverinfo\":\"skip\",\"line\":{\"color\":\"lightgrey\",\"width\":1},\"mode\":\"lines\",\"showlegend\":false,\"x\":[282.18,282.18],\"y\":[-325.74,-325.74],\"z\":[-1441.93,-2453.06],\"type\":\"scatter3d\",\"uid\":\"de7b28c3-c086-4711-ba35-c89ff1bbccac\"},{\"hoverinfo\":\"skip\",\"line\":{\"color\":\"lightgrey\",\"width\":1},\"mode\":\"lines\",\"showlegend\":false,\"x\":[405.83,405.83],\"y\":[-306.38,-306.38],\"z\":[-1441.93,-2453.06],\"type\":\"scatter3d\",\"uid\":\"63709396-b239-4a09-8106-7ec83b8ffd76\"},{\"hoverinfo\":\"skip\",\"line\":{\"color\":\"lightgrey\",\"width\":1},\"mode\":\"lines\",\"showlegend\":false,\"x\":[-413.46,-413.46],\"y\":[-327.27,-327.27],\"z\":[-1441.93,-2453.06],\"type\":\"scatter3d\",\"uid\":\"5907929a-2424-4387-9d3d-f2ad577d2591\"},{\"hoverinfo\":\"skip\",\"line\":{\"color\":\"lightgrey\",\"width\":1},\"mode\":\"lines\",\"showlegend\":false,\"x\":[-290.66,-290.66],\"y\":[-307.38,-307.38],\"z\":[-1441.93,-2453.06],\"type\":\"scatter3d\",\"uid\":\"1da792d1-5e38-48a8-ab92-0b46d30f033f\"},{\"hoverinfo\":\"skip\",\"line\":{\"color\":\"lightgrey\",\"width\":1},\"mode\":\"lines\",\"showlegend\":false,\"x\":[-166.4,-166.4],\"y\":[-287.79,-287.79],\"z\":[-1441.93,-2453.06],\"type\":\"scatter3d\",\"uid\":\"9a69f99f-9e82-4e97-b823-672b2c39c810\"},{\"hoverinfo\":\"skip\",\"line\":{\"color\":\"lightgrey\",\"width\":1},\"mode\":\"lines\",\"showlegend\":false,\"x\":[-43.27,-43.27],\"y\":[-267.52,-267.52],\"z\":[-1441.93,-2453.06],\"type\":\"scatter3d\",\"uid\":\"446faed4-2f08-45c1-bc9b-cd2f17a97d08\"},{\"hoverinfo\":\"skip\",\"line\":{\"color\":\"lightgrey\",\"width\":1},\"mode\":\"lines\",\"showlegend\":false,\"x\":[79.41,79.41],\"y\":[-248.24,-248.24],\"z\":[-1441.93,-2453.06],\"type\":\"scatter3d\",\"uid\":\"43e3c642-c5bb-43fd-b364-14b2c8eb330d\"},{\"hoverinfo\":\"skip\",\"line\":{\"color\":\"lightgrey\",\"width\":1},\"mode\":\"lines\",\"showlegend\":false,\"x\":[210.47,210.47],\"y\":[-209.77,-209.77],\"z\":[-1441.93,-2453.06],\"type\":\"scatter3d\",\"uid\":\"4adb5f28-bae5-49f8-a397-2b8aff93ddf4\"},{\"hoverinfo\":\"skip\",\"line\":{\"color\":\"lightgrey\",\"width\":1},\"mode\":\"lines\",\"showlegend\":false,\"x\":[326.85,326.85],\"y\":[-209.07,-209.07],\"z\":[-1441.93,-2453.06],\"type\":\"scatter3d\",\"uid\":\"ec27d59b-081b-467f-949d-fc8d5525a1d8\"},{\"hoverinfo\":\"skip\",\"line\":{\"color\":\"lightgrey\",\"width\":1},\"mode\":\"lines\",\"showlegend\":false,\"x\":[443.55,443.55],\"y\":[-194.16,-194.16],\"z\":[-1441.93,-2453.06],\"type\":\"scatter3d\",\"uid\":\"be2dc519-f157-464e-9b10-0d2903752f21\"},{\"hoverinfo\":\"skip\",\"line\":{\"color\":\"lightgrey\",\"width\":1},\"mode\":\"lines\",\"showlegend\":false,\"x\":[-492.43,-492.43],\"y\":[-230.16,-230.16],\"z\":[-1441.93,-2453.06],\"type\":\"scatter3d\",\"uid\":\"884c2b28-810e-4f85-a503-0b7aa73b2539\"},{\"hoverinfo\":\"skip\",\"line\":{\"color\":\"lightgrey\",\"width\":1},\"mode\":\"lines\",\"showlegend\":false,\"x\":[-368.93,-368.93],\"y\":[-210.23,-210.23],\"z\":[-1441.93,-2453.06],\"type\":\"scatter3d\",\"uid\":\"6776cc02-9ed1-4631-a718-732fc2b41355\"},{\"hoverinfo\":\"skip\",\"line\":{\"color\":\"lightgrey\",\"width\":1},\"mode\":\"lines\",\"showlegend\":false,\"x\":[-245.65,-245.65],\"y\":[-190.49,-190.49],\"z\":[-1441.93,-2453.06],\"type\":\"scatter3d\",\"uid\":\"5e249a44-22df-43e5-9c35-fbac17221830\"},{\"hoverinfo\":\"skip\",\"line\":{\"color\":\"lightgrey\",\"width\":1},\"mode\":\"lines\",\"showlegend\":false,\"x\":[-121.77,-121.77],\"y\":[-171.03,-171.03],\"z\":[-1441.93,-2453.06],\"type\":\"scatter3d\",\"uid\":\"c92faa64-7980-4664-9b0f-02ef2886eade\"},{\"hoverinfo\":\"skip\",\"line\":{\"color\":\"lightgrey\",\"width\":1},\"mode\":\"lines\",\"showlegend\":false,\"x\":[1.71,1.71],\"y\":[-150.63,-150.63],\"z\":[-1441.93,-2453.06],\"type\":\"scatter3d\",\"uid\":\"e890bf60-3f95-47c7-8339-a9d8225131ba\"},{\"hoverinfo\":\"skip\",\"line\":{\"color\":\"lightgrey\",\"width\":1},\"mode\":\"lines\",\"showlegend\":false,\"x\":[124.97,124.97],\"y\":[-131.25,-131.25],\"z\":[-1441.93,-2453.06],\"type\":\"scatter3d\",\"uid\":\"2bbd0a0c-df29-4d91-aad9-6d10c3b35508\"},{\"hoverinfo\":\"skip\",\"line\":{\"color\":\"lightgrey\",\"width\":1},\"mode\":\"lines\",\"showlegend\":false,\"x\":[248.15,248.15],\"y\":[-111.87,-111.87],\"z\":[-1441.93,-2453.06],\"type\":\"scatter3d\",\"uid\":\"9b1e8185-8db7-4c7f-a6ec-58fb10b82e99\"},{\"hoverinfo\":\"skip\",\"line\":{\"color\":\"lightgrey\",\"width\":1},\"mode\":\"lines\",\"showlegend\":false,\"x\":[371.56,371.56],\"y\":[-92.18,-92.18],\"z\":[-1441.93,-2453.06],\"type\":\"scatter3d\",\"uid\":\"c9385313-fa77-488f-9981-4873a5744d1f\"},{\"hoverinfo\":\"skip\",\"line\":{\"color\":\"lightgrey\",\"width\":1},\"mode\":\"lines\",\"showlegend\":false,\"x\":[500.43,500.43],\"y\":[-58.45,-58.45],\"z\":[-1441.93,-2453.06],\"type\":\"scatter3d\",\"uid\":\"ee806a85-a7ed-495e-80ab-38e9a2dcfe7e\"},{\"hoverinfo\":\"skip\",\"line\":{\"color\":\"lightgrey\",\"width\":1},\"mode\":\"lines\",\"showlegend\":false,\"x\":[-570.9,-570.9],\"y\":[-125.14,-125.14],\"z\":[-1441.93,-2453.06],\"type\":\"scatter3d\",\"uid\":\"f9e86f19-24e8-4aea-9945-f02cde91ca86\"},{\"hoverinfo\":\"skip\",\"line\":{\"color\":\"lightgrey\",\"width\":1},\"mode\":\"lines\",\"showlegend\":false,\"x\":[-447.74,-447.74],\"y\":[-113.13,-113.13],\"z\":[-1441.93,-2453.06],\"type\":\"scatter3d\",\"uid\":\"cfaa4d29-2938-460d-8429-3a398da42d5a\"},{\"hoverinfo\":\"skip\",\"line\":{\"color\":\"lightgrey\",\"width\":1},\"mode\":\"lines\",\"showlegend\":false,\"x\":[-324.39,-324.39],\"y\":[-93.43,-93.43],\"z\":[-1441.93,-2453.06],\"type\":\"scatter3d\",\"uid\":\"4dce363e-7532-486d-bce4-363b12ceb581\"},{\"hoverinfo\":\"skip\",\"line\":{\"color\":\"lightgrey\",\"width\":1},\"mode\":\"lines\",\"showlegend\":false,\"x\":[-200.55,-200.55],\"y\":[-74.03,-74.03],\"z\":[-1441.93,-2453.06],\"type\":\"scatter3d\",\"uid\":\"b7bd48f5-a259-4cc2-b79b-adc8461866ff\"},{\"hoverinfo\":\"skip\",\"line\":{\"color\":\"lightgrey\",\"width\":1},\"mode\":\"lines\",\"showlegend\":false,\"x\":[-77.8,-77.8],\"y\":[-54.33,-54.33],\"z\":[-1441.93,-2453.06],\"type\":\"scatter3d\",\"uid\":\"677b05b1-5f2b-4e9d-a12a-ef02651c57a4\"},{\"hoverinfo\":\"skip\",\"line\":{\"color\":\"lightgrey\",\"width\":1},\"mode\":\"lines\",\"showlegend\":false,\"x\":[46.29,46.29],\"y\":[-34.88,-34.88],\"z\":[-1441.93,-2453.06],\"type\":\"scatter3d\",\"uid\":\"967c2afc-105c-45e2-a34a-a4d8f2b29417\"},{\"hoverinfo\":\"skip\",\"line\":{\"color\":\"lightgrey\",\"width\":1},\"mode\":\"lines\",\"showlegend\":false,\"x\":[194.34,194.34],\"y\":[-30.92,-30.92],\"z\":[-1441.93,-2453.06],\"type\":\"scatter3d\",\"uid\":\"72fa16ca-5974-43f3-a2da-20805ae64f43\"},{\"hoverinfo\":\"skip\",\"line\":{\"color\":\"lightgrey\",\"width\":1},\"mode\":\"lines\",\"showlegend\":false,\"x\":[292.9,292.9],\"y\":[5.2,5.2],\"z\":[-1441.93,-2453.06],\"type\":\"scatter3d\",\"uid\":\"cbd95fa2-c3dd-48a1-be1e-b24d0e04508a\"},{\"hoverinfo\":\"skip\",\"line\":{\"color\":\"lightgrey\",\"width\":1},\"mode\":\"lines\",\"showlegend\":false,\"x\":[411.81,411.81],\"y\":[13.0,13.0],\"z\":[-1441.93,-2453.06],\"type\":\"scatter3d\",\"uid\":\"734d1bcd-bcf4-44ff-95ee-246f96165870\"},{\"hoverinfo\":\"skip\",\"line\":{\"color\":\"lightgrey\",\"width\":1},\"mode\":\"lines\",\"showlegend\":false,\"x\":[544.07,544.07],\"y\":[55.89,55.89],\"z\":[-1441.93,-2453.06],\"type\":\"scatter3d\",\"uid\":\"4f0b1c37-9dc5-4ab2-9fcd-53ebb8d7772c\"},{\"hoverinfo\":\"skip\",\"line\":{\"color\":\"lightgrey\",\"width\":1},\"mode\":\"lines\",\"showlegend\":false,\"x\":[-526.63,-526.63],\"y\":[-15.6,-15.6],\"z\":[-1441.93,-2453.06],\"type\":\"scatter3d\",\"uid\":\"8f73e088-932f-4acf-8a45-818197482d0c\"},{\"hoverinfo\":\"skip\",\"line\":{\"color\":\"lightgrey\",\"width\":1},\"mode\":\"lines\",\"showlegend\":false,\"x\":[-403.14,-403.14],\"y\":[3.49,3.49],\"z\":[-1441.93,-2453.06],\"type\":\"scatter3d\",\"uid\":\"3dbdab8a-70aa-410a-b0af-43bafc26f5b3\"},{\"hoverinfo\":\"skip\",\"line\":{\"color\":\"lightgrey\",\"width\":1},\"mode\":\"lines\",\"showlegend\":false,\"x\":[-279.53,-279.53],\"y\":[23.17,23.17],\"z\":[-1441.93,-2453.06],\"type\":\"scatter3d\",\"uid\":\"96d77ffb-56a1-4365-821f-3835e0792497\"},{\"hoverinfo\":\"skip\",\"line\":{\"color\":\"lightgrey\",\"width\":1},\"mode\":\"lines\",\"showlegend\":false,\"x\":[-156.23,-156.23],\"y\":[43.37,43.37],\"z\":[-1441.93,-2453.06],\"type\":\"scatter3d\",\"uid\":\"60423ed0-2b63-4f3a-91cd-7216d211e82e\"},{\"hoverinfo\":\"skip\",\"line\":{\"color\":\"lightgrey\",\"width\":1},\"mode\":\"lines\",\"showlegend\":false,\"x\":[-32.96,-32.96],\"y\":[62.44,62.44],\"z\":[-1441.93,-2453.06],\"type\":\"scatter3d\",\"uid\":\"7558e6c9-60dd-4066-8df9-c6fd70efae52\"},{\"hoverinfo\":\"skip\",\"line\":{\"color\":\"lightgrey\",\"width\":1},\"mode\":\"lines\",\"showlegend\":false,\"x\":[90.49,90.49],\"y\":[82.35,82.35],\"z\":[-1441.93,-2453.06],\"type\":\"scatter3d\",\"uid\":\"3876f200-84a1-4674-93a6-a91a4d9b9cd6\"},{\"hoverinfo\":\"skip\",\"line\":{\"color\":\"lightgrey\",\"width\":1},\"mode\":\"lines\",\"showlegend\":false,\"x\":[195.03,195.03],\"y\":[125.59,125.59],\"z\":[-1441.93,-2453.06],\"type\":\"scatter3d\",\"uid\":\"f0bb85b0-3ed4-4399-a346-380e60d3e7e6\"},{\"hoverinfo\":\"skip\",\"line\":{\"color\":\"lightgrey\",\"width\":1},\"mode\":\"lines\",\"showlegend\":false,\"x\":[330.03,330.03],\"y\":[127.2,127.2],\"z\":[-1441.93,-2453.06],\"type\":\"scatter3d\",\"uid\":\"fba63e9f-67b0-4fd7-9335-d2bc43fe7262\"},{\"hoverinfo\":\"skip\",\"line\":{\"color\":\"lightgrey\",\"width\":1},\"mode\":\"lines\",\"showlegend\":false,\"x\":[472.05,472.05],\"y\":[127.9,127.9],\"z\":[-1441.93,-2453.06],\"type\":\"scatter3d\",\"uid\":\"f7e615d2-f898-42f3-be19-271344622016\"},{\"hoverinfo\":\"skip\",\"line\":{\"color\":\"lightgrey\",\"width\":1},\"mode\":\"lines\",\"showlegend\":false,\"x\":[576.37,576.37],\"y\":[170.92,170.92],\"z\":[-1441.93,-2453.06],\"type\":\"scatter3d\",\"uid\":\"a9482ee7-2e7d-4348-b771-fbb7cf60359b\"},{\"hoverinfo\":\"skip\",\"line\":{\"color\":\"lightgrey\",\"width\":1},\"mode\":\"lines\",\"showlegend\":false,\"x\":[-481.6,-481.6],\"y\":[101.39,101.39],\"z\":[-1441.93,-2453.06],\"type\":\"scatter3d\",\"uid\":\"94e507cd-1c80-43cd-91c9-d4a3da03e46a\"},{\"hoverinfo\":\"skip\",\"line\":{\"color\":\"lightgrey\",\"width\":1},\"mode\":\"lines\",\"showlegend\":false,\"x\":[-358.44,-358.44],\"y\":[120.56,120.56],\"z\":[-1441.93,-2453.06],\"type\":\"scatter3d\",\"uid\":\"1e63d14e-77a1-4f24-9d31-d61bb8b5d156\"},{\"hoverinfo\":\"skip\",\"line\":{\"color\":\"lightgrey\",\"width\":1},\"mode\":\"lines\",\"showlegend\":false,\"x\":[-234.95,-234.95],\"y\":[140.44,140.44],\"z\":[-1441.93,-2453.06],\"type\":\"scatter3d\",\"uid\":\"2e100122-77af-41f1-91ae-30772b87cb00\"},{\"hoverinfo\":\"skip\",\"line\":{\"color\":\"lightgrey\",\"width\":1},\"mode\":\"lines\",\"showlegend\":false,\"x\":[-111.51,-111.51],\"y\":[159.98,159.98],\"z\":[-1441.93,-2453.06],\"type\":\"scatter3d\",\"uid\":\"9baa0fee-d107-466a-a09c-58cb06f48610\"},{\"hoverinfo\":\"skip\",\"line\":{\"color\":\"lightgrey\",\"width\":1},\"mode\":\"lines\",\"showlegend\":false,\"x\":[11.87,11.87],\"y\":[179.19,179.19],\"z\":[-1441.93,-2453.06],\"type\":\"scatter3d\",\"uid\":\"213c3477-acaa-4856-b120-0ad3cfe9dc50\"},{\"hoverinfo\":\"skip\",\"line\":{\"color\":\"lightgrey\",\"width\":1},\"mode\":\"lines\",\"showlegend\":false,\"x\":[132.03,132.03],\"y\":[202.98,202.98],\"z\":[-1441.93,-2453.06],\"type\":\"scatter3d\",\"uid\":\"28a7c1e8-d345-4fcd-8769-3707a4a254c3\"},{\"hoverinfo\":\"skip\",\"line\":{\"color\":\"lightgrey\",\"width\":1},\"mode\":\"lines\",\"showlegend\":false,\"x\":[257.31,257.31],\"y\":[211.66,211.66],\"z\":[-1441.93,-2453.06],\"type\":\"scatter3d\",\"uid\":\"f7b3e6d7-d347-4bda-b325-b6ec79c74dfd\"},{\"hoverinfo\":\"skip\",\"line\":{\"color\":\"lightgrey\",\"width\":1},\"mode\":\"lines\",\"showlegend\":false,\"x\":[382.35,382.35],\"y\":[238.9,238.9],\"z\":[-1441.93,-2453.06],\"type\":\"scatter3d\",\"uid\":\"8039ca3b-a3da-43a4-ac3a-116264ecdab0\"},{\"hoverinfo\":\"skip\",\"line\":{\"color\":\"lightgrey\",\"width\":1},\"mode\":\"lines\",\"showlegend\":false,\"x\":[505.27,505.27],\"y\":[257.88,257.88],\"z\":[-1441.93,-2453.06],\"type\":\"scatter3d\",\"uid\":\"cb60df22-b1da-47e5-897d-045eca221124\"},{\"hoverinfo\":\"skip\",\"line\":{\"color\":\"lightgrey\",\"width\":1},\"mode\":\"lines\",\"showlegend\":false,\"x\":[-437.04,-437.04],\"y\":[217.8,217.8],\"z\":[-1441.93,-2453.06],\"type\":\"scatter3d\",\"uid\":\"73467bf6-ecf7-40fe-8021-98f40769aebb\"},{\"hoverinfo\":\"skip\",\"line\":{\"color\":\"lightgrey\",\"width\":1},\"mode\":\"lines\",\"showlegend\":false,\"x\":[-313.6,-313.6],\"y\":[237.44,237.44],\"z\":[-1441.93,-2453.06],\"type\":\"scatter3d\",\"uid\":\"ac64be1d-f38e-4a19-98d7-737ed193df07\"},{\"hoverinfo\":\"skip\",\"line\":{\"color\":\"lightgrey\",\"width\":1},\"mode\":\"lines\",\"showlegend\":false,\"x\":[-189.98,-189.98],\"y\":[257.42,257.42],\"z\":[-1441.93,-2453.06],\"type\":\"scatter3d\",\"uid\":\"d69efa38-5dc2-492e-ae9b-fc93f193ce73\"},{\"hoverinfo\":\"skip\",\"line\":{\"color\":\"lightgrey\",\"width\":1},\"mode\":\"lines\",\"showlegend\":false,\"x\":[-66.7,-66.7],\"y\":[276.92,276.92],\"z\":[-1441.93,-2453.06],\"type\":\"scatter3d\",\"uid\":\"9e63c1ff-f174-4617-a328-e890696ab73d\"},{\"hoverinfo\":\"skip\",\"line\":{\"color\":\"lightgrey\",\"width\":1},\"mode\":\"lines\",\"showlegend\":false,\"x\":[54.26,54.26],\"y\":[292.97,292.97],\"z\":[-1441.93,-2453.06],\"type\":\"scatter3d\",\"uid\":\"224766a5-6b30-4aba-a821-ddea55884056\"},{\"hoverinfo\":\"skip\",\"line\":{\"color\":\"lightgrey\",\"width\":1},\"mode\":\"lines\",\"showlegend\":false,\"x\":[174.47,174.47],\"y\":[315.54,315.54],\"z\":[-1441.93,-2453.06],\"type\":\"scatter3d\",\"uid\":\"5514a71a-0ffa-4f5e-8960-7158f5c9b695\"},{\"hoverinfo\":\"skip\",\"line\":{\"color\":\"lightgrey\",\"width\":1},\"mode\":\"lines\",\"showlegend\":false,\"x\":[303.41,303.41],\"y\":[335.64,335.64],\"z\":[-1441.93,-2453.06],\"type\":\"scatter3d\",\"uid\":\"716e84fc-0160-497a-b384-0e5d0bb2c9fb\"},{\"hoverinfo\":\"skip\",\"line\":{\"color\":\"lightgrey\",\"width\":1},\"mode\":\"lines\",\"showlegend\":false,\"x\":[429.76,429.76],\"y\":[351.02,351.02],\"z\":[-1441.93,-2453.06],\"type\":\"scatter3d\",\"uid\":\"0c33cebd-21b5-4345-b966-3965b3df4237\"},{\"hoverinfo\":\"skip\",\"line\":{\"color\":\"lightgrey\",\"width\":1},\"mode\":\"lines\",\"showlegend\":false,\"x\":[-392.38,-392.38],\"y\":[334.24,334.24],\"z\":[-1441.93,-2453.06],\"type\":\"scatter3d\",\"uid\":\"d0e328bf-be97-42cd-9912-ee34672691d2\"},{\"hoverinfo\":\"skip\",\"line\":{\"color\":\"lightgrey\",\"width\":1},\"mode\":\"lines\",\"showlegend\":false,\"x\":[-268.9,-268.9],\"y\":[354.24,354.24],\"z\":[-1441.93,-2453.06],\"type\":\"scatter3d\",\"uid\":\"c348b1f2-56ef-4459-892c-13d72d191f7b\"},{\"hoverinfo\":\"skip\",\"line\":{\"color\":\"lightgrey\",\"width\":1},\"mode\":\"lines\",\"showlegend\":false,\"x\":[-145.45,-145.45],\"y\":[374.24,374.24],\"z\":[-1441.93,-2453.06],\"type\":\"scatter3d\",\"uid\":\"33e5798b-f0ff-4bbe-99c8-7c69f660a523\"},{\"hoverinfo\":\"skip\",\"line\":{\"color\":\"lightgrey\",\"width\":1},\"mode\":\"lines\",\"showlegend\":false,\"x\":[-21.97,-21.97],\"y\":[393.24,393.24],\"z\":[-1441.93,-2453.06],\"type\":\"scatter3d\",\"uid\":\"4d61e772-2cb4-4388-8211-02408c55e8a5\"},{\"hoverinfo\":\"skip\",\"line\":{\"color\":\"lightgrey\",\"width\":1},\"mode\":\"lines\",\"showlegend\":false,\"x\":[101.04,101.04],\"y\":[412.79,412.79],\"z\":[-1441.93,-2453.06],\"type\":\"scatter3d\",\"uid\":\"324edd5d-4176-4262-87e5-744b9d27c12d\"},{\"hoverinfo\":\"skip\",\"line\":{\"color\":\"lightgrey\",\"width\":1},\"mode\":\"lines\",\"showlegend\":false,\"x\":[224.58,224.58],\"y\":[432.35,432.35],\"z\":[-1441.93,-2453.06],\"type\":\"scatter3d\",\"uid\":\"58ffe9ab-f051-4a14-90b9-f01bc87fd045\"},{\"hoverinfo\":\"skip\",\"line\":{\"color\":\"lightgrey\",\"width\":1},\"mode\":\"lines\",\"showlegend\":false,\"x\":[338.44,338.44],\"y\":[463.72,463.72],\"z\":[-1441.93,-2453.06],\"type\":\"scatter3d\",\"uid\":\"f028e249-510a-486d-bcc8-168fb346ee9c\"},{\"hoverinfo\":\"skip\",\"line\":{\"color\":\"lightgrey\",\"width\":1},\"mode\":\"lines\",\"showlegend\":false,\"x\":[-347.88,-347.88],\"y\":[451.52,451.52],\"z\":[-1441.93,-2453.06],\"type\":\"scatter3d\",\"uid\":\"2a7982a2-48eb-465d-b8f6-16ee10144ab9\"},{\"hoverinfo\":\"skip\",\"line\":{\"color\":\"lightgrey\",\"width\":1},\"mode\":\"lines\",\"showlegend\":false,\"x\":[-224.09,-224.09],\"y\":[470.86,470.86],\"z\":[-1441.93,-2453.06],\"type\":\"scatter3d\",\"uid\":\"908cedb5-5f6d-4e04-92f5-c3605d334cdc\"},{\"hoverinfo\":\"skip\",\"line\":{\"color\":\"lightgrey\",\"width\":1},\"mode\":\"lines\",\"showlegend\":false,\"x\":[-101.06,-101.06],\"y\":[490.22,490.22],\"z\":[-1441.93,-2453.06],\"type\":\"scatter3d\",\"uid\":\"9c54a2af-53d8-4749-a9d4-6fb01cbd13a6\"},{\"hoverinfo\":\"skip\",\"line\":{\"color\":\"lightgrey\",\"width\":1},\"mode\":\"lines\",\"showlegend\":false,\"x\":[22.11,22.11],\"y\":[509.5,509.5],\"z\":[-1441.93,-2453.06],\"type\":\"scatter3d\",\"uid\":\"deaf1aa1-038f-4d78-b693-540901cf3eb1\"},{\"hoverinfo\":\"skip\",\"line\":{\"color\":\"lightgrey\",\"width\":1},\"mode\":\"lines\",\"showlegend\":false,\"x\":[31.25,31.25],\"y\":[-72.93,-72.93],\"z\":[-1441.93,-2453.06],\"type\":\"scatter3d\",\"uid\":\"d26a191b-c650-42f9-bbf0-1e0362e0ea5b\"},{\"hoverinfo\":\"skip\",\"line\":{\"color\":\"lightgrey\",\"width\":1},\"mode\":\"lines\",\"showlegend\":false,\"x\":[72.37,72.37],\"y\":[-66.6,-66.6],\"z\":[-1441.93,-2453.06],\"type\":\"scatter3d\",\"uid\":\"2d462e2b-24b0-40c8-bb6e-805a970beb4c\"},{\"hoverinfo\":\"skip\",\"line\":{\"color\":\"lightgrey\",\"width\":1},\"mode\":\"lines\",\"showlegend\":false,\"x\":[41.6,41.6],\"y\":[35.49,35.49],\"z\":[-1441.93,-2453.06],\"type\":\"scatter3d\",\"uid\":\"4966aae5-79ce-4e75-9cc6-54a0a5923874\"},{\"hoverinfo\":\"skip\",\"line\":{\"color\":\"lightgrey\",\"width\":1},\"mode\":\"lines\",\"showlegend\":false,\"x\":[106.94,106.94],\"y\":[27.09,27.09],\"z\":[-1441.93,-2453.06],\"type\":\"scatter3d\",\"uid\":\"7ccf2487-c77c-479f-ba16-b19687156d03\"},{\"hoverinfo\":\"skip\",\"line\":{\"color\":\"lightgrey\",\"width\":1},\"mode\":\"lines\",\"showlegend\":false,\"x\":[113.19,113.19],\"y\":[-60.47,-60.47],\"z\":[-1441.93,-2453.06],\"type\":\"scatter3d\",\"uid\":\"0efc5900-7b7a-4a39-82dc-753ed3622d39\"},{\"hoverinfo\":\"skip\",\"line\":{\"color\":\"lightgrey\",\"width\":1},\"mode\":\"lines\",\"showlegend\":false,\"x\":[57.2,57.2],\"y\":[-105.52,-105.52],\"z\":[-1441.93,-2453.06],\"type\":\"scatter3d\",\"uid\":\"11f885ac-6459-4e84-8680-1bd5b5c6de62\"},{\"hoverinfo\":\"skip\",\"line\":{\"color\":\"lightgrey\",\"width\":1},\"mode\":\"lines\",\"showlegend\":false,\"x\":[-9.68,-9.68],\"y\":[-79.5,-79.5],\"z\":[-1441.93,-2453.06],\"type\":\"scatter3d\",\"uid\":\"045e1c67-e13c-4d75-bce7-03a29a13e8af\"},{\"hoverinfo\":\"skip\",\"line\":{\"color\":\"lightgrey\",\"width\":1},\"mode\":\"lines\",\"showlegend\":false,\"x\":[-10.97,-10.97],\"y\":[6.72,6.72],\"z\":[-1441.93,-2453.06],\"type\":\"scatter3d\",\"uid\":\"abf94720-be19-40a4-8fe8-068d093f20f7\"},{\"hoverinfo\":\"skip\",\"line\":{\"color\":\"grey\",\"width\":1},\"mode\":\"lines\",\"showlegend\":false,\"x\":[-347.88,-570.9,-256.14,361.0,576.37,338.44,101.04,22.11,-347.88],\"y\":[451.52,-125.14,-521.08,-422.83,170.92,463.72,412.79,509.5,451.52],\"z\":[-2453.06,-2453.06,-2453.06,-2453.06,-2453.06,-2453.06,-2453.06,-2453.06,-2453.06,-2453.06,-2453.06,-2453.06,-2453.06,-2453.06,-2453.06,-2453.06,-2453.06,-2453.06,-2453.06,-2453.06,-2453.06,-2453.06,-2453.06,-2453.06,-2453.06,-2453.06,-2453.06,-2453.06,-2453.06,-2453.06,-2453.06,-2453.06,-2453.06,-2453.06,-2453.06,-2453.06,-2453.06,-2453.06,-2453.06,-2453.06,-2453.06,-2453.06,-2453.06,-2453.06,-2453.06,-2453.06,-2453.06,-2453.06,-2453.06,-2453.06,-2453.06,-2453.06,-2453.06,-2453.06,-2453.06,-2453.06,-2453.06,-2453.06,-2453.06,-2453.06,-2453.06,-2453.06,-2453.06,-2453.06,-2453.06,-2453.06,-2453.06,-2453.06,-2453.06,-2453.06,-2453.06,-2453.06,-2453.06,-2453.06,-2453.06,-2453.06,-2453.06,-2453.06,-2453.06,-2453.06,-2453.06,-2453.06,-2453.06,-2453.06,-2453.06,-2453.06],\"type\":\"scatter3d\",\"uid\":\"b62ad82d-6ebd-4597-926e-18c32fc600b9\"},{\"hoverinfo\":\"skip\",\"line\":{\"color\":\"grey\",\"width\":1},\"mode\":\"lines\",\"showlegend\":false,\"x\":[-347.88,-570.9,-256.14,361.0,576.37,338.44,101.04,22.11,-347.88],\"y\":[451.52,-125.14,-521.08,-422.83,170.92,463.72,412.79,509.5,451.52],\"z\":[-1441.93,-1441.93,-1441.93,-1441.93,-1441.93,-1441.93,-1441.93,-1441.93,-1441.93,-1441.93,-1441.93,-1441.93,-1441.93,-1441.93,-1441.93,-1441.93,-1441.93,-1441.93,-1441.93,-1441.93,-1441.93,-1441.93,-1441.93,-1441.93,-1441.93,-1441.93,-1441.93,-1441.93,-1441.93,-1441.93,-1441.93,-1441.93,-1441.93,-1441.93,-1441.93,-1441.93,-1441.93,-1441.93,-1441.93,-1441.93,-1441.93,-1441.93,-1441.93,-1441.93,-1441.93,-1441.93,-1441.93,-1441.93,-1441.93,-1441.93,-1441.93,-1441.93,-1441.93,-1441.93,-1441.93,-1441.93,-1441.93,-1441.93,-1441.93,-1441.93,-1441.93,-1441.93,-1441.93,-1441.93,-1441.93,-1441.93,-1441.93,-1441.93,-1441.93,-1441.93,-1441.93,-1441.93,-1441.93,-1441.93,-1441.93,-1441.93,-1441.93,-1441.93,-1441.93,-1441.93,-1441.93,-1441.93,-1441.93,-1441.93,-1441.93,-1441.93],\"type\":\"scatter3d\",\"uid\":\"9240a0b1-2580-4413-a87c-4598227f5257\"},{\"customdata\":[4539.899902,3563.517578,4036.598877,3446.496826,3012.672852,2932.354492,3253.431396,3554.935791,2757.04834,2555.645752,2466.915771,2396.556885,2980.839844,6278.332031,2322.358887,2430.620361,2428.827637,2522.25415,2348.917969,2560.024658,1960.547729,2309.817383,1797.987061,1769.792603,1917.097046,1880.280884,1580.367798,1516.188843,1666.831299,1277.713501,1240.003296,1286.357788,1033.954712,812.980164,1259.831543,587.821106,808.811829,424.043365,635.756653,546.29187,651.227417,1088.476929],\"hoverinfo\":[\"x\",\"y\",\"z\",\"text\"],\"hovertemplate\":\"x: %{x} m, y: %{y} m, z: %{z} m, t: %{customdata} ns\",\"hovertext\":[\"-2160.28 ns\",\"-1992.60 ns\",\"-1973.11 ns\",\"-2003.35 ns\",\"-1969.31 ns\",\"-1952.29 ns\",\"-1867.18 ns\",\"-1850.16 ns\",\"-1973.01 ns\",\"-1938.97 ns\",\"-1921.95 ns\",\"-1904.93 ns\",\"-1853.86 ns\",\"-1928.84 ns\",\"-1799.83 ns\",\"-1923.68 ns\",\"-1906.66 ns\",\"-1872.61 ns\",\"-1812.11 ns\",\"-1830.56 ns\",\"-1820.55 ns\",\"-1810.54 ns\",\"-1841.84 ns\",\"-1831.83 ns\",\"-1791.78 ns\",\"-1852.47 ns\",\"-1818.43 ns\",\"-1784.39 ns\",\"-1780.06 ns\",\"-1763.04 ns\",\"-1729.00 ns\",\"-1694.96 ns\",\"-1718.67 ns\",\"-1701.65 ns\",\"-1684.63 ns\",\"-1718.55 ns\",\"-1701.53 ns\",\"-1684.51 ns\",\"-1667.49 ns\",\"-1650.46 ns\",\"-1633.44 ns\",\"-1700.60 ns\"],\"marker\":{\"color\":[4539.899902,3563.517578,4036.598877,3446.496826,3012.672852,2932.354492,3253.431396,3554.935791,2757.04834,2555.645752,2466.915771,2396.556885,2980.839844,6278.332031,2322.358887,2430.620361,2428.827637,2522.25415,2348.917969,2560.024658,1960.547729,2309.817383,1797.987061,1769.792603,1917.097046,1880.280884,1580.367798,1516.188843,1666.831299,1277.713501,1240.003296,1286.357788,1033.954712,812.980164,1259.831543,587.821106,808.811829,424.043365,635.756653,546.29187,651.227417,1088.476929],\"colorscale\":[[0.0,\"rgb(255,0,0)\"],[0.125,\"rgb(255,111,0)\"],[0.25,\"rgb(255,234,0)\"],[0.375,\"rgb(151,255,0)\"],[0.5,\"rgb(44,255,150)\"],[0.625,\"rgb(0,152,255)\"],[0.75,\"rgb(0,25,255)\"],[0.875,\"rgb(0,0,200)\"],[1.0,\"rgb(150,0,90)\"]],\"size\":4},\"mode\":\"markers\",\"name\":\"current_evt\",\"showlegend\":false,\"x\":[-526.63,-324.39,-279.53,-200.55,-200.55,-200.55,-200.55,-200.55,-77.8,-77.8,-77.8,-77.8,-77.8,-32.96,31.25,46.29,46.29,46.29,57.2,72.37,72.37,72.37,113.19,113.19,113.19,194.34,194.34,194.34,292.9,292.9,292.9,292.9,411.81,411.81,411.81,500.43,500.43,500.43,500.43,500.43,500.43,544.07],\"y\":[-15.6,-93.43,23.17,-74.03,-74.03,-74.03,-74.03,-74.03,-54.33,-54.33,-54.33,-54.33,-54.33,62.44,-72.93,-34.88,-34.88,-34.88,-105.52,-66.6,-66.6,-66.6,-60.47,-60.47,-60.47,-30.92,-30.92,-30.92,5.2,5.2,5.2,5.2,13.0,13.0,13.0,-58.45,-58.45,-58.45,-58.45,-58.45,-58.45,55.89],\"z\":[-2160.28,-1992.6,-1973.11,-2003.35,-1969.31,-1952.29,-1867.18,-1850.16,-1973.01,-1938.97,-1921.95,-1904.93,-1853.86,-1928.84,-1799.83,-1923.68,-1906.66,-1872.61,-1812.11,-1830.56,-1820.55,-1810.54,-1841.84,-1831.83,-1791.78,-1852.47,-1818.43,-1784.39,-1780.06,-1763.04,-1729.0,-1694.96,-1718.67,-1701.65,-1684.63,-1718.55,-1701.53,-1684.51,-1667.49,-1650.46,-1633.44,-1700.6],\"type\":\"scatter3d\",\"uid\":\"4c7c2532-19c4-44d8-85e9-f427f966abba\"},{\"line\":{\"color\":\"hotpink\",\"width\":6},\"mode\":\"lines\",\"name\":\"arrow_line\",\"showlegend\":false,\"x\":[509.8767964510212,-424.7526206268454],\"y\":[-25.23310239709126,-70.86096353697467],\"z\":[-1684.3452901997027,-2037.0292152948034],\"type\":\"scatter3d\",\"uid\":\"be204f49-ecdf-47b5-a650-e8f6c8795284\"},{\"anchor\":\"center\",\"colorscale\":[[0,\"hotpink\"],[1,\"hotpink\"]],\"name\":\"arrow_head\",\"showscale\":false,\"sizemode\":\"absolute\",\"sizeref\":100,\"u\":[-18.692588341557332],\"v\":[-0.9125572227976682],\"w\":[-7.053678501902016],\"x\":[-424.7526206268454],\"y\":[-70.86096353697467],\"z\":[-2037.0292152948034],\"type\":\"cone\",\"uid\":\"ada8d422-62c5-46e1-89bf-edd05bc38a5a\"},{\"line\":{\"color\":\"black\",\"width\":6},\"mode\":\"lines\",\"name\":\"arrow_line\",\"showlegend\":false,\"x\":[507.47216529424014,-422.3479894700643],\"y\":[-33.89275427190659,-62.201311662159334],\"z\":[-1677.2253320575853,-2044.1491734369208],\"type\":\"scatter3d\",\"uid\":\"789b8ea1-f09b-4b5c-b046-ad64bea7f060\"},{\"anchor\":\"center\",\"colorscale\":[[0,\"black\"],[1,\"black\"]],\"name\":\"arrow_head\",\"showscale\":false,\"sizemode\":\"absolute\",\"sizeref\":100,\"u\":[-18.59640309528609],\"v\":[-0.566171147805055],\"w\":[-7.338476827586709],\"x\":[-422.3479894700643],\"y\":[-62.201311662159334],\"z\":[-2044.1491734369208],\"type\":\"cone\",\"uid\":\"5e71c6bb-2e48-4243-92dd-289f7e39bd5d\"},{\"line\":{\"color\":\"black\",\"width\":6},\"mode\":\"lines\",\"name\":\"arrow_line\",\"showlegend\":false,\"x\":[507.47216529424014,-422.3479894700643],\"y\":[-33.89275427190659,-62.201311662159334],\"z\":[-1677.2253320575853,-2044.1491734369208],\"type\":\"scatter3d\",\"uid\":\"4f7ece7b-5f7d-46f6-89c0-6bb81d208aa3\"},{\"anchor\":\"center\",\"colorscale\":[[0,\"black\"],[1,\"black\"]],\"name\":\"arrow_head\",\"showscale\":false,\"sizemode\":\"absolute\",\"sizeref\":100,\"u\":[-18.59640309528609],\"v\":[-0.566171147805055],\"w\":[-7.338476827586709],\"x\":[-422.3479894700643],\"y\":[-62.201311662159334],\"z\":[-2044.1491734369208],\"type\":\"cone\",\"uid\":\"1ccfd49c-77f6-4aa4-aa12-a38cac3a5bab\"},{\"line\":{\"color\":\"black\",\"width\":6},\"mode\":\"lines\",\"name\":\"arrow_line\",\"showlegend\":false,\"x\":[507.47216529424014,-422.3479894700643],\"y\":[-33.89275427190659,-62.201311662159334],\"z\":[-1677.2253320575853,-2044.1491734369208],\"type\":\"scatter3d\",\"uid\":\"a90bfcf1-46cb-4a96-8d17-841a2d81a67f\"},{\"anchor\":\"center\",\"colorscale\":[[0,\"black\"],[1,\"black\"]],\"name\":\"arrow_head\",\"showscale\":false,\"sizemode\":\"absolute\",\"sizeref\":100,\"u\":[-18.59640309528609],\"v\":[-0.566171147805055],\"w\":[-7.338476827586709],\"x\":[-422.3479894700643],\"y\":[-62.201311662159334],\"z\":[-2044.1491734369208],\"type\":\"cone\",\"uid\":\"1c57abb4-810a-45a4-9d75-0510cbf9e4da\"},{\"line\":{\"color\":\"black\",\"width\":6},\"mode\":\"lines\",\"name\":\"arrow_line\",\"showlegend\":false,\"x\":[507.47216529424014,-422.3479894700643],\"y\":[-33.89275427190659,-62.201311662159334],\"z\":[-1677.2253320575853,-2044.1491734369208],\"type\":\"scatter3d\",\"uid\":\"542f999d-b33c-4ac9-90f2-5bd6c28a830b\"},{\"anchor\":\"center\",\"colorscale\":[[0,\"black\"],[1,\"black\"]],\"name\":\"arrow_head\",\"showscale\":false,\"sizemode\":\"absolute\",\"sizeref\":100,\"u\":[-18.59640309528609],\"v\":[-0.566171147805055],\"w\":[-7.338476827586709],\"x\":[-422.3479894700643],\"y\":[-62.201311662159334],\"z\":[-2044.1491734369208],\"type\":\"cone\",\"uid\":\"0785168b-75c2-4868-bc00-ffc15b8af866\"},{\"line\":{\"color\":\"black\",\"width\":6},\"mode\":\"lines\",\"name\":\"arrow_line\",\"showlegend\":false,\"x\":[507.47216529424014,-422.3479894700643],\"y\":[-33.89275427190659,-62.201311662159334],\"z\":[-1677.2253320575853,-2044.1491734369208],\"type\":\"scatter3d\",\"uid\":\"c2c85a51-198f-49f9-a997-e5d8455832f9\"},{\"anchor\":\"center\",\"colorscale\":[[0,\"black\"],[1,\"black\"]],\"name\":\"arrow_head\",\"showscale\":false,\"sizemode\":\"absolute\",\"sizeref\":100,\"u\":[-18.59640309528609],\"v\":[-0.566171147805055],\"w\":[-7.338476827586709],\"x\":[-422.3479894700643],\"y\":[-62.201311662159334],\"z\":[-2044.1491734369208],\"type\":\"cone\",\"uid\":\"151b9210-2919-4283-b054-fc7e75be559b\"}],                        {\"margin\":{\"b\":40,\"l\":20,\"r\":20,\"t\":40},\"scene\":{\"camera\":{\"center\":{\"x\":0,\"y\":0,\"z\":0},\"eye\":{\"x\":0.9848077530122082,\"y\":1.7057370639048863,\"z\":0.34729635533386066},\"up\":{\"x\":0,\"y\":0,\"z\":1}},\"xaxis\":{\"backgroundcolor\":\"whitesmoke\",\"showgrid\":false,\"showspikes\":false,\"showticklabels\":false,\"title\":{\"text\":\"\"}},\"yaxis\":{\"backgroundcolor\":\"whitesmoke\",\"showgrid\":false,\"showspikes\":false,\"showticklabels\":false,\"title\":{\"text\":\"\"}},\"zaxis\":{\"backgroundcolor\":\"whitesmoke\",\"showgrid\":false,\"showspikes\":false,\"showticklabels\":false,\"title\":{\"text\":\"\"}}},\"template\":{\"data\":{\"barpolar\":[{\"marker\":{\"line\":{\"color\":\"#E5ECF6\",\"width\":0.5},\"pattern\":{\"fillmode\":\"overlay\",\"size\":10,\"solidity\":0.2}},\"type\":\"barpolar\"}],\"bar\":[{\"error_x\":{\"color\":\"#2a3f5f\"},\"error_y\":{\"color\":\"#2a3f5f\"},\"marker\":{\"line\":{\"color\":\"#E5ECF6\",\"width\":0.5},\"pattern\":{\"fillmode\":\"overlay\",\"size\":10,\"solidity\":0.2}},\"type\":\"bar\"}],\"carpet\":[{\"aaxis\":{\"endlinecolor\":\"#2a3f5f\",\"gridcolor\":\"white\",\"linecolor\":\"white\",\"minorgridcolor\":\"white\",\"startlinecolor\":\"#2a3f5f\"},\"baxis\":{\"endlinecolor\":\"#2a3f5f\",\"gridcolor\":\"white\",\"linecolor\":\"white\",\"minorgridcolor\":\"white\",\"startlinecolor\":\"#2a3f5f\"},\"type\":\"carpet\"}],\"choropleth\":[{\"colorbar\":{\"outlinewidth\":0,\"ticks\":\"\"},\"type\":\"choropleth\"}],\"contourcarpet\":[{\"colorbar\":{\"outlinewidth\":0,\"ticks\":\"\"},\"type\":\"contourcarpet\"}],\"contour\":[{\"colorbar\":{\"outlinewidth\":0,\"ticks\":\"\"},\"colorscale\":[[0.0,\"#0d0887\"],[0.1111111111111111,\"#46039f\"],[0.2222222222222222,\"#7201a8\"],[0.3333333333333333,\"#9c179e\"],[0.4444444444444444,\"#bd3786\"],[0.5555555555555556,\"#d8576b\"],[0.6666666666666666,\"#ed7953\"],[0.7777777777777778,\"#fb9f3a\"],[0.8888888888888888,\"#fdca26\"],[1.0,\"#f0f921\"]],\"type\":\"contour\"}],\"heatmapgl\":[{\"colorbar\":{\"outlinewidth\":0,\"ticks\":\"\"},\"colorscale\":[[0.0,\"#0d0887\"],[0.1111111111111111,\"#46039f\"],[0.2222222222222222,\"#7201a8\"],[0.3333333333333333,\"#9c179e\"],[0.4444444444444444,\"#bd3786\"],[0.5555555555555556,\"#d8576b\"],[0.6666666666666666,\"#ed7953\"],[0.7777777777777778,\"#fb9f3a\"],[0.8888888888888888,\"#fdca26\"],[1.0,\"#f0f921\"]],\"type\":\"heatmapgl\"}],\"heatmap\":[{\"colorbar\":{\"outlinewidth\":0,\"ticks\":\"\"},\"colorscale\":[[0.0,\"#0d0887\"],[0.1111111111111111,\"#46039f\"],[0.2222222222222222,\"#7201a8\"],[0.3333333333333333,\"#9c179e\"],[0.4444444444444444,\"#bd3786\"],[0.5555555555555556,\"#d8576b\"],[0.6666666666666666,\"#ed7953\"],[0.7777777777777778,\"#fb9f3a\"],[0.8888888888888888,\"#fdca26\"],[1.0,\"#f0f921\"]],\"type\":\"heatmap\"}],\"histogram2dcontour\":[{\"colorbar\":{\"outlinewidth\":0,\"ticks\":\"\"},\"colorscale\":[[0.0,\"#0d0887\"],[0.1111111111111111,\"#46039f\"],[0.2222222222222222,\"#7201a8\"],[0.3333333333333333,\"#9c179e\"],[0.4444444444444444,\"#bd3786\"],[0.5555555555555556,\"#d8576b\"],[0.6666666666666666,\"#ed7953\"],[0.7777777777777778,\"#fb9f3a\"],[0.8888888888888888,\"#fdca26\"],[1.0,\"#f0f921\"]],\"type\":\"histogram2dcontour\"}],\"histogram2d\":[{\"colorbar\":{\"outlinewidth\":0,\"ticks\":\"\"},\"colorscale\":[[0.0,\"#0d0887\"],[0.1111111111111111,\"#46039f\"],[0.2222222222222222,\"#7201a8\"],[0.3333333333333333,\"#9c179e\"],[0.4444444444444444,\"#bd3786\"],[0.5555555555555556,\"#d8576b\"],[0.6666666666666666,\"#ed7953\"],[0.7777777777777778,\"#fb9f3a\"],[0.8888888888888888,\"#fdca26\"],[1.0,\"#f0f921\"]],\"type\":\"histogram2d\"}],\"histogram\":[{\"marker\":{\"pattern\":{\"fillmode\":\"overlay\",\"size\":10,\"solidity\":0.2}},\"type\":\"histogram\"}],\"mesh3d\":[{\"colorbar\":{\"outlinewidth\":0,\"ticks\":\"\"},\"type\":\"mesh3d\"}],\"parcoords\":[{\"line\":{\"colorbar\":{\"outlinewidth\":0,\"ticks\":\"\"}},\"type\":\"parcoords\"}],\"pie\":[{\"automargin\":true,\"type\":\"pie\"}],\"scatter3d\":[{\"line\":{\"colorbar\":{\"outlinewidth\":0,\"ticks\":\"\"}},\"marker\":{\"colorbar\":{\"outlinewidth\":0,\"ticks\":\"\"}},\"type\":\"scatter3d\"}],\"scattercarpet\":[{\"marker\":{\"colorbar\":{\"outlinewidth\":0,\"ticks\":\"\"}},\"type\":\"scattercarpet\"}],\"scattergeo\":[{\"marker\":{\"colorbar\":{\"outlinewidth\":0,\"ticks\":\"\"}},\"type\":\"scattergeo\"}],\"scattergl\":[{\"marker\":{\"colorbar\":{\"outlinewidth\":0,\"ticks\":\"\"}},\"type\":\"scattergl\"}],\"scattermapbox\":[{\"marker\":{\"colorbar\":{\"outlinewidth\":0,\"ticks\":\"\"}},\"type\":\"scattermapbox\"}],\"scatterpolargl\":[{\"marker\":{\"colorbar\":{\"outlinewidth\":0,\"ticks\":\"\"}},\"type\":\"scatterpolargl\"}],\"scatterpolar\":[{\"marker\":{\"colorbar\":{\"outlinewidth\":0,\"ticks\":\"\"}},\"type\":\"scatterpolar\"}],\"scatter\":[{\"fillpattern\":{\"fillmode\":\"overlay\",\"size\":10,\"solidity\":0.2},\"type\":\"scatter\"}],\"scatterternary\":[{\"marker\":{\"colorbar\":{\"outlinewidth\":0,\"ticks\":\"\"}},\"type\":\"scatterternary\"}],\"surface\":[{\"colorbar\":{\"outlinewidth\":0,\"ticks\":\"\"},\"colorscale\":[[0.0,\"#0d0887\"],[0.1111111111111111,\"#46039f\"],[0.2222222222222222,\"#7201a8\"],[0.3333333333333333,\"#9c179e\"],[0.4444444444444444,\"#bd3786\"],[0.5555555555555556,\"#d8576b\"],[0.6666666666666666,\"#ed7953\"],[0.7777777777777778,\"#fb9f3a\"],[0.8888888888888888,\"#fdca26\"],[1.0,\"#f0f921\"]],\"type\":\"surface\"}],\"table\":[{\"cells\":{\"fill\":{\"color\":\"#EBF0F8\"},\"line\":{\"color\":\"white\"}},\"header\":{\"fill\":{\"color\":\"#C8D4E3\"},\"line\":{\"color\":\"white\"}},\"type\":\"table\"}]},\"layout\":{\"annotationdefaults\":{\"arrowcolor\":\"#2a3f5f\",\"arrowhead\":0,\"arrowwidth\":1},\"autotypenumbers\":\"strict\",\"coloraxis\":{\"colorbar\":{\"outlinewidth\":0,\"ticks\":\"\"}},\"colorscale\":{\"diverging\":[[0,\"#8e0152\"],[0.1,\"#c51b7d\"],[0.2,\"#de77ae\"],[0.3,\"#f1b6da\"],[0.4,\"#fde0ef\"],[0.5,\"#f7f7f7\"],[0.6,\"#e6f5d0\"],[0.7,\"#b8e186\"],[0.8,\"#7fbc41\"],[0.9,\"#4d9221\"],[1,\"#276419\"]],\"sequential\":[[0.0,\"#0d0887\"],[0.1111111111111111,\"#46039f\"],[0.2222222222222222,\"#7201a8\"],[0.3333333333333333,\"#9c179e\"],[0.4444444444444444,\"#bd3786\"],[0.5555555555555556,\"#d8576b\"],[0.6666666666666666,\"#ed7953\"],[0.7777777777777778,\"#fb9f3a\"],[0.8888888888888888,\"#fdca26\"],[1.0,\"#f0f921\"]],\"sequentialminus\":[[0.0,\"#0d0887\"],[0.1111111111111111,\"#46039f\"],[0.2222222222222222,\"#7201a8\"],[0.3333333333333333,\"#9c179e\"],[0.4444444444444444,\"#bd3786\"],[0.5555555555555556,\"#d8576b\"],[0.6666666666666666,\"#ed7953\"],[0.7777777777777778,\"#fb9f3a\"],[0.8888888888888888,\"#fdca26\"],[1.0,\"#f0f921\"]]},\"colorway\":[\"#636efa\",\"#EF553B\",\"#00cc96\",\"#ab63fa\",\"#FFA15A\",\"#19d3f3\",\"#FF6692\",\"#B6E880\",\"#FF97FF\",\"#FECB52\"],\"font\":{\"color\":\"#2a3f5f\"},\"geo\":{\"bgcolor\":\"white\",\"lakecolor\":\"white\",\"landcolor\":\"#E5ECF6\",\"showlakes\":true,\"showland\":true,\"subunitcolor\":\"white\"},\"hoverlabel\":{\"align\":\"left\"},\"hovermode\":\"closest\",\"mapbox\":{\"style\":\"light\"},\"paper_bgcolor\":\"white\",\"plot_bgcolor\":\"#E5ECF6\",\"polar\":{\"angularaxis\":{\"gridcolor\":\"white\",\"linecolor\":\"white\",\"ticks\":\"\"},\"bgcolor\":\"#E5ECF6\",\"radialaxis\":{\"gridcolor\":\"white\",\"linecolor\":\"white\",\"ticks\":\"\"}},\"scene\":{\"xaxis\":{\"backgroundcolor\":\"#E5ECF6\",\"gridcolor\":\"white\",\"gridwidth\":2,\"linecolor\":\"white\",\"showbackground\":true,\"ticks\":\"\",\"zerolinecolor\":\"white\"},\"yaxis\":{\"backgroundcolor\":\"#E5ECF6\",\"gridcolor\":\"white\",\"gridwidth\":2,\"linecolor\":\"white\",\"showbackground\":true,\"ticks\":\"\",\"zerolinecolor\":\"white\"},\"zaxis\":{\"backgroundcolor\":\"#E5ECF6\",\"gridcolor\":\"white\",\"gridwidth\":2,\"linecolor\":\"white\",\"showbackground\":true,\"ticks\":\"\",\"zerolinecolor\":\"white\"}},\"shapedefaults\":{\"line\":{\"color\":\"#2a3f5f\"}},\"ternary\":{\"aaxis\":{\"gridcolor\":\"white\",\"linecolor\":\"white\",\"ticks\":\"\"},\"baxis\":{\"gridcolor\":\"white\",\"linecolor\":\"white\",\"ticks\":\"\"},\"bgcolor\":\"#E5ECF6\",\"caxis\":{\"gridcolor\":\"white\",\"linecolor\":\"white\",\"ticks\":\"\"}},\"title\":{\"x\":0.05},\"xaxis\":{\"automargin\":true,\"gridcolor\":\"white\",\"linecolor\":\"white\",\"ticks\":\"\",\"title\":{\"standoff\":15},\"zerolinecolor\":\"white\",\"zerolinewidth\":2},\"yaxis\":{\"automargin\":true,\"gridcolor\":\"white\",\"linecolor\":\"white\",\"ticks\":\"\",\"title\":{\"standoff\":15},\"zerolinecolor\":\"white\",\"zerolinewidth\":2}}}},                        {\"responsive\": true}                    ).then(function(){\n",
              "                            \n",
              "var gd = document.getElementById('e43419e9-e796-42cb-a6e4-7f966cabbb4d');\n",
              "var x = new MutationObserver(function (mutations, observer) {{\n",
              "        var display = window.getComputedStyle(gd).display;\n",
              "        if (!display || display === 'none') {{\n",
              "            console.log([gd, 'removed!']);\n",
              "            Plotly.purge(gd);\n",
              "            observer.disconnect();\n",
              "        }}\n",
              "}});\n",
              "\n",
              "// Listen for the removal of the full notebook cells\n",
              "var notebookContainer = gd.closest('#notebook-container');\n",
              "if (notebookContainer) {{\n",
              "    x.observe(notebookContainer, {childList: true});\n",
              "}}\n",
              "\n",
              "// Listen for the clearing of the current output cell\n",
              "var outputEl = gd.closest('.output');\n",
              "if (outputEl) {{\n",
              "    x.observe(outputEl, {childList: true});\n",
              "}}\n",
              "\n",
              "                        })                };                            </script>        </div>\n",
              "</body>\n",
              "</html>"
            ]
          },
          "metadata": {}
        }
      ],
      "source": [
        "true_dir_vec = get_direction_vector_from_angles(\n",
        "    evt.true_muon_azimuth,\n",
        "    evt.true_muon_zenith )\n",
        "\n",
        "print('The estimate by minimizing the perpendicular distance was ' + str(round(angle_deg(dir_vec, true_dir_vec),2)) + '° off the true direction.')\n",
        "\n",
        "fig.add_traces( plot_direction( true_dir_vec, pivot_pt, color=\"black\" ) )\n",
        "fig.show()"
      ]
    },
    {
      "cell_type": "markdown",
      "metadata": {
        "id": "WOGo5Bo2O6h4"
      },
      "source": [
        "## 4. How can we quantify the quality of our \"reconstructed\" directions?"
      ]
    },
    {
      "cell_type": "markdown",
      "metadata": {
        "id": "QxdUQ9HxO6h4"
      },
      "source": [
        "Let's say we have more than one method to determine the direction of an event. How can we decide which one is better?\n",
        "\n",
        "If you haven't yet, go back to step 3. and try changing which event you figure out the direction for.\n",
        "- Are there any kinds of events which are easier / harder for you to guess?\n",
        "- Are there any kinds of events which are easier / harder for the computer algorithm to reconstruct?"
      ]
    },
    {
      "cell_type": "markdown",
      "metadata": {
        "id": "ZYEXoagxO6h4"
      },
      "source": [
        "As you may see, how well we do at figuring out the direction varies a lot between different events. If we want to pick the best method, we need to look at how well it does for many different events.\n",
        "\n",
        "Let's start by using the computer algorithm to reconstruct the directions of many events. To do this fast, we'll use the code from above to write a function whose input is an event and whose output is the best guess direction."
      ]
    },
    {
      "cell_type": "code",
      "execution_count": null,
      "metadata": {
        "id": "VvQGvsukO6h4"
      },
      "outputs": [],
      "source": [
        "def find_best_dir( evt ):\n",
        "\n",
        "    pivot_pt = calc_center_of_gravity( evt.hits_xyz )\n",
        "\n",
        "    # you can define functions inside of other functions!\n",
        "    def function_to_minimize( dir_angles ):\n",
        "        return calc_mean_perpendicular_distance( dir_angles, evt.hits_xyz, pivot_pt )\n",
        "\n",
        "    initial_guess = make_initial_guess_for_angles( evt )\n",
        "\n",
        "    out = minimize(\n",
        "        function_to_minimize,\n",
        "        initial_guess,\n",
        "        method='Nelder-Mead'\n",
        "    )\n",
        "\n",
        "    best_azi, best_zen = out.x\n",
        "    best_azi = bound_azi( best_azi )\n",
        "    best_zen = bound_zen( best_zen )\n",
        "\n",
        "    return np.array([best_azi, best_zen])"
      ]
    },
    {
      "cell_type": "markdown",
      "metadata": {
        "id": "kCFPGJSeO6h4"
      },
      "source": [
        "Let's use this function to reconstruct the directions of a bunch of events."
      ]
    },
    {
      "cell_type": "code",
      "execution_count": null,
      "metadata": {
        "id": "jpAwxX18O6h5"
      },
      "outputs": [],
      "source": [
        "# change this number to adjust how many events you want to use!\n",
        "# for 100 events, this takes about 8 seconds.\n",
        "N = 100\n",
        "\n",
        "# we create empty arrays to hold the reconstructed angles.\n",
        "reco_azi = np.empty( N )\n",
        "reco_zen = np.empty( N )\n",
        "\n",
        "# let's also save the true angles.\n",
        "true_azi = np.empty( N )\n",
        "true_zen = np.empty( N )\n",
        "\n",
        "# now we iterate over all the events...\n",
        "for evt_num in range(N):\n",
        "\n",
        "    evt = tracks[evt_num]\n",
        "    reco_azi[evt_num], reco_zen[evt_num] = find_best_dir( evt )\n",
        "\n",
        "    true_azi[evt_num] = evt.true_muon_azimuth\n",
        "    true_zen[evt_num] = evt.true_muon_zenith\n"
      ]
    },
    {
      "cell_type": "markdown",
      "metadata": {
        "id": "iVtqvX6WO6h6"
      },
      "source": [
        "Now what we need to calculate is the difference between the directions:\n",
        "\n",
        "![](https://github.com/Harvard-Neutrino/IceCube_MasterClass_at_Harvard2025/blob/main/resources/images/great_circle_distance.jpg?raw=1)\n",
        "\n",
        "The difference between two directions is given by some more vector math: see the function below. If you've worked with vectors or spherical coordinates before, see if you can figure out how this equation is derived!"
      ]
    },
    {
      "cell_type": "code",
      "execution_count": null,
      "metadata": {
        "id": "2kPBoDxgO6h6"
      },
      "outputs": [],
      "source": [
        "def great_circle_distance( azi_1, zen_1, azi_2, zen_2  ):\n",
        "\n",
        "    dot_prod = \\\n",
        "        np.cos(zen_1) * np.cos(zen_2) + \\\n",
        "        np.sin(zen_1) * np.sin(zen_2) * np.cos( azi_1 - azi_2 )\n",
        "\n",
        "    return np.arccos(dot_prod)"
      ]
    },
    {
      "cell_type": "markdown",
      "metadata": {
        "id": "CM59HsUOO6h6"
      },
      "source": [
        "Let's figure out how big this difference angle is on average:"
      ]
    },
    {
      "cell_type": "code",
      "execution_count": null,
      "metadata": {
        "id": "7iNOzeRVO6h6"
      },
      "outputs": [],
      "source": [
        "diff_angle = great_circle_distance( true_azi, true_zen, reco_azi, reco_zen )\n",
        "\n",
        "print(\"the average difference between \\n\")\n",
        "print(f\"\\t the true and reconstructed directions is {np.rad2deg(diff_angle).mean():.2f}°\" )"
      ]
    },
    {
      "cell_type": "markdown",
      "metadata": {
        "id": "n_gD98RZO6h6"
      },
      "source": [
        "Is this what you expected?"
      ]
    },
    {
      "cell_type": "markdown",
      "metadata": {
        "id": "842V6fqwO6h7"
      },
      "source": [
        "# Part Two: If we know where the neutrinos came from, we can do astrophysics!"
      ]
    },
    {
      "cell_type": "markdown",
      "metadata": {
        "id": "x690xE83O6h7"
      },
      "source": [
        "As we discussed this morning, showers of high energy protons called \"cosmic rays\" rain down on our solar system from outer space all the time, from every direction. When these cosmic rays hit the dense air in our atmosphere, they interact, producing many other long lived particles. Our detectors have been observing these for 100 years!\n",
        "\n",
        "We also saw this morning that a thick material (like a sheet of plastic) can block many of these particles. Because the moon is close to us and very very dense, it can block cosmic rays from reaching our detectors!\n",
        "\n",
        "In other words, by looking for a *reduction* in the number of events in a particular direction, we can \"see\" the moon. This was the first kind of astrophysics IceCube could do!\n",
        "\n",
        "(If you're interested in reading more about this, you can take a look at this press release: https://icecube.wisc.edu/news/research/2013/05/cosmic-ray-moon-shadow-seen-by-icecube/ or read the original publication https://arxiv.org/pdf/1305.6811!)\n",
        "\n",
        "The dataset we've been looking at thus far is actually a simulation of this effect. We've also provided you with a bunch of reconstructed directions (using a more complicated / better algorithm than the one we wrote above)."
      ]
    },
    {
      "cell_type": "code",
      "execution_count": null,
      "metadata": {
        "id": "75ArLzHOO6h7"
      },
      "outputs": [],
      "source": [
        "from src.event_reader import load_sim_events\n",
        "tracks = load_sim_events( \"sim_moonshadow/tracks.parquet\" )"
      ]
    },
    {
      "cell_type": "markdown",
      "metadata": {
        "id": "4ZOEXUuWO6h7"
      },
      "source": [
        "## 1: Where is the moon in the sky?"
      ]
    },
    {
      "cell_type": "code",
      "execution_count": null,
      "metadata": {
        "id": "wHUMOqF9O6h7"
      },
      "outputs": [],
      "source": [
        "# software to work with astronomomical objects\n",
        "!git clone https://github.com/jlazar17/pyorbital\n",
        "sys.path.insert(0, \"./pyorbital/\")\n",
        "\n",
        "!python3 -m pip install healpy\n",
        "import numpy as np"
      ]
    },
    {
      "cell_type": "markdown",
      "metadata": {
        "id": "8THjAgwTO6h7"
      },
      "source": [
        "Think about the last time you looked at the moon. Where was it, in the sky? Was it directly overhead?\n",
        "\n",
        "The position of the moon in the sky of any observer on the surface of the earth depends on the observer's time, date and location. Because the earth is round, we specify the observer's location on the earth using two angles, called `latitude` and `longitude`. (Exactly like how we use two angles to describe the neutrino's direction!)\n",
        "\n",
        "![](https://github.com/Harvard-Neutrino/IceCube_MasterClass_at_Harvard2025/blob/main/resources/images/lat_long.png?raw=1)\n",
        "\n",
        "We've written a function to calculate the position of the moon at any given day, time, and location. Where will the moon be tonight in Cambridge at 7pm?"
      ]
    },
    {
      "cell_type": "code",
      "execution_count": null,
      "metadata": {
        "id": "l8Kw06OUO6h7"
      },
      "outputs": [],
      "source": [
        "from src.jdutil import mjd_to_datetime\n",
        "from src.moon import get_moon_position_at\n",
        "\n",
        "# in degrees\n",
        "cambridge_lat = 42.37\n",
        "cambridge_long = 71.11\n",
        "\n",
        "date_and_time = \"2025-05-31-19-00-00\" # Today at noon !\n",
        "\n",
        "moon_azi, moon_zen = get_moon_position_at(\n",
        "    date_and_time, cambridge_lat, cambridge_long)\n",
        "\n",
        "print(\n",
        "    f\"at {date_and_time}, in Cambridge, \\n\",\n",
        "    f\"the moon was at azimuth = {moon_azi:.2f}°, zenith = {moon_zen:.2f}°\"\n",
        ")"
      ]
    },
    {
      "cell_type": "markdown",
      "metadata": {
        "id": "TPas4Q8UO6h7"
      },
      "source": [
        "From  the picture above, can you figure out at what latitude is the IceCube Observatory? Fill it out below!\n",
        "\n",
        "( If you're curious about other locations, or want to check your work, you can use this website https://getlatlong.net/ to find the latitudes and longitudes of other locations on the earth. )"
      ]
    },
    {
      "cell_type": "code",
      "execution_count": null,
      "metadata": {
        "id": "zt7-Sc_SO6h7"
      },
      "outputs": [],
      "source": [
        "icecube_lat = # fill me out!\n",
        "icecube_long = 45."
      ]
    },
    {
      "cell_type": "markdown",
      "metadata": {
        "id": "Gf2VS_koO6h8"
      },
      "source": [
        "In order to figure out if a particular event was near the moon or not, we need to check where in the South Pole sky the moon was at that time! Let's do this for some events in our sample."
      ]
    },
    {
      "cell_type": "code",
      "execution_count": null,
      "metadata": {
        "id": "hB0eHRuEO6h8"
      },
      "outputs": [],
      "source": [
        "evt_num = 24\n",
        "evt = tracks[evt_num]\n",
        "\n",
        "# this date + time is written as a \"Modified Julian Date\"\n",
        "evt_date_and_time = tracks.mc_truth[evt_num][\"mjd_time\"]\n",
        "\n",
        "moon_azi, moon_zen = get_moon_position_at(\n",
        "    evt_date_and_time, icecube_lat, icecube_long)\n",
        "\n",
        "print(\n",
        "    f\"at {mjd_to_datetime(evt_date_and_time)}, at the South Pole, \\n\",\n",
        "    f\"the moon was at azimuth = {moon_azi:.2f}°, zenith = {moon_zen:.2f}°\"\n",
        ")"
      ]
    },
    {
      "cell_type": "markdown",
      "metadata": {
        "id": "NwwKIbKCO6h8"
      },
      "source": [
        "## 2: The shadow of the moon"
      ]
    },
    {
      "cell_type": "markdown",
      "metadata": {
        "id": "VxMDk-RgO6h8"
      },
      "source": [
        "Okay, let's get down to business. Now we actually want to calculate\n",
        "- where the moon was at the day + time of each event\n",
        "- how far away the moon's position in the sky was from the direction the event came in.\n",
        "\n",
        "Let's take a look at our event sample again. How many years of data have we given you?"
      ]
    },
    {
      "cell_type": "code",
      "execution_count": null,
      "metadata": {
        "id": "LeXmz7KyO6h8"
      },
      "outputs": [],
      "source": [
        "# let's get the reconstructed direction of each event:\n",
        "evt_azimuths = np.rad2deg( tracks[\"reco_azimuth\"] )\n",
        "evt_zeniths = np.rad2deg( tracks[\"reco_zenith\"] )\n",
        "\n",
        "# and the time:\n",
        "evt_dates = tracks[\"mjd_time\"]\n",
        "\n",
        "start_date = mjd_to_datetime( np.min( tracks[\"mjd_time\"] ) )\n",
        "end_date = mjd_to_datetime( np.max( tracks[\"mjd_time\"] ) )\n",
        "start_date, end_date"
      ]
    },
    {
      "cell_type": "code",
      "execution_count": null,
      "metadata": {
        "id": "hgXbuv2LO6h8"
      },
      "outputs": [],
      "source": [
        "# Now we iterate over all the dates, and calculate the moon position for each.\n",
        "# At each step, we will `append` the zenith and azimuth to our lists\n",
        "\n",
        "# Heads up - this step takes ~30 seconds!\n",
        "moon_zeniths = []\n",
        "moon_azimuths = []\n",
        "\n",
        "for date in evt_dates:\n",
        "    azi, zen = get_moon_position_at( date, icecube_lat, icecube_long )\n",
        "    moon_azimuths.append(azi)\n",
        "    moon_zeniths.append(zen)"
      ]
    },
    {
      "cell_type": "markdown",
      "metadata": {
        "id": "8h0V7k7_O6iA"
      },
      "source": [
        "We now need to calculate the differences between the two sets of angles. (We'll do these separately so we can plot the differences in two dimensions). We've written some functions to do this!\n",
        "\n",
        "Can you figure out what's going on in the azimuth difference calculation?"
      ]
    },
    {
      "cell_type": "code",
      "execution_count": null,
      "metadata": {
        "id": "TKD-sDHbO6iA"
      },
      "outputs": [],
      "source": [
        "def calc_zenith_diff( zen_1, zen_2 ):\n",
        "    return zen_1 - zen_2\n",
        "\n",
        "def calc_azimuth_diff( azi_1, azi_2 ):\n",
        "    # this is a little trickier, because 0° and 360° (or, in radians, 0 and 2pi) mean the same thing!\n",
        "    # we need to remember that the biggest possible difference between two angles is 180° (pi radians).\n",
        "    diff =  azi_1 - azi_2\n",
        "    return [ diff, diff-360, diff+360 ][\n",
        "        np.argmin( [abs(diff), abs(360 - diff), abs(360 + diff)] )\n",
        "    ]"
      ]
    },
    {
      "cell_type": "markdown",
      "metadata": {
        "id": "-bUDp626O6iA"
      },
      "source": [
        "Let's calculate the differences and make a plot!"
      ]
    },
    {
      "cell_type": "code",
      "execution_count": null,
      "metadata": {
        "id": "Lu07xqODO6iA"
      },
      "outputs": [],
      "source": [
        "diff_zeniths = calc_zenith_diff( moon_zeniths, evt_zeniths )\n",
        "diff_azimuths =  [ calc_azimuth_diff( a1, a2 ) for (a1, a2) in zip( moon_azimuths, evt_azimuths ) ]\n",
        "\n",
        "from src.plot_hist import plot_heatmap\n",
        "\n",
        "minimum_angle = -5 # degrees\n",
        "maximum_angle = 5 # degrees\n",
        "n_bins = 10\n",
        "\n",
        "angle_bins = np.linspace(minimum_angle, maximum_angle, n_bins+1)\n",
        "\n",
        "h, _, _ = np.histogram2d(\n",
        "    np.sin( np.deg2rad(evt_zeniths) ) * diff_azimuths,\n",
        "    diff_zeniths,\n",
        "    bins=[angle_bins, angle_bins]\n",
        ")\n",
        "\n",
        "plot_heatmap(h, angle_bins, cmap=\"Greys_r\")"
      ]
    },
    {
      "cell_type": "markdown",
      "metadata": {
        "id": "A92oGA-HO6iA"
      },
      "source": [
        "Can you see the moon? How big is it?"
      ]
    },
    {
      "cell_type": "markdown",
      "metadata": {
        "id": "CCUB-dvWO6iA"
      },
      "source": [
        "#### Bonus:"
      ]
    },
    {
      "cell_type": "markdown",
      "metadata": {
        "id": "dfSVh4rkO6iA"
      },
      "source": [
        "How well we can see the moon depends on our *resolution*, roughly how (not) blurry our sight with the detector is -- in other words, how good we are at reconstructing the correct direction of the event from the hits we see in our detector!\n",
        "\n",
        "This reconstruction ability generally depends on the *energy* of the particle making the event. Can you figure out why?\n",
        "\n",
        "The vector below contains the energies of the initial particles causing each of the events. If you're familiar with python at all, try:\n",
        "- isolating the events with higher or lower energy\n",
        "- checking how good the reconstruction in angle is, on average\n",
        "- and checking what the moon shadow looks like using only those events.\n",
        "\n",
        "Feel free also to ask one of the researchers for help!"
      ]
    },
    {
      "cell_type": "code",
      "execution_count": null,
      "metadata": {
        "id": "1f1efwBgO6iA"
      },
      "outputs": [],
      "source": [
        "evt_energy = tracks[\"initial_state_energy\"]\n",
        "\n",
        "true_zenith = tracks[\"initial_state_zenith\"]\n",
        "true_azimuth = tracks[\"initial_state_azimuth\"]"
      ]
    },
    {
      "cell_type": "markdown",
      "metadata": {
        "id": "NvR_n8_9O6iA"
      },
      "source": [
        "# Bonus preview activity: cascades..."
      ]
    },
    {
      "cell_type": "markdown",
      "metadata": {
        "id": "y9950ZkVO6iA"
      },
      "source": [
        "As we will discuss later, IceCube can see two broad kinds of events, *tracks*, which look like long lines and are produced by the light from *muons*, and *cascades*, which look like spherical blobs and are produced by the light from *electrons* (and some other particles).\n",
        "\n",
        "We just tried to reconstruct the direction of some track events. Do you think it would be easier or harder to reconstruct the direction of some cascade events?\n",
        "\n",
        "Give it a try!"
      ]
    },
    {
      "cell_type": "code",
      "execution_count": null,
      "metadata": {
        "id": "oRDkkKHRO6iA"
      },
      "outputs": [],
      "source": [
        "cascades = load_sim_events( \"sim_moonshadow/cascades.parquet\" )\n",
        "reco_game( cascades, event_type=\"cascade\" )"
      ]
    }
  ],
  "metadata": {
    "kernelspec": {
      "display_name": "Python 3",
      "language": "python",
      "name": "python3"
    },
    "language_info": {
      "codemirror_mode": {
        "name": "ipython",
        "version": 3
      },
      "file_extension": ".py",
      "mimetype": "text/x-python",
      "name": "python",
      "nbconvert_exporter": "python",
      "pygments_lexer": "ipython3",
      "version": "3.10.6"
    },
    "colab": {
      "provenance": []
    },
    "widgets": {
      "application/vnd.jupyter.widget-state+json": {
        "f460ba4ce81443e3b4174e96b5828f9c": {
          "model_module": "@jupyter-widgets/controls",
          "model_name": "VBoxModel",
          "model_module_version": "1.5.0",
          "state": {
            "_dom_classes": [
              "widget-interact"
            ],
            "_model_module": "@jupyter-widgets/controls",
            "_model_module_version": "1.5.0",
            "_model_name": "VBoxModel",
            "_view_count": null,
            "_view_module": "@jupyter-widgets/controls",
            "_view_module_version": "1.5.0",
            "_view_name": "VBoxView",
            "box_style": "",
            "children": [
              "IPY_MODEL_4bf3188064974373a6e2598c215d93d0",
              "IPY_MODEL_bed4a25581514fa4bc5aaa4087f5beb3",
              "IPY_MODEL_4b4ea8d509884511af87258349cdbde6",
              "IPY_MODEL_a2cccb588b114b958e9b554b72365e97"
            ],
            "layout": "IPY_MODEL_0508c15032bd47ab9addbec4b7760913"
          }
        },
        "4bf3188064974373a6e2598c215d93d0": {
          "model_module": "@jupyter-widgets/controls",
          "model_name": "DropdownModel",
          "model_module_version": "1.5.0",
          "state": {
            "_dom_classes": [],
            "_model_module": "@jupyter-widgets/controls",
            "_model_module_version": "1.5.0",
            "_model_name": "DropdownModel",
            "_options_labels": [
              "1",
              "2",
              "3",
              "4",
              "5",
              "6",
              "7",
              "8",
              "9",
              "10"
            ],
            "_view_count": null,
            "_view_module": "@jupyter-widgets/controls",
            "_view_module_version": "1.5.0",
            "_view_name": "DropdownView",
            "description": "event_id",
            "description_tooltip": null,
            "disabled": false,
            "index": 0,
            "layout": "IPY_MODEL_c9a18ff52c864da399f0f618da3572b7",
            "style": "IPY_MODEL_d5b9725f7dec4d2f9b480890f7692fce"
          }
        },
        "bed4a25581514fa4bc5aaa4087f5beb3": {
          "model_module": "@jupyter-widgets/controls",
          "model_name": "FloatSliderModel",
          "model_module_version": "1.5.0",
          "state": {
            "_dom_classes": [],
            "_model_module": "@jupyter-widgets/controls",
            "_model_module_version": "1.5.0",
            "_model_name": "FloatSliderModel",
            "_view_count": null,
            "_view_module": "@jupyter-widgets/controls",
            "_view_module_version": "1.5.0",
            "_view_name": "FloatSliderView",
            "continuous_update": true,
            "description": "zenith",
            "description_tooltip": null,
            "disabled": false,
            "layout": "IPY_MODEL_13c54d0b27044a1997fa3d219bf7584e",
            "max": 3.14,
            "min": 0,
            "orientation": "horizontal",
            "readout": true,
            "readout_format": ".2f",
            "step": 0.01,
            "style": "IPY_MODEL_b62ddfbcda3645d693a2e1de2425bc88",
            "value": 2.09
          }
        },
        "4b4ea8d509884511af87258349cdbde6": {
          "model_module": "@jupyter-widgets/controls",
          "model_name": "FloatSliderModel",
          "model_module_version": "1.5.0",
          "state": {
            "_dom_classes": [],
            "_model_module": "@jupyter-widgets/controls",
            "_model_module_version": "1.5.0",
            "_model_name": "FloatSliderModel",
            "_view_count": null,
            "_view_module": "@jupyter-widgets/controls",
            "_view_module_version": "1.5.0",
            "_view_name": "FloatSliderView",
            "continuous_update": true,
            "description": "azimuth",
            "description_tooltip": null,
            "disabled": false,
            "layout": "IPY_MODEL_4f68b14704944cfd9bf2d1b7cce92519",
            "max": 3.14,
            "min": -3.14,
            "orientation": "horizontal",
            "readout": true,
            "readout_format": ".2f",
            "step": 0.01,
            "style": "IPY_MODEL_fc59d975802f4cad8ddaada9426147d3",
            "value": 0
          }
        },
        "a2cccb588b114b958e9b554b72365e97": {
          "model_module": "@jupyter-widgets/output",
          "model_name": "OutputModel",
          "model_module_version": "1.0.0",
          "state": {
            "_dom_classes": [],
            "_model_module": "@jupyter-widgets/output",
            "_model_module_version": "1.0.0",
            "_model_name": "OutputModel",
            "_view_count": null,
            "_view_module": "@jupyter-widgets/output",
            "_view_module_version": "1.0.0",
            "_view_name": "OutputView",
            "layout": "IPY_MODEL_bae7fed79dae4b50ae525e428e7efc32",
            "msg_id": "",
            "outputs": [
              {
                "output_type": "display_data",
                "data": {
                  "text/html": "<html>\n<head><meta charset=\"utf-8\" /></head>\n<body>\n    <div>            <script src=\"https://cdnjs.cloudflare.com/ajax/libs/mathjax/2.7.5/MathJax.js?config=TeX-AMS-MML_SVG\"></script><script type=\"text/javascript\">if (window.MathJax && window.MathJax.Hub && window.MathJax.Hub.Config) {window.MathJax.Hub.Config({SVG: {font: \"STIX-Web\"}});}</script>                <script type=\"text/javascript\">window.PlotlyConfig = {MathJaxConfig: 'local'};</script>\n        <script charset=\"utf-8\" src=\"https://cdn.plot.ly/plotly-2.35.2.min.js\"></script>                <div id=\"4ae87010-b339-45ef-afb4-e87bfb940b4f\" class=\"plotly-graph-div\" style=\"height:525px; width:100%;\"></div>            <script type=\"text/javascript\">                                    window.PLOTLYENV=window.PLOTLYENV || {};                                    if (document.getElementById(\"4ae87010-b339-45ef-afb4-e87bfb940b4f\")) {                    Plotly.newPlot(                        \"4ae87010-b339-45ef-afb4-e87bfb940b4f\",                        [{\"hoverinfo\":\"skip\",\"line\":{\"color\":\"lightgrey\",\"width\":1},\"mode\":\"lines\",\"showlegend\":false,\"x\":[-256.14,-256.14],\"y\":[-521.08,-521.08],\"z\":[-1441.93,-2453.06],\"type\":\"scatter3d\",\"uid\":\"c7b6a759-2e4f-4bef-b895-3723f15e1f1a\"},{\"hoverinfo\":\"skip\",\"line\":{\"color\":\"lightgrey\",\"width\":1},\"mode\":\"lines\",\"showlegend\":false,\"x\":[-132.8,-132.8],\"y\":[-501.45,-501.45],\"z\":[-1441.93,-2453.06],\"type\":\"scatter3d\",\"uid\":\"c90291df-2dbc-409a-9cb3-08c7ebccfa98\"},{\"hoverinfo\":\"skip\",\"line\":{\"color\":\"lightgrey\",\"width\":1},\"mode\":\"lines\",\"showlegend\":false,\"x\":[-9.13,-9.13],\"y\":[-481.74,-481.74],\"z\":[-1441.93,-2453.06],\"type\":\"scatter3d\",\"uid\":\"604d2a4a-058d-4ca3-bd98-d1ef00b05ab3\"},{\"hoverinfo\":\"skip\",\"line\":{\"color\":\"lightgrey\",\"width\":1},\"mode\":\"lines\",\"showlegend\":false,\"x\":[114.39,114.39],\"y\":[-461.99,-461.99],\"z\":[-1441.93,-2453.06],\"type\":\"scatter3d\",\"uid\":\"a3f5db51-9fcd-4cd6-8598-309f45b571ef\"},{\"hoverinfo\":\"skip\",\"line\":{\"color\":\"lightgrey\",\"width\":1},\"mode\":\"lines\",\"showlegend\":false,\"x\":[237.78,237.78],\"y\":[-442.42,-442.42],\"z\":[-1441.93,-2453.06],\"type\":\"scatter3d\",\"uid\":\"2f1e19df-6443-4946-a1df-55314236eb36\"},{\"hoverinfo\":\"skip\",\"line\":{\"color\":\"lightgrey\",\"width\":1},\"mode\":\"lines\",\"showlegend\":false,\"x\":[361.0,361.0],\"y\":[-422.83,-422.83],\"z\":[-1441.93,-2453.06],\"type\":\"scatter3d\",\"uid\":\"0ef1ec26-0231-4fdc-af6d-b0f622501138\"},{\"hoverinfo\":\"skip\",\"line\":{\"color\":\"lightgrey\",\"width\":1},\"mode\":\"lines\",\"showlegend\":false,\"x\":[-334.8,-334.8],\"y\":[-424.5,-424.5],\"z\":[-1441.93,-2453.06],\"type\":\"scatter3d\",\"uid\":\"9272ad4b-4643-445b-acd8-0f2622188e89\"},{\"hoverinfo\":\"skip\",\"line\":{\"color\":\"lightgrey\",\"width\":1},\"mode\":\"lines\",\"showlegend\":false,\"x\":[-211.35,-211.35],\"y\":[-404.48,-404.48],\"z\":[-1441.93,-2453.06],\"type\":\"scatter3d\",\"uid\":\"5c166ec0-d1fe-4e07-87c7-8be3a4a86c3b\"},{\"hoverinfo\":\"skip\",\"line\":{\"color\":\"lightgrey\",\"width\":1},\"mode\":\"lines\",\"showlegend\":false,\"x\":[-88.05,-88.05],\"y\":[-384.3,-384.3],\"z\":[-1441.93,-2453.06],\"type\":\"scatter3d\",\"uid\":\"2c4a58d6-bba4-4b3b-860f-f96598824903\"},{\"hoverinfo\":\"skip\",\"line\":{\"color\":\"lightgrey\",\"width\":1},\"mode\":\"lines\",\"showlegend\":false,\"x\":[35.54,35.54],\"y\":[-364.83,-364.83],\"z\":[-1441.93,-2453.06],\"type\":\"scatter3d\",\"uid\":\"dc9d4442-7023-46ee-b603-e0b6dbf33b0b\"},{\"hoverinfo\":\"skip\",\"line\":{\"color\":\"lightgrey\",\"width\":1},\"mode\":\"lines\",\"showlegend\":false,\"x\":[158.94,158.94],\"y\":[-345.23,-345.23],\"z\":[-1441.93,-2453.06],\"type\":\"scatter3d\",\"uid\":\"7fcee4c8-89cc-4e61-8b01-d129bb652e84\"},{\"hoverinfo\":\"skip\",\"line\":{\"color\":\"lightgrey\",\"width\":1},\"mode\":\"lines\",\"showlegend\":false,\"x\":[282.18,282.18],\"y\":[-325.74,-325.74],\"z\":[-1441.93,-2453.06],\"type\":\"scatter3d\",\"uid\":\"2d849855-6e96-419e-8c1f-fd0f0e9762eb\"},{\"hoverinfo\":\"skip\",\"line\":{\"color\":\"lightgrey\",\"width\":1},\"mode\":\"lines\",\"showlegend\":false,\"x\":[405.83,405.83],\"y\":[-306.38,-306.38],\"z\":[-1441.93,-2453.06],\"type\":\"scatter3d\",\"uid\":\"0f1ce558-b171-40d8-bb0d-189fa91be8e5\"},{\"hoverinfo\":\"skip\",\"line\":{\"color\":\"lightgrey\",\"width\":1},\"mode\":\"lines\",\"showlegend\":false,\"x\":[-413.46,-413.46],\"y\":[-327.27,-327.27],\"z\":[-1441.93,-2453.06],\"type\":\"scatter3d\",\"uid\":\"b3c680b6-daf0-4cd3-8336-b5f1068492a0\"},{\"hoverinfo\":\"skip\",\"line\":{\"color\":\"lightgrey\",\"width\":1},\"mode\":\"lines\",\"showlegend\":false,\"x\":[-290.66,-290.66],\"y\":[-307.38,-307.38],\"z\":[-1441.93,-2453.06],\"type\":\"scatter3d\",\"uid\":\"ec3e3a2e-bd68-4a0a-9251-811f08142a9a\"},{\"hoverinfo\":\"skip\",\"line\":{\"color\":\"lightgrey\",\"width\":1},\"mode\":\"lines\",\"showlegend\":false,\"x\":[-166.4,-166.4],\"y\":[-287.79,-287.79],\"z\":[-1441.93,-2453.06],\"type\":\"scatter3d\",\"uid\":\"4e81c7ec-0880-4cf2-b6fc-c2d5dfae24d6\"},{\"hoverinfo\":\"skip\",\"line\":{\"color\":\"lightgrey\",\"width\":1},\"mode\":\"lines\",\"showlegend\":false,\"x\":[-43.27,-43.27],\"y\":[-267.52,-267.52],\"z\":[-1441.93,-2453.06],\"type\":\"scatter3d\",\"uid\":\"82e085ba-340b-4d69-a0be-42deb96dcfef\"},{\"hoverinfo\":\"skip\",\"line\":{\"color\":\"lightgrey\",\"width\":1},\"mode\":\"lines\",\"showlegend\":false,\"x\":[79.41,79.41],\"y\":[-248.24,-248.24],\"z\":[-1441.93,-2453.06],\"type\":\"scatter3d\",\"uid\":\"b3b60ce3-fab1-4ea3-9b21-1752935c61ae\"},{\"hoverinfo\":\"skip\",\"line\":{\"color\":\"lightgrey\",\"width\":1},\"mode\":\"lines\",\"showlegend\":false,\"x\":[210.47,210.47],\"y\":[-209.77,-209.77],\"z\":[-1441.93,-2453.06],\"type\":\"scatter3d\",\"uid\":\"256a28e3-dc4e-4a47-8e3c-1a92388728ed\"},{\"hoverinfo\":\"skip\",\"line\":{\"color\":\"lightgrey\",\"width\":1},\"mode\":\"lines\",\"showlegend\":false,\"x\":[326.85,326.85],\"y\":[-209.07,-209.07],\"z\":[-1441.93,-2453.06],\"type\":\"scatter3d\",\"uid\":\"25fea3ca-f7f6-4777-9525-9f3fae071f4a\"},{\"hoverinfo\":\"skip\",\"line\":{\"color\":\"lightgrey\",\"width\":1},\"mode\":\"lines\",\"showlegend\":false,\"x\":[443.55,443.55],\"y\":[-194.16,-194.16],\"z\":[-1441.93,-2453.06],\"type\":\"scatter3d\",\"uid\":\"16ca21e6-980d-4b68-a2f7-fc489ed76d5e\"},{\"hoverinfo\":\"skip\",\"line\":{\"color\":\"lightgrey\",\"width\":1},\"mode\":\"lines\",\"showlegend\":false,\"x\":[-492.43,-492.43],\"y\":[-230.16,-230.16],\"z\":[-1441.93,-2453.06],\"type\":\"scatter3d\",\"uid\":\"d7cc0756-abca-4b6c-8909-04f32dbe9dde\"},{\"hoverinfo\":\"skip\",\"line\":{\"color\":\"lightgrey\",\"width\":1},\"mode\":\"lines\",\"showlegend\":false,\"x\":[-368.93,-368.93],\"y\":[-210.23,-210.23],\"z\":[-1441.93,-2453.06],\"type\":\"scatter3d\",\"uid\":\"5fab3b91-0deb-43ed-ba3f-2044f771991a\"},{\"hoverinfo\":\"skip\",\"line\":{\"color\":\"lightgrey\",\"width\":1},\"mode\":\"lines\",\"showlegend\":false,\"x\":[-245.65,-245.65],\"y\":[-190.49,-190.49],\"z\":[-1441.93,-2453.06],\"type\":\"scatter3d\",\"uid\":\"fc024b30-5260-404f-8502-9091ab7488f4\"},{\"hoverinfo\":\"skip\",\"line\":{\"color\":\"lightgrey\",\"width\":1},\"mode\":\"lines\",\"showlegend\":false,\"x\":[-121.77,-121.77],\"y\":[-171.03,-171.03],\"z\":[-1441.93,-2453.06],\"type\":\"scatter3d\",\"uid\":\"18361c2f-ecb3-4071-9f77-cadaa64f2e01\"},{\"hoverinfo\":\"skip\",\"line\":{\"color\":\"lightgrey\",\"width\":1},\"mode\":\"lines\",\"showlegend\":false,\"x\":[1.71,1.71],\"y\":[-150.63,-150.63],\"z\":[-1441.93,-2453.06],\"type\":\"scatter3d\",\"uid\":\"df953374-a606-4e5b-9690-908612fdcca2\"},{\"hoverinfo\":\"skip\",\"line\":{\"color\":\"lightgrey\",\"width\":1},\"mode\":\"lines\",\"showlegend\":false,\"x\":[124.97,124.97],\"y\":[-131.25,-131.25],\"z\":[-1441.93,-2453.06],\"type\":\"scatter3d\",\"uid\":\"468eee54-0bc9-4524-addd-7ac2ce96d823\"},{\"hoverinfo\":\"skip\",\"line\":{\"color\":\"lightgrey\",\"width\":1},\"mode\":\"lines\",\"showlegend\":false,\"x\":[248.15,248.15],\"y\":[-111.87,-111.87],\"z\":[-1441.93,-2453.06],\"type\":\"scatter3d\",\"uid\":\"5e2fc6bc-eb6b-4d5e-a574-dbb5d4fd349b\"},{\"hoverinfo\":\"skip\",\"line\":{\"color\":\"lightgrey\",\"width\":1},\"mode\":\"lines\",\"showlegend\":false,\"x\":[371.56,371.56],\"y\":[-92.18,-92.18],\"z\":[-1441.93,-2453.06],\"type\":\"scatter3d\",\"uid\":\"047f1844-71be-4519-abeb-02bf8392135e\"},{\"hoverinfo\":\"skip\",\"line\":{\"color\":\"lightgrey\",\"width\":1},\"mode\":\"lines\",\"showlegend\":false,\"x\":[500.43,500.43],\"y\":[-58.45,-58.45],\"z\":[-1441.93,-2453.06],\"type\":\"scatter3d\",\"uid\":\"6945b2fb-03fc-4402-95ad-be7a542ab453\"},{\"hoverinfo\":\"skip\",\"line\":{\"color\":\"lightgrey\",\"width\":1},\"mode\":\"lines\",\"showlegend\":false,\"x\":[-570.9,-570.9],\"y\":[-125.14,-125.14],\"z\":[-1441.93,-2453.06],\"type\":\"scatter3d\",\"uid\":\"a0103911-3730-497d-993c-5702e7d4acef\"},{\"hoverinfo\":\"skip\",\"line\":{\"color\":\"lightgrey\",\"width\":1},\"mode\":\"lines\",\"showlegend\":false,\"x\":[-447.74,-447.74],\"y\":[-113.13,-113.13],\"z\":[-1441.93,-2453.06],\"type\":\"scatter3d\",\"uid\":\"591e540a-1916-423c-8fd4-0431402209d6\"},{\"hoverinfo\":\"skip\",\"line\":{\"color\":\"lightgrey\",\"width\":1},\"mode\":\"lines\",\"showlegend\":false,\"x\":[-324.39,-324.39],\"y\":[-93.43,-93.43],\"z\":[-1441.93,-2453.06],\"type\":\"scatter3d\",\"uid\":\"60d2db0a-4dff-4c56-b098-97722bb7b61a\"},{\"hoverinfo\":\"skip\",\"line\":{\"color\":\"lightgrey\",\"width\":1},\"mode\":\"lines\",\"showlegend\":false,\"x\":[-200.55,-200.55],\"y\":[-74.03,-74.03],\"z\":[-1441.93,-2453.06],\"type\":\"scatter3d\",\"uid\":\"3dc38cdd-99ff-4eff-b1c8-9fcc6857c6ac\"},{\"hoverinfo\":\"skip\",\"line\":{\"color\":\"lightgrey\",\"width\":1},\"mode\":\"lines\",\"showlegend\":false,\"x\":[-77.8,-77.8],\"y\":[-54.33,-54.33],\"z\":[-1441.93,-2453.06],\"type\":\"scatter3d\",\"uid\":\"233acb74-ce46-4944-91a4-be078c30d9c7\"},{\"hoverinfo\":\"skip\",\"line\":{\"color\":\"lightgrey\",\"width\":1},\"mode\":\"lines\",\"showlegend\":false,\"x\":[46.29,46.29],\"y\":[-34.88,-34.88],\"z\":[-1441.93,-2453.06],\"type\":\"scatter3d\",\"uid\":\"84ad4240-6636-4268-afa8-c81f369781ec\"},{\"hoverinfo\":\"skip\",\"line\":{\"color\":\"lightgrey\",\"width\":1},\"mode\":\"lines\",\"showlegend\":false,\"x\":[194.34,194.34],\"y\":[-30.92,-30.92],\"z\":[-1441.93,-2453.06],\"type\":\"scatter3d\",\"uid\":\"df076add-dcf4-473f-a058-00c80b2a73b0\"},{\"hoverinfo\":\"skip\",\"line\":{\"color\":\"lightgrey\",\"width\":1},\"mode\":\"lines\",\"showlegend\":false,\"x\":[292.9,292.9],\"y\":[5.2,5.2],\"z\":[-1441.93,-2453.06],\"type\":\"scatter3d\",\"uid\":\"9621c5af-b58a-497f-8072-946fe15f2889\"},{\"hoverinfo\":\"skip\",\"line\":{\"color\":\"lightgrey\",\"width\":1},\"mode\":\"lines\",\"showlegend\":false,\"x\":[411.81,411.81],\"y\":[13.0,13.0],\"z\":[-1441.93,-2453.06],\"type\":\"scatter3d\",\"uid\":\"638f1b7b-d0a1-4e3c-87f1-370d671e7077\"},{\"hoverinfo\":\"skip\",\"line\":{\"color\":\"lightgrey\",\"width\":1},\"mode\":\"lines\",\"showlegend\":false,\"x\":[544.07,544.07],\"y\":[55.89,55.89],\"z\":[-1441.93,-2453.06],\"type\":\"scatter3d\",\"uid\":\"f6f0c69a-0806-4b1f-9249-8ab25235faaa\"},{\"hoverinfo\":\"skip\",\"line\":{\"color\":\"lightgrey\",\"width\":1},\"mode\":\"lines\",\"showlegend\":false,\"x\":[-526.63,-526.63],\"y\":[-15.6,-15.6],\"z\":[-1441.93,-2453.06],\"type\":\"scatter3d\",\"uid\":\"540bf456-0c15-40da-853e-d19f03d07880\"},{\"hoverinfo\":\"skip\",\"line\":{\"color\":\"lightgrey\",\"width\":1},\"mode\":\"lines\",\"showlegend\":false,\"x\":[-403.14,-403.14],\"y\":[3.49,3.49],\"z\":[-1441.93,-2453.06],\"type\":\"scatter3d\",\"uid\":\"16f5e89d-4c92-4761-a635-9350545bc69e\"},{\"hoverinfo\":\"skip\",\"line\":{\"color\":\"lightgrey\",\"width\":1},\"mode\":\"lines\",\"showlegend\":false,\"x\":[-279.53,-279.53],\"y\":[23.17,23.17],\"z\":[-1441.93,-2453.06],\"type\":\"scatter3d\",\"uid\":\"8d9b33e6-57d5-4a02-8318-43c723063fbe\"},{\"hoverinfo\":\"skip\",\"line\":{\"color\":\"lightgrey\",\"width\":1},\"mode\":\"lines\",\"showlegend\":false,\"x\":[-156.23,-156.23],\"y\":[43.37,43.37],\"z\":[-1441.93,-2453.06],\"type\":\"scatter3d\",\"uid\":\"a7030446-47cf-46f3-85ac-c5204320ee3b\"},{\"hoverinfo\":\"skip\",\"line\":{\"color\":\"lightgrey\",\"width\":1},\"mode\":\"lines\",\"showlegend\":false,\"x\":[-32.96,-32.96],\"y\":[62.44,62.44],\"z\":[-1441.93,-2453.06],\"type\":\"scatter3d\",\"uid\":\"93454f97-9008-4bf1-90fd-3ff908acb376\"},{\"hoverinfo\":\"skip\",\"line\":{\"color\":\"lightgrey\",\"width\":1},\"mode\":\"lines\",\"showlegend\":false,\"x\":[90.49,90.49],\"y\":[82.35,82.35],\"z\":[-1441.93,-2453.06],\"type\":\"scatter3d\",\"uid\":\"70e5cbc8-8f3e-4ce6-b190-56fe2fde2a4e\"},{\"hoverinfo\":\"skip\",\"line\":{\"color\":\"lightgrey\",\"width\":1},\"mode\":\"lines\",\"showlegend\":false,\"x\":[195.03,195.03],\"y\":[125.59,125.59],\"z\":[-1441.93,-2453.06],\"type\":\"scatter3d\",\"uid\":\"46bf0cb9-95e7-481e-bbc5-e7cdb92c36e8\"},{\"hoverinfo\":\"skip\",\"line\":{\"color\":\"lightgrey\",\"width\":1},\"mode\":\"lines\",\"showlegend\":false,\"x\":[330.03,330.03],\"y\":[127.2,127.2],\"z\":[-1441.93,-2453.06],\"type\":\"scatter3d\",\"uid\":\"7b0f0129-93dc-4ce2-8be6-21a849c8a83e\"},{\"hoverinfo\":\"skip\",\"line\":{\"color\":\"lightgrey\",\"width\":1},\"mode\":\"lines\",\"showlegend\":false,\"x\":[472.05,472.05],\"y\":[127.9,127.9],\"z\":[-1441.93,-2453.06],\"type\":\"scatter3d\",\"uid\":\"93ae3471-8093-4b8a-94c3-575f8ab0bc25\"},{\"hoverinfo\":\"skip\",\"line\":{\"color\":\"lightgrey\",\"width\":1},\"mode\":\"lines\",\"showlegend\":false,\"x\":[576.37,576.37],\"y\":[170.92,170.92],\"z\":[-1441.93,-2453.06],\"type\":\"scatter3d\",\"uid\":\"f9e270af-63fe-4a76-b6b7-6bd1189cfb55\"},{\"hoverinfo\":\"skip\",\"line\":{\"color\":\"lightgrey\",\"width\":1},\"mode\":\"lines\",\"showlegend\":false,\"x\":[-481.6,-481.6],\"y\":[101.39,101.39],\"z\":[-1441.93,-2453.06],\"type\":\"scatter3d\",\"uid\":\"87d3b76a-1194-42a1-96e2-43b359057ed9\"},{\"hoverinfo\":\"skip\",\"line\":{\"color\":\"lightgrey\",\"width\":1},\"mode\":\"lines\",\"showlegend\":false,\"x\":[-358.44,-358.44],\"y\":[120.56,120.56],\"z\":[-1441.93,-2453.06],\"type\":\"scatter3d\",\"uid\":\"e0ade39b-a660-4278-b0b1-c60105423a94\"},{\"hoverinfo\":\"skip\",\"line\":{\"color\":\"lightgrey\",\"width\":1},\"mode\":\"lines\",\"showlegend\":false,\"x\":[-234.95,-234.95],\"y\":[140.44,140.44],\"z\":[-1441.93,-2453.06],\"type\":\"scatter3d\",\"uid\":\"4f3c7e0a-bcb7-4763-bcbe-89941bd38a9b\"},{\"hoverinfo\":\"skip\",\"line\":{\"color\":\"lightgrey\",\"width\":1},\"mode\":\"lines\",\"showlegend\":false,\"x\":[-111.51,-111.51],\"y\":[159.98,159.98],\"z\":[-1441.93,-2453.06],\"type\":\"scatter3d\",\"uid\":\"4af03b8d-53e0-4074-a8f0-f655ae23f7c2\"},{\"hoverinfo\":\"skip\",\"line\":{\"color\":\"lightgrey\",\"width\":1},\"mode\":\"lines\",\"showlegend\":false,\"x\":[11.87,11.87],\"y\":[179.19,179.19],\"z\":[-1441.93,-2453.06],\"type\":\"scatter3d\",\"uid\":\"06d15166-472f-4576-aa09-d99b08defdac\"},{\"hoverinfo\":\"skip\",\"line\":{\"color\":\"lightgrey\",\"width\":1},\"mode\":\"lines\",\"showlegend\":false,\"x\":[132.03,132.03],\"y\":[202.98,202.98],\"z\":[-1441.93,-2453.06],\"type\":\"scatter3d\",\"uid\":\"d82135c1-5531-4b53-9ff1-0ab95cb39060\"},{\"hoverinfo\":\"skip\",\"line\":{\"color\":\"lightgrey\",\"width\":1},\"mode\":\"lines\",\"showlegend\":false,\"x\":[257.31,257.31],\"y\":[211.66,211.66],\"z\":[-1441.93,-2453.06],\"type\":\"scatter3d\",\"uid\":\"3dd541d1-6bd9-4a1b-858b-6a00fd9508e8\"},{\"hoverinfo\":\"skip\",\"line\":{\"color\":\"lightgrey\",\"width\":1},\"mode\":\"lines\",\"showlegend\":false,\"x\":[382.35,382.35],\"y\":[238.9,238.9],\"z\":[-1441.93,-2453.06],\"type\":\"scatter3d\",\"uid\":\"54aaa623-054c-4085-8415-fe8a4575a858\"},{\"hoverinfo\":\"skip\",\"line\":{\"color\":\"lightgrey\",\"width\":1},\"mode\":\"lines\",\"showlegend\":false,\"x\":[505.27,505.27],\"y\":[257.88,257.88],\"z\":[-1441.93,-2453.06],\"type\":\"scatter3d\",\"uid\":\"f80e138f-9b83-4d7c-84de-af83242249a6\"},{\"hoverinfo\":\"skip\",\"line\":{\"color\":\"lightgrey\",\"width\":1},\"mode\":\"lines\",\"showlegend\":false,\"x\":[-437.04,-437.04],\"y\":[217.8,217.8],\"z\":[-1441.93,-2453.06],\"type\":\"scatter3d\",\"uid\":\"372d5456-082c-4fe8-b1d3-b0880d6f1c68\"},{\"hoverinfo\":\"skip\",\"line\":{\"color\":\"lightgrey\",\"width\":1},\"mode\":\"lines\",\"showlegend\":false,\"x\":[-313.6,-313.6],\"y\":[237.44,237.44],\"z\":[-1441.93,-2453.06],\"type\":\"scatter3d\",\"uid\":\"fd02d5c3-778b-477c-874d-06b2ff44da80\"},{\"hoverinfo\":\"skip\",\"line\":{\"color\":\"lightgrey\",\"width\":1},\"mode\":\"lines\",\"showlegend\":false,\"x\":[-189.98,-189.98],\"y\":[257.42,257.42],\"z\":[-1441.93,-2453.06],\"type\":\"scatter3d\",\"uid\":\"696a5d1b-c6de-4c26-9485-7b8dee781841\"},{\"hoverinfo\":\"skip\",\"line\":{\"color\":\"lightgrey\",\"width\":1},\"mode\":\"lines\",\"showlegend\":false,\"x\":[-66.7,-66.7],\"y\":[276.92,276.92],\"z\":[-1441.93,-2453.06],\"type\":\"scatter3d\",\"uid\":\"c022270d-4614-4bea-ad37-6e8d898af209\"},{\"hoverinfo\":\"skip\",\"line\":{\"color\":\"lightgrey\",\"width\":1},\"mode\":\"lines\",\"showlegend\":false,\"x\":[54.26,54.26],\"y\":[292.97,292.97],\"z\":[-1441.93,-2453.06],\"type\":\"scatter3d\",\"uid\":\"eb33611b-2be4-4644-a503-62d7c847e2e8\"},{\"hoverinfo\":\"skip\",\"line\":{\"color\":\"lightgrey\",\"width\":1},\"mode\":\"lines\",\"showlegend\":false,\"x\":[174.47,174.47],\"y\":[315.54,315.54],\"z\":[-1441.93,-2453.06],\"type\":\"scatter3d\",\"uid\":\"b412e082-2b17-4d47-87b6-cea976bd7abe\"},{\"hoverinfo\":\"skip\",\"line\":{\"color\":\"lightgrey\",\"width\":1},\"mode\":\"lines\",\"showlegend\":false,\"x\":[303.41,303.41],\"y\":[335.64,335.64],\"z\":[-1441.93,-2453.06],\"type\":\"scatter3d\",\"uid\":\"28bdd49b-0ad4-482b-99ef-1e122f5d4bba\"},{\"hoverinfo\":\"skip\",\"line\":{\"color\":\"lightgrey\",\"width\":1},\"mode\":\"lines\",\"showlegend\":false,\"x\":[429.76,429.76],\"y\":[351.02,351.02],\"z\":[-1441.93,-2453.06],\"type\":\"scatter3d\",\"uid\":\"7b01267a-70a8-4b1f-88c4-98d3234271f1\"},{\"hoverinfo\":\"skip\",\"line\":{\"color\":\"lightgrey\",\"width\":1},\"mode\":\"lines\",\"showlegend\":false,\"x\":[-392.38,-392.38],\"y\":[334.24,334.24],\"z\":[-1441.93,-2453.06],\"type\":\"scatter3d\",\"uid\":\"91e5262b-32d4-4e94-97d0-877d8db3cb15\"},{\"hoverinfo\":\"skip\",\"line\":{\"color\":\"lightgrey\",\"width\":1},\"mode\":\"lines\",\"showlegend\":false,\"x\":[-268.9,-268.9],\"y\":[354.24,354.24],\"z\":[-1441.93,-2453.06],\"type\":\"scatter3d\",\"uid\":\"e3cd4d80-3a42-4033-bd1b-ac0d3bcdcefa\"},{\"hoverinfo\":\"skip\",\"line\":{\"color\":\"lightgrey\",\"width\":1},\"mode\":\"lines\",\"showlegend\":false,\"x\":[-145.45,-145.45],\"y\":[374.24,374.24],\"z\":[-1441.93,-2453.06],\"type\":\"scatter3d\",\"uid\":\"c5d01d55-0733-4f2d-98ae-c81c47a051f0\"},{\"hoverinfo\":\"skip\",\"line\":{\"color\":\"lightgrey\",\"width\":1},\"mode\":\"lines\",\"showlegend\":false,\"x\":[-21.97,-21.97],\"y\":[393.24,393.24],\"z\":[-1441.93,-2453.06],\"type\":\"scatter3d\",\"uid\":\"7d516520-a177-40bc-ac29-dcba5541086f\"},{\"hoverinfo\":\"skip\",\"line\":{\"color\":\"lightgrey\",\"width\":1},\"mode\":\"lines\",\"showlegend\":false,\"x\":[101.04,101.04],\"y\":[412.79,412.79],\"z\":[-1441.93,-2453.06],\"type\":\"scatter3d\",\"uid\":\"735b75f5-104f-4bda-a51e-0fc64cc3b682\"},{\"hoverinfo\":\"skip\",\"line\":{\"color\":\"lightgrey\",\"width\":1},\"mode\":\"lines\",\"showlegend\":false,\"x\":[224.58,224.58],\"y\":[432.35,432.35],\"z\":[-1441.93,-2453.06],\"type\":\"scatter3d\",\"uid\":\"a0bc6392-a15e-4671-a35a-f46033f19854\"},{\"hoverinfo\":\"skip\",\"line\":{\"color\":\"lightgrey\",\"width\":1},\"mode\":\"lines\",\"showlegend\":false,\"x\":[338.44,338.44],\"y\":[463.72,463.72],\"z\":[-1441.93,-2453.06],\"type\":\"scatter3d\",\"uid\":\"c32a4166-e082-4912-abbf-b5124e61c169\"},{\"hoverinfo\":\"skip\",\"line\":{\"color\":\"lightgrey\",\"width\":1},\"mode\":\"lines\",\"showlegend\":false,\"x\":[-347.88,-347.88],\"y\":[451.52,451.52],\"z\":[-1441.93,-2453.06],\"type\":\"scatter3d\",\"uid\":\"5e4b2b38-2a1a-430c-9945-82d951c8b57c\"},{\"hoverinfo\":\"skip\",\"line\":{\"color\":\"lightgrey\",\"width\":1},\"mode\":\"lines\",\"showlegend\":false,\"x\":[-224.09,-224.09],\"y\":[470.86,470.86],\"z\":[-1441.93,-2453.06],\"type\":\"scatter3d\",\"uid\":\"3395b8ba-46f0-46ae-86d0-ec9cb9ffa822\"},{\"hoverinfo\":\"skip\",\"line\":{\"color\":\"lightgrey\",\"width\":1},\"mode\":\"lines\",\"showlegend\":false,\"x\":[-101.06,-101.06],\"y\":[490.22,490.22],\"z\":[-1441.93,-2453.06],\"type\":\"scatter3d\",\"uid\":\"9dc3ef6b-7fbf-4a61-87d2-a7f52fba2c97\"},{\"hoverinfo\":\"skip\",\"line\":{\"color\":\"lightgrey\",\"width\":1},\"mode\":\"lines\",\"showlegend\":false,\"x\":[22.11,22.11],\"y\":[509.5,509.5],\"z\":[-1441.93,-2453.06],\"type\":\"scatter3d\",\"uid\":\"4ed06dad-1162-4037-9d5d-91c31fe3b9eb\"},{\"hoverinfo\":\"skip\",\"line\":{\"color\":\"lightgrey\",\"width\":1},\"mode\":\"lines\",\"showlegend\":false,\"x\":[31.25,31.25],\"y\":[-72.93,-72.93],\"z\":[-1441.93,-2453.06],\"type\":\"scatter3d\",\"uid\":\"c296ba87-5930-4c69-ad63-75f1401ef6cb\"},{\"hoverinfo\":\"skip\",\"line\":{\"color\":\"lightgrey\",\"width\":1},\"mode\":\"lines\",\"showlegend\":false,\"x\":[72.37,72.37],\"y\":[-66.6,-66.6],\"z\":[-1441.93,-2453.06],\"type\":\"scatter3d\",\"uid\":\"1984c928-436c-4da2-8fef-95e1ec197c82\"},{\"hoverinfo\":\"skip\",\"line\":{\"color\":\"lightgrey\",\"width\":1},\"mode\":\"lines\",\"showlegend\":false,\"x\":[41.6,41.6],\"y\":[35.49,35.49],\"z\":[-1441.93,-2453.06],\"type\":\"scatter3d\",\"uid\":\"a579e936-726a-4048-b2e6-5631cdb1f6d2\"},{\"hoverinfo\":\"skip\",\"line\":{\"color\":\"lightgrey\",\"width\":1},\"mode\":\"lines\",\"showlegend\":false,\"x\":[106.94,106.94],\"y\":[27.09,27.09],\"z\":[-1441.93,-2453.06],\"type\":\"scatter3d\",\"uid\":\"291990b2-bc0d-43f6-b3fc-169cb14d6291\"},{\"hoverinfo\":\"skip\",\"line\":{\"color\":\"lightgrey\",\"width\":1},\"mode\":\"lines\",\"showlegend\":false,\"x\":[113.19,113.19],\"y\":[-60.47,-60.47],\"z\":[-1441.93,-2453.06],\"type\":\"scatter3d\",\"uid\":\"c8c307a4-6200-4426-8a2c-a591fc896a45\"},{\"hoverinfo\":\"skip\",\"line\":{\"color\":\"lightgrey\",\"width\":1},\"mode\":\"lines\",\"showlegend\":false,\"x\":[57.2,57.2],\"y\":[-105.52,-105.52],\"z\":[-1441.93,-2453.06],\"type\":\"scatter3d\",\"uid\":\"c3f7369a-b835-459b-aea4-8e5b34e07a3a\"},{\"hoverinfo\":\"skip\",\"line\":{\"color\":\"lightgrey\",\"width\":1},\"mode\":\"lines\",\"showlegend\":false,\"x\":[-9.68,-9.68],\"y\":[-79.5,-79.5],\"z\":[-1441.93,-2453.06],\"type\":\"scatter3d\",\"uid\":\"9fa58089-295a-42b1-9612-83f6b3fc0fcd\"},{\"hoverinfo\":\"skip\",\"line\":{\"color\":\"lightgrey\",\"width\":1},\"mode\":\"lines\",\"showlegend\":false,\"x\":[-10.97,-10.97],\"y\":[6.72,6.72],\"z\":[-1441.93,-2453.06],\"type\":\"scatter3d\",\"uid\":\"98459fcc-82ce-484c-97e3-752672d4456d\"},{\"hoverinfo\":\"skip\",\"line\":{\"color\":\"grey\",\"width\":1},\"mode\":\"lines\",\"showlegend\":false,\"x\":[-347.88,-570.9,-256.14,361.0,576.37,338.44,101.04,22.11,-347.88],\"y\":[451.52,-125.14,-521.08,-422.83,170.92,463.72,412.79,509.5,451.52],\"z\":[-2453.06,-2453.06,-2453.06,-2453.06,-2453.06,-2453.06,-2453.06,-2453.06,-2453.06,-2453.06,-2453.06,-2453.06,-2453.06,-2453.06,-2453.06,-2453.06,-2453.06,-2453.06,-2453.06,-2453.06,-2453.06,-2453.06,-2453.06,-2453.06,-2453.06,-2453.06,-2453.06,-2453.06,-2453.06,-2453.06,-2453.06,-2453.06,-2453.06,-2453.06,-2453.06,-2453.06,-2453.06,-2453.06,-2453.06,-2453.06,-2453.06,-2453.06,-2453.06,-2453.06,-2453.06,-2453.06,-2453.06,-2453.06,-2453.06,-2453.06,-2453.06,-2453.06,-2453.06,-2453.06,-2453.06,-2453.06,-2453.06,-2453.06,-2453.06,-2453.06,-2453.06,-2453.06,-2453.06,-2453.06,-2453.06,-2453.06,-2453.06,-2453.06,-2453.06,-2453.06,-2453.06,-2453.06,-2453.06,-2453.06,-2453.06,-2453.06,-2453.06,-2453.06,-2453.06,-2453.06,-2453.06,-2453.06,-2453.06,-2453.06,-2453.06,-2453.06],\"type\":\"scatter3d\",\"uid\":\"75643774-863c-4582-bd0f-7ba441297462\"},{\"hoverinfo\":\"skip\",\"line\":{\"color\":\"grey\",\"width\":1},\"mode\":\"lines\",\"showlegend\":false,\"x\":[-347.88,-570.9,-256.14,361.0,576.37,338.44,101.04,22.11,-347.88],\"y\":[451.52,-125.14,-521.08,-422.83,170.92,463.72,412.79,509.5,451.52],\"z\":[-1441.93,-1441.93,-1441.93,-1441.93,-1441.93,-1441.93,-1441.93,-1441.93,-1441.93,-1441.93,-1441.93,-1441.93,-1441.93,-1441.93,-1441.93,-1441.93,-1441.93,-1441.93,-1441.93,-1441.93,-1441.93,-1441.93,-1441.93,-1441.93,-1441.93,-1441.93,-1441.93,-1441.93,-1441.93,-1441.93,-1441.93,-1441.93,-1441.93,-1441.93,-1441.93,-1441.93,-1441.93,-1441.93,-1441.93,-1441.93,-1441.93,-1441.93,-1441.93,-1441.93,-1441.93,-1441.93,-1441.93,-1441.93,-1441.93,-1441.93,-1441.93,-1441.93,-1441.93,-1441.93,-1441.93,-1441.93,-1441.93,-1441.93,-1441.93,-1441.93,-1441.93,-1441.93,-1441.93,-1441.93,-1441.93,-1441.93,-1441.93,-1441.93,-1441.93,-1441.93,-1441.93,-1441.93,-1441.93,-1441.93,-1441.93,-1441.93,-1441.93,-1441.93,-1441.93,-1441.93,-1441.93,-1441.93,-1441.93,-1441.93,-1441.93,-1441.93],\"type\":\"scatter3d\",\"uid\":\"0ad52601-c258-4d12-9f3b-85a18907a87f\"},{\"customdata\":[4539.899902,3563.517578,4036.598877,3446.496826,3012.672852,2932.354492,3253.431396,3554.935791,2757.04834,2555.645752,2466.915771,2396.556885,2980.839844,6278.332031,2322.358887,2430.620361,2428.827637,2522.25415,2348.917969,2560.024658,1960.547729,2309.817383,1797.987061,1769.792603,1917.097046,1880.280884,1580.367798,1516.188843,1666.831299,1277.713501,1240.003296,1286.357788,1033.954712,812.980164,1259.831543,587.821106,808.811829,424.043365,635.756653,546.29187,651.227417,1088.476929],\"hoverinfo\":[\"x\",\"y\",\"z\",\"text\"],\"hovertemplate\":\"x: %{x} m, y: %{y} m, z: %{z} m, t: %{customdata} ns\",\"hovertext\":[\"-2160.28 ns\",\"-1992.60 ns\",\"-1973.11 ns\",\"-2003.35 ns\",\"-1969.31 ns\",\"-1952.29 ns\",\"-1867.18 ns\",\"-1850.16 ns\",\"-1973.01 ns\",\"-1938.97 ns\",\"-1921.95 ns\",\"-1904.93 ns\",\"-1853.86 ns\",\"-1928.84 ns\",\"-1799.83 ns\",\"-1923.68 ns\",\"-1906.66 ns\",\"-1872.61 ns\",\"-1812.11 ns\",\"-1830.56 ns\",\"-1820.55 ns\",\"-1810.54 ns\",\"-1841.84 ns\",\"-1831.83 ns\",\"-1791.78 ns\",\"-1852.47 ns\",\"-1818.43 ns\",\"-1784.39 ns\",\"-1780.06 ns\",\"-1763.04 ns\",\"-1729.00 ns\",\"-1694.96 ns\",\"-1718.67 ns\",\"-1701.65 ns\",\"-1684.63 ns\",\"-1718.55 ns\",\"-1701.53 ns\",\"-1684.51 ns\",\"-1667.49 ns\",\"-1650.46 ns\",\"-1633.44 ns\",\"-1700.60 ns\"],\"marker\":{\"color\":[4539.899902,3563.517578,4036.598877,3446.496826,3012.672852,2932.354492,3253.431396,3554.935791,2757.04834,2555.645752,2466.915771,2396.556885,2980.839844,6278.332031,2322.358887,2430.620361,2428.827637,2522.25415,2348.917969,2560.024658,1960.547729,2309.817383,1797.987061,1769.792603,1917.097046,1880.280884,1580.367798,1516.188843,1666.831299,1277.713501,1240.003296,1286.357788,1033.954712,812.980164,1259.831543,587.821106,808.811829,424.043365,635.756653,546.29187,651.227417,1088.476929],\"colorscale\":[[0.0,\"rgb(255,0,0)\"],[0.125,\"rgb(255,111,0)\"],[0.25,\"rgb(255,234,0)\"],[0.375,\"rgb(151,255,0)\"],[0.5,\"rgb(44,255,150)\"],[0.625,\"rgb(0,152,255)\"],[0.75,\"rgb(0,25,255)\"],[0.875,\"rgb(0,0,200)\"],[1.0,\"rgb(150,0,90)\"]],\"size\":4},\"mode\":\"markers\",\"name\":\"current_evt\",\"showlegend\":false,\"x\":[-526.63,-324.39,-279.53,-200.55,-200.55,-200.55,-200.55,-200.55,-77.8,-77.8,-77.8,-77.8,-77.8,-32.96,31.25,46.29,46.29,46.29,57.2,72.37,72.37,72.37,113.19,113.19,113.19,194.34,194.34,194.34,292.9,292.9,292.9,292.9,411.81,411.81,411.81,500.43,500.43,500.43,500.43,500.43,500.43,544.07],\"y\":[-15.6,-93.43,23.17,-74.03,-74.03,-74.03,-74.03,-74.03,-54.33,-54.33,-54.33,-54.33,-54.33,62.44,-72.93,-34.88,-34.88,-34.88,-105.52,-66.6,-66.6,-66.6,-60.47,-60.47,-60.47,-30.92,-30.92,-30.92,5.2,5.2,5.2,5.2,13.0,13.0,13.0,-58.45,-58.45,-58.45,-58.45,-58.45,-58.45,55.89],\"z\":[-2160.28,-1992.6,-1973.11,-2003.35,-1969.31,-1952.29,-1867.18,-1850.16,-1973.01,-1938.97,-1921.95,-1904.93,-1853.86,-1928.84,-1799.83,-1923.68,-1906.66,-1872.61,-1812.11,-1830.56,-1820.55,-1810.54,-1841.84,-1831.83,-1791.78,-1852.47,-1818.43,-1784.39,-1780.06,-1763.04,-1729.0,-1694.96,-1718.67,-1701.65,-1684.63,-1718.55,-1701.53,-1684.51,-1667.49,-1650.46,-1633.44,-1700.6],\"type\":\"scatter3d\",\"uid\":\"55b9c215-b45f-4209-8f52-9e0f31dee53f\"},{\"line\":{\"color\":\"black\",\"width\":6},\"mode\":\"lines\",\"name\":\"arrow_line\",\"showlegend\":false,\"x\":[-391.5452038107184,476.66937963489426],\"y\":[-48.04703296703296,-48.04703296703296],\"z\":[-1612.5927963942536,-2108.7817091002526],\"type\":\"scatter3d\",\"uid\":\"b4aea748-ee5b-46d2-9f9d-c2cbfc0f7606\"},{\"anchor\":\"center\",\"colorscale\":[[0,\"black\"],[1,\"black\"]],\"name\":\"arrow_head\",\"showscale\":false,\"sizemode\":\"absolute\",\"sizeref\":100,\"u\":[17.36429166891225],\"v\":[0.0],\"w\":[-9.923778254119977],\"x\":[476.66937963489426],\"y\":[-48.04703296703296],\"z\":[-2108.7817091002526],\"type\":\"cone\",\"uid\":\"302e9a01-9e50-4085-ae12-9d8228800807\"}],                        {\"margin\":{\"b\":40,\"l\":20,\"r\":20,\"t\":40},\"scene\":{\"camera\":{\"center\":{\"x\":0,\"y\":0,\"z\":0},\"eye\":{\"x\":0.9848077530122082,\"y\":1.7057370639048863,\"z\":0.34729635533386066},\"up\":{\"x\":0,\"y\":0,\"z\":1}},\"xaxis\":{\"backgroundcolor\":\"whitesmoke\",\"showgrid\":false,\"showspikes\":false,\"showticklabels\":false,\"title\":{\"text\":\"\"}},\"yaxis\":{\"backgroundcolor\":\"whitesmoke\",\"showgrid\":false,\"showspikes\":false,\"showticklabels\":false,\"title\":{\"text\":\"\"}},\"zaxis\":{\"backgroundcolor\":\"whitesmoke\",\"showgrid\":false,\"showspikes\":false,\"showticklabels\":false,\"title\":{\"text\":\"\"}}},\"template\":{\"data\":{\"barpolar\":[{\"marker\":{\"line\":{\"color\":\"#E5ECF6\",\"width\":0.5},\"pattern\":{\"fillmode\":\"overlay\",\"size\":10,\"solidity\":0.2}},\"type\":\"barpolar\"}],\"bar\":[{\"error_x\":{\"color\":\"#2a3f5f\"},\"error_y\":{\"color\":\"#2a3f5f\"},\"marker\":{\"line\":{\"color\":\"#E5ECF6\",\"width\":0.5},\"pattern\":{\"fillmode\":\"overlay\",\"size\":10,\"solidity\":0.2}},\"type\":\"bar\"}],\"carpet\":[{\"aaxis\":{\"endlinecolor\":\"#2a3f5f\",\"gridcolor\":\"white\",\"linecolor\":\"white\",\"minorgridcolor\":\"white\",\"startlinecolor\":\"#2a3f5f\"},\"baxis\":{\"endlinecolor\":\"#2a3f5f\",\"gridcolor\":\"white\",\"linecolor\":\"white\",\"minorgridcolor\":\"white\",\"startlinecolor\":\"#2a3f5f\"},\"type\":\"carpet\"}],\"choropleth\":[{\"colorbar\":{\"outlinewidth\":0,\"ticks\":\"\"},\"type\":\"choropleth\"}],\"contourcarpet\":[{\"colorbar\":{\"outlinewidth\":0,\"ticks\":\"\"},\"type\":\"contourcarpet\"}],\"contour\":[{\"colorbar\":{\"outlinewidth\":0,\"ticks\":\"\"},\"colorscale\":[[0.0,\"#0d0887\"],[0.1111111111111111,\"#46039f\"],[0.2222222222222222,\"#7201a8\"],[0.3333333333333333,\"#9c179e\"],[0.4444444444444444,\"#bd3786\"],[0.5555555555555556,\"#d8576b\"],[0.6666666666666666,\"#ed7953\"],[0.7777777777777778,\"#fb9f3a\"],[0.8888888888888888,\"#fdca26\"],[1.0,\"#f0f921\"]],\"type\":\"contour\"}],\"heatmapgl\":[{\"colorbar\":{\"outlinewidth\":0,\"ticks\":\"\"},\"colorscale\":[[0.0,\"#0d0887\"],[0.1111111111111111,\"#46039f\"],[0.2222222222222222,\"#7201a8\"],[0.3333333333333333,\"#9c179e\"],[0.4444444444444444,\"#bd3786\"],[0.5555555555555556,\"#d8576b\"],[0.6666666666666666,\"#ed7953\"],[0.7777777777777778,\"#fb9f3a\"],[0.8888888888888888,\"#fdca26\"],[1.0,\"#f0f921\"]],\"type\":\"heatmapgl\"}],\"heatmap\":[{\"colorbar\":{\"outlinewidth\":0,\"ticks\":\"\"},\"colorscale\":[[0.0,\"#0d0887\"],[0.1111111111111111,\"#46039f\"],[0.2222222222222222,\"#7201a8\"],[0.3333333333333333,\"#9c179e\"],[0.4444444444444444,\"#bd3786\"],[0.5555555555555556,\"#d8576b\"],[0.6666666666666666,\"#ed7953\"],[0.7777777777777778,\"#fb9f3a\"],[0.8888888888888888,\"#fdca26\"],[1.0,\"#f0f921\"]],\"type\":\"heatmap\"}],\"histogram2dcontour\":[{\"colorbar\":{\"outlinewidth\":0,\"ticks\":\"\"},\"colorscale\":[[0.0,\"#0d0887\"],[0.1111111111111111,\"#46039f\"],[0.2222222222222222,\"#7201a8\"],[0.3333333333333333,\"#9c179e\"],[0.4444444444444444,\"#bd3786\"],[0.5555555555555556,\"#d8576b\"],[0.6666666666666666,\"#ed7953\"],[0.7777777777777778,\"#fb9f3a\"],[0.8888888888888888,\"#fdca26\"],[1.0,\"#f0f921\"]],\"type\":\"histogram2dcontour\"}],\"histogram2d\":[{\"colorbar\":{\"outlinewidth\":0,\"ticks\":\"\"},\"colorscale\":[[0.0,\"#0d0887\"],[0.1111111111111111,\"#46039f\"],[0.2222222222222222,\"#7201a8\"],[0.3333333333333333,\"#9c179e\"],[0.4444444444444444,\"#bd3786\"],[0.5555555555555556,\"#d8576b\"],[0.6666666666666666,\"#ed7953\"],[0.7777777777777778,\"#fb9f3a\"],[0.8888888888888888,\"#fdca26\"],[1.0,\"#f0f921\"]],\"type\":\"histogram2d\"}],\"histogram\":[{\"marker\":{\"pattern\":{\"fillmode\":\"overlay\",\"size\":10,\"solidity\":0.2}},\"type\":\"histogram\"}],\"mesh3d\":[{\"colorbar\":{\"outlinewidth\":0,\"ticks\":\"\"},\"type\":\"mesh3d\"}],\"parcoords\":[{\"line\":{\"colorbar\":{\"outlinewidth\":0,\"ticks\":\"\"}},\"type\":\"parcoords\"}],\"pie\":[{\"automargin\":true,\"type\":\"pie\"}],\"scatter3d\":[{\"line\":{\"colorbar\":{\"outlinewidth\":0,\"ticks\":\"\"}},\"marker\":{\"colorbar\":{\"outlinewidth\":0,\"ticks\":\"\"}},\"type\":\"scatter3d\"}],\"scattercarpet\":[{\"marker\":{\"colorbar\":{\"outlinewidth\":0,\"ticks\":\"\"}},\"type\":\"scattercarpet\"}],\"scattergeo\":[{\"marker\":{\"colorbar\":{\"outlinewidth\":0,\"ticks\":\"\"}},\"type\":\"scattergeo\"}],\"scattergl\":[{\"marker\":{\"colorbar\":{\"outlinewidth\":0,\"ticks\":\"\"}},\"type\":\"scattergl\"}],\"scattermapbox\":[{\"marker\":{\"colorbar\":{\"outlinewidth\":0,\"ticks\":\"\"}},\"type\":\"scattermapbox\"}],\"scatterpolargl\":[{\"marker\":{\"colorbar\":{\"outlinewidth\":0,\"ticks\":\"\"}},\"type\":\"scatterpolargl\"}],\"scatterpolar\":[{\"marker\":{\"colorbar\":{\"outlinewidth\":0,\"ticks\":\"\"}},\"type\":\"scatterpolar\"}],\"scatter\":[{\"fillpattern\":{\"fillmode\":\"overlay\",\"size\":10,\"solidity\":0.2},\"type\":\"scatter\"}],\"scatterternary\":[{\"marker\":{\"colorbar\":{\"outlinewidth\":0,\"ticks\":\"\"}},\"type\":\"scatterternary\"}],\"surface\":[{\"colorbar\":{\"outlinewidth\":0,\"ticks\":\"\"},\"colorscale\":[[0.0,\"#0d0887\"],[0.1111111111111111,\"#46039f\"],[0.2222222222222222,\"#7201a8\"],[0.3333333333333333,\"#9c179e\"],[0.4444444444444444,\"#bd3786\"],[0.5555555555555556,\"#d8576b\"],[0.6666666666666666,\"#ed7953\"],[0.7777777777777778,\"#fb9f3a\"],[0.8888888888888888,\"#fdca26\"],[1.0,\"#f0f921\"]],\"type\":\"surface\"}],\"table\":[{\"cells\":{\"fill\":{\"color\":\"#EBF0F8\"},\"line\":{\"color\":\"white\"}},\"header\":{\"fill\":{\"color\":\"#C8D4E3\"},\"line\":{\"color\":\"white\"}},\"type\":\"table\"}]},\"layout\":{\"annotationdefaults\":{\"arrowcolor\":\"#2a3f5f\",\"arrowhead\":0,\"arrowwidth\":1},\"autotypenumbers\":\"strict\",\"coloraxis\":{\"colorbar\":{\"outlinewidth\":0,\"ticks\":\"\"}},\"colorscale\":{\"diverging\":[[0,\"#8e0152\"],[0.1,\"#c51b7d\"],[0.2,\"#de77ae\"],[0.3,\"#f1b6da\"],[0.4,\"#fde0ef\"],[0.5,\"#f7f7f7\"],[0.6,\"#e6f5d0\"],[0.7,\"#b8e186\"],[0.8,\"#7fbc41\"],[0.9,\"#4d9221\"],[1,\"#276419\"]],\"sequential\":[[0.0,\"#0d0887\"],[0.1111111111111111,\"#46039f\"],[0.2222222222222222,\"#7201a8\"],[0.3333333333333333,\"#9c179e\"],[0.4444444444444444,\"#bd3786\"],[0.5555555555555556,\"#d8576b\"],[0.6666666666666666,\"#ed7953\"],[0.7777777777777778,\"#fb9f3a\"],[0.8888888888888888,\"#fdca26\"],[1.0,\"#f0f921\"]],\"sequentialminus\":[[0.0,\"#0d0887\"],[0.1111111111111111,\"#46039f\"],[0.2222222222222222,\"#7201a8\"],[0.3333333333333333,\"#9c179e\"],[0.4444444444444444,\"#bd3786\"],[0.5555555555555556,\"#d8576b\"],[0.6666666666666666,\"#ed7953\"],[0.7777777777777778,\"#fb9f3a\"],[0.8888888888888888,\"#fdca26\"],[1.0,\"#f0f921\"]]},\"colorway\":[\"#636efa\",\"#EF553B\",\"#00cc96\",\"#ab63fa\",\"#FFA15A\",\"#19d3f3\",\"#FF6692\",\"#B6E880\",\"#FF97FF\",\"#FECB52\"],\"font\":{\"color\":\"#2a3f5f\"},\"geo\":{\"bgcolor\":\"white\",\"lakecolor\":\"white\",\"landcolor\":\"#E5ECF6\",\"showlakes\":true,\"showland\":true,\"subunitcolor\":\"white\"},\"hoverlabel\":{\"align\":\"left\"},\"hovermode\":\"closest\",\"mapbox\":{\"style\":\"light\"},\"paper_bgcolor\":\"white\",\"plot_bgcolor\":\"#E5ECF6\",\"polar\":{\"angularaxis\":{\"gridcolor\":\"white\",\"linecolor\":\"white\",\"ticks\":\"\"},\"bgcolor\":\"#E5ECF6\",\"radialaxis\":{\"gridcolor\":\"white\",\"linecolor\":\"white\",\"ticks\":\"\"}},\"scene\":{\"xaxis\":{\"backgroundcolor\":\"#E5ECF6\",\"gridcolor\":\"white\",\"gridwidth\":2,\"linecolor\":\"white\",\"showbackground\":true,\"ticks\":\"\",\"zerolinecolor\":\"white\"},\"yaxis\":{\"backgroundcolor\":\"#E5ECF6\",\"gridcolor\":\"white\",\"gridwidth\":2,\"linecolor\":\"white\",\"showbackground\":true,\"ticks\":\"\",\"zerolinecolor\":\"white\"},\"zaxis\":{\"backgroundcolor\":\"#E5ECF6\",\"gridcolor\":\"white\",\"gridwidth\":2,\"linecolor\":\"white\",\"showbackground\":true,\"ticks\":\"\",\"zerolinecolor\":\"white\"}},\"shapedefaults\":{\"line\":{\"color\":\"#2a3f5f\"}},\"ternary\":{\"aaxis\":{\"gridcolor\":\"white\",\"linecolor\":\"white\",\"ticks\":\"\"},\"baxis\":{\"gridcolor\":\"white\",\"linecolor\":\"white\",\"ticks\":\"\"},\"bgcolor\":\"#E5ECF6\",\"caxis\":{\"gridcolor\":\"white\",\"linecolor\":\"white\",\"ticks\":\"\"}},\"title\":{\"x\":0.05},\"xaxis\":{\"automargin\":true,\"gridcolor\":\"white\",\"linecolor\":\"white\",\"ticks\":\"\",\"title\":{\"standoff\":15},\"zerolinecolor\":\"white\",\"zerolinewidth\":2},\"yaxis\":{\"automargin\":true,\"gridcolor\":\"white\",\"linecolor\":\"white\",\"ticks\":\"\",\"title\":{\"standoff\":15},\"zerolinecolor\":\"white\",\"zerolinewidth\":2}}}},                        {\"responsive\": true}                    ).then(function(){\n                            \nvar gd = document.getElementById('4ae87010-b339-45ef-afb4-e87bfb940b4f');\nvar x = new MutationObserver(function (mutations, observer) {{\n        var display = window.getComputedStyle(gd).display;\n        if (!display || display === 'none') {{\n            console.log([gd, 'removed!']);\n            Plotly.purge(gd);\n            observer.disconnect();\n        }}\n}});\n\n// Listen for the removal of the full notebook cells\nvar notebookContainer = gd.closest('#notebook-container');\nif (notebookContainer) {{\n    x.observe(notebookContainer, {childList: true});\n}}\n\n// Listen for the clearing of the current output cell\nvar outputEl = gd.closest('.output');\nif (outputEl) {{\n    x.observe(outputEl, {childList: true});\n}}\n\n                        })                };                            </script>        </div>\n</body>\n</html>"
                },
                "metadata": {}
              }
            ]
          }
        },
        "0508c15032bd47ab9addbec4b7760913": {
          "model_module": "@jupyter-widgets/base",
          "model_name": "LayoutModel",
          "model_module_version": "1.2.0",
          "state": {
            "_model_module": "@jupyter-widgets/base",
            "_model_module_version": "1.2.0",
            "_model_name": "LayoutModel",
            "_view_count": null,
            "_view_module": "@jupyter-widgets/base",
            "_view_module_version": "1.2.0",
            "_view_name": "LayoutView",
            "align_content": null,
            "align_items": null,
            "align_self": null,
            "border": null,
            "bottom": null,
            "display": null,
            "flex": null,
            "flex_flow": null,
            "grid_area": null,
            "grid_auto_columns": null,
            "grid_auto_flow": null,
            "grid_auto_rows": null,
            "grid_column": null,
            "grid_gap": null,
            "grid_row": null,
            "grid_template_areas": null,
            "grid_template_columns": null,
            "grid_template_rows": null,
            "height": null,
            "justify_content": null,
            "justify_items": null,
            "left": null,
            "margin": null,
            "max_height": null,
            "max_width": null,
            "min_height": null,
            "min_width": null,
            "object_fit": null,
            "object_position": null,
            "order": null,
            "overflow": null,
            "overflow_x": null,
            "overflow_y": null,
            "padding": null,
            "right": null,
            "top": null,
            "visibility": null,
            "width": null
          }
        },
        "c9a18ff52c864da399f0f618da3572b7": {
          "model_module": "@jupyter-widgets/base",
          "model_name": "LayoutModel",
          "model_module_version": "1.2.0",
          "state": {
            "_model_module": "@jupyter-widgets/base",
            "_model_module_version": "1.2.0",
            "_model_name": "LayoutModel",
            "_view_count": null,
            "_view_module": "@jupyter-widgets/base",
            "_view_module_version": "1.2.0",
            "_view_name": "LayoutView",
            "align_content": null,
            "align_items": null,
            "align_self": null,
            "border": null,
            "bottom": null,
            "display": null,
            "flex": null,
            "flex_flow": null,
            "grid_area": null,
            "grid_auto_columns": null,
            "grid_auto_flow": null,
            "grid_auto_rows": null,
            "grid_column": null,
            "grid_gap": null,
            "grid_row": null,
            "grid_template_areas": null,
            "grid_template_columns": null,
            "grid_template_rows": null,
            "height": null,
            "justify_content": null,
            "justify_items": null,
            "left": null,
            "margin": null,
            "max_height": null,
            "max_width": null,
            "min_height": null,
            "min_width": null,
            "object_fit": null,
            "object_position": null,
            "order": null,
            "overflow": null,
            "overflow_x": null,
            "overflow_y": null,
            "padding": null,
            "right": null,
            "top": null,
            "visibility": null,
            "width": null
          }
        },
        "d5b9725f7dec4d2f9b480890f7692fce": {
          "model_module": "@jupyter-widgets/controls",
          "model_name": "DescriptionStyleModel",
          "model_module_version": "1.5.0",
          "state": {
            "_model_module": "@jupyter-widgets/controls",
            "_model_module_version": "1.5.0",
            "_model_name": "DescriptionStyleModel",
            "_view_count": null,
            "_view_module": "@jupyter-widgets/base",
            "_view_module_version": "1.2.0",
            "_view_name": "StyleView",
            "description_width": ""
          }
        },
        "13c54d0b27044a1997fa3d219bf7584e": {
          "model_module": "@jupyter-widgets/base",
          "model_name": "LayoutModel",
          "model_module_version": "1.2.0",
          "state": {
            "_model_module": "@jupyter-widgets/base",
            "_model_module_version": "1.2.0",
            "_model_name": "LayoutModel",
            "_view_count": null,
            "_view_module": "@jupyter-widgets/base",
            "_view_module_version": "1.2.0",
            "_view_name": "LayoutView",
            "align_content": null,
            "align_items": null,
            "align_self": null,
            "border": null,
            "bottom": null,
            "display": null,
            "flex": null,
            "flex_flow": null,
            "grid_area": null,
            "grid_auto_columns": null,
            "grid_auto_flow": null,
            "grid_auto_rows": null,
            "grid_column": null,
            "grid_gap": null,
            "grid_row": null,
            "grid_template_areas": null,
            "grid_template_columns": null,
            "grid_template_rows": null,
            "height": null,
            "justify_content": null,
            "justify_items": null,
            "left": null,
            "margin": null,
            "max_height": null,
            "max_width": null,
            "min_height": null,
            "min_width": null,
            "object_fit": null,
            "object_position": null,
            "order": null,
            "overflow": null,
            "overflow_x": null,
            "overflow_y": null,
            "padding": null,
            "right": null,
            "top": null,
            "visibility": null,
            "width": "75%"
          }
        },
        "b62ddfbcda3645d693a2e1de2425bc88": {
          "model_module": "@jupyter-widgets/controls",
          "model_name": "SliderStyleModel",
          "model_module_version": "1.5.0",
          "state": {
            "_model_module": "@jupyter-widgets/controls",
            "_model_module_version": "1.5.0",
            "_model_name": "SliderStyleModel",
            "_view_count": null,
            "_view_module": "@jupyter-widgets/base",
            "_view_module_version": "1.2.0",
            "_view_name": "StyleView",
            "description_width": "",
            "handle_color": null
          }
        },
        "4f68b14704944cfd9bf2d1b7cce92519": {
          "model_module": "@jupyter-widgets/base",
          "model_name": "LayoutModel",
          "model_module_version": "1.2.0",
          "state": {
            "_model_module": "@jupyter-widgets/base",
            "_model_module_version": "1.2.0",
            "_model_name": "LayoutModel",
            "_view_count": null,
            "_view_module": "@jupyter-widgets/base",
            "_view_module_version": "1.2.0",
            "_view_name": "LayoutView",
            "align_content": null,
            "align_items": null,
            "align_self": null,
            "border": null,
            "bottom": null,
            "display": null,
            "flex": null,
            "flex_flow": null,
            "grid_area": null,
            "grid_auto_columns": null,
            "grid_auto_flow": null,
            "grid_auto_rows": null,
            "grid_column": null,
            "grid_gap": null,
            "grid_row": null,
            "grid_template_areas": null,
            "grid_template_columns": null,
            "grid_template_rows": null,
            "height": null,
            "justify_content": null,
            "justify_items": null,
            "left": null,
            "margin": null,
            "max_height": null,
            "max_width": null,
            "min_height": null,
            "min_width": null,
            "object_fit": null,
            "object_position": null,
            "order": null,
            "overflow": null,
            "overflow_x": null,
            "overflow_y": null,
            "padding": null,
            "right": null,
            "top": null,
            "visibility": null,
            "width": "75%"
          }
        },
        "fc59d975802f4cad8ddaada9426147d3": {
          "model_module": "@jupyter-widgets/controls",
          "model_name": "SliderStyleModel",
          "model_module_version": "1.5.0",
          "state": {
            "_model_module": "@jupyter-widgets/controls",
            "_model_module_version": "1.5.0",
            "_model_name": "SliderStyleModel",
            "_view_count": null,
            "_view_module": "@jupyter-widgets/base",
            "_view_module_version": "1.2.0",
            "_view_name": "StyleView",
            "description_width": "",
            "handle_color": null
          }
        },
        "bae7fed79dae4b50ae525e428e7efc32": {
          "model_module": "@jupyter-widgets/base",
          "model_name": "LayoutModel",
          "model_module_version": "1.2.0",
          "state": {
            "_model_module": "@jupyter-widgets/base",
            "_model_module_version": "1.2.0",
            "_model_name": "LayoutModel",
            "_view_count": null,
            "_view_module": "@jupyter-widgets/base",
            "_view_module_version": "1.2.0",
            "_view_name": "LayoutView",
            "align_content": null,
            "align_items": null,
            "align_self": null,
            "border": null,
            "bottom": null,
            "display": null,
            "flex": null,
            "flex_flow": null,
            "grid_area": null,
            "grid_auto_columns": null,
            "grid_auto_flow": null,
            "grid_auto_rows": null,
            "grid_column": null,
            "grid_gap": null,
            "grid_row": null,
            "grid_template_areas": null,
            "grid_template_columns": null,
            "grid_template_rows": null,
            "height": null,
            "justify_content": null,
            "justify_items": null,
            "left": null,
            "margin": null,
            "max_height": null,
            "max_width": null,
            "min_height": null,
            "min_width": null,
            "object_fit": null,
            "object_position": null,
            "order": null,
            "overflow": null,
            "overflow_x": null,
            "overflow_y": null,
            "padding": null,
            "right": null,
            "top": null,
            "visibility": null,
            "width": null
          }
        },
        "7d3a880f4827431aa451aa4321a0acd7": {
          "model_module": "@jupyter-widgets/base",
          "model_name": "LayoutModel",
          "model_module_version": "1.2.0",
          "state": {
            "_model_module": "@jupyter-widgets/base",
            "_model_module_version": "1.2.0",
            "_model_name": "LayoutModel",
            "_view_count": null,
            "_view_module": "@jupyter-widgets/base",
            "_view_module_version": "1.2.0",
            "_view_name": "LayoutView",
            "align_content": null,
            "align_items": null,
            "align_self": null,
            "border": null,
            "bottom": null,
            "display": null,
            "flex": null,
            "flex_flow": null,
            "grid_area": null,
            "grid_auto_columns": null,
            "grid_auto_flow": null,
            "grid_auto_rows": null,
            "grid_column": null,
            "grid_gap": null,
            "grid_row": null,
            "grid_template_areas": null,
            "grid_template_columns": null,
            "grid_template_rows": null,
            "height": null,
            "justify_content": null,
            "justify_items": null,
            "left": null,
            "margin": null,
            "max_height": null,
            "max_width": null,
            "min_height": null,
            "min_width": null,
            "object_fit": null,
            "object_position": null,
            "order": null,
            "overflow": null,
            "overflow_x": null,
            "overflow_y": null,
            "padding": null,
            "right": null,
            "top": null,
            "visibility": null,
            "width": null
          }
        },
        "afcbe23bb08b4ddfb328607162a67ad2": {
          "model_module": "@jupyter-widgets/controls",
          "model_name": "ButtonStyleModel",
          "model_module_version": "1.5.0",
          "state": {
            "_model_module": "@jupyter-widgets/controls",
            "_model_module_version": "1.5.0",
            "_model_name": "ButtonStyleModel",
            "_view_count": null,
            "_view_module": "@jupyter-widgets/base",
            "_view_module_version": "1.2.0",
            "_view_name": "StyleView",
            "button_color": null,
            "font_weight": ""
          }
        },
        "914de63e3def44b3b938c50d8a7dd4cf": {
          "model_module": "@jupyter-widgets/controls",
          "model_name": "ButtonModel",
          "model_module_version": "1.5.0",
          "state": {
            "_dom_classes": [],
            "_model_module": "@jupyter-widgets/controls",
            "_model_module_version": "1.5.0",
            "_model_name": "ButtonModel",
            "_view_count": null,
            "_view_module": "@jupyter-widgets/controls",
            "_view_module_version": "1.5.0",
            "_view_name": "ButtonView",
            "button_style": "",
            "description": "Submit",
            "disabled": false,
            "icon": "",
            "layout": "IPY_MODEL_7d3a880f4827431aa451aa4321a0acd7",
            "style": "IPY_MODEL_afcbe23bb08b4ddfb328607162a67ad2",
            "tooltip": ""
          }
        },
        "edf9d7335c5d414b9c20c15d76eeef66": {
          "model_module": "@jupyter-widgets/controls",
          "model_name": "VBoxModel",
          "model_module_version": "1.5.0",
          "state": {
            "_dom_classes": [
              "widget-interact"
            ],
            "_model_module": "@jupyter-widgets/controls",
            "_model_module_version": "1.5.0",
            "_model_name": "VBoxModel",
            "_view_count": null,
            "_view_module": "@jupyter-widgets/controls",
            "_view_module_version": "1.5.0",
            "_view_name": "VBoxView",
            "box_style": "",
            "children": [
              "IPY_MODEL_d732b26953104f64b003792fb7026b18",
              "IPY_MODEL_df8f1a90a2674d2f8182e84718d3320a",
              "IPY_MODEL_4992580e6e144becb2356e2ab520cdb2",
              "IPY_MODEL_02c29b6eeb8344b187625dc421fa2901"
            ],
            "layout": "IPY_MODEL_2d9f8f540f09479f9844e8fc174554d8"
          }
        },
        "d732b26953104f64b003792fb7026b18": {
          "model_module": "@jupyter-widgets/controls",
          "model_name": "DropdownModel",
          "model_module_version": "1.5.0",
          "state": {
            "_dom_classes": [],
            "_model_module": "@jupyter-widgets/controls",
            "_model_module_version": "1.5.0",
            "_model_name": "DropdownModel",
            "_options_labels": [
              "1",
              "2",
              "3",
              "4",
              "5",
              "6",
              "7",
              "8",
              "9",
              "10"
            ],
            "_view_count": null,
            "_view_module": "@jupyter-widgets/controls",
            "_view_module_version": "1.5.0",
            "_view_name": "DropdownView",
            "description": "event_id",
            "description_tooltip": null,
            "disabled": false,
            "index": 0,
            "layout": "IPY_MODEL_8a41a8e2b7f84ec5bc3a36720c7a5f9d",
            "style": "IPY_MODEL_316d9b93b421479fa48fe896aa96ea31"
          }
        },
        "df8f1a90a2674d2f8182e84718d3320a": {
          "model_module": "@jupyter-widgets/controls",
          "model_name": "FloatSliderModel",
          "model_module_version": "1.5.0",
          "state": {
            "_dom_classes": [],
            "_model_module": "@jupyter-widgets/controls",
            "_model_module_version": "1.5.0",
            "_model_name": "FloatSliderModel",
            "_view_count": null,
            "_view_module": "@jupyter-widgets/controls",
            "_view_module_version": "1.5.0",
            "_view_name": "FloatSliderView",
            "continuous_update": true,
            "description": "zenith",
            "description_tooltip": null,
            "disabled": false,
            "layout": "IPY_MODEL_c195fc76ac424fe2834ceeb2be1c949f",
            "max": 3.14,
            "min": 0,
            "orientation": "horizontal",
            "readout": true,
            "readout_format": ".2f",
            "step": 0.01,
            "style": "IPY_MODEL_4d9ba153ec00490b98cb4be883fc4f8a",
            "value": 2.09
          }
        },
        "4992580e6e144becb2356e2ab520cdb2": {
          "model_module": "@jupyter-widgets/controls",
          "model_name": "FloatSliderModel",
          "model_module_version": "1.5.0",
          "state": {
            "_dom_classes": [],
            "_model_module": "@jupyter-widgets/controls",
            "_model_module_version": "1.5.0",
            "_model_name": "FloatSliderModel",
            "_view_count": null,
            "_view_module": "@jupyter-widgets/controls",
            "_view_module_version": "1.5.0",
            "_view_name": "FloatSliderView",
            "continuous_update": true,
            "description": "azimuth",
            "description_tooltip": null,
            "disabled": false,
            "layout": "IPY_MODEL_6dc30b5ae6844f1a848fc2bf7be620be",
            "max": 3.14,
            "min": -3.14,
            "orientation": "horizontal",
            "readout": true,
            "readout_format": ".2f",
            "step": 0.01,
            "style": "IPY_MODEL_96b7c94a4fa242e0a975e059ee132697",
            "value": 0
          }
        },
        "02c29b6eeb8344b187625dc421fa2901": {
          "model_module": "@jupyter-widgets/output",
          "model_name": "OutputModel",
          "model_module_version": "1.0.0",
          "state": {
            "_dom_classes": [],
            "_model_module": "@jupyter-widgets/output",
            "_model_module_version": "1.0.0",
            "_model_name": "OutputModel",
            "_view_count": null,
            "_view_module": "@jupyter-widgets/output",
            "_view_module_version": "1.0.0",
            "_view_name": "OutputView",
            "layout": "IPY_MODEL_d5bd6ecb6d224b138d774a842e8fbb83",
            "msg_id": "",
            "outputs": [
              {
                "output_type": "stream",
                "name": "stdout",
                "text": [
                  "\n",
                  "\n",
                  "the mean distance is 163.30 meters \n",
                  "\n",
                  "\n",
                  "\n"
                ]
              },
              {
                "output_type": "display_data",
                "data": {
                  "text/html": "<html>\n<head><meta charset=\"utf-8\" /></head>\n<body>\n    <div>            <script src=\"https://cdnjs.cloudflare.com/ajax/libs/mathjax/2.7.5/MathJax.js?config=TeX-AMS-MML_SVG\"></script><script type=\"text/javascript\">if (window.MathJax && window.MathJax.Hub && window.MathJax.Hub.Config) {window.MathJax.Hub.Config({SVG: {font: \"STIX-Web\"}});}</script>                <script type=\"text/javascript\">window.PlotlyConfig = {MathJaxConfig: 'local'};</script>\n        <script charset=\"utf-8\" src=\"https://cdn.plot.ly/plotly-2.35.2.min.js\"></script>                <div id=\"fff829a2-6e7a-4d4c-9a2f-82bfff029a56\" class=\"plotly-graph-div\" style=\"height:525px; width:100%;\"></div>            <script type=\"text/javascript\">                                    window.PLOTLYENV=window.PLOTLYENV || {};                                    if (document.getElementById(\"fff829a2-6e7a-4d4c-9a2f-82bfff029a56\")) {                    Plotly.newPlot(                        \"fff829a2-6e7a-4d4c-9a2f-82bfff029a56\",                        [{\"hoverinfo\":\"skip\",\"line\":{\"color\":\"lightgrey\",\"width\":1},\"mode\":\"lines\",\"showlegend\":false,\"x\":[-256.14,-256.14],\"y\":[-521.08,-521.08],\"z\":[-1441.93,-2453.06],\"type\":\"scatter3d\",\"uid\":\"05e5f240-9aa7-4d31-88bb-d811fb59e5ed\"},{\"hoverinfo\":\"skip\",\"line\":{\"color\":\"lightgrey\",\"width\":1},\"mode\":\"lines\",\"showlegend\":false,\"x\":[-132.8,-132.8],\"y\":[-501.45,-501.45],\"z\":[-1441.93,-2453.06],\"type\":\"scatter3d\",\"uid\":\"86afb565-9522-46a5-b793-0e3078833c9f\"},{\"hoverinfo\":\"skip\",\"line\":{\"color\":\"lightgrey\",\"width\":1},\"mode\":\"lines\",\"showlegend\":false,\"x\":[-9.13,-9.13],\"y\":[-481.74,-481.74],\"z\":[-1441.93,-2453.06],\"type\":\"scatter3d\",\"uid\":\"3bf39d4b-49d2-4a81-ab8f-457279c395a9\"},{\"hoverinfo\":\"skip\",\"line\":{\"color\":\"lightgrey\",\"width\":1},\"mode\":\"lines\",\"showlegend\":false,\"x\":[114.39,114.39],\"y\":[-461.99,-461.99],\"z\":[-1441.93,-2453.06],\"type\":\"scatter3d\",\"uid\":\"9113731d-b0e6-4797-88c5-427e4baf0988\"},{\"hoverinfo\":\"skip\",\"line\":{\"color\":\"lightgrey\",\"width\":1},\"mode\":\"lines\",\"showlegend\":false,\"x\":[237.78,237.78],\"y\":[-442.42,-442.42],\"z\":[-1441.93,-2453.06],\"type\":\"scatter3d\",\"uid\":\"f5276c2b-b05e-408a-9c38-ca4067e7f478\"},{\"hoverinfo\":\"skip\",\"line\":{\"color\":\"lightgrey\",\"width\":1},\"mode\":\"lines\",\"showlegend\":false,\"x\":[361.0,361.0],\"y\":[-422.83,-422.83],\"z\":[-1441.93,-2453.06],\"type\":\"scatter3d\",\"uid\":\"05df46c1-f586-4079-b4fb-64407d597b7d\"},{\"hoverinfo\":\"skip\",\"line\":{\"color\":\"lightgrey\",\"width\":1},\"mode\":\"lines\",\"showlegend\":false,\"x\":[-334.8,-334.8],\"y\":[-424.5,-424.5],\"z\":[-1441.93,-2453.06],\"type\":\"scatter3d\",\"uid\":\"6c827117-3b52-4a8b-ae17-96ab237e6cc8\"},{\"hoverinfo\":\"skip\",\"line\":{\"color\":\"lightgrey\",\"width\":1},\"mode\":\"lines\",\"showlegend\":false,\"x\":[-211.35,-211.35],\"y\":[-404.48,-404.48],\"z\":[-1441.93,-2453.06],\"type\":\"scatter3d\",\"uid\":\"1b792952-0938-4797-a96a-8f18579d6c66\"},{\"hoverinfo\":\"skip\",\"line\":{\"color\":\"lightgrey\",\"width\":1},\"mode\":\"lines\",\"showlegend\":false,\"x\":[-88.05,-88.05],\"y\":[-384.3,-384.3],\"z\":[-1441.93,-2453.06],\"type\":\"scatter3d\",\"uid\":\"b4e669e0-30e4-40f3-a57b-bb9f2af520fa\"},{\"hoverinfo\":\"skip\",\"line\":{\"color\":\"lightgrey\",\"width\":1},\"mode\":\"lines\",\"showlegend\":false,\"x\":[35.54,35.54],\"y\":[-364.83,-364.83],\"z\":[-1441.93,-2453.06],\"type\":\"scatter3d\",\"uid\":\"98e197bd-33f3-4daa-a3f2-01c0a2b89965\"},{\"hoverinfo\":\"skip\",\"line\":{\"color\":\"lightgrey\",\"width\":1},\"mode\":\"lines\",\"showlegend\":false,\"x\":[158.94,158.94],\"y\":[-345.23,-345.23],\"z\":[-1441.93,-2453.06],\"type\":\"scatter3d\",\"uid\":\"ffa37b3e-25e2-474e-ba8d-991869607a3d\"},{\"hoverinfo\":\"skip\",\"line\":{\"color\":\"lightgrey\",\"width\":1},\"mode\":\"lines\",\"showlegend\":false,\"x\":[282.18,282.18],\"y\":[-325.74,-325.74],\"z\":[-1441.93,-2453.06],\"type\":\"scatter3d\",\"uid\":\"0c9cc76c-cbe7-468b-974a-764f5a421628\"},{\"hoverinfo\":\"skip\",\"line\":{\"color\":\"lightgrey\",\"width\":1},\"mode\":\"lines\",\"showlegend\":false,\"x\":[405.83,405.83],\"y\":[-306.38,-306.38],\"z\":[-1441.93,-2453.06],\"type\":\"scatter3d\",\"uid\":\"5be5f91e-3c47-47ae-b0ab-0d785881e2ea\"},{\"hoverinfo\":\"skip\",\"line\":{\"color\":\"lightgrey\",\"width\":1},\"mode\":\"lines\",\"showlegend\":false,\"x\":[-413.46,-413.46],\"y\":[-327.27,-327.27],\"z\":[-1441.93,-2453.06],\"type\":\"scatter3d\",\"uid\":\"70b536de-27b6-4efa-aac4-5ae1ca37cacd\"},{\"hoverinfo\":\"skip\",\"line\":{\"color\":\"lightgrey\",\"width\":1},\"mode\":\"lines\",\"showlegend\":false,\"x\":[-290.66,-290.66],\"y\":[-307.38,-307.38],\"z\":[-1441.93,-2453.06],\"type\":\"scatter3d\",\"uid\":\"59de7157-df70-4343-87f6-a611a4fbd69f\"},{\"hoverinfo\":\"skip\",\"line\":{\"color\":\"lightgrey\",\"width\":1},\"mode\":\"lines\",\"showlegend\":false,\"x\":[-166.4,-166.4],\"y\":[-287.79,-287.79],\"z\":[-1441.93,-2453.06],\"type\":\"scatter3d\",\"uid\":\"427224f9-22cf-4a51-998d-f14d527c1ecb\"},{\"hoverinfo\":\"skip\",\"line\":{\"color\":\"lightgrey\",\"width\":1},\"mode\":\"lines\",\"showlegend\":false,\"x\":[-43.27,-43.27],\"y\":[-267.52,-267.52],\"z\":[-1441.93,-2453.06],\"type\":\"scatter3d\",\"uid\":\"7ba949bb-0eda-4193-b6d8-68934f6019f1\"},{\"hoverinfo\":\"skip\",\"line\":{\"color\":\"lightgrey\",\"width\":1},\"mode\":\"lines\",\"showlegend\":false,\"x\":[79.41,79.41],\"y\":[-248.24,-248.24],\"z\":[-1441.93,-2453.06],\"type\":\"scatter3d\",\"uid\":\"75053f24-5e94-4a4d-b61b-7c9861465148\"},{\"hoverinfo\":\"skip\",\"line\":{\"color\":\"lightgrey\",\"width\":1},\"mode\":\"lines\",\"showlegend\":false,\"x\":[210.47,210.47],\"y\":[-209.77,-209.77],\"z\":[-1441.93,-2453.06],\"type\":\"scatter3d\",\"uid\":\"2d425014-7f7f-42f4-ab88-6d2a222a2723\"},{\"hoverinfo\":\"skip\",\"line\":{\"color\":\"lightgrey\",\"width\":1},\"mode\":\"lines\",\"showlegend\":false,\"x\":[326.85,326.85],\"y\":[-209.07,-209.07],\"z\":[-1441.93,-2453.06],\"type\":\"scatter3d\",\"uid\":\"629358df-a2ba-407a-bab5-b229ca77a61e\"},{\"hoverinfo\":\"skip\",\"line\":{\"color\":\"lightgrey\",\"width\":1},\"mode\":\"lines\",\"showlegend\":false,\"x\":[443.55,443.55],\"y\":[-194.16,-194.16],\"z\":[-1441.93,-2453.06],\"type\":\"scatter3d\",\"uid\":\"4bfeeca3-0beb-4049-98d5-10e5baf32454\"},{\"hoverinfo\":\"skip\",\"line\":{\"color\":\"lightgrey\",\"width\":1},\"mode\":\"lines\",\"showlegend\":false,\"x\":[-492.43,-492.43],\"y\":[-230.16,-230.16],\"z\":[-1441.93,-2453.06],\"type\":\"scatter3d\",\"uid\":\"0147dfb7-768a-4e8d-9bbe-7559212cd200\"},{\"hoverinfo\":\"skip\",\"line\":{\"color\":\"lightgrey\",\"width\":1},\"mode\":\"lines\",\"showlegend\":false,\"x\":[-368.93,-368.93],\"y\":[-210.23,-210.23],\"z\":[-1441.93,-2453.06],\"type\":\"scatter3d\",\"uid\":\"d0b1f59c-8f24-4bb7-9109-dece5fb99da5\"},{\"hoverinfo\":\"skip\",\"line\":{\"color\":\"lightgrey\",\"width\":1},\"mode\":\"lines\",\"showlegend\":false,\"x\":[-245.65,-245.65],\"y\":[-190.49,-190.49],\"z\":[-1441.93,-2453.06],\"type\":\"scatter3d\",\"uid\":\"fcf1bc49-2ebd-4a96-ac78-85b3bf449e8a\"},{\"hoverinfo\":\"skip\",\"line\":{\"color\":\"lightgrey\",\"width\":1},\"mode\":\"lines\",\"showlegend\":false,\"x\":[-121.77,-121.77],\"y\":[-171.03,-171.03],\"z\":[-1441.93,-2453.06],\"type\":\"scatter3d\",\"uid\":\"d9a3a7d4-d9ed-458a-8e18-e45a0f1e9133\"},{\"hoverinfo\":\"skip\",\"line\":{\"color\":\"lightgrey\",\"width\":1},\"mode\":\"lines\",\"showlegend\":false,\"x\":[1.71,1.71],\"y\":[-150.63,-150.63],\"z\":[-1441.93,-2453.06],\"type\":\"scatter3d\",\"uid\":\"28289bc7-7745-4a78-b9df-520a64e4d853\"},{\"hoverinfo\":\"skip\",\"line\":{\"color\":\"lightgrey\",\"width\":1},\"mode\":\"lines\",\"showlegend\":false,\"x\":[124.97,124.97],\"y\":[-131.25,-131.25],\"z\":[-1441.93,-2453.06],\"type\":\"scatter3d\",\"uid\":\"26910c2f-a4f7-46ec-a39a-1f0a85e0dd2b\"},{\"hoverinfo\":\"skip\",\"line\":{\"color\":\"lightgrey\",\"width\":1},\"mode\":\"lines\",\"showlegend\":false,\"x\":[248.15,248.15],\"y\":[-111.87,-111.87],\"z\":[-1441.93,-2453.06],\"type\":\"scatter3d\",\"uid\":\"7a49b671-5ae3-4e3f-b50c-8c0de381d2ca\"},{\"hoverinfo\":\"skip\",\"line\":{\"color\":\"lightgrey\",\"width\":1},\"mode\":\"lines\",\"showlegend\":false,\"x\":[371.56,371.56],\"y\":[-92.18,-92.18],\"z\":[-1441.93,-2453.06],\"type\":\"scatter3d\",\"uid\":\"21ea7e12-2b67-4d4d-9642-edd010633918\"},{\"hoverinfo\":\"skip\",\"line\":{\"color\":\"lightgrey\",\"width\":1},\"mode\":\"lines\",\"showlegend\":false,\"x\":[500.43,500.43],\"y\":[-58.45,-58.45],\"z\":[-1441.93,-2453.06],\"type\":\"scatter3d\",\"uid\":\"c257e417-9d79-41df-9111-58af52bc19a1\"},{\"hoverinfo\":\"skip\",\"line\":{\"color\":\"lightgrey\",\"width\":1},\"mode\":\"lines\",\"showlegend\":false,\"x\":[-570.9,-570.9],\"y\":[-125.14,-125.14],\"z\":[-1441.93,-2453.06],\"type\":\"scatter3d\",\"uid\":\"f39f72b9-36f4-484d-8635-a36ce9393970\"},{\"hoverinfo\":\"skip\",\"line\":{\"color\":\"lightgrey\",\"width\":1},\"mode\":\"lines\",\"showlegend\":false,\"x\":[-447.74,-447.74],\"y\":[-113.13,-113.13],\"z\":[-1441.93,-2453.06],\"type\":\"scatter3d\",\"uid\":\"895484a8-929a-4448-8b5e-27afeaec2716\"},{\"hoverinfo\":\"skip\",\"line\":{\"color\":\"lightgrey\",\"width\":1},\"mode\":\"lines\",\"showlegend\":false,\"x\":[-324.39,-324.39],\"y\":[-93.43,-93.43],\"z\":[-1441.93,-2453.06],\"type\":\"scatter3d\",\"uid\":\"fdbe32aa-1045-4a7c-8908-005bdc83375e\"},{\"hoverinfo\":\"skip\",\"line\":{\"color\":\"lightgrey\",\"width\":1},\"mode\":\"lines\",\"showlegend\":false,\"x\":[-200.55,-200.55],\"y\":[-74.03,-74.03],\"z\":[-1441.93,-2453.06],\"type\":\"scatter3d\",\"uid\":\"646fbc5e-4ad3-4f05-b66e-ec167a67db5b\"},{\"hoverinfo\":\"skip\",\"line\":{\"color\":\"lightgrey\",\"width\":1},\"mode\":\"lines\",\"showlegend\":false,\"x\":[-77.8,-77.8],\"y\":[-54.33,-54.33],\"z\":[-1441.93,-2453.06],\"type\":\"scatter3d\",\"uid\":\"fd7acfda-7513-46ca-bf13-cbef716dca49\"},{\"hoverinfo\":\"skip\",\"line\":{\"color\":\"lightgrey\",\"width\":1},\"mode\":\"lines\",\"showlegend\":false,\"x\":[46.29,46.29],\"y\":[-34.88,-34.88],\"z\":[-1441.93,-2453.06],\"type\":\"scatter3d\",\"uid\":\"f10559aa-0a1b-40e8-b57b-c54d8552c0a7\"},{\"hoverinfo\":\"skip\",\"line\":{\"color\":\"lightgrey\",\"width\":1},\"mode\":\"lines\",\"showlegend\":false,\"x\":[194.34,194.34],\"y\":[-30.92,-30.92],\"z\":[-1441.93,-2453.06],\"type\":\"scatter3d\",\"uid\":\"0d1a172c-de4f-4ef2-a3e8-e3d33a4c5682\"},{\"hoverinfo\":\"skip\",\"line\":{\"color\":\"lightgrey\",\"width\":1},\"mode\":\"lines\",\"showlegend\":false,\"x\":[292.9,292.9],\"y\":[5.2,5.2],\"z\":[-1441.93,-2453.06],\"type\":\"scatter3d\",\"uid\":\"53f6a9b7-5c41-4ea8-a51d-a4ba08eed32b\"},{\"hoverinfo\":\"skip\",\"line\":{\"color\":\"lightgrey\",\"width\":1},\"mode\":\"lines\",\"showlegend\":false,\"x\":[411.81,411.81],\"y\":[13.0,13.0],\"z\":[-1441.93,-2453.06],\"type\":\"scatter3d\",\"uid\":\"6fbc2780-f692-4607-b501-a781394732e5\"},{\"hoverinfo\":\"skip\",\"line\":{\"color\":\"lightgrey\",\"width\":1},\"mode\":\"lines\",\"showlegend\":false,\"x\":[544.07,544.07],\"y\":[55.89,55.89],\"z\":[-1441.93,-2453.06],\"type\":\"scatter3d\",\"uid\":\"0695ce6d-4853-41b1-b744-0956845bf440\"},{\"hoverinfo\":\"skip\",\"line\":{\"color\":\"lightgrey\",\"width\":1},\"mode\":\"lines\",\"showlegend\":false,\"x\":[-526.63,-526.63],\"y\":[-15.6,-15.6],\"z\":[-1441.93,-2453.06],\"type\":\"scatter3d\",\"uid\":\"8c07b1df-39ee-4985-aaa3-d3f870c6c18a\"},{\"hoverinfo\":\"skip\",\"line\":{\"color\":\"lightgrey\",\"width\":1},\"mode\":\"lines\",\"showlegend\":false,\"x\":[-403.14,-403.14],\"y\":[3.49,3.49],\"z\":[-1441.93,-2453.06],\"type\":\"scatter3d\",\"uid\":\"e0aab97c-a4a9-4eff-9f14-f150d579865b\"},{\"hoverinfo\":\"skip\",\"line\":{\"color\":\"lightgrey\",\"width\":1},\"mode\":\"lines\",\"showlegend\":false,\"x\":[-279.53,-279.53],\"y\":[23.17,23.17],\"z\":[-1441.93,-2453.06],\"type\":\"scatter3d\",\"uid\":\"3251e38d-d859-4e48-826c-b1f5f6ce5a2f\"},{\"hoverinfo\":\"skip\",\"line\":{\"color\":\"lightgrey\",\"width\":1},\"mode\":\"lines\",\"showlegend\":false,\"x\":[-156.23,-156.23],\"y\":[43.37,43.37],\"z\":[-1441.93,-2453.06],\"type\":\"scatter3d\",\"uid\":\"7844f2e8-1500-4a1a-b332-b78c9e3cc598\"},{\"hoverinfo\":\"skip\",\"line\":{\"color\":\"lightgrey\",\"width\":1},\"mode\":\"lines\",\"showlegend\":false,\"x\":[-32.96,-32.96],\"y\":[62.44,62.44],\"z\":[-1441.93,-2453.06],\"type\":\"scatter3d\",\"uid\":\"004a4568-ea13-41fb-9f2c-c03f0beec68a\"},{\"hoverinfo\":\"skip\",\"line\":{\"color\":\"lightgrey\",\"width\":1},\"mode\":\"lines\",\"showlegend\":false,\"x\":[90.49,90.49],\"y\":[82.35,82.35],\"z\":[-1441.93,-2453.06],\"type\":\"scatter3d\",\"uid\":\"07f510c8-2c39-4c5b-9a0b-4f7941d39b57\"},{\"hoverinfo\":\"skip\",\"line\":{\"color\":\"lightgrey\",\"width\":1},\"mode\":\"lines\",\"showlegend\":false,\"x\":[195.03,195.03],\"y\":[125.59,125.59],\"z\":[-1441.93,-2453.06],\"type\":\"scatter3d\",\"uid\":\"bc2f2343-3bd7-4f78-a167-8d6f2feda585\"},{\"hoverinfo\":\"skip\",\"line\":{\"color\":\"lightgrey\",\"width\":1},\"mode\":\"lines\",\"showlegend\":false,\"x\":[330.03,330.03],\"y\":[127.2,127.2],\"z\":[-1441.93,-2453.06],\"type\":\"scatter3d\",\"uid\":\"843f917c-1ced-4d17-aa28-22d7863e7b29\"},{\"hoverinfo\":\"skip\",\"line\":{\"color\":\"lightgrey\",\"width\":1},\"mode\":\"lines\",\"showlegend\":false,\"x\":[472.05,472.05],\"y\":[127.9,127.9],\"z\":[-1441.93,-2453.06],\"type\":\"scatter3d\",\"uid\":\"d54ed5c0-854d-440c-bda1-41842088228b\"},{\"hoverinfo\":\"skip\",\"line\":{\"color\":\"lightgrey\",\"width\":1},\"mode\":\"lines\",\"showlegend\":false,\"x\":[576.37,576.37],\"y\":[170.92,170.92],\"z\":[-1441.93,-2453.06],\"type\":\"scatter3d\",\"uid\":\"c8d01d47-8bd1-4534-94c9-d9204c976598\"},{\"hoverinfo\":\"skip\",\"line\":{\"color\":\"lightgrey\",\"width\":1},\"mode\":\"lines\",\"showlegend\":false,\"x\":[-481.6,-481.6],\"y\":[101.39,101.39],\"z\":[-1441.93,-2453.06],\"type\":\"scatter3d\",\"uid\":\"6f8001bc-f697-48a8-b30d-6f60a31f1a40\"},{\"hoverinfo\":\"skip\",\"line\":{\"color\":\"lightgrey\",\"width\":1},\"mode\":\"lines\",\"showlegend\":false,\"x\":[-358.44,-358.44],\"y\":[120.56,120.56],\"z\":[-1441.93,-2453.06],\"type\":\"scatter3d\",\"uid\":\"7d1ec622-f81e-4364-a7da-5c01877a8b6d\"},{\"hoverinfo\":\"skip\",\"line\":{\"color\":\"lightgrey\",\"width\":1},\"mode\":\"lines\",\"showlegend\":false,\"x\":[-234.95,-234.95],\"y\":[140.44,140.44],\"z\":[-1441.93,-2453.06],\"type\":\"scatter3d\",\"uid\":\"fefca64d-9f9c-4e55-a9d8-03bc8d2b7a5d\"},{\"hoverinfo\":\"skip\",\"line\":{\"color\":\"lightgrey\",\"width\":1},\"mode\":\"lines\",\"showlegend\":false,\"x\":[-111.51,-111.51],\"y\":[159.98,159.98],\"z\":[-1441.93,-2453.06],\"type\":\"scatter3d\",\"uid\":\"6e6dc3fc-d115-4280-a86d-a2237f4c16c7\"},{\"hoverinfo\":\"skip\",\"line\":{\"color\":\"lightgrey\",\"width\":1},\"mode\":\"lines\",\"showlegend\":false,\"x\":[11.87,11.87],\"y\":[179.19,179.19],\"z\":[-1441.93,-2453.06],\"type\":\"scatter3d\",\"uid\":\"dacf7a6a-8e7e-45c7-8337-e5266cc427cc\"},{\"hoverinfo\":\"skip\",\"line\":{\"color\":\"lightgrey\",\"width\":1},\"mode\":\"lines\",\"showlegend\":false,\"x\":[132.03,132.03],\"y\":[202.98,202.98],\"z\":[-1441.93,-2453.06],\"type\":\"scatter3d\",\"uid\":\"e1a2c519-96dd-4c89-9402-993cebbffded\"},{\"hoverinfo\":\"skip\",\"line\":{\"color\":\"lightgrey\",\"width\":1},\"mode\":\"lines\",\"showlegend\":false,\"x\":[257.31,257.31],\"y\":[211.66,211.66],\"z\":[-1441.93,-2453.06],\"type\":\"scatter3d\",\"uid\":\"59609f57-75e5-4ac1-9f8e-93b28d4bee70\"},{\"hoverinfo\":\"skip\",\"line\":{\"color\":\"lightgrey\",\"width\":1},\"mode\":\"lines\",\"showlegend\":false,\"x\":[382.35,382.35],\"y\":[238.9,238.9],\"z\":[-1441.93,-2453.06],\"type\":\"scatter3d\",\"uid\":\"e507595e-6514-4f2a-8754-7710471ed330\"},{\"hoverinfo\":\"skip\",\"line\":{\"color\":\"lightgrey\",\"width\":1},\"mode\":\"lines\",\"showlegend\":false,\"x\":[505.27,505.27],\"y\":[257.88,257.88],\"z\":[-1441.93,-2453.06],\"type\":\"scatter3d\",\"uid\":\"7aa41265-caf3-4d0f-a2f7-ef0412c2fb36\"},{\"hoverinfo\":\"skip\",\"line\":{\"color\":\"lightgrey\",\"width\":1},\"mode\":\"lines\",\"showlegend\":false,\"x\":[-437.04,-437.04],\"y\":[217.8,217.8],\"z\":[-1441.93,-2453.06],\"type\":\"scatter3d\",\"uid\":\"cf0a072d-139d-4469-b21a-52d778330ee8\"},{\"hoverinfo\":\"skip\",\"line\":{\"color\":\"lightgrey\",\"width\":1},\"mode\":\"lines\",\"showlegend\":false,\"x\":[-313.6,-313.6],\"y\":[237.44,237.44],\"z\":[-1441.93,-2453.06],\"type\":\"scatter3d\",\"uid\":\"cfbdf197-a1a5-4acb-b874-9948ba9751a2\"},{\"hoverinfo\":\"skip\",\"line\":{\"color\":\"lightgrey\",\"width\":1},\"mode\":\"lines\",\"showlegend\":false,\"x\":[-189.98,-189.98],\"y\":[257.42,257.42],\"z\":[-1441.93,-2453.06],\"type\":\"scatter3d\",\"uid\":\"2197824f-9303-4ede-b399-5355e0233b49\"},{\"hoverinfo\":\"skip\",\"line\":{\"color\":\"lightgrey\",\"width\":1},\"mode\":\"lines\",\"showlegend\":false,\"x\":[-66.7,-66.7],\"y\":[276.92,276.92],\"z\":[-1441.93,-2453.06],\"type\":\"scatter3d\",\"uid\":\"ea6119c7-7a32-4a5e-8319-5bc89392136c\"},{\"hoverinfo\":\"skip\",\"line\":{\"color\":\"lightgrey\",\"width\":1},\"mode\":\"lines\",\"showlegend\":false,\"x\":[54.26,54.26],\"y\":[292.97,292.97],\"z\":[-1441.93,-2453.06],\"type\":\"scatter3d\",\"uid\":\"60ca524c-b7cc-491e-baad-43bf2d8a9653\"},{\"hoverinfo\":\"skip\",\"line\":{\"color\":\"lightgrey\",\"width\":1},\"mode\":\"lines\",\"showlegend\":false,\"x\":[174.47,174.47],\"y\":[315.54,315.54],\"z\":[-1441.93,-2453.06],\"type\":\"scatter3d\",\"uid\":\"864fc04c-3acb-4ec6-9f82-fa4eb918a8bb\"},{\"hoverinfo\":\"skip\",\"line\":{\"color\":\"lightgrey\",\"width\":1},\"mode\":\"lines\",\"showlegend\":false,\"x\":[303.41,303.41],\"y\":[335.64,335.64],\"z\":[-1441.93,-2453.06],\"type\":\"scatter3d\",\"uid\":\"ef04e90f-1ff1-49ec-8117-256ad6f823af\"},{\"hoverinfo\":\"skip\",\"line\":{\"color\":\"lightgrey\",\"width\":1},\"mode\":\"lines\",\"showlegend\":false,\"x\":[429.76,429.76],\"y\":[351.02,351.02],\"z\":[-1441.93,-2453.06],\"type\":\"scatter3d\",\"uid\":\"a1d5523b-cba0-47ef-8dc3-7f01c6349c52\"},{\"hoverinfo\":\"skip\",\"line\":{\"color\":\"lightgrey\",\"width\":1},\"mode\":\"lines\",\"showlegend\":false,\"x\":[-392.38,-392.38],\"y\":[334.24,334.24],\"z\":[-1441.93,-2453.06],\"type\":\"scatter3d\",\"uid\":\"53bc0851-c2d2-4cf7-8ac3-5c40c796a768\"},{\"hoverinfo\":\"skip\",\"line\":{\"color\":\"lightgrey\",\"width\":1},\"mode\":\"lines\",\"showlegend\":false,\"x\":[-268.9,-268.9],\"y\":[354.24,354.24],\"z\":[-1441.93,-2453.06],\"type\":\"scatter3d\",\"uid\":\"7e3af98c-20ea-4d42-ac10-72eb4acf8b23\"},{\"hoverinfo\":\"skip\",\"line\":{\"color\":\"lightgrey\",\"width\":1},\"mode\":\"lines\",\"showlegend\":false,\"x\":[-145.45,-145.45],\"y\":[374.24,374.24],\"z\":[-1441.93,-2453.06],\"type\":\"scatter3d\",\"uid\":\"8d077bed-e934-42b0-9abf-92cbdb49857d\"},{\"hoverinfo\":\"skip\",\"line\":{\"color\":\"lightgrey\",\"width\":1},\"mode\":\"lines\",\"showlegend\":false,\"x\":[-21.97,-21.97],\"y\":[393.24,393.24],\"z\":[-1441.93,-2453.06],\"type\":\"scatter3d\",\"uid\":\"9d843c96-00a2-44bc-82f1-086b837a94e0\"},{\"hoverinfo\":\"skip\",\"line\":{\"color\":\"lightgrey\",\"width\":1},\"mode\":\"lines\",\"showlegend\":false,\"x\":[101.04,101.04],\"y\":[412.79,412.79],\"z\":[-1441.93,-2453.06],\"type\":\"scatter3d\",\"uid\":\"4b4a79bb-a101-4b8b-85ae-25fe126fbf05\"},{\"hoverinfo\":\"skip\",\"line\":{\"color\":\"lightgrey\",\"width\":1},\"mode\":\"lines\",\"showlegend\":false,\"x\":[224.58,224.58],\"y\":[432.35,432.35],\"z\":[-1441.93,-2453.06],\"type\":\"scatter3d\",\"uid\":\"a0179a28-cd67-44b8-9372-4d1b83dc2d5c\"},{\"hoverinfo\":\"skip\",\"line\":{\"color\":\"lightgrey\",\"width\":1},\"mode\":\"lines\",\"showlegend\":false,\"x\":[338.44,338.44],\"y\":[463.72,463.72],\"z\":[-1441.93,-2453.06],\"type\":\"scatter3d\",\"uid\":\"09e65769-0262-4434-9d2e-e4120c115475\"},{\"hoverinfo\":\"skip\",\"line\":{\"color\":\"lightgrey\",\"width\":1},\"mode\":\"lines\",\"showlegend\":false,\"x\":[-347.88,-347.88],\"y\":[451.52,451.52],\"z\":[-1441.93,-2453.06],\"type\":\"scatter3d\",\"uid\":\"1c73d9e6-4781-4be1-b1c6-adbcaff582f2\"},{\"hoverinfo\":\"skip\",\"line\":{\"color\":\"lightgrey\",\"width\":1},\"mode\":\"lines\",\"showlegend\":false,\"x\":[-224.09,-224.09],\"y\":[470.86,470.86],\"z\":[-1441.93,-2453.06],\"type\":\"scatter3d\",\"uid\":\"552e6b89-d1ed-4bf2-b573-7d147fc57ddc\"},{\"hoverinfo\":\"skip\",\"line\":{\"color\":\"lightgrey\",\"width\":1},\"mode\":\"lines\",\"showlegend\":false,\"x\":[-101.06,-101.06],\"y\":[490.22,490.22],\"z\":[-1441.93,-2453.06],\"type\":\"scatter3d\",\"uid\":\"276a8e10-9e5e-437a-8904-ed481f9054e9\"},{\"hoverinfo\":\"skip\",\"line\":{\"color\":\"lightgrey\",\"width\":1},\"mode\":\"lines\",\"showlegend\":false,\"x\":[22.11,22.11],\"y\":[509.5,509.5],\"z\":[-1441.93,-2453.06],\"type\":\"scatter3d\",\"uid\":\"42259b8a-2974-488b-9b15-7f966b7ed083\"},{\"hoverinfo\":\"skip\",\"line\":{\"color\":\"lightgrey\",\"width\":1},\"mode\":\"lines\",\"showlegend\":false,\"x\":[31.25,31.25],\"y\":[-72.93,-72.93],\"z\":[-1441.93,-2453.06],\"type\":\"scatter3d\",\"uid\":\"3a514e96-6269-4268-95d7-8f77af2c58f7\"},{\"hoverinfo\":\"skip\",\"line\":{\"color\":\"lightgrey\",\"width\":1},\"mode\":\"lines\",\"showlegend\":false,\"x\":[72.37,72.37],\"y\":[-66.6,-66.6],\"z\":[-1441.93,-2453.06],\"type\":\"scatter3d\",\"uid\":\"dbdc24ae-ff27-4b42-acd3-a0eb03ac763d\"},{\"hoverinfo\":\"skip\",\"line\":{\"color\":\"lightgrey\",\"width\":1},\"mode\":\"lines\",\"showlegend\":false,\"x\":[41.6,41.6],\"y\":[35.49,35.49],\"z\":[-1441.93,-2453.06],\"type\":\"scatter3d\",\"uid\":\"80ef84d2-0f88-4478-be94-128faa35a621\"},{\"hoverinfo\":\"skip\",\"line\":{\"color\":\"lightgrey\",\"width\":1},\"mode\":\"lines\",\"showlegend\":false,\"x\":[106.94,106.94],\"y\":[27.09,27.09],\"z\":[-1441.93,-2453.06],\"type\":\"scatter3d\",\"uid\":\"fe37266c-cb67-4467-bb77-5eee238d9955\"},{\"hoverinfo\":\"skip\",\"line\":{\"color\":\"lightgrey\",\"width\":1},\"mode\":\"lines\",\"showlegend\":false,\"x\":[113.19,113.19],\"y\":[-60.47,-60.47],\"z\":[-1441.93,-2453.06],\"type\":\"scatter3d\",\"uid\":\"3ad9c254-f069-43e6-b6ea-40c117613109\"},{\"hoverinfo\":\"skip\",\"line\":{\"color\":\"lightgrey\",\"width\":1},\"mode\":\"lines\",\"showlegend\":false,\"x\":[57.2,57.2],\"y\":[-105.52,-105.52],\"z\":[-1441.93,-2453.06],\"type\":\"scatter3d\",\"uid\":\"e98da715-9543-4a6d-b83d-0b114a1e770b\"},{\"hoverinfo\":\"skip\",\"line\":{\"color\":\"lightgrey\",\"width\":1},\"mode\":\"lines\",\"showlegend\":false,\"x\":[-9.68,-9.68],\"y\":[-79.5,-79.5],\"z\":[-1441.93,-2453.06],\"type\":\"scatter3d\",\"uid\":\"811574ca-03d2-4e7b-b2d0-11c47c6a5138\"},{\"hoverinfo\":\"skip\",\"line\":{\"color\":\"lightgrey\",\"width\":1},\"mode\":\"lines\",\"showlegend\":false,\"x\":[-10.97,-10.97],\"y\":[6.72,6.72],\"z\":[-1441.93,-2453.06],\"type\":\"scatter3d\",\"uid\":\"f6e9bc8f-a6ff-4084-8c8c-caa281190ae7\"},{\"hoverinfo\":\"skip\",\"line\":{\"color\":\"grey\",\"width\":1},\"mode\":\"lines\",\"showlegend\":false,\"x\":[-347.88,-570.9,-256.14,361.0,576.37,338.44,101.04,22.11,-347.88],\"y\":[451.52,-125.14,-521.08,-422.83,170.92,463.72,412.79,509.5,451.52],\"z\":[-2453.06,-2453.06,-2453.06,-2453.06,-2453.06,-2453.06,-2453.06,-2453.06,-2453.06,-2453.06,-2453.06,-2453.06,-2453.06,-2453.06,-2453.06,-2453.06,-2453.06,-2453.06,-2453.06,-2453.06,-2453.06,-2453.06,-2453.06,-2453.06,-2453.06,-2453.06,-2453.06,-2453.06,-2453.06,-2453.06,-2453.06,-2453.06,-2453.06,-2453.06,-2453.06,-2453.06,-2453.06,-2453.06,-2453.06,-2453.06,-2453.06,-2453.06,-2453.06,-2453.06,-2453.06,-2453.06,-2453.06,-2453.06,-2453.06,-2453.06,-2453.06,-2453.06,-2453.06,-2453.06,-2453.06,-2453.06,-2453.06,-2453.06,-2453.06,-2453.06,-2453.06,-2453.06,-2453.06,-2453.06,-2453.06,-2453.06,-2453.06,-2453.06,-2453.06,-2453.06,-2453.06,-2453.06,-2453.06,-2453.06,-2453.06,-2453.06,-2453.06,-2453.06,-2453.06,-2453.06,-2453.06,-2453.06,-2453.06,-2453.06,-2453.06,-2453.06],\"type\":\"scatter3d\",\"uid\":\"123f884c-4eec-4156-a085-5f9a87dc7d9a\"},{\"hoverinfo\":\"skip\",\"line\":{\"color\":\"grey\",\"width\":1},\"mode\":\"lines\",\"showlegend\":false,\"x\":[-347.88,-570.9,-256.14,361.0,576.37,338.44,101.04,22.11,-347.88],\"y\":[451.52,-125.14,-521.08,-422.83,170.92,463.72,412.79,509.5,451.52],\"z\":[-1441.93,-1441.93,-1441.93,-1441.93,-1441.93,-1441.93,-1441.93,-1441.93,-1441.93,-1441.93,-1441.93,-1441.93,-1441.93,-1441.93,-1441.93,-1441.93,-1441.93,-1441.93,-1441.93,-1441.93,-1441.93,-1441.93,-1441.93,-1441.93,-1441.93,-1441.93,-1441.93,-1441.93,-1441.93,-1441.93,-1441.93,-1441.93,-1441.93,-1441.93,-1441.93,-1441.93,-1441.93,-1441.93,-1441.93,-1441.93,-1441.93,-1441.93,-1441.93,-1441.93,-1441.93,-1441.93,-1441.93,-1441.93,-1441.93,-1441.93,-1441.93,-1441.93,-1441.93,-1441.93,-1441.93,-1441.93,-1441.93,-1441.93,-1441.93,-1441.93,-1441.93,-1441.93,-1441.93,-1441.93,-1441.93,-1441.93,-1441.93,-1441.93,-1441.93,-1441.93,-1441.93,-1441.93,-1441.93,-1441.93,-1441.93,-1441.93,-1441.93,-1441.93,-1441.93,-1441.93,-1441.93,-1441.93,-1441.93,-1441.93,-1441.93,-1441.93],\"type\":\"scatter3d\",\"uid\":\"6f34faca-cb65-4401-b17b-546f6d6002e3\"},{\"customdata\":[4539.899902,3563.517578,4036.598877,3446.496826,3012.672852,2932.354492,3253.431396,3554.935791,2757.04834,2555.645752,2466.915771,2396.556885,2980.839844,6278.332031,2322.358887,2430.620361,2428.827637,2522.25415,2348.917969,2560.024658,1960.547729,2309.817383,1797.987061,1769.792603,1917.097046,1880.280884,1580.367798,1516.188843,1666.831299,1277.713501,1240.003296,1286.357788,1033.954712,812.980164,1259.831543,587.821106,808.811829,424.043365,635.756653,546.29187,651.227417,1088.476929],\"hoverinfo\":[\"x\",\"y\",\"z\",\"text\"],\"hovertemplate\":\"x: %{x} m, y: %{y} m, z: %{z} m, t: %{customdata} ns\",\"hovertext\":[\"-2160.28 ns\",\"-1992.60 ns\",\"-1973.11 ns\",\"-2003.35 ns\",\"-1969.31 ns\",\"-1952.29 ns\",\"-1867.18 ns\",\"-1850.16 ns\",\"-1973.01 ns\",\"-1938.97 ns\",\"-1921.95 ns\",\"-1904.93 ns\",\"-1853.86 ns\",\"-1928.84 ns\",\"-1799.83 ns\",\"-1923.68 ns\",\"-1906.66 ns\",\"-1872.61 ns\",\"-1812.11 ns\",\"-1830.56 ns\",\"-1820.55 ns\",\"-1810.54 ns\",\"-1841.84 ns\",\"-1831.83 ns\",\"-1791.78 ns\",\"-1852.47 ns\",\"-1818.43 ns\",\"-1784.39 ns\",\"-1780.06 ns\",\"-1763.04 ns\",\"-1729.00 ns\",\"-1694.96 ns\",\"-1718.67 ns\",\"-1701.65 ns\",\"-1684.63 ns\",\"-1718.55 ns\",\"-1701.53 ns\",\"-1684.51 ns\",\"-1667.49 ns\",\"-1650.46 ns\",\"-1633.44 ns\",\"-1700.60 ns\"],\"marker\":{\"color\":[4539.899902,3563.517578,4036.598877,3446.496826,3012.672852,2932.354492,3253.431396,3554.935791,2757.04834,2555.645752,2466.915771,2396.556885,2980.839844,6278.332031,2322.358887,2430.620361,2428.827637,2522.25415,2348.917969,2560.024658,1960.547729,2309.817383,1797.987061,1769.792603,1917.097046,1880.280884,1580.367798,1516.188843,1666.831299,1277.713501,1240.003296,1286.357788,1033.954712,812.980164,1259.831543,587.821106,808.811829,424.043365,635.756653,546.29187,651.227417,1088.476929],\"colorscale\":[[0.0,\"rgb(255,0,0)\"],[0.125,\"rgb(255,111,0)\"],[0.25,\"rgb(255,234,0)\"],[0.375,\"rgb(151,255,0)\"],[0.5,\"rgb(44,255,150)\"],[0.625,\"rgb(0,152,255)\"],[0.75,\"rgb(0,25,255)\"],[0.875,\"rgb(0,0,200)\"],[1.0,\"rgb(150,0,90)\"]],\"size\":4},\"mode\":\"markers\",\"name\":\"current_evt\",\"showlegend\":false,\"x\":[-526.63,-324.39,-279.53,-200.55,-200.55,-200.55,-200.55,-200.55,-77.8,-77.8,-77.8,-77.8,-77.8,-32.96,31.25,46.29,46.29,46.29,57.2,72.37,72.37,72.37,113.19,113.19,113.19,194.34,194.34,194.34,292.9,292.9,292.9,292.9,411.81,411.81,411.81,500.43,500.43,500.43,500.43,500.43,500.43,544.07],\"y\":[-15.6,-93.43,23.17,-74.03,-74.03,-74.03,-74.03,-74.03,-54.33,-54.33,-54.33,-54.33,-54.33,62.44,-72.93,-34.88,-34.88,-34.88,-105.52,-66.6,-66.6,-66.6,-60.47,-60.47,-60.47,-30.92,-30.92,-30.92,5.2,5.2,5.2,5.2,13.0,13.0,13.0,-58.45,-58.45,-58.45,-58.45,-58.45,-58.45,55.89],\"z\":[-2160.28,-1992.6,-1973.11,-2003.35,-1969.31,-1952.29,-1867.18,-1850.16,-1973.01,-1938.97,-1921.95,-1904.93,-1853.86,-1928.84,-1799.83,-1923.68,-1906.66,-1872.61,-1812.11,-1830.56,-1820.55,-1810.54,-1841.84,-1831.83,-1791.78,-1852.47,-1818.43,-1784.39,-1780.06,-1763.04,-1729.0,-1694.96,-1718.67,-1701.65,-1684.63,-1718.55,-1701.53,-1684.51,-1667.49,-1650.46,-1633.44,-1700.6],\"type\":\"scatter3d\",\"uid\":\"eb570d5b-c192-4599-978c-0335e68d893e\"},{\"line\":{\"color\":\"black\",\"width\":6},\"mode\":\"lines\",\"name\":\"arrow_line\",\"showlegend\":false,\"x\":[-391.5452038107184,476.66937963489426],\"y\":[-48.04703296703296,-48.04703296703296],\"z\":[-1612.5927963942536,-2108.7817091002526],\"type\":\"scatter3d\",\"uid\":\"925fed15-0560-48fa-8b93-a75f44116598\"},{\"anchor\":\"center\",\"colorscale\":[[0,\"black\"],[1,\"black\"]],\"name\":\"arrow_head\",\"showscale\":false,\"sizemode\":\"absolute\",\"sizeref\":100,\"u\":[17.36429166891225],\"v\":[0.0],\"w\":[-9.923778254119977],\"x\":[476.66937963489426],\"y\":[-48.04703296703296],\"z\":[-2108.7817091002526],\"type\":\"cone\",\"uid\":\"138e174b-7efc-484d-87cc-dc14042c003b\"}],                        {\"margin\":{\"b\":40,\"l\":20,\"r\":20,\"t\":40},\"scene\":{\"camera\":{\"center\":{\"x\":0,\"y\":0,\"z\":0},\"eye\":{\"x\":0.9848077530122082,\"y\":1.7057370639048863,\"z\":0.34729635533386066},\"up\":{\"x\":0,\"y\":0,\"z\":1}},\"xaxis\":{\"backgroundcolor\":\"whitesmoke\",\"showgrid\":false,\"showspikes\":false,\"showticklabels\":false,\"title\":{\"text\":\"\"}},\"yaxis\":{\"backgroundcolor\":\"whitesmoke\",\"showgrid\":false,\"showspikes\":false,\"showticklabels\":false,\"title\":{\"text\":\"\"}},\"zaxis\":{\"backgroundcolor\":\"whitesmoke\",\"showgrid\":false,\"showspikes\":false,\"showticklabels\":false,\"title\":{\"text\":\"\"}}},\"template\":{\"data\":{\"barpolar\":[{\"marker\":{\"line\":{\"color\":\"#E5ECF6\",\"width\":0.5},\"pattern\":{\"fillmode\":\"overlay\",\"size\":10,\"solidity\":0.2}},\"type\":\"barpolar\"}],\"bar\":[{\"error_x\":{\"color\":\"#2a3f5f\"},\"error_y\":{\"color\":\"#2a3f5f\"},\"marker\":{\"line\":{\"color\":\"#E5ECF6\",\"width\":0.5},\"pattern\":{\"fillmode\":\"overlay\",\"size\":10,\"solidity\":0.2}},\"type\":\"bar\"}],\"carpet\":[{\"aaxis\":{\"endlinecolor\":\"#2a3f5f\",\"gridcolor\":\"white\",\"linecolor\":\"white\",\"minorgridcolor\":\"white\",\"startlinecolor\":\"#2a3f5f\"},\"baxis\":{\"endlinecolor\":\"#2a3f5f\",\"gridcolor\":\"white\",\"linecolor\":\"white\",\"minorgridcolor\":\"white\",\"startlinecolor\":\"#2a3f5f\"},\"type\":\"carpet\"}],\"choropleth\":[{\"colorbar\":{\"outlinewidth\":0,\"ticks\":\"\"},\"type\":\"choropleth\"}],\"contourcarpet\":[{\"colorbar\":{\"outlinewidth\":0,\"ticks\":\"\"},\"type\":\"contourcarpet\"}],\"contour\":[{\"colorbar\":{\"outlinewidth\":0,\"ticks\":\"\"},\"colorscale\":[[0.0,\"#0d0887\"],[0.1111111111111111,\"#46039f\"],[0.2222222222222222,\"#7201a8\"],[0.3333333333333333,\"#9c179e\"],[0.4444444444444444,\"#bd3786\"],[0.5555555555555556,\"#d8576b\"],[0.6666666666666666,\"#ed7953\"],[0.7777777777777778,\"#fb9f3a\"],[0.8888888888888888,\"#fdca26\"],[1.0,\"#f0f921\"]],\"type\":\"contour\"}],\"heatmapgl\":[{\"colorbar\":{\"outlinewidth\":0,\"ticks\":\"\"},\"colorscale\":[[0.0,\"#0d0887\"],[0.1111111111111111,\"#46039f\"],[0.2222222222222222,\"#7201a8\"],[0.3333333333333333,\"#9c179e\"],[0.4444444444444444,\"#bd3786\"],[0.5555555555555556,\"#d8576b\"],[0.6666666666666666,\"#ed7953\"],[0.7777777777777778,\"#fb9f3a\"],[0.8888888888888888,\"#fdca26\"],[1.0,\"#f0f921\"]],\"type\":\"heatmapgl\"}],\"heatmap\":[{\"colorbar\":{\"outlinewidth\":0,\"ticks\":\"\"},\"colorscale\":[[0.0,\"#0d0887\"],[0.1111111111111111,\"#46039f\"],[0.2222222222222222,\"#7201a8\"],[0.3333333333333333,\"#9c179e\"],[0.4444444444444444,\"#bd3786\"],[0.5555555555555556,\"#d8576b\"],[0.6666666666666666,\"#ed7953\"],[0.7777777777777778,\"#fb9f3a\"],[0.8888888888888888,\"#fdca26\"],[1.0,\"#f0f921\"]],\"type\":\"heatmap\"}],\"histogram2dcontour\":[{\"colorbar\":{\"outlinewidth\":0,\"ticks\":\"\"},\"colorscale\":[[0.0,\"#0d0887\"],[0.1111111111111111,\"#46039f\"],[0.2222222222222222,\"#7201a8\"],[0.3333333333333333,\"#9c179e\"],[0.4444444444444444,\"#bd3786\"],[0.5555555555555556,\"#d8576b\"],[0.6666666666666666,\"#ed7953\"],[0.7777777777777778,\"#fb9f3a\"],[0.8888888888888888,\"#fdca26\"],[1.0,\"#f0f921\"]],\"type\":\"histogram2dcontour\"}],\"histogram2d\":[{\"colorbar\":{\"outlinewidth\":0,\"ticks\":\"\"},\"colorscale\":[[0.0,\"#0d0887\"],[0.1111111111111111,\"#46039f\"],[0.2222222222222222,\"#7201a8\"],[0.3333333333333333,\"#9c179e\"],[0.4444444444444444,\"#bd3786\"],[0.5555555555555556,\"#d8576b\"],[0.6666666666666666,\"#ed7953\"],[0.7777777777777778,\"#fb9f3a\"],[0.8888888888888888,\"#fdca26\"],[1.0,\"#f0f921\"]],\"type\":\"histogram2d\"}],\"histogram\":[{\"marker\":{\"pattern\":{\"fillmode\":\"overlay\",\"size\":10,\"solidity\":0.2}},\"type\":\"histogram\"}],\"mesh3d\":[{\"colorbar\":{\"outlinewidth\":0,\"ticks\":\"\"},\"type\":\"mesh3d\"}],\"parcoords\":[{\"line\":{\"colorbar\":{\"outlinewidth\":0,\"ticks\":\"\"}},\"type\":\"parcoords\"}],\"pie\":[{\"automargin\":true,\"type\":\"pie\"}],\"scatter3d\":[{\"line\":{\"colorbar\":{\"outlinewidth\":0,\"ticks\":\"\"}},\"marker\":{\"colorbar\":{\"outlinewidth\":0,\"ticks\":\"\"}},\"type\":\"scatter3d\"}],\"scattercarpet\":[{\"marker\":{\"colorbar\":{\"outlinewidth\":0,\"ticks\":\"\"}},\"type\":\"scattercarpet\"}],\"scattergeo\":[{\"marker\":{\"colorbar\":{\"outlinewidth\":0,\"ticks\":\"\"}},\"type\":\"scattergeo\"}],\"scattergl\":[{\"marker\":{\"colorbar\":{\"outlinewidth\":0,\"ticks\":\"\"}},\"type\":\"scattergl\"}],\"scattermapbox\":[{\"marker\":{\"colorbar\":{\"outlinewidth\":0,\"ticks\":\"\"}},\"type\":\"scattermapbox\"}],\"scatterpolargl\":[{\"marker\":{\"colorbar\":{\"outlinewidth\":0,\"ticks\":\"\"}},\"type\":\"scatterpolargl\"}],\"scatterpolar\":[{\"marker\":{\"colorbar\":{\"outlinewidth\":0,\"ticks\":\"\"}},\"type\":\"scatterpolar\"}],\"scatter\":[{\"fillpattern\":{\"fillmode\":\"overlay\",\"size\":10,\"solidity\":0.2},\"type\":\"scatter\"}],\"scatterternary\":[{\"marker\":{\"colorbar\":{\"outlinewidth\":0,\"ticks\":\"\"}},\"type\":\"scatterternary\"}],\"surface\":[{\"colorbar\":{\"outlinewidth\":0,\"ticks\":\"\"},\"colorscale\":[[0.0,\"#0d0887\"],[0.1111111111111111,\"#46039f\"],[0.2222222222222222,\"#7201a8\"],[0.3333333333333333,\"#9c179e\"],[0.4444444444444444,\"#bd3786\"],[0.5555555555555556,\"#d8576b\"],[0.6666666666666666,\"#ed7953\"],[0.7777777777777778,\"#fb9f3a\"],[0.8888888888888888,\"#fdca26\"],[1.0,\"#f0f921\"]],\"type\":\"surface\"}],\"table\":[{\"cells\":{\"fill\":{\"color\":\"#EBF0F8\"},\"line\":{\"color\":\"white\"}},\"header\":{\"fill\":{\"color\":\"#C8D4E3\"},\"line\":{\"color\":\"white\"}},\"type\":\"table\"}]},\"layout\":{\"annotationdefaults\":{\"arrowcolor\":\"#2a3f5f\",\"arrowhead\":0,\"arrowwidth\":1},\"autotypenumbers\":\"strict\",\"coloraxis\":{\"colorbar\":{\"outlinewidth\":0,\"ticks\":\"\"}},\"colorscale\":{\"diverging\":[[0,\"#8e0152\"],[0.1,\"#c51b7d\"],[0.2,\"#de77ae\"],[0.3,\"#f1b6da\"],[0.4,\"#fde0ef\"],[0.5,\"#f7f7f7\"],[0.6,\"#e6f5d0\"],[0.7,\"#b8e186\"],[0.8,\"#7fbc41\"],[0.9,\"#4d9221\"],[1,\"#276419\"]],\"sequential\":[[0.0,\"#0d0887\"],[0.1111111111111111,\"#46039f\"],[0.2222222222222222,\"#7201a8\"],[0.3333333333333333,\"#9c179e\"],[0.4444444444444444,\"#bd3786\"],[0.5555555555555556,\"#d8576b\"],[0.6666666666666666,\"#ed7953\"],[0.7777777777777778,\"#fb9f3a\"],[0.8888888888888888,\"#fdca26\"],[1.0,\"#f0f921\"]],\"sequentialminus\":[[0.0,\"#0d0887\"],[0.1111111111111111,\"#46039f\"],[0.2222222222222222,\"#7201a8\"],[0.3333333333333333,\"#9c179e\"],[0.4444444444444444,\"#bd3786\"],[0.5555555555555556,\"#d8576b\"],[0.6666666666666666,\"#ed7953\"],[0.7777777777777778,\"#fb9f3a\"],[0.8888888888888888,\"#fdca26\"],[1.0,\"#f0f921\"]]},\"colorway\":[\"#636efa\",\"#EF553B\",\"#00cc96\",\"#ab63fa\",\"#FFA15A\",\"#19d3f3\",\"#FF6692\",\"#B6E880\",\"#FF97FF\",\"#FECB52\"],\"font\":{\"color\":\"#2a3f5f\"},\"geo\":{\"bgcolor\":\"white\",\"lakecolor\":\"white\",\"landcolor\":\"#E5ECF6\",\"showlakes\":true,\"showland\":true,\"subunitcolor\":\"white\"},\"hoverlabel\":{\"align\":\"left\"},\"hovermode\":\"closest\",\"mapbox\":{\"style\":\"light\"},\"paper_bgcolor\":\"white\",\"plot_bgcolor\":\"#E5ECF6\",\"polar\":{\"angularaxis\":{\"gridcolor\":\"white\",\"linecolor\":\"white\",\"ticks\":\"\"},\"bgcolor\":\"#E5ECF6\",\"radialaxis\":{\"gridcolor\":\"white\",\"linecolor\":\"white\",\"ticks\":\"\"}},\"scene\":{\"xaxis\":{\"backgroundcolor\":\"#E5ECF6\",\"gridcolor\":\"white\",\"gridwidth\":2,\"linecolor\":\"white\",\"showbackground\":true,\"ticks\":\"\",\"zerolinecolor\":\"white\"},\"yaxis\":{\"backgroundcolor\":\"#E5ECF6\",\"gridcolor\":\"white\",\"gridwidth\":2,\"linecolor\":\"white\",\"showbackground\":true,\"ticks\":\"\",\"zerolinecolor\":\"white\"},\"zaxis\":{\"backgroundcolor\":\"#E5ECF6\",\"gridcolor\":\"white\",\"gridwidth\":2,\"linecolor\":\"white\",\"showbackground\":true,\"ticks\":\"\",\"zerolinecolor\":\"white\"}},\"shapedefaults\":{\"line\":{\"color\":\"#2a3f5f\"}},\"ternary\":{\"aaxis\":{\"gridcolor\":\"white\",\"linecolor\":\"white\",\"ticks\":\"\"},\"baxis\":{\"gridcolor\":\"white\",\"linecolor\":\"white\",\"ticks\":\"\"},\"bgcolor\":\"#E5ECF6\",\"caxis\":{\"gridcolor\":\"white\",\"linecolor\":\"white\",\"ticks\":\"\"}},\"title\":{\"x\":0.05},\"xaxis\":{\"automargin\":true,\"gridcolor\":\"white\",\"linecolor\":\"white\",\"ticks\":\"\",\"title\":{\"standoff\":15},\"zerolinecolor\":\"white\",\"zerolinewidth\":2},\"yaxis\":{\"automargin\":true,\"gridcolor\":\"white\",\"linecolor\":\"white\",\"ticks\":\"\",\"title\":{\"standoff\":15},\"zerolinecolor\":\"white\",\"zerolinewidth\":2}}}},                        {\"responsive\": true}                    ).then(function(){\n                            \nvar gd = document.getElementById('fff829a2-6e7a-4d4c-9a2f-82bfff029a56');\nvar x = new MutationObserver(function (mutations, observer) {{\n        var display = window.getComputedStyle(gd).display;\n        if (!display || display === 'none') {{\n            console.log([gd, 'removed!']);\n            Plotly.purge(gd);\n            observer.disconnect();\n        }}\n}});\n\n// Listen for the removal of the full notebook cells\nvar notebookContainer = gd.closest('#notebook-container');\nif (notebookContainer) {{\n    x.observe(notebookContainer, {childList: true});\n}}\n\n// Listen for the clearing of the current output cell\nvar outputEl = gd.closest('.output');\nif (outputEl) {{\n    x.observe(outputEl, {childList: true});\n}}\n\n                        })                };                            </script>        </div>\n</body>\n</html>"
                },
                "metadata": {}
              }
            ]
          }
        },
        "2d9f8f540f09479f9844e8fc174554d8": {
          "model_module": "@jupyter-widgets/base",
          "model_name": "LayoutModel",
          "model_module_version": "1.2.0",
          "state": {
            "_model_module": "@jupyter-widgets/base",
            "_model_module_version": "1.2.0",
            "_model_name": "LayoutModel",
            "_view_count": null,
            "_view_module": "@jupyter-widgets/base",
            "_view_module_version": "1.2.0",
            "_view_name": "LayoutView",
            "align_content": null,
            "align_items": null,
            "align_self": null,
            "border": null,
            "bottom": null,
            "display": null,
            "flex": null,
            "flex_flow": null,
            "grid_area": null,
            "grid_auto_columns": null,
            "grid_auto_flow": null,
            "grid_auto_rows": null,
            "grid_column": null,
            "grid_gap": null,
            "grid_row": null,
            "grid_template_areas": null,
            "grid_template_columns": null,
            "grid_template_rows": null,
            "height": null,
            "justify_content": null,
            "justify_items": null,
            "left": null,
            "margin": null,
            "max_height": null,
            "max_width": null,
            "min_height": null,
            "min_width": null,
            "object_fit": null,
            "object_position": null,
            "order": null,
            "overflow": null,
            "overflow_x": null,
            "overflow_y": null,
            "padding": null,
            "right": null,
            "top": null,
            "visibility": null,
            "width": null
          }
        },
        "8a41a8e2b7f84ec5bc3a36720c7a5f9d": {
          "model_module": "@jupyter-widgets/base",
          "model_name": "LayoutModel",
          "model_module_version": "1.2.0",
          "state": {
            "_model_module": "@jupyter-widgets/base",
            "_model_module_version": "1.2.0",
            "_model_name": "LayoutModel",
            "_view_count": null,
            "_view_module": "@jupyter-widgets/base",
            "_view_module_version": "1.2.0",
            "_view_name": "LayoutView",
            "align_content": null,
            "align_items": null,
            "align_self": null,
            "border": null,
            "bottom": null,
            "display": null,
            "flex": null,
            "flex_flow": null,
            "grid_area": null,
            "grid_auto_columns": null,
            "grid_auto_flow": null,
            "grid_auto_rows": null,
            "grid_column": null,
            "grid_gap": null,
            "grid_row": null,
            "grid_template_areas": null,
            "grid_template_columns": null,
            "grid_template_rows": null,
            "height": null,
            "justify_content": null,
            "justify_items": null,
            "left": null,
            "margin": null,
            "max_height": null,
            "max_width": null,
            "min_height": null,
            "min_width": null,
            "object_fit": null,
            "object_position": null,
            "order": null,
            "overflow": null,
            "overflow_x": null,
            "overflow_y": null,
            "padding": null,
            "right": null,
            "top": null,
            "visibility": null,
            "width": null
          }
        },
        "316d9b93b421479fa48fe896aa96ea31": {
          "model_module": "@jupyter-widgets/controls",
          "model_name": "DescriptionStyleModel",
          "model_module_version": "1.5.0",
          "state": {
            "_model_module": "@jupyter-widgets/controls",
            "_model_module_version": "1.5.0",
            "_model_name": "DescriptionStyleModel",
            "_view_count": null,
            "_view_module": "@jupyter-widgets/base",
            "_view_module_version": "1.2.0",
            "_view_name": "StyleView",
            "description_width": ""
          }
        },
        "c195fc76ac424fe2834ceeb2be1c949f": {
          "model_module": "@jupyter-widgets/base",
          "model_name": "LayoutModel",
          "model_module_version": "1.2.0",
          "state": {
            "_model_module": "@jupyter-widgets/base",
            "_model_module_version": "1.2.0",
            "_model_name": "LayoutModel",
            "_view_count": null,
            "_view_module": "@jupyter-widgets/base",
            "_view_module_version": "1.2.0",
            "_view_name": "LayoutView",
            "align_content": null,
            "align_items": null,
            "align_self": null,
            "border": null,
            "bottom": null,
            "display": null,
            "flex": null,
            "flex_flow": null,
            "grid_area": null,
            "grid_auto_columns": null,
            "grid_auto_flow": null,
            "grid_auto_rows": null,
            "grid_column": null,
            "grid_gap": null,
            "grid_row": null,
            "grid_template_areas": null,
            "grid_template_columns": null,
            "grid_template_rows": null,
            "height": null,
            "justify_content": null,
            "justify_items": null,
            "left": null,
            "margin": null,
            "max_height": null,
            "max_width": null,
            "min_height": null,
            "min_width": null,
            "object_fit": null,
            "object_position": null,
            "order": null,
            "overflow": null,
            "overflow_x": null,
            "overflow_y": null,
            "padding": null,
            "right": null,
            "top": null,
            "visibility": null,
            "width": "75%"
          }
        },
        "4d9ba153ec00490b98cb4be883fc4f8a": {
          "model_module": "@jupyter-widgets/controls",
          "model_name": "SliderStyleModel",
          "model_module_version": "1.5.0",
          "state": {
            "_model_module": "@jupyter-widgets/controls",
            "_model_module_version": "1.5.0",
            "_model_name": "SliderStyleModel",
            "_view_count": null,
            "_view_module": "@jupyter-widgets/base",
            "_view_module_version": "1.2.0",
            "_view_name": "StyleView",
            "description_width": "",
            "handle_color": null
          }
        },
        "6dc30b5ae6844f1a848fc2bf7be620be": {
          "model_module": "@jupyter-widgets/base",
          "model_name": "LayoutModel",
          "model_module_version": "1.2.0",
          "state": {
            "_model_module": "@jupyter-widgets/base",
            "_model_module_version": "1.2.0",
            "_model_name": "LayoutModel",
            "_view_count": null,
            "_view_module": "@jupyter-widgets/base",
            "_view_module_version": "1.2.0",
            "_view_name": "LayoutView",
            "align_content": null,
            "align_items": null,
            "align_self": null,
            "border": null,
            "bottom": null,
            "display": null,
            "flex": null,
            "flex_flow": null,
            "grid_area": null,
            "grid_auto_columns": null,
            "grid_auto_flow": null,
            "grid_auto_rows": null,
            "grid_column": null,
            "grid_gap": null,
            "grid_row": null,
            "grid_template_areas": null,
            "grid_template_columns": null,
            "grid_template_rows": null,
            "height": null,
            "justify_content": null,
            "justify_items": null,
            "left": null,
            "margin": null,
            "max_height": null,
            "max_width": null,
            "min_height": null,
            "min_width": null,
            "object_fit": null,
            "object_position": null,
            "order": null,
            "overflow": null,
            "overflow_x": null,
            "overflow_y": null,
            "padding": null,
            "right": null,
            "top": null,
            "visibility": null,
            "width": "75%"
          }
        },
        "96b7c94a4fa242e0a975e059ee132697": {
          "model_module": "@jupyter-widgets/controls",
          "model_name": "SliderStyleModel",
          "model_module_version": "1.5.0",
          "state": {
            "_model_module": "@jupyter-widgets/controls",
            "_model_module_version": "1.5.0",
            "_model_name": "SliderStyleModel",
            "_view_count": null,
            "_view_module": "@jupyter-widgets/base",
            "_view_module_version": "1.2.0",
            "_view_name": "StyleView",
            "description_width": "",
            "handle_color": null
          }
        },
        "d5bd6ecb6d224b138d774a842e8fbb83": {
          "model_module": "@jupyter-widgets/base",
          "model_name": "LayoutModel",
          "model_module_version": "1.2.0",
          "state": {
            "_model_module": "@jupyter-widgets/base",
            "_model_module_version": "1.2.0",
            "_model_name": "LayoutModel",
            "_view_count": null,
            "_view_module": "@jupyter-widgets/base",
            "_view_module_version": "1.2.0",
            "_view_name": "LayoutView",
            "align_content": null,
            "align_items": null,
            "align_self": null,
            "border": null,
            "bottom": null,
            "display": null,
            "flex": null,
            "flex_flow": null,
            "grid_area": null,
            "grid_auto_columns": null,
            "grid_auto_flow": null,
            "grid_auto_rows": null,
            "grid_column": null,
            "grid_gap": null,
            "grid_row": null,
            "grid_template_areas": null,
            "grid_template_columns": null,
            "grid_template_rows": null,
            "height": null,
            "justify_content": null,
            "justify_items": null,
            "left": null,
            "margin": null,
            "max_height": null,
            "max_width": null,
            "min_height": null,
            "min_width": null,
            "object_fit": null,
            "object_position": null,
            "order": null,
            "overflow": null,
            "overflow_x": null,
            "overflow_y": null,
            "padding": null,
            "right": null,
            "top": null,
            "visibility": null,
            "width": null
          }
        },
        "efa4ee9644ed49c5b014bd33c3384aa1": {
          "model_module": "@jupyter-widgets/controls",
          "model_name": "ButtonModel",
          "model_module_version": "1.5.0",
          "state": {
            "_dom_classes": [],
            "_model_module": "@jupyter-widgets/controls",
            "_model_module_version": "1.5.0",
            "_model_name": "ButtonModel",
            "_view_count": null,
            "_view_module": "@jupyter-widgets/controls",
            "_view_module_version": "1.5.0",
            "_view_name": "ButtonView",
            "button_style": "",
            "description": "Submit",
            "disabled": false,
            "icon": "",
            "layout": "IPY_MODEL_970382a1936c4ff8bcf3b0effb392e8f",
            "style": "IPY_MODEL_2bc0c89a22464284b02335cb38a66761",
            "tooltip": ""
          }
        },
        "970382a1936c4ff8bcf3b0effb392e8f": {
          "model_module": "@jupyter-widgets/base",
          "model_name": "LayoutModel",
          "model_module_version": "1.2.0",
          "state": {
            "_model_module": "@jupyter-widgets/base",
            "_model_module_version": "1.2.0",
            "_model_name": "LayoutModel",
            "_view_count": null,
            "_view_module": "@jupyter-widgets/base",
            "_view_module_version": "1.2.0",
            "_view_name": "LayoutView",
            "align_content": null,
            "align_items": null,
            "align_self": null,
            "border": null,
            "bottom": null,
            "display": null,
            "flex": null,
            "flex_flow": null,
            "grid_area": null,
            "grid_auto_columns": null,
            "grid_auto_flow": null,
            "grid_auto_rows": null,
            "grid_column": null,
            "grid_gap": null,
            "grid_row": null,
            "grid_template_areas": null,
            "grid_template_columns": null,
            "grid_template_rows": null,
            "height": null,
            "justify_content": null,
            "justify_items": null,
            "left": null,
            "margin": null,
            "max_height": null,
            "max_width": null,
            "min_height": null,
            "min_width": null,
            "object_fit": null,
            "object_position": null,
            "order": null,
            "overflow": null,
            "overflow_x": null,
            "overflow_y": null,
            "padding": null,
            "right": null,
            "top": null,
            "visibility": null,
            "width": null
          }
        },
        "2bc0c89a22464284b02335cb38a66761": {
          "model_module": "@jupyter-widgets/controls",
          "model_name": "ButtonStyleModel",
          "model_module_version": "1.5.0",
          "state": {
            "_model_module": "@jupyter-widgets/controls",
            "_model_module_version": "1.5.0",
            "_model_name": "ButtonStyleModel",
            "_view_count": null,
            "_view_module": "@jupyter-widgets/base",
            "_view_module_version": "1.2.0",
            "_view_name": "StyleView",
            "button_color": null,
            "font_weight": ""
          }
        },
        "a4286477a556461aa7c43f54e15b5dc0": {
          "model_module": "@jupyter-widgets/controls",
          "model_name": "ButtonModel",
          "model_module_version": "1.5.0",
          "state": {
            "_dom_classes": [],
            "_model_module": "@jupyter-widgets/controls",
            "_model_module_version": "1.5.0",
            "_model_name": "ButtonModel",
            "_view_count": null,
            "_view_module": "@jupyter-widgets/controls",
            "_view_module_version": "1.5.0",
            "_view_name": "ButtonView",
            "button_style": "",
            "description": "Return",
            "disabled": false,
            "icon": "",
            "layout": "IPY_MODEL_0fe15c18c8854fea969c920e16b72d82",
            "style": "IPY_MODEL_9dc18661bbc842aabc21c25a618ea885",
            "tooltip": ""
          }
        },
        "0fe15c18c8854fea969c920e16b72d82": {
          "model_module": "@jupyter-widgets/base",
          "model_name": "LayoutModel",
          "model_module_version": "1.2.0",
          "state": {
            "_model_module": "@jupyter-widgets/base",
            "_model_module_version": "1.2.0",
            "_model_name": "LayoutModel",
            "_view_count": null,
            "_view_module": "@jupyter-widgets/base",
            "_view_module_version": "1.2.0",
            "_view_name": "LayoutView",
            "align_content": null,
            "align_items": null,
            "align_self": null,
            "border": null,
            "bottom": null,
            "display": null,
            "flex": null,
            "flex_flow": null,
            "grid_area": null,
            "grid_auto_columns": null,
            "grid_auto_flow": null,
            "grid_auto_rows": null,
            "grid_column": null,
            "grid_gap": null,
            "grid_row": null,
            "grid_template_areas": null,
            "grid_template_columns": null,
            "grid_template_rows": null,
            "height": null,
            "justify_content": null,
            "justify_items": null,
            "left": null,
            "margin": null,
            "max_height": null,
            "max_width": null,
            "min_height": null,
            "min_width": null,
            "object_fit": null,
            "object_position": null,
            "order": null,
            "overflow": null,
            "overflow_x": null,
            "overflow_y": null,
            "padding": null,
            "right": null,
            "top": null,
            "visibility": null,
            "width": null
          }
        },
        "9dc18661bbc842aabc21c25a618ea885": {
          "model_module": "@jupyter-widgets/controls",
          "model_name": "ButtonStyleModel",
          "model_module_version": "1.5.0",
          "state": {
            "_model_module": "@jupyter-widgets/controls",
            "_model_module_version": "1.5.0",
            "_model_name": "ButtonStyleModel",
            "_view_count": null,
            "_view_module": "@jupyter-widgets/base",
            "_view_module_version": "1.2.0",
            "_view_name": "StyleView",
            "button_color": null,
            "font_weight": ""
          }
        },
        "b4f0551edec2426d8f5cd3f652dc558b": {
          "model_module": "@jupyter-widgets/controls",
          "model_name": "VBoxModel",
          "model_module_version": "1.5.0",
          "state": {
            "_dom_classes": [
              "widget-interact"
            ],
            "_model_module": "@jupyter-widgets/controls",
            "_model_module_version": "1.5.0",
            "_model_name": "VBoxModel",
            "_view_count": null,
            "_view_module": "@jupyter-widgets/controls",
            "_view_module_version": "1.5.0",
            "_view_name": "VBoxView",
            "box_style": "",
            "children": [
              "IPY_MODEL_d732b26953104f64b003792fb7026b18",
              "IPY_MODEL_df8f1a90a2674d2f8182e84718d3320a",
              "IPY_MODEL_4992580e6e144becb2356e2ab520cdb2",
              "IPY_MODEL_8f988b62464c4836b00f4d477c404b1f"
            ],
            "layout": "IPY_MODEL_43773c257857482194274df0e3601701"
          }
        },
        "8f988b62464c4836b00f4d477c404b1f": {
          "model_module": "@jupyter-widgets/output",
          "model_name": "OutputModel",
          "model_module_version": "1.0.0",
          "state": {
            "_dom_classes": [],
            "_model_module": "@jupyter-widgets/output",
            "_model_module_version": "1.0.0",
            "_model_name": "OutputModel",
            "_view_count": null,
            "_view_module": "@jupyter-widgets/output",
            "_view_module_version": "1.0.0",
            "_view_name": "OutputView",
            "layout": "IPY_MODEL_9070f21fb364444a8e2b629d3ad5e589",
            "msg_id": "",
            "outputs": [
              {
                "output_type": "stream",
                "name": "stdout",
                "text": [
                  "\n",
                  "\n",
                  "the mean distance is 163.30 meters \n",
                  "\n",
                  "\n",
                  "\n"
                ]
              },
              {
                "output_type": "display_data",
                "data": {
                  "text/html": "<html>\n<head><meta charset=\"utf-8\" /></head>\n<body>\n    <div>            <script src=\"https://cdnjs.cloudflare.com/ajax/libs/mathjax/2.7.5/MathJax.js?config=TeX-AMS-MML_SVG\"></script><script type=\"text/javascript\">if (window.MathJax && window.MathJax.Hub && window.MathJax.Hub.Config) {window.MathJax.Hub.Config({SVG: {font: \"STIX-Web\"}});}</script>                <script type=\"text/javascript\">window.PlotlyConfig = {MathJaxConfig: 'local'};</script>\n        <script charset=\"utf-8\" src=\"https://cdn.plot.ly/plotly-2.35.2.min.js\"></script>                <div id=\"468a6650-bc9b-4c39-b746-b545856c0b6f\" class=\"plotly-graph-div\" style=\"height:525px; width:100%;\"></div>            <script type=\"text/javascript\">                                    window.PLOTLYENV=window.PLOTLYENV || {};                                    if (document.getElementById(\"468a6650-bc9b-4c39-b746-b545856c0b6f\")) {                    Plotly.newPlot(                        \"468a6650-bc9b-4c39-b746-b545856c0b6f\",                        [{\"hoverinfo\":\"skip\",\"line\":{\"color\":\"lightgrey\",\"width\":1},\"mode\":\"lines\",\"showlegend\":false,\"x\":[-256.14,-256.14],\"y\":[-521.08,-521.08],\"z\":[-1441.93,-2453.06],\"type\":\"scatter3d\",\"uid\":\"c57055d7-e68a-4f3b-b642-1321ac75394c\"},{\"hoverinfo\":\"skip\",\"line\":{\"color\":\"lightgrey\",\"width\":1},\"mode\":\"lines\",\"showlegend\":false,\"x\":[-132.8,-132.8],\"y\":[-501.45,-501.45],\"z\":[-1441.93,-2453.06],\"type\":\"scatter3d\",\"uid\":\"efb63184-68e0-4639-aac4-34e93ea6b3bb\"},{\"hoverinfo\":\"skip\",\"line\":{\"color\":\"lightgrey\",\"width\":1},\"mode\":\"lines\",\"showlegend\":false,\"x\":[-9.13,-9.13],\"y\":[-481.74,-481.74],\"z\":[-1441.93,-2453.06],\"type\":\"scatter3d\",\"uid\":\"a95a8296-b1b3-465a-b58f-146c05b85f98\"},{\"hoverinfo\":\"skip\",\"line\":{\"color\":\"lightgrey\",\"width\":1},\"mode\":\"lines\",\"showlegend\":false,\"x\":[114.39,114.39],\"y\":[-461.99,-461.99],\"z\":[-1441.93,-2453.06],\"type\":\"scatter3d\",\"uid\":\"60302219-d86a-44c4-b0f7-a2ef362ef031\"},{\"hoverinfo\":\"skip\",\"line\":{\"color\":\"lightgrey\",\"width\":1},\"mode\":\"lines\",\"showlegend\":false,\"x\":[237.78,237.78],\"y\":[-442.42,-442.42],\"z\":[-1441.93,-2453.06],\"type\":\"scatter3d\",\"uid\":\"2e847041-4de6-4cb5-b243-028354ac0748\"},{\"hoverinfo\":\"skip\",\"line\":{\"color\":\"lightgrey\",\"width\":1},\"mode\":\"lines\",\"showlegend\":false,\"x\":[361.0,361.0],\"y\":[-422.83,-422.83],\"z\":[-1441.93,-2453.06],\"type\":\"scatter3d\",\"uid\":\"92d7ed29-c77f-457b-a347-12d901a351b9\"},{\"hoverinfo\":\"skip\",\"line\":{\"color\":\"lightgrey\",\"width\":1},\"mode\":\"lines\",\"showlegend\":false,\"x\":[-334.8,-334.8],\"y\":[-424.5,-424.5],\"z\":[-1441.93,-2453.06],\"type\":\"scatter3d\",\"uid\":\"b888e4ef-a60b-47bc-bedc-7982f2b52476\"},{\"hoverinfo\":\"skip\",\"line\":{\"color\":\"lightgrey\",\"width\":1},\"mode\":\"lines\",\"showlegend\":false,\"x\":[-211.35,-211.35],\"y\":[-404.48,-404.48],\"z\":[-1441.93,-2453.06],\"type\":\"scatter3d\",\"uid\":\"c8efa0a5-2043-4b8c-a9f2-d9d2d9df9d81\"},{\"hoverinfo\":\"skip\",\"line\":{\"color\":\"lightgrey\",\"width\":1},\"mode\":\"lines\",\"showlegend\":false,\"x\":[-88.05,-88.05],\"y\":[-384.3,-384.3],\"z\":[-1441.93,-2453.06],\"type\":\"scatter3d\",\"uid\":\"524a3fb9-4358-4be4-9a9c-8ecede3f0ee6\"},{\"hoverinfo\":\"skip\",\"line\":{\"color\":\"lightgrey\",\"width\":1},\"mode\":\"lines\",\"showlegend\":false,\"x\":[35.54,35.54],\"y\":[-364.83,-364.83],\"z\":[-1441.93,-2453.06],\"type\":\"scatter3d\",\"uid\":\"1a4435c7-c8c4-4afc-aa6b-f325336f0559\"},{\"hoverinfo\":\"skip\",\"line\":{\"color\":\"lightgrey\",\"width\":1},\"mode\":\"lines\",\"showlegend\":false,\"x\":[158.94,158.94],\"y\":[-345.23,-345.23],\"z\":[-1441.93,-2453.06],\"type\":\"scatter3d\",\"uid\":\"6e1448a2-c833-460f-9c21-689534ec662f\"},{\"hoverinfo\":\"skip\",\"line\":{\"color\":\"lightgrey\",\"width\":1},\"mode\":\"lines\",\"showlegend\":false,\"x\":[282.18,282.18],\"y\":[-325.74,-325.74],\"z\":[-1441.93,-2453.06],\"type\":\"scatter3d\",\"uid\":\"a75cc506-2b2f-41dc-8310-6765bed6b1b1\"},{\"hoverinfo\":\"skip\",\"line\":{\"color\":\"lightgrey\",\"width\":1},\"mode\":\"lines\",\"showlegend\":false,\"x\":[405.83,405.83],\"y\":[-306.38,-306.38],\"z\":[-1441.93,-2453.06],\"type\":\"scatter3d\",\"uid\":\"31faa724-0744-4780-9a55-5af9c54e2702\"},{\"hoverinfo\":\"skip\",\"line\":{\"color\":\"lightgrey\",\"width\":1},\"mode\":\"lines\",\"showlegend\":false,\"x\":[-413.46,-413.46],\"y\":[-327.27,-327.27],\"z\":[-1441.93,-2453.06],\"type\":\"scatter3d\",\"uid\":\"b53a28ce-a0e5-4da9-a4e0-58ebfa483ae8\"},{\"hoverinfo\":\"skip\",\"line\":{\"color\":\"lightgrey\",\"width\":1},\"mode\":\"lines\",\"showlegend\":false,\"x\":[-290.66,-290.66],\"y\":[-307.38,-307.38],\"z\":[-1441.93,-2453.06],\"type\":\"scatter3d\",\"uid\":\"86541020-914a-441b-b602-80ed470d2e03\"},{\"hoverinfo\":\"skip\",\"line\":{\"color\":\"lightgrey\",\"width\":1},\"mode\":\"lines\",\"showlegend\":false,\"x\":[-166.4,-166.4],\"y\":[-287.79,-287.79],\"z\":[-1441.93,-2453.06],\"type\":\"scatter3d\",\"uid\":\"2b3a7bf3-f634-474b-bdf4-0510766db577\"},{\"hoverinfo\":\"skip\",\"line\":{\"color\":\"lightgrey\",\"width\":1},\"mode\":\"lines\",\"showlegend\":false,\"x\":[-43.27,-43.27],\"y\":[-267.52,-267.52],\"z\":[-1441.93,-2453.06],\"type\":\"scatter3d\",\"uid\":\"3198bd89-5070-442a-8806-4eb9042d4501\"},{\"hoverinfo\":\"skip\",\"line\":{\"color\":\"lightgrey\",\"width\":1},\"mode\":\"lines\",\"showlegend\":false,\"x\":[79.41,79.41],\"y\":[-248.24,-248.24],\"z\":[-1441.93,-2453.06],\"type\":\"scatter3d\",\"uid\":\"7fe694a8-d34d-43a3-90a0-3ac4860f386a\"},{\"hoverinfo\":\"skip\",\"line\":{\"color\":\"lightgrey\",\"width\":1},\"mode\":\"lines\",\"showlegend\":false,\"x\":[210.47,210.47],\"y\":[-209.77,-209.77],\"z\":[-1441.93,-2453.06],\"type\":\"scatter3d\",\"uid\":\"26eb77c0-2c95-4391-9f1b-a9ea58627aff\"},{\"hoverinfo\":\"skip\",\"line\":{\"color\":\"lightgrey\",\"width\":1},\"mode\":\"lines\",\"showlegend\":false,\"x\":[326.85,326.85],\"y\":[-209.07,-209.07],\"z\":[-1441.93,-2453.06],\"type\":\"scatter3d\",\"uid\":\"58ae0eb6-2ced-4789-8b2a-6e290ef11e93\"},{\"hoverinfo\":\"skip\",\"line\":{\"color\":\"lightgrey\",\"width\":1},\"mode\":\"lines\",\"showlegend\":false,\"x\":[443.55,443.55],\"y\":[-194.16,-194.16],\"z\":[-1441.93,-2453.06],\"type\":\"scatter3d\",\"uid\":\"5eaf89da-57be-42ec-a3b6-cf583954c743\"},{\"hoverinfo\":\"skip\",\"line\":{\"color\":\"lightgrey\",\"width\":1},\"mode\":\"lines\",\"showlegend\":false,\"x\":[-492.43,-492.43],\"y\":[-230.16,-230.16],\"z\":[-1441.93,-2453.06],\"type\":\"scatter3d\",\"uid\":\"43d69eb5-b397-4aa4-9e57-aab7c5f1804f\"},{\"hoverinfo\":\"skip\",\"line\":{\"color\":\"lightgrey\",\"width\":1},\"mode\":\"lines\",\"showlegend\":false,\"x\":[-368.93,-368.93],\"y\":[-210.23,-210.23],\"z\":[-1441.93,-2453.06],\"type\":\"scatter3d\",\"uid\":\"075fbfa8-5db8-4c3b-b6bf-c570fda57599\"},{\"hoverinfo\":\"skip\",\"line\":{\"color\":\"lightgrey\",\"width\":1},\"mode\":\"lines\",\"showlegend\":false,\"x\":[-245.65,-245.65],\"y\":[-190.49,-190.49],\"z\":[-1441.93,-2453.06],\"type\":\"scatter3d\",\"uid\":\"864c09d0-943a-461c-8c6e-3c0a81fc6fe4\"},{\"hoverinfo\":\"skip\",\"line\":{\"color\":\"lightgrey\",\"width\":1},\"mode\":\"lines\",\"showlegend\":false,\"x\":[-121.77,-121.77],\"y\":[-171.03,-171.03],\"z\":[-1441.93,-2453.06],\"type\":\"scatter3d\",\"uid\":\"1e7b929d-b390-4864-bd21-f887f212129a\"},{\"hoverinfo\":\"skip\",\"line\":{\"color\":\"lightgrey\",\"width\":1},\"mode\":\"lines\",\"showlegend\":false,\"x\":[1.71,1.71],\"y\":[-150.63,-150.63],\"z\":[-1441.93,-2453.06],\"type\":\"scatter3d\",\"uid\":\"106b54b4-aaac-4b00-94df-da4b54ff9b44\"},{\"hoverinfo\":\"skip\",\"line\":{\"color\":\"lightgrey\",\"width\":1},\"mode\":\"lines\",\"showlegend\":false,\"x\":[124.97,124.97],\"y\":[-131.25,-131.25],\"z\":[-1441.93,-2453.06],\"type\":\"scatter3d\",\"uid\":\"7ab363a3-1262-4a90-a358-69c131a7827c\"},{\"hoverinfo\":\"skip\",\"line\":{\"color\":\"lightgrey\",\"width\":1},\"mode\":\"lines\",\"showlegend\":false,\"x\":[248.15,248.15],\"y\":[-111.87,-111.87],\"z\":[-1441.93,-2453.06],\"type\":\"scatter3d\",\"uid\":\"46c5d511-96fe-4c32-b4d3-b6ea5794d85d\"},{\"hoverinfo\":\"skip\",\"line\":{\"color\":\"lightgrey\",\"width\":1},\"mode\":\"lines\",\"showlegend\":false,\"x\":[371.56,371.56],\"y\":[-92.18,-92.18],\"z\":[-1441.93,-2453.06],\"type\":\"scatter3d\",\"uid\":\"b728791d-6cf7-49a6-af7d-f982fab636ec\"},{\"hoverinfo\":\"skip\",\"line\":{\"color\":\"lightgrey\",\"width\":1},\"mode\":\"lines\",\"showlegend\":false,\"x\":[500.43,500.43],\"y\":[-58.45,-58.45],\"z\":[-1441.93,-2453.06],\"type\":\"scatter3d\",\"uid\":\"b5088327-b23e-452c-b91b-149d009febd8\"},{\"hoverinfo\":\"skip\",\"line\":{\"color\":\"lightgrey\",\"width\":1},\"mode\":\"lines\",\"showlegend\":false,\"x\":[-570.9,-570.9],\"y\":[-125.14,-125.14],\"z\":[-1441.93,-2453.06],\"type\":\"scatter3d\",\"uid\":\"daa78b94-67d4-430a-8b09-9f1ad6d02a67\"},{\"hoverinfo\":\"skip\",\"line\":{\"color\":\"lightgrey\",\"width\":1},\"mode\":\"lines\",\"showlegend\":false,\"x\":[-447.74,-447.74],\"y\":[-113.13,-113.13],\"z\":[-1441.93,-2453.06],\"type\":\"scatter3d\",\"uid\":\"41496b7b-78c8-4f5f-b60c-d282449aff6e\"},{\"hoverinfo\":\"skip\",\"line\":{\"color\":\"lightgrey\",\"width\":1},\"mode\":\"lines\",\"showlegend\":false,\"x\":[-324.39,-324.39],\"y\":[-93.43,-93.43],\"z\":[-1441.93,-2453.06],\"type\":\"scatter3d\",\"uid\":\"b328e2e0-f6cb-4944-a7c6-4cf2aa7e5560\"},{\"hoverinfo\":\"skip\",\"line\":{\"color\":\"lightgrey\",\"width\":1},\"mode\":\"lines\",\"showlegend\":false,\"x\":[-200.55,-200.55],\"y\":[-74.03,-74.03],\"z\":[-1441.93,-2453.06],\"type\":\"scatter3d\",\"uid\":\"075cb751-27c0-4232-b57d-6f9c4ad85768\"},{\"hoverinfo\":\"skip\",\"line\":{\"color\":\"lightgrey\",\"width\":1},\"mode\":\"lines\",\"showlegend\":false,\"x\":[-77.8,-77.8],\"y\":[-54.33,-54.33],\"z\":[-1441.93,-2453.06],\"type\":\"scatter3d\",\"uid\":\"f5e79e3f-8c23-4089-a2ff-394237fc2777\"},{\"hoverinfo\":\"skip\",\"line\":{\"color\":\"lightgrey\",\"width\":1},\"mode\":\"lines\",\"showlegend\":false,\"x\":[46.29,46.29],\"y\":[-34.88,-34.88],\"z\":[-1441.93,-2453.06],\"type\":\"scatter3d\",\"uid\":\"0b67efdd-8877-435e-b122-c8cc71e3931a\"},{\"hoverinfo\":\"skip\",\"line\":{\"color\":\"lightgrey\",\"width\":1},\"mode\":\"lines\",\"showlegend\":false,\"x\":[194.34,194.34],\"y\":[-30.92,-30.92],\"z\":[-1441.93,-2453.06],\"type\":\"scatter3d\",\"uid\":\"19627b83-8c02-4454-abcd-8b4008674e86\"},{\"hoverinfo\":\"skip\",\"line\":{\"color\":\"lightgrey\",\"width\":1},\"mode\":\"lines\",\"showlegend\":false,\"x\":[292.9,292.9],\"y\":[5.2,5.2],\"z\":[-1441.93,-2453.06],\"type\":\"scatter3d\",\"uid\":\"3000a119-85ba-48fa-922a-9ed2f3e3fa8e\"},{\"hoverinfo\":\"skip\",\"line\":{\"color\":\"lightgrey\",\"width\":1},\"mode\":\"lines\",\"showlegend\":false,\"x\":[411.81,411.81],\"y\":[13.0,13.0],\"z\":[-1441.93,-2453.06],\"type\":\"scatter3d\",\"uid\":\"69a115b2-f878-4800-8d95-6943b1749726\"},{\"hoverinfo\":\"skip\",\"line\":{\"color\":\"lightgrey\",\"width\":1},\"mode\":\"lines\",\"showlegend\":false,\"x\":[544.07,544.07],\"y\":[55.89,55.89],\"z\":[-1441.93,-2453.06],\"type\":\"scatter3d\",\"uid\":\"a4fb48b2-d77a-414c-a9b5-70d08d1b5a5f\"},{\"hoverinfo\":\"skip\",\"line\":{\"color\":\"lightgrey\",\"width\":1},\"mode\":\"lines\",\"showlegend\":false,\"x\":[-526.63,-526.63],\"y\":[-15.6,-15.6],\"z\":[-1441.93,-2453.06],\"type\":\"scatter3d\",\"uid\":\"18dc215b-38b4-4bf1-8448-210abf7012f8\"},{\"hoverinfo\":\"skip\",\"line\":{\"color\":\"lightgrey\",\"width\":1},\"mode\":\"lines\",\"showlegend\":false,\"x\":[-403.14,-403.14],\"y\":[3.49,3.49],\"z\":[-1441.93,-2453.06],\"type\":\"scatter3d\",\"uid\":\"a54d519e-42bd-4e44-9e54-d5fa0553cb12\"},{\"hoverinfo\":\"skip\",\"line\":{\"color\":\"lightgrey\",\"width\":1},\"mode\":\"lines\",\"showlegend\":false,\"x\":[-279.53,-279.53],\"y\":[23.17,23.17],\"z\":[-1441.93,-2453.06],\"type\":\"scatter3d\",\"uid\":\"e7c78dc5-f414-41ea-b8d1-2ac594c90cb0\"},{\"hoverinfo\":\"skip\",\"line\":{\"color\":\"lightgrey\",\"width\":1},\"mode\":\"lines\",\"showlegend\":false,\"x\":[-156.23,-156.23],\"y\":[43.37,43.37],\"z\":[-1441.93,-2453.06],\"type\":\"scatter3d\",\"uid\":\"577ad61a-0d3a-48fc-baeb-d4b2dc99c78e\"},{\"hoverinfo\":\"skip\",\"line\":{\"color\":\"lightgrey\",\"width\":1},\"mode\":\"lines\",\"showlegend\":false,\"x\":[-32.96,-32.96],\"y\":[62.44,62.44],\"z\":[-1441.93,-2453.06],\"type\":\"scatter3d\",\"uid\":\"80868ff2-bddf-4404-a98b-9bcbc41fdec4\"},{\"hoverinfo\":\"skip\",\"line\":{\"color\":\"lightgrey\",\"width\":1},\"mode\":\"lines\",\"showlegend\":false,\"x\":[90.49,90.49],\"y\":[82.35,82.35],\"z\":[-1441.93,-2453.06],\"type\":\"scatter3d\",\"uid\":\"4fc9cdf9-4784-45af-941d-c868ac2271c4\"},{\"hoverinfo\":\"skip\",\"line\":{\"color\":\"lightgrey\",\"width\":1},\"mode\":\"lines\",\"showlegend\":false,\"x\":[195.03,195.03],\"y\":[125.59,125.59],\"z\":[-1441.93,-2453.06],\"type\":\"scatter3d\",\"uid\":\"36c688be-e363-4abc-9c1d-96ad1332134d\"},{\"hoverinfo\":\"skip\",\"line\":{\"color\":\"lightgrey\",\"width\":1},\"mode\":\"lines\",\"showlegend\":false,\"x\":[330.03,330.03],\"y\":[127.2,127.2],\"z\":[-1441.93,-2453.06],\"type\":\"scatter3d\",\"uid\":\"f598e8df-5b8b-4ba9-99e2-9f120d6ec058\"},{\"hoverinfo\":\"skip\",\"line\":{\"color\":\"lightgrey\",\"width\":1},\"mode\":\"lines\",\"showlegend\":false,\"x\":[472.05,472.05],\"y\":[127.9,127.9],\"z\":[-1441.93,-2453.06],\"type\":\"scatter3d\",\"uid\":\"7dddb997-9e30-4547-9058-cc5f17a9876c\"},{\"hoverinfo\":\"skip\",\"line\":{\"color\":\"lightgrey\",\"width\":1},\"mode\":\"lines\",\"showlegend\":false,\"x\":[576.37,576.37],\"y\":[170.92,170.92],\"z\":[-1441.93,-2453.06],\"type\":\"scatter3d\",\"uid\":\"aaf9c441-1dfb-41f5-bf05-fe3b9fd1df3e\"},{\"hoverinfo\":\"skip\",\"line\":{\"color\":\"lightgrey\",\"width\":1},\"mode\":\"lines\",\"showlegend\":false,\"x\":[-481.6,-481.6],\"y\":[101.39,101.39],\"z\":[-1441.93,-2453.06],\"type\":\"scatter3d\",\"uid\":\"57a4278a-4685-4de4-9a30-4b148379afae\"},{\"hoverinfo\":\"skip\",\"line\":{\"color\":\"lightgrey\",\"width\":1},\"mode\":\"lines\",\"showlegend\":false,\"x\":[-358.44,-358.44],\"y\":[120.56,120.56],\"z\":[-1441.93,-2453.06],\"type\":\"scatter3d\",\"uid\":\"1983da20-c4fc-4828-b993-8f9b4350d5fc\"},{\"hoverinfo\":\"skip\",\"line\":{\"color\":\"lightgrey\",\"width\":1},\"mode\":\"lines\",\"showlegend\":false,\"x\":[-234.95,-234.95],\"y\":[140.44,140.44],\"z\":[-1441.93,-2453.06],\"type\":\"scatter3d\",\"uid\":\"891b7f63-9d02-4c8d-9fa4-94a3765a4d19\"},{\"hoverinfo\":\"skip\",\"line\":{\"color\":\"lightgrey\",\"width\":1},\"mode\":\"lines\",\"showlegend\":false,\"x\":[-111.51,-111.51],\"y\":[159.98,159.98],\"z\":[-1441.93,-2453.06],\"type\":\"scatter3d\",\"uid\":\"12c9b017-a55e-438e-a9db-ffb78417c6b0\"},{\"hoverinfo\":\"skip\",\"line\":{\"color\":\"lightgrey\",\"width\":1},\"mode\":\"lines\",\"showlegend\":false,\"x\":[11.87,11.87],\"y\":[179.19,179.19],\"z\":[-1441.93,-2453.06],\"type\":\"scatter3d\",\"uid\":\"7c80ef87-df7d-43d8-9a54-91c065c8fbc8\"},{\"hoverinfo\":\"skip\",\"line\":{\"color\":\"lightgrey\",\"width\":1},\"mode\":\"lines\",\"showlegend\":false,\"x\":[132.03,132.03],\"y\":[202.98,202.98],\"z\":[-1441.93,-2453.06],\"type\":\"scatter3d\",\"uid\":\"4b35d5d8-393a-440f-b203-3e454f7b7877\"},{\"hoverinfo\":\"skip\",\"line\":{\"color\":\"lightgrey\",\"width\":1},\"mode\":\"lines\",\"showlegend\":false,\"x\":[257.31,257.31],\"y\":[211.66,211.66],\"z\":[-1441.93,-2453.06],\"type\":\"scatter3d\",\"uid\":\"e6e48682-bd06-4e03-a83b-481071c9033c\"},{\"hoverinfo\":\"skip\",\"line\":{\"color\":\"lightgrey\",\"width\":1},\"mode\":\"lines\",\"showlegend\":false,\"x\":[382.35,382.35],\"y\":[238.9,238.9],\"z\":[-1441.93,-2453.06],\"type\":\"scatter3d\",\"uid\":\"07a21517-5fa5-4a26-8fd1-201c0a6bcf44\"},{\"hoverinfo\":\"skip\",\"line\":{\"color\":\"lightgrey\",\"width\":1},\"mode\":\"lines\",\"showlegend\":false,\"x\":[505.27,505.27],\"y\":[257.88,257.88],\"z\":[-1441.93,-2453.06],\"type\":\"scatter3d\",\"uid\":\"c97886e6-b708-4952-8d30-50535031b392\"},{\"hoverinfo\":\"skip\",\"line\":{\"color\":\"lightgrey\",\"width\":1},\"mode\":\"lines\",\"showlegend\":false,\"x\":[-437.04,-437.04],\"y\":[217.8,217.8],\"z\":[-1441.93,-2453.06],\"type\":\"scatter3d\",\"uid\":\"4ab09d04-9e25-4dab-891c-4c82e2f9e7fd\"},{\"hoverinfo\":\"skip\",\"line\":{\"color\":\"lightgrey\",\"width\":1},\"mode\":\"lines\",\"showlegend\":false,\"x\":[-313.6,-313.6],\"y\":[237.44,237.44],\"z\":[-1441.93,-2453.06],\"type\":\"scatter3d\",\"uid\":\"e0193be8-a80e-4a49-8217-55c459198c49\"},{\"hoverinfo\":\"skip\",\"line\":{\"color\":\"lightgrey\",\"width\":1},\"mode\":\"lines\",\"showlegend\":false,\"x\":[-189.98,-189.98],\"y\":[257.42,257.42],\"z\":[-1441.93,-2453.06],\"type\":\"scatter3d\",\"uid\":\"a71c04cb-2957-46fb-965b-635bca00adea\"},{\"hoverinfo\":\"skip\",\"line\":{\"color\":\"lightgrey\",\"width\":1},\"mode\":\"lines\",\"showlegend\":false,\"x\":[-66.7,-66.7],\"y\":[276.92,276.92],\"z\":[-1441.93,-2453.06],\"type\":\"scatter3d\",\"uid\":\"1398fe90-e41a-45dd-94e4-527d9577e759\"},{\"hoverinfo\":\"skip\",\"line\":{\"color\":\"lightgrey\",\"width\":1},\"mode\":\"lines\",\"showlegend\":false,\"x\":[54.26,54.26],\"y\":[292.97,292.97],\"z\":[-1441.93,-2453.06],\"type\":\"scatter3d\",\"uid\":\"b18842d7-366c-4ef2-a530-1ed1b4baac40\"},{\"hoverinfo\":\"skip\",\"line\":{\"color\":\"lightgrey\",\"width\":1},\"mode\":\"lines\",\"showlegend\":false,\"x\":[174.47,174.47],\"y\":[315.54,315.54],\"z\":[-1441.93,-2453.06],\"type\":\"scatter3d\",\"uid\":\"0acdaa86-dc3e-459a-ad0a-bdab06fb3cfc\"},{\"hoverinfo\":\"skip\",\"line\":{\"color\":\"lightgrey\",\"width\":1},\"mode\":\"lines\",\"showlegend\":false,\"x\":[303.41,303.41],\"y\":[335.64,335.64],\"z\":[-1441.93,-2453.06],\"type\":\"scatter3d\",\"uid\":\"45a91a59-a8ba-430e-8340-724aa30d25c7\"},{\"hoverinfo\":\"skip\",\"line\":{\"color\":\"lightgrey\",\"width\":1},\"mode\":\"lines\",\"showlegend\":false,\"x\":[429.76,429.76],\"y\":[351.02,351.02],\"z\":[-1441.93,-2453.06],\"type\":\"scatter3d\",\"uid\":\"bb02505a-9ea1-49d4-848e-a2f2ff6423de\"},{\"hoverinfo\":\"skip\",\"line\":{\"color\":\"lightgrey\",\"width\":1},\"mode\":\"lines\",\"showlegend\":false,\"x\":[-392.38,-392.38],\"y\":[334.24,334.24],\"z\":[-1441.93,-2453.06],\"type\":\"scatter3d\",\"uid\":\"3102c9f0-a513-4c33-ae2f-29f0d5f375b0\"},{\"hoverinfo\":\"skip\",\"line\":{\"color\":\"lightgrey\",\"width\":1},\"mode\":\"lines\",\"showlegend\":false,\"x\":[-268.9,-268.9],\"y\":[354.24,354.24],\"z\":[-1441.93,-2453.06],\"type\":\"scatter3d\",\"uid\":\"161bce29-80d7-4cf7-8d84-0712e0a32a0b\"},{\"hoverinfo\":\"skip\",\"line\":{\"color\":\"lightgrey\",\"width\":1},\"mode\":\"lines\",\"showlegend\":false,\"x\":[-145.45,-145.45],\"y\":[374.24,374.24],\"z\":[-1441.93,-2453.06],\"type\":\"scatter3d\",\"uid\":\"e68fecbd-fb67-4910-8f2d-45d06d88050f\"},{\"hoverinfo\":\"skip\",\"line\":{\"color\":\"lightgrey\",\"width\":1},\"mode\":\"lines\",\"showlegend\":false,\"x\":[-21.97,-21.97],\"y\":[393.24,393.24],\"z\":[-1441.93,-2453.06],\"type\":\"scatter3d\",\"uid\":\"9bb067e9-9bf0-4840-b210-dc3fc2f53288\"},{\"hoverinfo\":\"skip\",\"line\":{\"color\":\"lightgrey\",\"width\":1},\"mode\":\"lines\",\"showlegend\":false,\"x\":[101.04,101.04],\"y\":[412.79,412.79],\"z\":[-1441.93,-2453.06],\"type\":\"scatter3d\",\"uid\":\"086fd4cc-0093-4266-a574-86a696065fba\"},{\"hoverinfo\":\"skip\",\"line\":{\"color\":\"lightgrey\",\"width\":1},\"mode\":\"lines\",\"showlegend\":false,\"x\":[224.58,224.58],\"y\":[432.35,432.35],\"z\":[-1441.93,-2453.06],\"type\":\"scatter3d\",\"uid\":\"b967b126-55cc-4c7d-b9a2-8a504f58bc7e\"},{\"hoverinfo\":\"skip\",\"line\":{\"color\":\"lightgrey\",\"width\":1},\"mode\":\"lines\",\"showlegend\":false,\"x\":[338.44,338.44],\"y\":[463.72,463.72],\"z\":[-1441.93,-2453.06],\"type\":\"scatter3d\",\"uid\":\"c01619ed-0f24-4e36-8463-87974e07ec80\"},{\"hoverinfo\":\"skip\",\"line\":{\"color\":\"lightgrey\",\"width\":1},\"mode\":\"lines\",\"showlegend\":false,\"x\":[-347.88,-347.88],\"y\":[451.52,451.52],\"z\":[-1441.93,-2453.06],\"type\":\"scatter3d\",\"uid\":\"953816ba-bf89-4119-b1be-c02faad205eb\"},{\"hoverinfo\":\"skip\",\"line\":{\"color\":\"lightgrey\",\"width\":1},\"mode\":\"lines\",\"showlegend\":false,\"x\":[-224.09,-224.09],\"y\":[470.86,470.86],\"z\":[-1441.93,-2453.06],\"type\":\"scatter3d\",\"uid\":\"7ade378b-b1e8-4f73-9ae3-fd5b1e5791b8\"},{\"hoverinfo\":\"skip\",\"line\":{\"color\":\"lightgrey\",\"width\":1},\"mode\":\"lines\",\"showlegend\":false,\"x\":[-101.06,-101.06],\"y\":[490.22,490.22],\"z\":[-1441.93,-2453.06],\"type\":\"scatter3d\",\"uid\":\"9add6997-b73e-44e0-9e1a-60cf61460298\"},{\"hoverinfo\":\"skip\",\"line\":{\"color\":\"lightgrey\",\"width\":1},\"mode\":\"lines\",\"showlegend\":false,\"x\":[22.11,22.11],\"y\":[509.5,509.5],\"z\":[-1441.93,-2453.06],\"type\":\"scatter3d\",\"uid\":\"73d5f837-576c-4b10-8019-282871fcc868\"},{\"hoverinfo\":\"skip\",\"line\":{\"color\":\"lightgrey\",\"width\":1},\"mode\":\"lines\",\"showlegend\":false,\"x\":[31.25,31.25],\"y\":[-72.93,-72.93],\"z\":[-1441.93,-2453.06],\"type\":\"scatter3d\",\"uid\":\"79f99bef-5ae8-4709-a5c1-60d405fda7ce\"},{\"hoverinfo\":\"skip\",\"line\":{\"color\":\"lightgrey\",\"width\":1},\"mode\":\"lines\",\"showlegend\":false,\"x\":[72.37,72.37],\"y\":[-66.6,-66.6],\"z\":[-1441.93,-2453.06],\"type\":\"scatter3d\",\"uid\":\"0b4dbf49-4d81-42e3-9148-bbc6c4fef669\"},{\"hoverinfo\":\"skip\",\"line\":{\"color\":\"lightgrey\",\"width\":1},\"mode\":\"lines\",\"showlegend\":false,\"x\":[41.6,41.6],\"y\":[35.49,35.49],\"z\":[-1441.93,-2453.06],\"type\":\"scatter3d\",\"uid\":\"5a51d4fe-1217-4205-af0e-aa3f98d2290b\"},{\"hoverinfo\":\"skip\",\"line\":{\"color\":\"lightgrey\",\"width\":1},\"mode\":\"lines\",\"showlegend\":false,\"x\":[106.94,106.94],\"y\":[27.09,27.09],\"z\":[-1441.93,-2453.06],\"type\":\"scatter3d\",\"uid\":\"53860e80-7995-4e34-9219-e31474e779e9\"},{\"hoverinfo\":\"skip\",\"line\":{\"color\":\"lightgrey\",\"width\":1},\"mode\":\"lines\",\"showlegend\":false,\"x\":[113.19,113.19],\"y\":[-60.47,-60.47],\"z\":[-1441.93,-2453.06],\"type\":\"scatter3d\",\"uid\":\"8b871c19-1bb3-4340-9a30-bc928f2cc7e0\"},{\"hoverinfo\":\"skip\",\"line\":{\"color\":\"lightgrey\",\"width\":1},\"mode\":\"lines\",\"showlegend\":false,\"x\":[57.2,57.2],\"y\":[-105.52,-105.52],\"z\":[-1441.93,-2453.06],\"type\":\"scatter3d\",\"uid\":\"81b1a4df-36c4-432f-8f57-91e2a62386a6\"},{\"hoverinfo\":\"skip\",\"line\":{\"color\":\"lightgrey\",\"width\":1},\"mode\":\"lines\",\"showlegend\":false,\"x\":[-9.68,-9.68],\"y\":[-79.5,-79.5],\"z\":[-1441.93,-2453.06],\"type\":\"scatter3d\",\"uid\":\"2dab3c1d-dc00-48de-b85f-1387dfb88feb\"},{\"hoverinfo\":\"skip\",\"line\":{\"color\":\"lightgrey\",\"width\":1},\"mode\":\"lines\",\"showlegend\":false,\"x\":[-10.97,-10.97],\"y\":[6.72,6.72],\"z\":[-1441.93,-2453.06],\"type\":\"scatter3d\",\"uid\":\"3ed4cb1c-a26f-45ca-8f86-ef831ecb335e\"},{\"hoverinfo\":\"skip\",\"line\":{\"color\":\"grey\",\"width\":1},\"mode\":\"lines\",\"showlegend\":false,\"x\":[-347.88,-570.9,-256.14,361.0,576.37,338.44,101.04,22.11,-347.88],\"y\":[451.52,-125.14,-521.08,-422.83,170.92,463.72,412.79,509.5,451.52],\"z\":[-2453.06,-2453.06,-2453.06,-2453.06,-2453.06,-2453.06,-2453.06,-2453.06,-2453.06,-2453.06,-2453.06,-2453.06,-2453.06,-2453.06,-2453.06,-2453.06,-2453.06,-2453.06,-2453.06,-2453.06,-2453.06,-2453.06,-2453.06,-2453.06,-2453.06,-2453.06,-2453.06,-2453.06,-2453.06,-2453.06,-2453.06,-2453.06,-2453.06,-2453.06,-2453.06,-2453.06,-2453.06,-2453.06,-2453.06,-2453.06,-2453.06,-2453.06,-2453.06,-2453.06,-2453.06,-2453.06,-2453.06,-2453.06,-2453.06,-2453.06,-2453.06,-2453.06,-2453.06,-2453.06,-2453.06,-2453.06,-2453.06,-2453.06,-2453.06,-2453.06,-2453.06,-2453.06,-2453.06,-2453.06,-2453.06,-2453.06,-2453.06,-2453.06,-2453.06,-2453.06,-2453.06,-2453.06,-2453.06,-2453.06,-2453.06,-2453.06,-2453.06,-2453.06,-2453.06,-2453.06,-2453.06,-2453.06,-2453.06,-2453.06,-2453.06,-2453.06],\"type\":\"scatter3d\",\"uid\":\"d533f6af-6dfa-418f-bd0b-b27908228766\"},{\"hoverinfo\":\"skip\",\"line\":{\"color\":\"grey\",\"width\":1},\"mode\":\"lines\",\"showlegend\":false,\"x\":[-347.88,-570.9,-256.14,361.0,576.37,338.44,101.04,22.11,-347.88],\"y\":[451.52,-125.14,-521.08,-422.83,170.92,463.72,412.79,509.5,451.52],\"z\":[-1441.93,-1441.93,-1441.93,-1441.93,-1441.93,-1441.93,-1441.93,-1441.93,-1441.93,-1441.93,-1441.93,-1441.93,-1441.93,-1441.93,-1441.93,-1441.93,-1441.93,-1441.93,-1441.93,-1441.93,-1441.93,-1441.93,-1441.93,-1441.93,-1441.93,-1441.93,-1441.93,-1441.93,-1441.93,-1441.93,-1441.93,-1441.93,-1441.93,-1441.93,-1441.93,-1441.93,-1441.93,-1441.93,-1441.93,-1441.93,-1441.93,-1441.93,-1441.93,-1441.93,-1441.93,-1441.93,-1441.93,-1441.93,-1441.93,-1441.93,-1441.93,-1441.93,-1441.93,-1441.93,-1441.93,-1441.93,-1441.93,-1441.93,-1441.93,-1441.93,-1441.93,-1441.93,-1441.93,-1441.93,-1441.93,-1441.93,-1441.93,-1441.93,-1441.93,-1441.93,-1441.93,-1441.93,-1441.93,-1441.93,-1441.93,-1441.93,-1441.93,-1441.93,-1441.93,-1441.93,-1441.93,-1441.93,-1441.93,-1441.93,-1441.93,-1441.93],\"type\":\"scatter3d\",\"uid\":\"d633edd7-6ef6-4e16-bb16-8d56754f3e07\"},{\"customdata\":[4539.899902,3563.517578,4036.598877,3446.496826,3012.672852,2932.354492,3253.431396,3554.935791,2757.04834,2555.645752,2466.915771,2396.556885,2980.839844,6278.332031,2322.358887,2430.620361,2428.827637,2522.25415,2348.917969,2560.024658,1960.547729,2309.817383,1797.987061,1769.792603,1917.097046,1880.280884,1580.367798,1516.188843,1666.831299,1277.713501,1240.003296,1286.357788,1033.954712,812.980164,1259.831543,587.821106,808.811829,424.043365,635.756653,546.29187,651.227417,1088.476929],\"hoverinfo\":[\"x\",\"y\",\"z\",\"text\"],\"hovertemplate\":\"x: %{x} m, y: %{y} m, z: %{z} m, t: %{customdata} ns\",\"hovertext\":[\"-2160.28 ns\",\"-1992.60 ns\",\"-1973.11 ns\",\"-2003.35 ns\",\"-1969.31 ns\",\"-1952.29 ns\",\"-1867.18 ns\",\"-1850.16 ns\",\"-1973.01 ns\",\"-1938.97 ns\",\"-1921.95 ns\",\"-1904.93 ns\",\"-1853.86 ns\",\"-1928.84 ns\",\"-1799.83 ns\",\"-1923.68 ns\",\"-1906.66 ns\",\"-1872.61 ns\",\"-1812.11 ns\",\"-1830.56 ns\",\"-1820.55 ns\",\"-1810.54 ns\",\"-1841.84 ns\",\"-1831.83 ns\",\"-1791.78 ns\",\"-1852.47 ns\",\"-1818.43 ns\",\"-1784.39 ns\",\"-1780.06 ns\",\"-1763.04 ns\",\"-1729.00 ns\",\"-1694.96 ns\",\"-1718.67 ns\",\"-1701.65 ns\",\"-1684.63 ns\",\"-1718.55 ns\",\"-1701.53 ns\",\"-1684.51 ns\",\"-1667.49 ns\",\"-1650.46 ns\",\"-1633.44 ns\",\"-1700.60 ns\"],\"marker\":{\"color\":[4539.899902,3563.517578,4036.598877,3446.496826,3012.672852,2932.354492,3253.431396,3554.935791,2757.04834,2555.645752,2466.915771,2396.556885,2980.839844,6278.332031,2322.358887,2430.620361,2428.827637,2522.25415,2348.917969,2560.024658,1960.547729,2309.817383,1797.987061,1769.792603,1917.097046,1880.280884,1580.367798,1516.188843,1666.831299,1277.713501,1240.003296,1286.357788,1033.954712,812.980164,1259.831543,587.821106,808.811829,424.043365,635.756653,546.29187,651.227417,1088.476929],\"colorscale\":[[0.0,\"rgb(255,0,0)\"],[0.125,\"rgb(255,111,0)\"],[0.25,\"rgb(255,234,0)\"],[0.375,\"rgb(151,255,0)\"],[0.5,\"rgb(44,255,150)\"],[0.625,\"rgb(0,152,255)\"],[0.75,\"rgb(0,25,255)\"],[0.875,\"rgb(0,0,200)\"],[1.0,\"rgb(150,0,90)\"]],\"size\":4},\"mode\":\"markers\",\"name\":\"current_evt\",\"showlegend\":false,\"x\":[-526.63,-324.39,-279.53,-200.55,-200.55,-200.55,-200.55,-200.55,-77.8,-77.8,-77.8,-77.8,-77.8,-32.96,31.25,46.29,46.29,46.29,57.2,72.37,72.37,72.37,113.19,113.19,113.19,194.34,194.34,194.34,292.9,292.9,292.9,292.9,411.81,411.81,411.81,500.43,500.43,500.43,500.43,500.43,500.43,544.07],\"y\":[-15.6,-93.43,23.17,-74.03,-74.03,-74.03,-74.03,-74.03,-54.33,-54.33,-54.33,-54.33,-54.33,62.44,-72.93,-34.88,-34.88,-34.88,-105.52,-66.6,-66.6,-66.6,-60.47,-60.47,-60.47,-30.92,-30.92,-30.92,5.2,5.2,5.2,5.2,13.0,13.0,13.0,-58.45,-58.45,-58.45,-58.45,-58.45,-58.45,55.89],\"z\":[-2160.28,-1992.6,-1973.11,-2003.35,-1969.31,-1952.29,-1867.18,-1850.16,-1973.01,-1938.97,-1921.95,-1904.93,-1853.86,-1928.84,-1799.83,-1923.68,-1906.66,-1872.61,-1812.11,-1830.56,-1820.55,-1810.54,-1841.84,-1831.83,-1791.78,-1852.47,-1818.43,-1784.39,-1780.06,-1763.04,-1729.0,-1694.96,-1718.67,-1701.65,-1684.63,-1718.55,-1701.53,-1684.51,-1667.49,-1650.46,-1633.44,-1700.6],\"type\":\"scatter3d\",\"uid\":\"20bf6d36-77a9-4668-82e1-5b1543bb1fd9\"},{\"line\":{\"color\":\"black\",\"width\":6},\"mode\":\"lines\",\"name\":\"arrow_line\",\"showlegend\":false,\"x\":[-391.5452038107184,476.66937963489426],\"y\":[-48.04703296703296,-48.04703296703296],\"z\":[-1612.5927963942536,-2108.7817091002526],\"type\":\"scatter3d\",\"uid\":\"78ae83b3-4149-4efe-b8ae-fc2a9073d8e9\"},{\"anchor\":\"center\",\"colorscale\":[[0,\"black\"],[1,\"black\"]],\"name\":\"arrow_head\",\"showscale\":false,\"sizemode\":\"absolute\",\"sizeref\":100,\"u\":[17.36429166891225],\"v\":[0.0],\"w\":[-9.923778254119977],\"x\":[476.66937963489426],\"y\":[-48.04703296703296],\"z\":[-2108.7817091002526],\"type\":\"cone\",\"uid\":\"adcfd326-76a9-453a-afb5-4ba9026802cd\"}],                        {\"margin\":{\"b\":40,\"l\":20,\"r\":20,\"t\":40},\"scene\":{\"camera\":{\"center\":{\"x\":0,\"y\":0,\"z\":0},\"eye\":{\"x\":0.9848077530122082,\"y\":1.7057370639048863,\"z\":0.34729635533386066},\"up\":{\"x\":0,\"y\":0,\"z\":1}},\"xaxis\":{\"backgroundcolor\":\"whitesmoke\",\"showgrid\":false,\"showspikes\":false,\"showticklabels\":false,\"title\":{\"text\":\"\"}},\"yaxis\":{\"backgroundcolor\":\"whitesmoke\",\"showgrid\":false,\"showspikes\":false,\"showticklabels\":false,\"title\":{\"text\":\"\"}},\"zaxis\":{\"backgroundcolor\":\"whitesmoke\",\"showgrid\":false,\"showspikes\":false,\"showticklabels\":false,\"title\":{\"text\":\"\"}}},\"template\":{\"data\":{\"barpolar\":[{\"marker\":{\"line\":{\"color\":\"#E5ECF6\",\"width\":0.5},\"pattern\":{\"fillmode\":\"overlay\",\"size\":10,\"solidity\":0.2}},\"type\":\"barpolar\"}],\"bar\":[{\"error_x\":{\"color\":\"#2a3f5f\"},\"error_y\":{\"color\":\"#2a3f5f\"},\"marker\":{\"line\":{\"color\":\"#E5ECF6\",\"width\":0.5},\"pattern\":{\"fillmode\":\"overlay\",\"size\":10,\"solidity\":0.2}},\"type\":\"bar\"}],\"carpet\":[{\"aaxis\":{\"endlinecolor\":\"#2a3f5f\",\"gridcolor\":\"white\",\"linecolor\":\"white\",\"minorgridcolor\":\"white\",\"startlinecolor\":\"#2a3f5f\"},\"baxis\":{\"endlinecolor\":\"#2a3f5f\",\"gridcolor\":\"white\",\"linecolor\":\"white\",\"minorgridcolor\":\"white\",\"startlinecolor\":\"#2a3f5f\"},\"type\":\"carpet\"}],\"choropleth\":[{\"colorbar\":{\"outlinewidth\":0,\"ticks\":\"\"},\"type\":\"choropleth\"}],\"contourcarpet\":[{\"colorbar\":{\"outlinewidth\":0,\"ticks\":\"\"},\"type\":\"contourcarpet\"}],\"contour\":[{\"colorbar\":{\"outlinewidth\":0,\"ticks\":\"\"},\"colorscale\":[[0.0,\"#0d0887\"],[0.1111111111111111,\"#46039f\"],[0.2222222222222222,\"#7201a8\"],[0.3333333333333333,\"#9c179e\"],[0.4444444444444444,\"#bd3786\"],[0.5555555555555556,\"#d8576b\"],[0.6666666666666666,\"#ed7953\"],[0.7777777777777778,\"#fb9f3a\"],[0.8888888888888888,\"#fdca26\"],[1.0,\"#f0f921\"]],\"type\":\"contour\"}],\"heatmapgl\":[{\"colorbar\":{\"outlinewidth\":0,\"ticks\":\"\"},\"colorscale\":[[0.0,\"#0d0887\"],[0.1111111111111111,\"#46039f\"],[0.2222222222222222,\"#7201a8\"],[0.3333333333333333,\"#9c179e\"],[0.4444444444444444,\"#bd3786\"],[0.5555555555555556,\"#d8576b\"],[0.6666666666666666,\"#ed7953\"],[0.7777777777777778,\"#fb9f3a\"],[0.8888888888888888,\"#fdca26\"],[1.0,\"#f0f921\"]],\"type\":\"heatmapgl\"}],\"heatmap\":[{\"colorbar\":{\"outlinewidth\":0,\"ticks\":\"\"},\"colorscale\":[[0.0,\"#0d0887\"],[0.1111111111111111,\"#46039f\"],[0.2222222222222222,\"#7201a8\"],[0.3333333333333333,\"#9c179e\"],[0.4444444444444444,\"#bd3786\"],[0.5555555555555556,\"#d8576b\"],[0.6666666666666666,\"#ed7953\"],[0.7777777777777778,\"#fb9f3a\"],[0.8888888888888888,\"#fdca26\"],[1.0,\"#f0f921\"]],\"type\":\"heatmap\"}],\"histogram2dcontour\":[{\"colorbar\":{\"outlinewidth\":0,\"ticks\":\"\"},\"colorscale\":[[0.0,\"#0d0887\"],[0.1111111111111111,\"#46039f\"],[0.2222222222222222,\"#7201a8\"],[0.3333333333333333,\"#9c179e\"],[0.4444444444444444,\"#bd3786\"],[0.5555555555555556,\"#d8576b\"],[0.6666666666666666,\"#ed7953\"],[0.7777777777777778,\"#fb9f3a\"],[0.8888888888888888,\"#fdca26\"],[1.0,\"#f0f921\"]],\"type\":\"histogram2dcontour\"}],\"histogram2d\":[{\"colorbar\":{\"outlinewidth\":0,\"ticks\":\"\"},\"colorscale\":[[0.0,\"#0d0887\"],[0.1111111111111111,\"#46039f\"],[0.2222222222222222,\"#7201a8\"],[0.3333333333333333,\"#9c179e\"],[0.4444444444444444,\"#bd3786\"],[0.5555555555555556,\"#d8576b\"],[0.6666666666666666,\"#ed7953\"],[0.7777777777777778,\"#fb9f3a\"],[0.8888888888888888,\"#fdca26\"],[1.0,\"#f0f921\"]],\"type\":\"histogram2d\"}],\"histogram\":[{\"marker\":{\"pattern\":{\"fillmode\":\"overlay\",\"size\":10,\"solidity\":0.2}},\"type\":\"histogram\"}],\"mesh3d\":[{\"colorbar\":{\"outlinewidth\":0,\"ticks\":\"\"},\"type\":\"mesh3d\"}],\"parcoords\":[{\"line\":{\"colorbar\":{\"outlinewidth\":0,\"ticks\":\"\"}},\"type\":\"parcoords\"}],\"pie\":[{\"automargin\":true,\"type\":\"pie\"}],\"scatter3d\":[{\"line\":{\"colorbar\":{\"outlinewidth\":0,\"ticks\":\"\"}},\"marker\":{\"colorbar\":{\"outlinewidth\":0,\"ticks\":\"\"}},\"type\":\"scatter3d\"}],\"scattercarpet\":[{\"marker\":{\"colorbar\":{\"outlinewidth\":0,\"ticks\":\"\"}},\"type\":\"scattercarpet\"}],\"scattergeo\":[{\"marker\":{\"colorbar\":{\"outlinewidth\":0,\"ticks\":\"\"}},\"type\":\"scattergeo\"}],\"scattergl\":[{\"marker\":{\"colorbar\":{\"outlinewidth\":0,\"ticks\":\"\"}},\"type\":\"scattergl\"}],\"scattermapbox\":[{\"marker\":{\"colorbar\":{\"outlinewidth\":0,\"ticks\":\"\"}},\"type\":\"scattermapbox\"}],\"scatterpolargl\":[{\"marker\":{\"colorbar\":{\"outlinewidth\":0,\"ticks\":\"\"}},\"type\":\"scatterpolargl\"}],\"scatterpolar\":[{\"marker\":{\"colorbar\":{\"outlinewidth\":0,\"ticks\":\"\"}},\"type\":\"scatterpolar\"}],\"scatter\":[{\"fillpattern\":{\"fillmode\":\"overlay\",\"size\":10,\"solidity\":0.2},\"type\":\"scatter\"}],\"scatterternary\":[{\"marker\":{\"colorbar\":{\"outlinewidth\":0,\"ticks\":\"\"}},\"type\":\"scatterternary\"}],\"surface\":[{\"colorbar\":{\"outlinewidth\":0,\"ticks\":\"\"},\"colorscale\":[[0.0,\"#0d0887\"],[0.1111111111111111,\"#46039f\"],[0.2222222222222222,\"#7201a8\"],[0.3333333333333333,\"#9c179e\"],[0.4444444444444444,\"#bd3786\"],[0.5555555555555556,\"#d8576b\"],[0.6666666666666666,\"#ed7953\"],[0.7777777777777778,\"#fb9f3a\"],[0.8888888888888888,\"#fdca26\"],[1.0,\"#f0f921\"]],\"type\":\"surface\"}],\"table\":[{\"cells\":{\"fill\":{\"color\":\"#EBF0F8\"},\"line\":{\"color\":\"white\"}},\"header\":{\"fill\":{\"color\":\"#C8D4E3\"},\"line\":{\"color\":\"white\"}},\"type\":\"table\"}]},\"layout\":{\"annotationdefaults\":{\"arrowcolor\":\"#2a3f5f\",\"arrowhead\":0,\"arrowwidth\":1},\"autotypenumbers\":\"strict\",\"coloraxis\":{\"colorbar\":{\"outlinewidth\":0,\"ticks\":\"\"}},\"colorscale\":{\"diverging\":[[0,\"#8e0152\"],[0.1,\"#c51b7d\"],[0.2,\"#de77ae\"],[0.3,\"#f1b6da\"],[0.4,\"#fde0ef\"],[0.5,\"#f7f7f7\"],[0.6,\"#e6f5d0\"],[0.7,\"#b8e186\"],[0.8,\"#7fbc41\"],[0.9,\"#4d9221\"],[1,\"#276419\"]],\"sequential\":[[0.0,\"#0d0887\"],[0.1111111111111111,\"#46039f\"],[0.2222222222222222,\"#7201a8\"],[0.3333333333333333,\"#9c179e\"],[0.4444444444444444,\"#bd3786\"],[0.5555555555555556,\"#d8576b\"],[0.6666666666666666,\"#ed7953\"],[0.7777777777777778,\"#fb9f3a\"],[0.8888888888888888,\"#fdca26\"],[1.0,\"#f0f921\"]],\"sequentialminus\":[[0.0,\"#0d0887\"],[0.1111111111111111,\"#46039f\"],[0.2222222222222222,\"#7201a8\"],[0.3333333333333333,\"#9c179e\"],[0.4444444444444444,\"#bd3786\"],[0.5555555555555556,\"#d8576b\"],[0.6666666666666666,\"#ed7953\"],[0.7777777777777778,\"#fb9f3a\"],[0.8888888888888888,\"#fdca26\"],[1.0,\"#f0f921\"]]},\"colorway\":[\"#636efa\",\"#EF553B\",\"#00cc96\",\"#ab63fa\",\"#FFA15A\",\"#19d3f3\",\"#FF6692\",\"#B6E880\",\"#FF97FF\",\"#FECB52\"],\"font\":{\"color\":\"#2a3f5f\"},\"geo\":{\"bgcolor\":\"white\",\"lakecolor\":\"white\",\"landcolor\":\"#E5ECF6\",\"showlakes\":true,\"showland\":true,\"subunitcolor\":\"white\"},\"hoverlabel\":{\"align\":\"left\"},\"hovermode\":\"closest\",\"mapbox\":{\"style\":\"light\"},\"paper_bgcolor\":\"white\",\"plot_bgcolor\":\"#E5ECF6\",\"polar\":{\"angularaxis\":{\"gridcolor\":\"white\",\"linecolor\":\"white\",\"ticks\":\"\"},\"bgcolor\":\"#E5ECF6\",\"radialaxis\":{\"gridcolor\":\"white\",\"linecolor\":\"white\",\"ticks\":\"\"}},\"scene\":{\"xaxis\":{\"backgroundcolor\":\"#E5ECF6\",\"gridcolor\":\"white\",\"gridwidth\":2,\"linecolor\":\"white\",\"showbackground\":true,\"ticks\":\"\",\"zerolinecolor\":\"white\"},\"yaxis\":{\"backgroundcolor\":\"#E5ECF6\",\"gridcolor\":\"white\",\"gridwidth\":2,\"linecolor\":\"white\",\"showbackground\":true,\"ticks\":\"\",\"zerolinecolor\":\"white\"},\"zaxis\":{\"backgroundcolor\":\"#E5ECF6\",\"gridcolor\":\"white\",\"gridwidth\":2,\"linecolor\":\"white\",\"showbackground\":true,\"ticks\":\"\",\"zerolinecolor\":\"white\"}},\"shapedefaults\":{\"line\":{\"color\":\"#2a3f5f\"}},\"ternary\":{\"aaxis\":{\"gridcolor\":\"white\",\"linecolor\":\"white\",\"ticks\":\"\"},\"baxis\":{\"gridcolor\":\"white\",\"linecolor\":\"white\",\"ticks\":\"\"},\"bgcolor\":\"#E5ECF6\",\"caxis\":{\"gridcolor\":\"white\",\"linecolor\":\"white\",\"ticks\":\"\"}},\"title\":{\"x\":0.05},\"xaxis\":{\"automargin\":true,\"gridcolor\":\"white\",\"linecolor\":\"white\",\"ticks\":\"\",\"title\":{\"standoff\":15},\"zerolinecolor\":\"white\",\"zerolinewidth\":2},\"yaxis\":{\"automargin\":true,\"gridcolor\":\"white\",\"linecolor\":\"white\",\"ticks\":\"\",\"title\":{\"standoff\":15},\"zerolinecolor\":\"white\",\"zerolinewidth\":2}}}},                        {\"responsive\": true}                    ).then(function(){\n                            \nvar gd = document.getElementById('468a6650-bc9b-4c39-b746-b545856c0b6f');\nvar x = new MutationObserver(function (mutations, observer) {{\n        var display = window.getComputedStyle(gd).display;\n        if (!display || display === 'none') {{\n            console.log([gd, 'removed!']);\n            Plotly.purge(gd);\n            observer.disconnect();\n        }}\n}});\n\n// Listen for the removal of the full notebook cells\nvar notebookContainer = gd.closest('#notebook-container');\nif (notebookContainer) {{\n    x.observe(notebookContainer, {childList: true});\n}}\n\n// Listen for the clearing of the current output cell\nvar outputEl = gd.closest('.output');\nif (outputEl) {{\n    x.observe(outputEl, {childList: true});\n}}\n\n                        })                };                            </script>        </div>\n</body>\n</html>"
                },
                "metadata": {}
              }
            ]
          }
        },
        "43773c257857482194274df0e3601701": {
          "model_module": "@jupyter-widgets/base",
          "model_name": "LayoutModel",
          "model_module_version": "1.2.0",
          "state": {
            "_model_module": "@jupyter-widgets/base",
            "_model_module_version": "1.2.0",
            "_model_name": "LayoutModel",
            "_view_count": null,
            "_view_module": "@jupyter-widgets/base",
            "_view_module_version": "1.2.0",
            "_view_name": "LayoutView",
            "align_content": null,
            "align_items": null,
            "align_self": null,
            "border": null,
            "bottom": null,
            "display": null,
            "flex": null,
            "flex_flow": null,
            "grid_area": null,
            "grid_auto_columns": null,
            "grid_auto_flow": null,
            "grid_auto_rows": null,
            "grid_column": null,
            "grid_gap": null,
            "grid_row": null,
            "grid_template_areas": null,
            "grid_template_columns": null,
            "grid_template_rows": null,
            "height": null,
            "justify_content": null,
            "justify_items": null,
            "left": null,
            "margin": null,
            "max_height": null,
            "max_width": null,
            "min_height": null,
            "min_width": null,
            "object_fit": null,
            "object_position": null,
            "order": null,
            "overflow": null,
            "overflow_x": null,
            "overflow_y": null,
            "padding": null,
            "right": null,
            "top": null,
            "visibility": null,
            "width": null
          }
        },
        "9070f21fb364444a8e2b629d3ad5e589": {
          "model_module": "@jupyter-widgets/base",
          "model_name": "LayoutModel",
          "model_module_version": "1.2.0",
          "state": {
            "_model_module": "@jupyter-widgets/base",
            "_model_module_version": "1.2.0",
            "_model_name": "LayoutModel",
            "_view_count": null,
            "_view_module": "@jupyter-widgets/base",
            "_view_module_version": "1.2.0",
            "_view_name": "LayoutView",
            "align_content": null,
            "align_items": null,
            "align_self": null,
            "border": null,
            "bottom": null,
            "display": null,
            "flex": null,
            "flex_flow": null,
            "grid_area": null,
            "grid_auto_columns": null,
            "grid_auto_flow": null,
            "grid_auto_rows": null,
            "grid_column": null,
            "grid_gap": null,
            "grid_row": null,
            "grid_template_areas": null,
            "grid_template_columns": null,
            "grid_template_rows": null,
            "height": null,
            "justify_content": null,
            "justify_items": null,
            "left": null,
            "margin": null,
            "max_height": null,
            "max_width": null,
            "min_height": null,
            "min_width": null,
            "object_fit": null,
            "object_position": null,
            "order": null,
            "overflow": null,
            "overflow_x": null,
            "overflow_y": null,
            "padding": null,
            "right": null,
            "top": null,
            "visibility": null,
            "width": null
          }
        },
        "15f1d914887245739b498f96a6edf179": {
          "model_module": "@jupyter-widgets/controls",
          "model_name": "ButtonModel",
          "model_module_version": "1.5.0",
          "state": {
            "_dom_classes": [],
            "_model_module": "@jupyter-widgets/controls",
            "_model_module_version": "1.5.0",
            "_model_name": "ButtonModel",
            "_view_count": null,
            "_view_module": "@jupyter-widgets/controls",
            "_view_module_version": "1.5.0",
            "_view_name": "ButtonView",
            "button_style": "",
            "description": "Submit",
            "disabled": false,
            "icon": "",
            "layout": "IPY_MODEL_4fccb6b45bce41988155724f40574ceb",
            "style": "IPY_MODEL_de3cfc1b65a54bc58b750f92d4b7e417",
            "tooltip": ""
          }
        },
        "4fccb6b45bce41988155724f40574ceb": {
          "model_module": "@jupyter-widgets/base",
          "model_name": "LayoutModel",
          "model_module_version": "1.2.0",
          "state": {
            "_model_module": "@jupyter-widgets/base",
            "_model_module_version": "1.2.0",
            "_model_name": "LayoutModel",
            "_view_count": null,
            "_view_module": "@jupyter-widgets/base",
            "_view_module_version": "1.2.0",
            "_view_name": "LayoutView",
            "align_content": null,
            "align_items": null,
            "align_self": null,
            "border": null,
            "bottom": null,
            "display": null,
            "flex": null,
            "flex_flow": null,
            "grid_area": null,
            "grid_auto_columns": null,
            "grid_auto_flow": null,
            "grid_auto_rows": null,
            "grid_column": null,
            "grid_gap": null,
            "grid_row": null,
            "grid_template_areas": null,
            "grid_template_columns": null,
            "grid_template_rows": null,
            "height": null,
            "justify_content": null,
            "justify_items": null,
            "left": null,
            "margin": null,
            "max_height": null,
            "max_width": null,
            "min_height": null,
            "min_width": null,
            "object_fit": null,
            "object_position": null,
            "order": null,
            "overflow": null,
            "overflow_x": null,
            "overflow_y": null,
            "padding": null,
            "right": null,
            "top": null,
            "visibility": null,
            "width": null
          }
        },
        "de3cfc1b65a54bc58b750f92d4b7e417": {
          "model_module": "@jupyter-widgets/controls",
          "model_name": "ButtonStyleModel",
          "model_module_version": "1.5.0",
          "state": {
            "_model_module": "@jupyter-widgets/controls",
            "_model_module_version": "1.5.0",
            "_model_name": "ButtonStyleModel",
            "_view_count": null,
            "_view_module": "@jupyter-widgets/base",
            "_view_module_version": "1.2.0",
            "_view_name": "StyleView",
            "button_color": null,
            "font_weight": ""
          }
        },
        "c16d10e28d08493cad6e07e9f69a2b80": {
          "model_module": "@jupyter-widgets/controls",
          "model_name": "ButtonModel",
          "model_module_version": "1.5.0",
          "state": {
            "_dom_classes": [],
            "_model_module": "@jupyter-widgets/controls",
            "_model_module_version": "1.5.0",
            "_model_name": "ButtonModel",
            "_view_count": null,
            "_view_module": "@jupyter-widgets/controls",
            "_view_module_version": "1.5.0",
            "_view_name": "ButtonView",
            "button_style": "",
            "description": "Return",
            "disabled": false,
            "icon": "",
            "layout": "IPY_MODEL_30f1698a2c1349e59daa155716df3798",
            "style": "IPY_MODEL_3d26fb9eb0b248fca31fd1119ccd6980",
            "tooltip": ""
          }
        },
        "30f1698a2c1349e59daa155716df3798": {
          "model_module": "@jupyter-widgets/base",
          "model_name": "LayoutModel",
          "model_module_version": "1.2.0",
          "state": {
            "_model_module": "@jupyter-widgets/base",
            "_model_module_version": "1.2.0",
            "_model_name": "LayoutModel",
            "_view_count": null,
            "_view_module": "@jupyter-widgets/base",
            "_view_module_version": "1.2.0",
            "_view_name": "LayoutView",
            "align_content": null,
            "align_items": null,
            "align_self": null,
            "border": null,
            "bottom": null,
            "display": null,
            "flex": null,
            "flex_flow": null,
            "grid_area": null,
            "grid_auto_columns": null,
            "grid_auto_flow": null,
            "grid_auto_rows": null,
            "grid_column": null,
            "grid_gap": null,
            "grid_row": null,
            "grid_template_areas": null,
            "grid_template_columns": null,
            "grid_template_rows": null,
            "height": null,
            "justify_content": null,
            "justify_items": null,
            "left": null,
            "margin": null,
            "max_height": null,
            "max_width": null,
            "min_height": null,
            "min_width": null,
            "object_fit": null,
            "object_position": null,
            "order": null,
            "overflow": null,
            "overflow_x": null,
            "overflow_y": null,
            "padding": null,
            "right": null,
            "top": null,
            "visibility": null,
            "width": null
          }
        },
        "3d26fb9eb0b248fca31fd1119ccd6980": {
          "model_module": "@jupyter-widgets/controls",
          "model_name": "ButtonStyleModel",
          "model_module_version": "1.5.0",
          "state": {
            "_model_module": "@jupyter-widgets/controls",
            "_model_module_version": "1.5.0",
            "_model_name": "ButtonStyleModel",
            "_view_count": null,
            "_view_module": "@jupyter-widgets/base",
            "_view_module_version": "1.2.0",
            "_view_name": "StyleView",
            "button_color": null,
            "font_weight": ""
          }
        }
      }
    }
  },
  "nbformat": 4,
  "nbformat_minor": 0
}