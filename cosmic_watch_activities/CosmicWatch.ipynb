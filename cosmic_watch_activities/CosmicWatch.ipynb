{
  "cells": [
    {
      "cell_type": "markdown",
      "metadata": {
        "id": "view-in-github",
        "colab_type": "text"
      },
      "source": [
        "<a href=\"https://colab.research.google.com/github/Harvard-Neutrino/IceCube_MasterClass_at_Harvard2025/blob/main/cosmic_watch_activities/CosmicWatch.ipynb\" target=\"_parent\"><img src=\"https://colab.research.google.com/assets/colab-badge.svg\" alt=\"Open In Colab\"/></a>"
      ]
    },
    {
      "cell_type": "markdown",
      "metadata": {
        "id": "pUOsm5qzuKQ1"
      },
      "source": [
        "# Cosmic Watch Analysis Notebook\n",
        "\n",
        "Welcome to the Cosmic Watch Analysis Notebook! This file is what is known as a **Jupyter notebook**. Jupyter notebooks are essentially small snippits of code, called cells. Sometimes these cells just run code, but often the cell will produce an output that can be viewed right in the notebook. In this notebook, we have outputs that are both text and plots!\n",
        "\n",
        "Jupyter notebooks are a popular way to analyze and visualize data, and we'll use it to take a look at the data you took with the CosmicWatches! For now, the large majority of the code has been written for you and you will just need to tell the notebook where to find the data. Later this afternoon, you'll take a stab at writing your own code in a notebook.\n",
        "\n",
        "Let's get started!"
      ]
    },
    {
      "cell_type": "markdown",
      "metadata": {
        "id": "k7F01fVRvsnR"
      },
      "source": [
        "## Setting Up Your Notebook\n",
        "We first start by *importing packages* and *defining functions to use*.\n",
        "\n",
        "**TLDR**: Run the cells below by hitting the \"play\" button in the top left of each cell. This sets up the code you will need in the following sections.\n",
        "\n",
        "**Explanation**:\n",
        "\n",
        "At the most basic level, functions do something to some inputs you give them. For example, say I took 10 different measurements with a CosmicWatch and I wanted to determine the duration of each measurement from the dataset. One option I could go with is to write the code to calculate the length of the dataset 10 times. This is a lot of repeated work. Instead, I can define a function to determine the duration of a dataset. Now, whenever I want to calculate the duration of a dataset, I can just call the function, without needing to write more code.\n",
        "\n",
        "Importing packages is sort of like defining functions, but instead of writing our own functions, we're using functions that someone else wrote for us.\n",
        "\n",
        "Go ahead and run the below cells to import packages and define functions. You can run a cell by clicking the \"play\" button in the top-left corner of each cell."
      ]
    },
    {
      "cell_type": "code",
      "execution_count": null,
      "metadata": {
        "id": "lF8s0lRM8VOq"
      },
      "outputs": [],
      "source": [
        "# Here is where we import packages\n",
        "import numpy as np\n",
        "import pandas as pd\n",
        "import matplotlib.pyplot as plt\n",
        "from IPython.display import Image"
      ]
    },
    {
      "cell_type": "code",
      "execution_count": null,
      "metadata": {
        "id": "kPHnsHT0D16C"
      },
      "outputs": [],
      "source": [
        "# Define functions used to analyze CosmicWatch data\n",
        "def load_data(filename, SD_card=True):\n",
        "  if SD_card:\n",
        "    df = pd.read_csv(filename,\n",
        "                  sep = '\\t',\n",
        "                  header = 6) # TODO: hack\n",
        "    column_names = [\"Event\", \"Time\", \"Coincident\", \"ADC\", \"EnergyDeposited\", \"Deadtime\", \"Temperature\", \"Pressure\"]\n",
        "    df.columns = column_names\n",
        "\n",
        "    df.drop([\"ADC\", \"Deadtime\"], inplace=True, axis=1)\n",
        "\n",
        "  else:\n",
        "    with open(filename, 'r', encoding='utf-8') as f:\n",
        "      for i, line in enumerate(f):\n",
        "        if 'Device ID' in line:\n",
        "            start = i + 1\n",
        "            break\n",
        "\n",
        "    # Skip the lines before 'Device ID'\n",
        "    df = pd.read_csv(filename, skiprows=start, delimiter='\\t', header=None)\n",
        "    df.drop(df.columns[[0, 8, 9, 10, 11, 12, 13, 14]], axis=1, inplace=True)\n",
        "    df.columns = [\"Time\", \"Coincident\", \"ADC\", \"EnergyDeposited\", \"Deadtime\", \"Temperature\", \"Presure\"]\n",
        "\n",
        "  return df\n",
        "\n",
        "\n",
        "def create_histogram(df, nbins, xmax, coincidence_mode=None):\n",
        "  total_time = df['Time'].iloc[-1] - df['Time'].iloc[0]\n",
        "\n",
        "  if coincidence_mode == 'coin':\n",
        "    x = df['EnergyDeposited'][df['Coincident'] == 1]\n",
        "  elif coincidence_mode == 'anti':\n",
        "    x = df['EnergyDeposited'][df['Coincident'] == 0]\n",
        "  else:\n",
        "    x = df['EnergyDeposited']\n",
        "\n",
        "  hist = list(np.histogram(x, bins=nbins, range=(0, xmax)))\n",
        "  hist[0] = hist[0] / total_time\n",
        "\n",
        "  return hist\n",
        "\n",
        "def plot_radioactive_energy_spectra(datasets_to_plot, dataset_labels, nbins, xmax, coincidence_mode=None, normalize=False):\n",
        "  for i, dataset in enumerate(datasets_to_plot):\n",
        "    bkgd_hist = create_histogram(dataset, nbins, xmax, coincidence_mode)\n",
        "    if normalize:\n",
        "      bkgd_hist[0] = bkgd_hist[0] / np.sum(bkgd_hist[0])\n",
        "    plt.stairs(bkgd_hist[0], bkgd_hist[1], label=dataset_labels[i])\n",
        "\n",
        "  plt.legend()\n",
        "  plt.xlabel(\"Energy Deposited [arb]\")\n",
        "  plt.ylabel(\"Rate [Hz]\")\n",
        "\n",
        "\n",
        "def plot_coincidence_comparison_energy_spectra(dataset, nbins, xmax, log_scale=True, zoom_to_muons=False):\n",
        "  bkgd_hist = create_histogram(dataset, nbins, xmax)\n",
        "  bkgd_coin_hist = create_histogram(dataset, nbins, xmax, 'coin')\n",
        "  bkgd_anti_hist = create_histogram(dataset, nbins, xmax, 'anti')\n",
        "\n",
        "  plt.stairs(bkgd_hist[0], bkgd_hist[1], label='Full Dataset')\n",
        "  plt.stairs(bkgd_coin_hist[0], bkgd_coin_hist[1], label='Coincident')\n",
        "  plt.stairs(bkgd_anti_hist[0], bkgd_anti_hist[1], label='Anti-coincident')\n",
        "\n",
        "  if log_scale:\n",
        "    plt.yscale('log')\n",
        "  plt.legend()\n",
        "  plt.xlabel(\"Peak Amplitude [mV]\")\n",
        "  plt.ylabel(\"Rate [Hz]\")\n",
        "\n",
        "  if zoom_to_muons:\n",
        "    plt.ylim(0, 1.1*np.max(bkgd_coin_hist[0]))\n",
        "\n",
        "def compute_muon_rate(dataset_full, print_output=False):\n",
        "  dataset_coin = dataset_full[dataset_full['Coincident'] == 1]\n",
        "\n",
        "  total_coin_events = len(dataset_coin)\n",
        "  total_time = dataset_full['Time'].iloc[-1] - dataset_full['Time'].iloc[0]\n",
        "  coin_rate = total_coin_events / total_time\n",
        "  coin_rate_err = np.sqrt(total_coin_events) / total_time\n",
        "\n",
        "  if print_output:\n",
        "    coin_rate_formatted = \"{:.3f}\".format(coin_rate)\n",
        "    coin_rate_err_formatted = \"{:.3f}\".format(coin_rate_err)\n",
        "    print(f'The measured muon rate at this angle is {coin_rate_formatted} +/- {coin_rate_err_formatted}')\n",
        "\n",
        "  return coin_rate, coin_rate_err\n",
        "\n",
        "\n",
        "def compute_muon_rate_relative_to_0deg(dataset_0deg, dataset_other_angle):\n",
        "  coin_rate_0deg, coin_rate_err_0deg = compute_muon_rate(dataset_0deg)\n",
        "  coin_rate_other_angle, coin_rate_err_other_angle = compute_muon_rate(dataset_other_angle)\n",
        "\n",
        "  fractional_rate = coin_rate_other_angle / coin_rate_0deg\n",
        "  fractional_rate_err = fractional_rate * np.sqrt( (coin_rate_err_other_angle / coin_rate_other_angle)**2 + (coin_rate_err_0deg / coin_rate_0deg)**2 )\n",
        "\n",
        "  fractional_rate_formatted = \"{:.3f}\".format(fractional_rate)\n",
        "  fractional_rate_err_formatted = \"{:.3f}\".format(fractional_rate_err)\n",
        "  print(f'The measured fractional muon rate relative to 0° is {fractional_rate_formatted} +/- {fractional_rate_err_formatted}')\n",
        "\n",
        "\n",
        "def calculate_average(measurements):\n",
        "  averages = {}\n",
        "  errors = {}\n",
        "  for key, data in measurements:\n",
        "    data = np.array(data)\n",
        "    averages[key] = np.mean(data[:, 0])\n",
        "    errors[key] = np.sqrt(np.sum(data[:, 1]**2))\n",
        "\n",
        "  return averages, errors\n",
        "\n",
        "\n",
        "def plot_rate_vs_angle(angles, rates):\n",
        "  plt.errorbar(angles, [x[0] for x in rates], yerr=[x[1] for x in rates], fmt='o')\n",
        "  plt.xlabel(\"Angle [deg]\")\n",
        "  plt.ylabel(\"Muon Rate [Hz]\")"
      ]
    },
    {
      "cell_type": "markdown",
      "metadata": {
        "id": "hmDI2qOgynu2"
      },
      "source": [
        "# Activity 1: Measuring Radioactivity"
      ]
    },
    {
      "cell_type": "markdown",
      "metadata": {
        "id": "3fCWKCxLcVAP"
      },
      "source": [
        "We will start our measurements with a simple estimation of the radiation level around us without any additional radioactive sources. This is known as the **background radiation level** or just **background**. You can also think of this as a **control** measurement.\n",
        "\n",
        "Take a guess: how many particles will the CosmicWatch detector register within one minute? Fill in your guess in the cell below. We'll come back later to see how close your guess was."
      ]
    },
    {
      "cell_type": "code",
      "execution_count": null,
      "metadata": {
        "id": "LMPmrr6BcpRo"
      },
      "outputs": [],
      "source": [
        "################################################################################\n",
        "# Fill in your guess here:\n",
        "guessed_particles_per_minute = 1\n",
        "################################################################################"
      ]
    },
    {
      "cell_type": "markdown",
      "metadata": {
        "id": "W_sXrY0yFF7T"
      },
      "source": [
        "Now let's make a background measurement!\n",
        "\n",
        "Your box has two cosmic watches in it. One of them has an SD card inserted in a slot in the face. We will start by using that CosmicWatch!\n",
        "\n",
        "Turn it on by plugging it into the battery. You should see the screen flash \"CosmicWatch\", and then you should see some updating numbers. At the top of the numbers is the file name. **Copy that down here**:\n",
        "\n",
        "(If you don't see a filename, check to make sure your SD card is inserted properly.)"
      ]
    },
    {
      "cell_type": "code",
      "execution_count": null,
      "metadata": {
        "id": "9SmcHQ_4FEMN"
      },
      "outputs": [],
      "source": [
        "################################################################################\n",
        "# Edit me:\n",
        "bkgd_filename = 'high_rate_bkgd.txt'\n",
        "################################################################################"
      ]
    },
    {
      "cell_type": "markdown",
      "metadata": {
        "id": "40VhOO3Lx-GL"
      },
      "source": [
        "**Make sure that any sources of radioactivity are far away from the detector.** Otherwise, you will contaminate your background measurement! Run the cosmic watch for about three minutes to measure the background level.\n",
        "\n",
        "\n",
        "While your detector runs:\n",
        "\n",
        "\n",
        "The CosmicWatch screen is displaying information about the number of **events** recorded by the detector, which is the number of ionizing particles seen by the detector. The screen will also display the number of events per second, the **event rate**.\n",
        "\n",
        "\n",
        "The rate is given as a number plus/minus a different number. What do you think the second number means? How do you think it is calculated?\n",
        "\n",
        "\n",
        "How many particles did your Cosmic Watch end up seeing in one minute?"
      ]
    },
    {
      "cell_type": "code",
      "execution_count": null,
      "metadata": {
        "id": "jifJq9wNGkHm"
      },
      "outputs": [],
      "source": [
        "################################################################################\n",
        "# Fill in your measurement here:\n",
        "measured_particles_per_minute = 1\n",
        "################################################################################"
      ]
    },
    {
      "cell_type": "markdown",
      "metadata": {
        "id": "tnjtgvuLGCVf"
      },
      "source": [
        "After you've taken your background data, you can move on to analyzing it!\n",
        "\n",
        "Take the SD card out of the CosmicWatch and insert it into the MicroSD reader. Then insert the MicroSD reader to your computer. Drag the data file from your computer into the file browser on the left side of this notebook (hit the folder symbol to see it).\n",
        "\n",
        "Then, run the cell below to load your data into the notebook."
      ]
    },
    {
      "cell_type": "code",
      "execution_count": null,
      "metadata": {
        "id": "x5rJ97PZf9MA"
      },
      "outputs": [],
      "source": [
        "# Load in CSV file to the Jupyter notebook\n",
        "bkgd_dataset = load_data(bkgd_filename)"
      ]
    },
    {
      "cell_type": "markdown",
      "metadata": {
        "id": "AV3MPLI-gHZp"
      },
      "source": [
        "Okay, your background dataset is now loaded onto one of Google's computers... somewhere. Let's take a look at what your dataset actually looks like."
      ]
    },
    {
      "cell_type": "code",
      "execution_count": null,
      "metadata": {
        "colab": {
          "base_uri": "https://localhost:8080/",
          "height": 419
        },
        "id": "yZfrMNO_gO1L",
        "outputId": "ef480987-a45d-4d05-b4ab-417eb1ed94de"
      },
      "outputs": [
        {
          "data": {
            "application/vnd.google.colaboratory.intrinsic+json": {
              "summary": "{\n  \"name\": \"bkgd_dataset\",\n  \"rows\": 8779,\n  \"fields\": [\n    {\n      \"column\": \"Event\",\n      \"properties\": {\n        \"dtype\": \"number\",\n        \"std\": 2534,\n        \"min\": 2,\n        \"max\": 8780,\n        \"num_unique_values\": 8779,\n        \"samples\": [\n          511,\n          1078,\n          7615\n        ],\n        \"semantic_type\": \"\",\n        \"description\": \"\"\n      }\n    },\n    {\n      \"column\": \"Time\",\n      \"properties\": {\n        \"dtype\": \"number\",\n        \"std\": 690.8193269785572,\n        \"min\": 0.587663,\n        \"max\": 2408.125733,\n        \"num_unique_values\": 8779,\n        \"samples\": [\n          134.402938,\n          299.470506,\n          2079.216119\n        ],\n        \"semantic_type\": \"\",\n        \"description\": \"\"\n      }\n    },\n    {\n      \"column\": \"Coincident\",\n      \"properties\": {\n        \"dtype\": \"number\",\n        \"std\": 0,\n        \"min\": 0,\n        \"max\": 1,\n        \"num_unique_values\": 2,\n        \"samples\": [\n          1,\n          0\n        ],\n        \"semantic_type\": \"\",\n        \"description\": \"\"\n      }\n    },\n    {\n      \"column\": \"EnergyDeposited\",\n      \"properties\": {\n        \"dtype\": \"number\",\n        \"std\": 52.26346960303636,\n        \"min\": 7.2,\n        \"max\": 311.2,\n        \"num_unique_values\": 1502,\n        \"samples\": [\n          53.7,\n          55.1\n        ],\n        \"semantic_type\": \"\",\n        \"description\": \"\"\n      }\n    },\n    {\n      \"column\": \"Temperature\",\n      \"properties\": {\n        \"dtype\": \"number\",\n        \"std\": 0.3423666771754303,\n        \"min\": 25.8,\n        \"max\": 27.1,\n        \"num_unique_values\": 14,\n        \"samples\": [\n          26.7,\n          26.9\n        ],\n        \"semantic_type\": \"\",\n        \"description\": \"\"\n      }\n    },\n    {\n      \"column\": \"Pressure\",\n      \"properties\": {\n        \"dtype\": \"number\",\n        \"std\": 5,\n        \"min\": 101563,\n        \"max\": 101593,\n        \"num_unique_values\": 31,\n        \"samples\": [\n          101590,\n          101580\n        ],\n        \"semantic_type\": \"\",\n        \"description\": \"\"\n      }\n    }\n  ]\n}",
              "type": "dataframe",
              "variable_name": "bkgd_dataset"
            },
            "text/html": [
              "\n",
              "  <div id=\"df-d8644461-4eb5-4488-9ce9-bbacc9a75b9f\" class=\"colab-df-container\">\n",
              "    <div>\n",
              "<style scoped>\n",
              "    .dataframe tbody tr th:only-of-type {\n",
              "        vertical-align: middle;\n",
              "    }\n",
              "\n",
              "    .dataframe tbody tr th {\n",
              "        vertical-align: top;\n",
              "    }\n",
              "\n",
              "    .dataframe thead th {\n",
              "        text-align: right;\n",
              "    }\n",
              "</style>\n",
              "<table border=\"1\" class=\"dataframe\">\n",
              "  <thead>\n",
              "    <tr style=\"text-align: right;\">\n",
              "      <th></th>\n",
              "      <th>Event</th>\n",
              "      <th>Time</th>\n",
              "      <th>Coincident</th>\n",
              "      <th>EnergyDeposited</th>\n",
              "      <th>Temperature</th>\n",
              "      <th>Pressure</th>\n",
              "    </tr>\n",
              "  </thead>\n",
              "  <tbody>\n",
              "    <tr>\n",
              "      <th>0</th>\n",
              "      <td>2</td>\n",
              "      <td>0.587663</td>\n",
              "      <td>0</td>\n",
              "      <td>27.0</td>\n",
              "      <td>25.8</td>\n",
              "      <td>101574</td>\n",
              "    </tr>\n",
              "    <tr>\n",
              "      <th>1</th>\n",
              "      <td>3</td>\n",
              "      <td>0.818926</td>\n",
              "      <td>0</td>\n",
              "      <td>198.5</td>\n",
              "      <td>25.8</td>\n",
              "      <td>101574</td>\n",
              "    </tr>\n",
              "    <tr>\n",
              "      <th>2</th>\n",
              "      <td>4</td>\n",
              "      <td>1.323217</td>\n",
              "      <td>0</td>\n",
              "      <td>13.7</td>\n",
              "      <td>25.8</td>\n",
              "      <td>101575</td>\n",
              "    </tr>\n",
              "    <tr>\n",
              "      <th>3</th>\n",
              "      <td>5</td>\n",
              "      <td>1.378723</td>\n",
              "      <td>0</td>\n",
              "      <td>29.0</td>\n",
              "      <td>25.8</td>\n",
              "      <td>101575</td>\n",
              "    </tr>\n",
              "    <tr>\n",
              "      <th>4</th>\n",
              "      <td>6</td>\n",
              "      <td>1.719498</td>\n",
              "      <td>0</td>\n",
              "      <td>9.5</td>\n",
              "      <td>25.8</td>\n",
              "      <td>101574</td>\n",
              "    </tr>\n",
              "    <tr>\n",
              "      <th>...</th>\n",
              "      <td>...</td>\n",
              "      <td>...</td>\n",
              "      <td>...</td>\n",
              "      <td>...</td>\n",
              "      <td>...</td>\n",
              "      <td>...</td>\n",
              "    </tr>\n",
              "    <tr>\n",
              "      <th>8774</th>\n",
              "      <td>8776</td>\n",
              "      <td>2407.768050</td>\n",
              "      <td>0</td>\n",
              "      <td>59.3</td>\n",
              "      <td>27.1</td>\n",
              "      <td>101591</td>\n",
              "    </tr>\n",
              "    <tr>\n",
              "      <th>8775</th>\n",
              "      <td>8777</td>\n",
              "      <td>2407.891479</td>\n",
              "      <td>0</td>\n",
              "      <td>57.3</td>\n",
              "      <td>27.1</td>\n",
              "      <td>101591</td>\n",
              "    </tr>\n",
              "    <tr>\n",
              "      <th>8776</th>\n",
              "      <td>8778</td>\n",
              "      <td>2408.047810</td>\n",
              "      <td>0</td>\n",
              "      <td>102.7</td>\n",
              "      <td>27.1</td>\n",
              "      <td>101591</td>\n",
              "    </tr>\n",
              "    <tr>\n",
              "      <th>8777</th>\n",
              "      <td>8779</td>\n",
              "      <td>2408.061086</td>\n",
              "      <td>0</td>\n",
              "      <td>11.6</td>\n",
              "      <td>27.1</td>\n",
              "      <td>101591</td>\n",
              "    </tr>\n",
              "    <tr>\n",
              "      <th>8778</th>\n",
              "      <td>8780</td>\n",
              "      <td>2408.125733</td>\n",
              "      <td>0</td>\n",
              "      <td>19.4</td>\n",
              "      <td>27.1</td>\n",
              "      <td>101591</td>\n",
              "    </tr>\n",
              "  </tbody>\n",
              "</table>\n",
              "<p>8779 rows × 6 columns</p>\n",
              "</div>\n",
              "    <div class=\"colab-df-buttons\">\n",
              "\n",
              "  <div class=\"colab-df-container\">\n",
              "    <button class=\"colab-df-convert\" onclick=\"convertToInteractive('df-d8644461-4eb5-4488-9ce9-bbacc9a75b9f')\"\n",
              "            title=\"Convert this dataframe to an interactive table.\"\n",
              "            style=\"display:none;\">\n",
              "\n",
              "  <svg xmlns=\"http://www.w3.org/2000/svg\" height=\"24px\" viewBox=\"0 -960 960 960\">\n",
              "    <path d=\"M120-120v-720h720v720H120Zm60-500h600v-160H180v160Zm220 220h160v-160H400v160Zm0 220h160v-160H400v160ZM180-400h160v-160H180v160Zm440 0h160v-160H620v160ZM180-180h160v-160H180v160Zm440 0h160v-160H620v160Z\"/>\n",
              "  </svg>\n",
              "    </button>\n",
              "\n",
              "  <style>\n",
              "    .colab-df-container {\n",
              "      display:flex;\n",
              "      gap: 12px;\n",
              "    }\n",
              "\n",
              "    .colab-df-convert {\n",
              "      background-color: #E8F0FE;\n",
              "      border: none;\n",
              "      border-radius: 50%;\n",
              "      cursor: pointer;\n",
              "      display: none;\n",
              "      fill: #1967D2;\n",
              "      height: 32px;\n",
              "      padding: 0 0 0 0;\n",
              "      width: 32px;\n",
              "    }\n",
              "\n",
              "    .colab-df-convert:hover {\n",
              "      background-color: #E2EBFA;\n",
              "      box-shadow: 0px 1px 2px rgba(60, 64, 67, 0.3), 0px 1px 3px 1px rgba(60, 64, 67, 0.15);\n",
              "      fill: #174EA6;\n",
              "    }\n",
              "\n",
              "    .colab-df-buttons div {\n",
              "      margin-bottom: 4px;\n",
              "    }\n",
              "\n",
              "    [theme=dark] .colab-df-convert {\n",
              "      background-color: #3B4455;\n",
              "      fill: #D2E3FC;\n",
              "    }\n",
              "\n",
              "    [theme=dark] .colab-df-convert:hover {\n",
              "      background-color: #434B5C;\n",
              "      box-shadow: 0px 1px 3px 1px rgba(0, 0, 0, 0.15);\n",
              "      filter: drop-shadow(0px 1px 2px rgba(0, 0, 0, 0.3));\n",
              "      fill: #FFFFFF;\n",
              "    }\n",
              "  </style>\n",
              "\n",
              "    <script>\n",
              "      const buttonEl =\n",
              "        document.querySelector('#df-d8644461-4eb5-4488-9ce9-bbacc9a75b9f button.colab-df-convert');\n",
              "      buttonEl.style.display =\n",
              "        google.colab.kernel.accessAllowed ? 'block' : 'none';\n",
              "\n",
              "      async function convertToInteractive(key) {\n",
              "        const element = document.querySelector('#df-d8644461-4eb5-4488-9ce9-bbacc9a75b9f');\n",
              "        const dataTable =\n",
              "          await google.colab.kernel.invokeFunction('convertToInteractive',\n",
              "                                                    [key], {});\n",
              "        if (!dataTable) return;\n",
              "\n",
              "        const docLinkHtml = 'Like what you see? Visit the ' +\n",
              "          '<a target=\"_blank\" href=https://colab.research.google.com/notebooks/data_table.ipynb>data table notebook</a>'\n",
              "          + ' to learn more about interactive tables.';\n",
              "        element.innerHTML = '';\n",
              "        dataTable['output_type'] = 'display_data';\n",
              "        await google.colab.output.renderOutput(dataTable, element);\n",
              "        const docLink = document.createElement('div');\n",
              "        docLink.innerHTML = docLinkHtml;\n",
              "        element.appendChild(docLink);\n",
              "      }\n",
              "    </script>\n",
              "  </div>\n",
              "\n",
              "\n",
              "    <div id=\"df-3cbc7021-5535-4956-8fcd-52c1e95376de\">\n",
              "      <button class=\"colab-df-quickchart\" onclick=\"quickchart('df-3cbc7021-5535-4956-8fcd-52c1e95376de')\"\n",
              "                title=\"Suggest charts\"\n",
              "                style=\"display:none;\">\n",
              "\n",
              "<svg xmlns=\"http://www.w3.org/2000/svg\" height=\"24px\"viewBox=\"0 0 24 24\"\n",
              "     width=\"24px\">\n",
              "    <g>\n",
              "        <path d=\"M19 3H5c-1.1 0-2 .9-2 2v14c0 1.1.9 2 2 2h14c1.1 0 2-.9 2-2V5c0-1.1-.9-2-2-2zM9 17H7v-7h2v7zm4 0h-2V7h2v10zm4 0h-2v-4h2v4z\"/>\n",
              "    </g>\n",
              "</svg>\n",
              "      </button>\n",
              "\n",
              "<style>\n",
              "  .colab-df-quickchart {\n",
              "      --bg-color: #E8F0FE;\n",
              "      --fill-color: #1967D2;\n",
              "      --hover-bg-color: #E2EBFA;\n",
              "      --hover-fill-color: #174EA6;\n",
              "      --disabled-fill-color: #AAA;\n",
              "      --disabled-bg-color: #DDD;\n",
              "  }\n",
              "\n",
              "  [theme=dark] .colab-df-quickchart {\n",
              "      --bg-color: #3B4455;\n",
              "      --fill-color: #D2E3FC;\n",
              "      --hover-bg-color: #434B5C;\n",
              "      --hover-fill-color: #FFFFFF;\n",
              "      --disabled-bg-color: #3B4455;\n",
              "      --disabled-fill-color: #666;\n",
              "  }\n",
              "\n",
              "  .colab-df-quickchart {\n",
              "    background-color: var(--bg-color);\n",
              "    border: none;\n",
              "    border-radius: 50%;\n",
              "    cursor: pointer;\n",
              "    display: none;\n",
              "    fill: var(--fill-color);\n",
              "    height: 32px;\n",
              "    padding: 0;\n",
              "    width: 32px;\n",
              "  }\n",
              "\n",
              "  .colab-df-quickchart:hover {\n",
              "    background-color: var(--hover-bg-color);\n",
              "    box-shadow: 0 1px 2px rgba(60, 64, 67, 0.3), 0 1px 3px 1px rgba(60, 64, 67, 0.15);\n",
              "    fill: var(--button-hover-fill-color);\n",
              "  }\n",
              "\n",
              "  .colab-df-quickchart-complete:disabled,\n",
              "  .colab-df-quickchart-complete:disabled:hover {\n",
              "    background-color: var(--disabled-bg-color);\n",
              "    fill: var(--disabled-fill-color);\n",
              "    box-shadow: none;\n",
              "  }\n",
              "\n",
              "  .colab-df-spinner {\n",
              "    border: 2px solid var(--fill-color);\n",
              "    border-color: transparent;\n",
              "    border-bottom-color: var(--fill-color);\n",
              "    animation:\n",
              "      spin 1s steps(1) infinite;\n",
              "  }\n",
              "\n",
              "  @keyframes spin {\n",
              "    0% {\n",
              "      border-color: transparent;\n",
              "      border-bottom-color: var(--fill-color);\n",
              "      border-left-color: var(--fill-color);\n",
              "    }\n",
              "    20% {\n",
              "      border-color: transparent;\n",
              "      border-left-color: var(--fill-color);\n",
              "      border-top-color: var(--fill-color);\n",
              "    }\n",
              "    30% {\n",
              "      border-color: transparent;\n",
              "      border-left-color: var(--fill-color);\n",
              "      border-top-color: var(--fill-color);\n",
              "      border-right-color: var(--fill-color);\n",
              "    }\n",
              "    40% {\n",
              "      border-color: transparent;\n",
              "      border-right-color: var(--fill-color);\n",
              "      border-top-color: var(--fill-color);\n",
              "    }\n",
              "    60% {\n",
              "      border-color: transparent;\n",
              "      border-right-color: var(--fill-color);\n",
              "    }\n",
              "    80% {\n",
              "      border-color: transparent;\n",
              "      border-right-color: var(--fill-color);\n",
              "      border-bottom-color: var(--fill-color);\n",
              "    }\n",
              "    90% {\n",
              "      border-color: transparent;\n",
              "      border-bottom-color: var(--fill-color);\n",
              "    }\n",
              "  }\n",
              "</style>\n",
              "\n",
              "      <script>\n",
              "        async function quickchart(key) {\n",
              "          const quickchartButtonEl =\n",
              "            document.querySelector('#' + key + ' button');\n",
              "          quickchartButtonEl.disabled = true;  // To prevent multiple clicks.\n",
              "          quickchartButtonEl.classList.add('colab-df-spinner');\n",
              "          try {\n",
              "            const charts = await google.colab.kernel.invokeFunction(\n",
              "                'suggestCharts', [key], {});\n",
              "          } catch (error) {\n",
              "            console.error('Error during call to suggestCharts:', error);\n",
              "          }\n",
              "          quickchartButtonEl.classList.remove('colab-df-spinner');\n",
              "          quickchartButtonEl.classList.add('colab-df-quickchart-complete');\n",
              "        }\n",
              "        (() => {\n",
              "          let quickchartButtonEl =\n",
              "            document.querySelector('#df-3cbc7021-5535-4956-8fcd-52c1e95376de button');\n",
              "          quickchartButtonEl.style.display =\n",
              "            google.colab.kernel.accessAllowed ? 'block' : 'none';\n",
              "        })();\n",
              "      </script>\n",
              "    </div>\n",
              "\n",
              "  <div id=\"id_75ee3635-9e16-4fe0-ab2a-4875b45af0d8\">\n",
              "    <style>\n",
              "      .colab-df-generate {\n",
              "        background-color: #E8F0FE;\n",
              "        border: none;\n",
              "        border-radius: 50%;\n",
              "        cursor: pointer;\n",
              "        display: none;\n",
              "        fill: #1967D2;\n",
              "        height: 32px;\n",
              "        padding: 0 0 0 0;\n",
              "        width: 32px;\n",
              "      }\n",
              "\n",
              "      .colab-df-generate:hover {\n",
              "        background-color: #E2EBFA;\n",
              "        box-shadow: 0px 1px 2px rgba(60, 64, 67, 0.3), 0px 1px 3px 1px rgba(60, 64, 67, 0.15);\n",
              "        fill: #174EA6;\n",
              "      }\n",
              "\n",
              "      [theme=dark] .colab-df-generate {\n",
              "        background-color: #3B4455;\n",
              "        fill: #D2E3FC;\n",
              "      }\n",
              "\n",
              "      [theme=dark] .colab-df-generate:hover {\n",
              "        background-color: #434B5C;\n",
              "        box-shadow: 0px 1px 3px 1px rgba(0, 0, 0, 0.15);\n",
              "        filter: drop-shadow(0px 1px 2px rgba(0, 0, 0, 0.3));\n",
              "        fill: #FFFFFF;\n",
              "      }\n",
              "    </style>\n",
              "    <button class=\"colab-df-generate\" onclick=\"generateWithVariable('bkgd_dataset')\"\n",
              "            title=\"Generate code using this dataframe.\"\n",
              "            style=\"display:none;\">\n",
              "\n",
              "  <svg xmlns=\"http://www.w3.org/2000/svg\" height=\"24px\"viewBox=\"0 0 24 24\"\n",
              "       width=\"24px\">\n",
              "    <path d=\"M7,19H8.4L18.45,9,17,7.55,7,17.6ZM5,21V16.75L18.45,3.32a2,2,0,0,1,2.83,0l1.4,1.43a1.91,1.91,0,0,1,.58,1.4,1.91,1.91,0,0,1-.58,1.4L9.25,21ZM18.45,9,17,7.55Zm-12,3A5.31,5.31,0,0,0,4.9,8.1,5.31,5.31,0,0,0,1,6.5,5.31,5.31,0,0,0,4.9,4.9,5.31,5.31,0,0,0,6.5,1,5.31,5.31,0,0,0,8.1,4.9,5.31,5.31,0,0,0,12,6.5,5.46,5.46,0,0,0,6.5,12Z\"/>\n",
              "  </svg>\n",
              "    </button>\n",
              "    <script>\n",
              "      (() => {\n",
              "      const buttonEl =\n",
              "        document.querySelector('#id_75ee3635-9e16-4fe0-ab2a-4875b45af0d8 button.colab-df-generate');\n",
              "      buttonEl.style.display =\n",
              "        google.colab.kernel.accessAllowed ? 'block' : 'none';\n",
              "\n",
              "      buttonEl.onclick = () => {\n",
              "        google.colab.notebook.generateWithVariable('bkgd_dataset');\n",
              "      }\n",
              "      })();\n",
              "    </script>\n",
              "  </div>\n",
              "\n",
              "    </div>\n",
              "  </div>\n"
            ],
            "text/plain": [
              "      Event         Time  Coincident  EnergyDeposited  Temperature  Pressure\n",
              "0         2     0.587663           0             27.0         25.8    101574\n",
              "1         3     0.818926           0            198.5         25.8    101574\n",
              "2         4     1.323217           0             13.7         25.8    101575\n",
              "3         5     1.378723           0             29.0         25.8    101575\n",
              "4         6     1.719498           0              9.5         25.8    101574\n",
              "...     ...          ...         ...              ...          ...       ...\n",
              "8774   8776  2407.768050           0             59.3         27.1    101591\n",
              "8775   8777  2407.891479           0             57.3         27.1    101591\n",
              "8776   8778  2408.047810           0            102.7         27.1    101591\n",
              "8777   8779  2408.061086           0             11.6         27.1    101591\n",
              "8778   8780  2408.125733           0             19.4         27.1    101591\n",
              "\n",
              "[8779 rows x 6 columns]"
            ]
          },
          "execution_count": 16,
          "metadata": {},
          "output_type": "execute_result"
        }
      ],
      "source": [
        "bkgd_dataset"
      ]
    },
    {
      "cell_type": "markdown",
      "metadata": {
        "id": "y1T3B4JG3mc-"
      },
      "source": [
        "As you can see, your CosmicWatch was doing a lot more under the hood than just measuring the event rate; it was actually recording detailed information for each event! Your CosmicWatch recorded when each event occured in addition to the amount of energy it detected in each event, as well as the temperature and pressure of the environement."
      ]
    },
    {
      "cell_type": "markdown",
      "metadata": {
        "id": "osG9li4X3QhX"
      },
      "source": [
        "These numbers are great, but sort of impossible for a human to just read off and understand. To make the data more digestible, we can condense the information.\n",
        "\n",
        "First, let's re-calculate the rate:"
      ]
    },
    {
      "cell_type": "code",
      "execution_count": null,
      "metadata": {
        "colab": {
          "base_uri": "https://localhost:8080/"
        },
        "id": "oFYTQ_KDKY9x",
        "outputId": "39e955f6-b340-4e06-90b6-d0121f9d38a1"
      },
      "outputs": [
        {
          "name": "stdout",
          "output_type": "stream",
          "text": [
            "Guessed:  1\n",
            "Measured:  1\n",
            "Calculated:  3.645573767057121\n"
          ]
        }
      ],
      "source": [
        "bkgd_rate = len(bkgd_dataset) / np.max(bkgd_dataset[\"Time\"])\n",
        "\n",
        "print( \"Guessed: \", guessed_particles_per_minute )\n",
        "print( \"Measured: \", measured_particles_per_minute )\n",
        "print( \"Calculated: \", bkgd_rate * 60 )"
      ]
    },
    {
      "cell_type": "markdown",
      "metadata": {
        "id": "ybXhdMd7KYKT"
      },
      "source": [
        "Next, let's make some plots! Plots are actually central to doing science. You could make a strong argument that the majority of scientific communication is actually done via plots. But that's a discussion for a different course.\n",
        "\n",
        "The screen on your CosmicWatch shows the overall rate of events the CosmicWatch sees. We will now make a plot that shows the rate of events within different energy ranges. From this we can figure out things like if the rate is higher at lower energies or higher energies. Go ahead and run the below cell."
      ]
    },
    {
      "cell_type": "code",
      "execution_count": null,
      "metadata": {
        "colab": {
          "base_uri": "https://localhost:8080/",
          "height": 452
        },
        "id": "bJYnqIdbLv5e",
        "outputId": "4957833c-a858-4ca1-9235-6bb7715c5256"
      },
      "outputs": [
        {
          "data": {
            "image/png": "[encoded data removed]",
            "text/plain": [
              "<Figure size 640x480 with 1 Axes>"
            ]
          },
          "metadata": {},
          "output_type": "display_data"
        }
      ],
      "source": [
        "################################################################################\n",
        "# You can edit these numbers if you like, but the defaults should be fine\n",
        "nbins = 100 # Number of bins in the histogram\n",
        "xmax = 200 # Maximum energy of the histogram\n",
        "################################################################################\n",
        "\n",
        "datasets_to_plot = [bkgd_dataset]\n",
        "dataset_labels = ['Background']\n",
        "plot_radioactive_energy_spectra(datasets_to_plot, dataset_labels, nbins, xmax)"
      ]
    },
    {
      "cell_type": "markdown",
      "metadata": {
        "id": "IlAkKo-b7MG9"
      },
      "source": [
        "This type of plot is know as a histogram. It's basically a bar graph with the bar smushed together. This type of histogram is known as an **energy spectrum**. Plotting the energy spectrum measured by a detector is a common way to identify different sources of radiation.\n",
        "\n",
        "For example, the first plot shown below is from potassium-40, a type of potassium commonly found in bananas. The second plot is plutonium-239, which is used to make nuclear weapons. It would be good to be able to tell the difference!"
      ]
    },
    {
      "cell_type": "markdown",
      "metadata": {
        "id": "H2BEPNCY5XET"
      },
      "source": [
        "![](https://github.com/Harvard-Neutrino/IceCube_MasterClass_at_Harvard2025/blob/main/cosmic_watch_activities/resources/K40.png?raw=1)\n",
        "![](https://github.com/Harvard-Neutrino/IceCube_MasterClass_at_Harvard2025/blob/main/cosmic_watch_activities/resources/Pu239.png?raw=1)\n"
      ]
    },
    {
      "cell_type": "markdown",
      "metadata": {
        "id": "gcd5z9OQifbx"
      },
      "source": [
        "Now, let's make a measurement of some radioactive signal!\n",
        "\n",
        "Take the plastic bag with the piece of orange plate out of your box. ***Do not remove the plate from the plastic bag!!!***\n",
        "\n",
        "Place the bag directly on top of the CosmicWatch and take another measurement. As before, make sure to note the filename below and make sure the data run is at least three minutes long. Then, upload the file and change the cell below to take a look at the energy spectrum from the dinner plate."
      ]
    },
    {
      "cell_type": "code",
      "execution_count": null,
      "metadata": {
        "id": "dXAASr9dKzns"
      },
      "outputs": [],
      "source": [
        "################################################################################\n",
        "# Edit me:\n",
        "source_filename = 'high_rate_plate.txt'"
      ]
    },
    {
      "cell_type": "code",
      "execution_count": null,
      "metadata": {
        "id": "216fEBUkg0g6"
      },
      "outputs": [],
      "source": [
        "# Load in CSV file to the Jupyter notebook\n",
        "################################################################################\n",
        "source_dataset = load_data(source_filename)"
      ]
    },
    {
      "cell_type": "code",
      "execution_count": null,
      "metadata": {
        "id": "2uMPJp5AL3r0"
      },
      "outputs": [],
      "source": [
        "# Let's calculate the signal rate:\n",
        "signal_rate = len(source_dataset) / np.max(source_dataset[\"Time\"])\n",
        "\n",
        "print( \"Background rate: \", bkgd_rate * 60, \"particles / minute\" )\n",
        "print( \"Signal rate: \", signal_rate * 60, \"particles / minute\" )"
      ]
    },
    {
      "cell_type": "code",
      "execution_count": null,
      "metadata": {
        "colab": {
          "base_uri": "https://localhost:8080/",
          "height": 449
        },
        "id": "cJdR53d9hw-y",
        "outputId": "8831b573-1134-4ed2-c28b-46752b0d1571"
      },
      "outputs": [
        {
          "data": {
            "image/png": "[encoded data removed]",
            "text/plain": [
              "<Figure size 640x480 with 1 Axes>"
            ]
          },
          "metadata": {},
          "output_type": "display_data"
        }
      ],
      "source": [
        "################################################################################\n",
        "# You can edit these numbers if you like, but the defaults should be fine\n",
        "nbins = 100 # Number of bins in the histogram\n",
        "xmax = 200 # Maximum energy of the histogram\n",
        "################################################################################\n",
        "\n",
        "datasets_to_plot = [bkgd_dataset, source_dataset]\n",
        "dataset_labels = ['Background', 'At the fiesta']\n",
        "plot_radioactive_energy_spectra(datasets_to_plot, dataset_labels, nbins, xmax)"
      ]
    },
    {
      "cell_type": "markdown",
      "metadata": {
        "id": "EEpq6U1ktofB"
      },
      "source": [
        "We can see from both the calculation and the plot that the rate with the plate is definitely higher than the background rate.\n",
        "\n",
        "Clearly, the plate is relatively radioactive. Can we go further, and learn anything about the particles produced by the plate? Let's take a look at the *shape* of the energy spectrum, by scaling down the two spectra so they are more comparable:"
      ]
    },
    {
      "cell_type": "code",
      "execution_count": null,
      "metadata": {
        "colab": {
          "base_uri": "https://localhost:8080/",
          "height": 449
        },
        "id": "ERhtJPYQuZj-",
        "outputId": "0efc59b3-0e31-4562-c9ae-460fe07f3c97"
      },
      "outputs": [
        {
          "data": {
            "image/png": "[encoded data removed]",
            "text/plain": [
              "<Figure size 640x480 with 1 Axes>"
            ]
          },
          "metadata": {},
          "output_type": "display_data"
        }
      ],
      "source": [
        "################################################################################\n",
        "# You can edit these numbers if you like, but the defaults should be fine\n",
        "nbins = 100 # Number of bins in the histogram\n",
        "xmax = 200 # Maximum energy of the histogram\n",
        "################################################################################\n",
        "\n",
        "datasets_to_plot = [bkgd_dataset, source_dataset]\n",
        "dataset_labels = ['Background', 'At the fiesta']\n",
        "plot_radioactive_energy_spectra(datasets_to_plot, dataset_labels, nbins, xmax, normalize=True)"
      ]
    },
    {
      "cell_type": "markdown",
      "metadata": {
        "id": "KAmtWHxYvN93"
      },
      "source": [
        "Describe the shape of the \"at the fiesta\" energy spectrum. What energies did most of the particles deposit? (Give a range). How does this compare to the background spectrum? Are there any other differences you can observe?\n",
        "\n",
        "\n",
        "Any idea why this could be?\n",
        "\n",
        "\n",
        "As another example, here's what the spectrum of something else I measured looks like compared with your measurements. I call it \"Cs-137\". Any idea what that is?\n",
        "\n",
        "\n",
        "What do you think makes up the background radiation?"
      ]
    },
    {
      "cell_type": "code",
      "execution_count": null,
      "metadata": {
        "id": "0NEVfj-4OIrg"
      },
      "outputs": [],
      "source": [
        "# Write your answers here!\n",
        "\"\"\"\n",
        "I think ....\n",
        "\n",
        "\"\"\""
      ]
    },
    {
      "cell_type": "code",
      "execution_count": null,
      "metadata": {
        "id": "xd3RA_tMtA7Q"
      },
      "outputs": [],
      "source": [
        "# Load in CSV file to the Jupyter notebook\n",
        "################################################################################\n",
        "# Edit me:\n",
        "Cs137_filename = 'Cs137.txt'\n",
        "################################################################################\n",
        "\n",
        "Cs137_dataset = load_data(Cs137_filename)"
      ]
    },
    {
      "cell_type": "code",
      "execution_count": null,
      "metadata": {
        "colab": {
          "base_uri": "https://localhost:8080/",
          "height": 449
        },
        "id": "86OD2TwptKuW",
        "outputId": "8e5e772a-1abc-4909-d509-425f7255cef9"
      },
      "outputs": [
        {
          "data": {
            "image/png": "[encoded data removed]",
            "text/plain": [
              "<Figure size 640x480 with 1 Axes>"
            ]
          },
          "metadata": {},
          "output_type": "display_data"
        }
      ],
      "source": [
        "################################################################################\n",
        "# You can edit these numbers if you like, but the defaults should be fine\n",
        "nbins = 100 # Number of bins in the histogram\n",
        "xmax = 200 # Maximum energy of the histogram\n",
        "################################################################################\n",
        "\n",
        "datasets_to_plot = [bkgd_dataset, source_dataset, Cs137_dataset]\n",
        "dataset_labels = ['Background', 'At the fiesta', 'Cs137']\n",
        "plot_radioactive_energy_spectra(datasets_to_plot, dataset_labels, nbins, xmax, normalize=True)"
      ]
    },
    {
      "cell_type": "markdown",
      "metadata": {
        "id": "l-Rcz9clvvua"
      },
      "source": [
        "That's all for Activty 1. You should now have a pretty good idea of how to use the CosmicWatch. Let's wait for everyone to finish up and then we can discuss our results."
      ]
    },
    {
      "cell_type": "markdown",
      "metadata": {
        "id": "vrqAaBVzBHi2"
      },
      "source": [
        "# Activity 2: Muon Coincidence\n",
        "## Part 1: Downgoing Muons\n",
        "\n",
        "Let's use our CosmicWatches to detect some muons! Remember, to see the muons we need to filter out the radioactive backgrounds. We do this by looking for **coincident events**. Your CosmicWatches have a special feature where they can be connected to each other so they can communicate. This lets one CosmicWatch tell the other if it saw an event.\n",
        "\n",
        "To setup the coincidence feature, make sure both of your CosmicWatches are unplugged. Connect the two CosmicWatches using an Ethernet cable and stack them on top of each other, as shown in the cartoon below. Then, plug in one of the CosmicWatches.\n",
        "\n",
        "For this measurement, we want to measure muons that are coming straight downwards, so make sure your CosmicWatch stack is on a flat surface.\n",
        "\n",
        "![](https://github.com/Harvard-Neutrino/IceCube_MasterClass_at_Harvard2025/blob/main/cosmic_watch_activities/resources/cw_stack_hamburger.png?raw=1)\n"
      ]
    },
    {
      "cell_type": "markdown",
      "metadata": {
        "id": "9uCKpu1xjSkC"
      },
      "source": [
        "Once the CosmicWatches start taking data, you should see a new value on your screen: the number and rate of detected muons. Also, each time the blue LED flashes, your CosmicWatch pair detected a muon!\n",
        "\n",
        "As before, write down the filename where the data is being stored. For this first measurement, you should take data for about four minutes. After that, upload your data to Colab and run the cells below to take a look at your data."
      ]
    },
    {
      "cell_type": "code",
      "execution_count": null,
      "metadata": {
        "id": "x5TaKpeflOOF"
      },
      "outputs": [],
      "source": [
        "################################################################################\n",
        "# Edit me:\n",
        "filename_0degree = '0deg.txt'\n",
        "################################################################################"
      ]
    },
    {
      "cell_type": "code",
      "execution_count": null,
      "metadata": {
        "id": "7Zk-0ub9IeCI"
      },
      "outputs": [],
      "source": [
        "# Load dataset\n",
        "dataset_0deg_full = load_data(filename_0degree)"
      ]
    },
    {
      "cell_type": "markdown",
      "metadata": {
        "id": "VNqxjEJSmBQf"
      },
      "source": [
        "Now, let's take a look at the energy spectrum of our muons! Below, we will plot three things:\n",
        "\n",
        "\n",
        "1.   The energy spectrum of the full dataset (all events)\n",
        "2.   The energy spetrum of coincident events (muons)\n",
        "3.   The energy spectrum of anti-coincident events (radioactive backgrounds)\n",
        "\n",
        "Let's take a look!\n",
        "\n"
      ]
    },
    {
      "cell_type": "code",
      "execution_count": null,
      "metadata": {
        "colab": {
          "base_uri": "https://localhost:8080/",
          "height": 449
        },
        "id": "XaWg0l6xNkIf",
        "outputId": "2d827de4-d03b-4e50-8379-9097d2dcfb51"
      },
      "outputs": [
        {
          "data": {
            "image/png": "[encoded data removed]",
            "text/plain": [
              "<Figure size 640x480 with 1 Axes>"
            ]
          },
          "metadata": {},
          "output_type": "display_data"
        }
      ],
      "source": [
        "################################################################################\n",
        "# You can edit these numbers if you like, but the defaults should be fine\n",
        "nbins = 20 # Number of bins in the histogram\n",
        "xmax = 200 # Maximum energy of the histogram\n",
        "################################################################################\n",
        "\n",
        "plot_coincidence_comparison_energy_spectra(dataset_0deg_full, nbins, xmax, log_scale=False)"
      ]
    },
    {
      "cell_type": "markdown",
      "metadata": {
        "id": "nfQtHz1gnhtz"
      },
      "source": [
        "Hm, well that's sort of unfortunate. It looks like we are indeed able to detect muons, but they're hard to see because of the big radioactive peak at low energies. What if we zoom way in on the y-axis?"
      ]
    },
    {
      "cell_type": "code",
      "execution_count": null,
      "metadata": {
        "colab": {
          "base_uri": "https://localhost:8080/",
          "height": 449
        },
        "id": "dgyyTaIFoHN_",
        "outputId": "d1f9e912-4366-4f63-b219-a79f566c2512"
      },
      "outputs": [
        {
          "data": {
            "image/png": "[encoded data removed]",
            "text/plain": [
              "<Figure size 640x480 with 1 Axes>"
            ]
          },
          "metadata": {},
          "output_type": "display_data"
        }
      ],
      "source": [
        "plot_coincidence_comparison_energy_spectra(dataset_0deg_full, nbins, xmax, log_scale=False, zoom_to_muons=True)"
      ]
    },
    {
      "cell_type": "markdown",
      "metadata": {
        "id": "HThhb5cgpGXW"
      },
      "source": [
        "Okay! Now we can see the muons... and not much else. What if we want to be able to see both the shape of the muon spectrum *and* the shape of the background spectrum at the same time? For this we can use a logarithmic plot, often just called a log plot. Log plots are useful to visualize phenomena that occur at very different values.\n",
        "\n",
        "Most plots you've probably seen have a linear y-axis scale. This means that as you go up in axis ticks, you add a fixed value. This means the axis values will be something like 1,2,3,... The plot above has a linear y-axis scale.\n",
        "\n",
        "In contrast, to get from one tick to another on a log plot, you *multiply* by a constant value, typically 10. This means the axis values will be something like 1,10,100,... Let's take a look at a log plot of your data!"
      ]
    },
    {
      "cell_type": "code",
      "execution_count": null,
      "metadata": {
        "colab": {
          "base_uri": "https://localhost:8080/",
          "height": 449
        },
        "id": "hcYSYmcAqVTC",
        "outputId": "3c8cf647-fc74-4445-a04e-c26a6de2fdfb"
      },
      "outputs": [
        {
          "data": {
            "image/png": "[encoded data removed]",
            "text/plain": [
              "<Figure size 640x480 with 1 Axes>"
            ]
          },
          "metadata": {},
          "output_type": "display_data"
        }
      ],
      "source": [
        "plot_coincidence_comparison_energy_spectra(dataset_0deg_full, nbins, xmax, log_scale=True, zoom_to_muons=False)"
      ]
    },
    {
      "cell_type": "markdown",
      "metadata": {
        "id": "lTMycVJgqbpX"
      },
      "source": [
        "Nice! Now we can see all the spectra at once. What do you notice about the muon spectrum that is different than the radioactive backgrounds? Type in your thoughts below:"
      ]
    },
    {
      "cell_type": "code",
      "execution_count": null,
      "metadata": {
        "id": "RWmeKyIfqrrI"
      },
      "outputs": [],
      "source": [
        "# Write your answers here!\n",
        "\"\"\"\n",
        "I think ....\n",
        "\n",
        "\"\"\""
      ]
    },
    {
      "cell_type": "markdown",
      "metadata": {
        "id": "g89vOSgrqzFR"
      },
      "source": [
        "And what's the measured muon rate?"
      ]
    },
    {
      "cell_type": "code",
      "execution_count": null,
      "metadata": {
        "colab": {
          "base_uri": "https://localhost:8080/"
        },
        "id": "GgB0-k7AQG81",
        "outputId": "925ecbf7-d4f0-4db6-d196-c208ce0d6faa"
      },
      "outputs": [
        {
          "name": "stdout",
          "output_type": "stream",
          "text": [
            "The measured muon rate at 0° is 0.205 +/- 0.018\n"
          ]
        }
      ],
      "source": [
        "muon_rate_0deg = compute_muon_rate(dataset_0deg_full, print_output=True);"
      ]
    },
    {
      "cell_type": "markdown",
      "metadata": {
        "id": "p1EC7bi0uHHU"
      },
      "source": [
        "## Part 2: Angled Muons\n",
        "Something about measuring at angles."
      ]
    },
    {
      "cell_type": "code",
      "execution_count": null,
      "metadata": {
        "id": "CEmQJsFhu_D4"
      },
      "outputs": [],
      "source": [
        "################################################################################\n",
        "# Edit me:\n",
        "angle_2_in_degrees = 45\n",
        "filename_angle_2 = '0deg.txt'\n",
        "\n",
        "angle_3_in_degrees = 60\n",
        "filename_angle_3 = '0deg.txt'\n",
        "################################################################################"
      ]
    },
    {
      "cell_type": "code",
      "execution_count": null,
      "metadata": {
        "colab": {
          "base_uri": "https://localhost:8080/"
        },
        "id": "LdgGDxZsYtN7",
        "outputId": "f02010b8-f566-423e-ccfe-2b33c5457954"
      },
      "outputs": [
        {
          "name": "stdout",
          "output_type": "stream",
          "text": [
            "The measured muon rate at 0° is 0.205 +/- 0.018\n",
            "The measured muon rate at 0° is 0.205 +/- 0.018\n"
          ]
        }
      ],
      "source": [
        "# Load datasets\n",
        "dataset_angle_2 = load_data(filename_angle_2)\n",
        "dataset_angle_3 = load_data(filename_angle_3)\n",
        "\n",
        "# Compute muon rates\n",
        "muon_rate_angle_2 = compute_muon_rate(dataset_angle_2, print_output=True)\n",
        "muon_rate_angle_3 = compute_muon_rate(dataset_angle_3, print_output=True)"
      ]
    },
    {
      "cell_type": "markdown",
      "metadata": {
        "id": "Tf9-ZmF3wUSA"
      },
      "source": [
        "Let's take a look at how the muon rate changes at different angles!"
      ]
    },
    {
      "cell_type": "code",
      "execution_count": null,
      "metadata": {
        "colab": {
          "base_uri": "https://localhost:8080/",
          "height": 450
        },
        "id": "7TrzBauAwdiF",
        "outputId": "e687f668-ec07-4272-e73c-1ef155eac2b6"
      },
      "outputs": [
        {
          "data": {
            "image/png": "[encoded data removed]",
            "text/plain": [
              "<Figure size 640x480 with 1 Axes>"
            ]
          },
          "metadata": {},
          "output_type": "display_data"
        }
      ],
      "source": [
        "angles = [0, angle_2_in_degrees, angle_3_in_degrees]\n",
        "rates = [muon_rate_0deg, muon_rate_angle_2, muon_rate_angle_3]\n",
        "plot_rate_vs_angle(angles, rates)"
      ]
    },
    {
      "cell_type": "markdown",
      "metadata": {
        "id": "Qr1aBFrS0SSU"
      },
      "source": [
        "Something about the general shape"
      ]
    },
    {
      "cell_type": "markdown",
      "metadata": {
        "id": "o17pq-wS0VKN"
      },
      "source": [
        "Of course, there's more than one way you could stack your CosmicWatches. You could also do something like this:\n",
        "\n",
        "![](https://github.com/Harvard-Neutrino/IceCube_MasterClass_at_Harvard2025/blob/main/cosmic_watch_activities/resources/cw_stack_hotdog.png?raw=1)\n"
      ]
    },
    {
      "cell_type": "markdown",
      "metadata": {
        "id": "Ggribs2a0eqj"
      },
      "source": [
        "How do you think the rate would change if you stacked them like this instead of what you did before? Fill in your guess, in terms of percent, in the cell below. For example, 100% would mean that the rate is the same, whereas a rate of 150% would mean a 1 Hz rate would now be 1.5 Hz.\n",
        "\n",
        "As a hint, here's the engineering diagram for the scintillator inside your CosmicWatch:\n",
        "\n",
        "![](https://github.com/Harvard-Neutrino/IceCube_MasterClass_at_Harvard2025/blob/main/cosmic_watch_activities/resources/scintillator_cad.png?raw=1)"
      ]
    },
    {
      "cell_type": "code",
      "execution_count": null,
      "metadata": {
        "id": "A6oIyrtAsBhy"
      },
      "outputs": [],
      "source": [
        "################################################################################\n",
        "# Fill in your guess here:\n",
        "guessed_rate_change_in_percent = 97\n",
        "################################################################################"
      ]
    },
    {
      "cell_type": "markdown",
      "metadata": {
        "id": "-3KsRvtV1WTg"
      },
      "source": [
        "Go ahead and make a measurement in this new configuration to see how close your guess was. We saw earlier that the rate is highest for muons go straight downwards, so setup your CosmicWatch stack to measure muons that go straight downwards so we can make the measurement as efficiently (as fast) as possible. After your measurement, upload your code as before and run the cells below."
      ]
    },
    {
      "cell_type": "code",
      "execution_count": null,
      "metadata": {
        "id": "RASJDXhI1Uc7"
      },
      "outputs": [],
      "source": [
        "################################################################################\n",
        "# Edit me:\n",
        "filename_vertical_stack = '0deg.txt'\n",
        "################################################################################"
      ]
    },
    {
      "cell_type": "code",
      "execution_count": null,
      "metadata": {
        "colab": {
          "base_uri": "https://localhost:8080/"
        },
        "id": "1IbCcK4X2K-x",
        "outputId": "f499a002-d5df-40df-c4c2-743924d4094f"
      },
      "outputs": [
        {
          "name": "stdout",
          "output_type": "stream",
          "text": [
            "The measured muon rate at 0° is 0.205 +/- 0.018\n",
            "This corresponds to a change of 100.0%\n",
            "As a reminder, you guessed 97%.\n"
          ]
        }
      ],
      "source": [
        "# Load data\n",
        "dataset_vertical_stack = load_data(filename_vertical_stack)\n",
        "\n",
        "# Calculate muon rate\n",
        "muon_rate_vertical_stack = compute_muon_rate(dataset_vertical_stack, print_output=True)\n",
        "\n",
        "print(f'This corresponds to a change of {100*muon_rate_vertical_stack[0]/muon_rate_0deg[0]}%')\n",
        "print(f'As a reminder, you guessed {guessed_rate_change_in_percent}%.')"
      ]
    },
    {
      "cell_type": "markdown",
      "metadata": {
        "id": "8EQrRH5o3Hp7"
      },
      "source": [
        "The rate is substantially low in this configuration. Can you think of a reason you'd want to measure using this orientation instead of the one we did initially?"
      ]
    },
    {
      "cell_type": "code",
      "execution_count": null,
      "metadata": {
        "id": "XMIimGxj2rUJ"
      },
      "outputs": [],
      "source": [
        "# Write your answers here!\n",
        "\"\"\"\n",
        "I think ....\n",
        "\n",
        "\"\"\""
      ]
    }
  ],
  "metadata": {
    "colab": {
      "provenance": [],
      "include_colab_link": true
    },
    "kernelspec": {
      "display_name": "Python 3",
      "name": "python3"
    },
    "language_info": {
      "name": "python"
    }
  },
  "nbformat": 4,
  "nbformat_minor": 0
}
